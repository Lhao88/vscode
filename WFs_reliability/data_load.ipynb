{
 "cells": [
  {
   "cell_type": "markdown",
   "metadata": {},
   "source": [
    "### Step1 导入相关包 "
   ]
  },
  {
   "cell_type": "code",
<<<<<<< HEAD
   "execution_count": 1,
=======
   "execution_count": 32,
>>>>>>> 00636bdfda229677f7796b4655216627e367dc14
   "metadata": {},
   "outputs": [
    {
     "name": "stderr",
     "output_type": "stream",
     "text": [
<<<<<<< HEAD
      "d:\\Download\\miniconda3\\envs\\my_env\\lib\\site-packages\\pydantic\\_internal\\_fields.py:132: UserWarning: Field \"model_name\" in HuggingFaceInferenceAPIEmbeddings has conflict with protected namespace \"model_\".\n",
      "\n",
      "You may be able to resolve this warning by setting `model_config['protected_namespaces'] = ()`.\n",
      "  warnings.warn(\n",
      "d:\\Download\\miniconda3\\envs\\my_env\\lib\\site-packages\\tqdm\\auto.py:21: TqdmWarning: IProgress not found. Please update jupyter and ipywidgets. See https://ipywidgets.readthedocs.io/en/stable/user_install.html\n",
=======
      "d:\\miniconda3\\envs\\transformers\\lib\\site-packages\\tqdm\\auto.py:21: TqdmWarning: IProgress not found. Please update jupyter and ipywidgets. See https://ipywidgets.readthedocs.io/en/stable/user_install.html\n",
>>>>>>> 00636bdfda229677f7796b4655216627e367dc14
      "  from .autonotebook import tqdm as notebook_tqdm\n"
     ]
    }
   ],
   "source": [
    "import os\n",
    "\n",
    "from langchain_community.llms import BaichuanLLM\n",
    "from langchain_community.vectorstores import FAISS\n",
    "from langchain_community.embeddings import HuggingFaceBgeEmbeddings\n",
    "from langchain.chains import RetrievalQA\n",
    "from langchain.prompts import PromptTemplate\n",
    "\n",
    "from langchain_core.documents import Document\n",
    "from langchain_core.retrievers import BaseRetriever\n",
    "from langchain_core.callbacks import CallbackManagerForRetrieverRun\n",
    "from typing import List\n",
    "from sentence_transformers import CrossEncoder"
   ]
  },
  {
   "cell_type": "markdown",
   "metadata": {},
   "source": [
    "### Step2 加载txt文件 "
   ]
  },
  {
   "cell_type": "code",
<<<<<<< HEAD
   "execution_count": 2,
   "metadata": {},
   "outputs": [],
   "source": [
    "# 加载txt文件\n",
=======
   "execution_count": 33,
   "metadata": {},
   "outputs": [],
   "source": [
    "# 将列表导出为txt文件\n",
>>>>>>> 00636bdfda229677f7796b4655216627e367dc14
    "with open(\"output.txt\", encoding=\"utf-8\") as file:\n",
    "    content = file.read()\n",
    "    # print(content)"
   ]
  },
  {
   "cell_type": "code",
<<<<<<< HEAD
   "execution_count": 19,
=======
   "execution_count": 34,
>>>>>>> 00636bdfda229677f7796b4655216627e367dc14
   "metadata": {},
   "outputs": [
    {
     "name": "stdout",
     "output_type": "stream",
     "text": [
<<<<<<< HEAD
      "范围  \n",
      "1.1 本规程规定了风力发电设备可靠性的统计办法和评价指标。 适用于我国境内的所有风力发电企业。  \n",
      "1.2 风力发电设备的可靠性统计评价包括风电机组的可靠性统计评价和风电场的可靠性统计评价两部分。  \n",
      "1.3 风电机组的可靠性统计评价范围以风电机组出口主开关为界，包括风轮、传动变速系统、发电机系统、液压系统、偏航系统、控制系统、变桨系统、通讯系统以及相应的辅助系统。  \n",
      "1.4 风电场的可靠性统计评价范围包括风电场内的所有发电设备，除了风电机组外，还包括箱变、汇流 线路、主变等，及其相应的附属、辅助设备，公用系统和设施。\n",
      "\n",
      "\n"
=======
      "12\n"
>>>>>>> 00636bdfda229677f7796b4655216627e367dc14
     ]
    }
   ],
   "source": [
    "# 将文本文件进行分割\n",
    "import re\n",
    "# 通过正则表达式匹配分割\n",
    "docs = re.split(r\"\\d\\x20{2}\",content)\n",
    "docs.pop(0)\n",
<<<<<<< HEAD
    "print(docs[0])"
=======
    "print(len(docs))"
>>>>>>> 00636bdfda229677f7796b4655216627e367dc14
   ]
  },
  {
   "cell_type": "code",
<<<<<<< HEAD
   "execution_count": 4,
=======
   "execution_count": 35,
>>>>>>> 00636bdfda229677f7796b4655216627e367dc14
   "metadata": {},
   "outputs": [
    {
     "data": {
      "text/plain": [
<<<<<<< HEAD
       "Document(metadata={'source': '../WFs_reliability/风力发电设备可靠性评价规程（试行）.pdf', 'order': 1}, page_content='范围  \\n1.1 本规程规定了风力发电设备可靠性的统计办法和评价指标。 适用于我国境内的所有风力发电企业。  \\n1.2 风力发电设备的可靠性统计评价包括风电机组的可靠性统计评价和风电场的可靠性统计评价两部分。  \\n1.3 风电机组的可靠性统计评价范围以风电机组出口主开关为界，包括风轮、传动变速系统、发电机系统、液压系统、偏航系统、控制系统、变桨系统、通讯系统以及相应的辅助系统。  \\n1.4 风电场的可靠性统计评价范围包括风电场内的所有发电设备，除了风电机组外，还包括箱变、汇流 线路、主变等，及其相应的附属、辅助设备，公用系统和设施。\\n\\n')"
      ]
     },
     "execution_count": 4,
=======
       "Document(page_content='范围  \\n1.1 本规程规定了风力发电设备可靠性的统计办法和评价指标。 适用于我国境内的所有风力发电企业。  \\n1.2 风力发电设备的可靠性统计评价包括风电机组的可靠性统计评价和风电场的可靠性统计评价两部分。  \\n1.3 风电机组的可靠性统计评价范围以风电机组出口主开关为界，包括风轮、传动变速系统、发电机系统、液压系统、偏航系统、控制系统、变桨系统、通讯系统以及相应的辅助系统。  \\n1.4 风电场的可靠性统计评价范围包括风电场内的所有发电设备，除了风电机组外，还包括箱变、汇流 线路、主变等，及其相应的附属、辅助设备，公用系统和设施。\\n\\n', metadata={'source': '../WFs_reliability/风力发电设备可靠性评价规程（试行）.pdf', 'order': 1})"
      ]
     },
     "execution_count": 35,
>>>>>>> 00636bdfda229677f7796b4655216627e367dc14
     "metadata": {},
     "output_type": "execute_result"
    }
   ],
   "source": [
    "# 将分割后的文本块封装成Document类\n",
    "docs_after_split = []\n",
    "for i in range(0,len(docs)):\n",
    "    doc = Document(page_content=docs[i], metadata={\"source\": \"../WFs_reliability/风力发电设备可靠性评价规程（试行）.pdf\",\"order\":i+1})\n",
    "    docs_after_split.append(doc)\n",
    "\n",
    "docs_after_split[0]"
   ]
  },
  {
   "cell_type": "markdown",
   "metadata": {},
   "source": [
    "### Step3 创建向量数据库"
   ]
  },
  {
   "cell_type": "code",
<<<<<<< HEAD
   "execution_count": 6,
   "metadata": {},
   "outputs": [],
=======
   "execution_count": 36,
   "metadata": {},
   "outputs": [
    {
     "name": "stderr",
     "output_type": "stream",
     "text": [
      "d:\\miniconda3\\envs\\transformers\\lib\\site-packages\\huggingface_hub\\file_download.py:1132: FutureWarning: `resume_download` is deprecated and will be removed in version 1.0.0. Downloads always resume when possible. If you want to force a new download, use `force_download=True`.\n",
      "  warnings.warn(\n"
     ]
    }
   ],
>>>>>>> 00636bdfda229677f7796b4655216627e367dc14
   "source": [
    "# 从huggingface上加载embedding模型\n",
    "huggingface_embeddings = HuggingFaceBgeEmbeddings(\n",
    "    model_name=\"moka-ai/m3e-base\",  # 使用m3e模型做embeddding\n",
<<<<<<< HEAD
    "    model_kwargs={\n",
    "                # 'device':'cpu'\n",
    "                'device':0\n",
=======
    "    model_kwargs={'device':'cpu'\n",
    "                # 'device':0\n",
>>>>>>> 00636bdfda229677f7796b4655216627e367dc14
    "    },\n",
    "    encode_kwargs={'normalize_embeddings': True}\n",
    ")"
   ]
  },
  {
   "cell_type": "code",
<<<<<<< HEAD
   "execution_count": 7,
=======
   "execution_count": 37,
>>>>>>> 00636bdfda229677f7796b4655216627e367dc14
   "metadata": {},
   "outputs": [],
   "source": [
    "vectorstore = FAISS.from_documents(docs_after_split, huggingface_embeddings)"
   ]
  },
  {
   "cell_type": "markdown",
   "metadata": {},
   "source": [
    "### Step4 创建QA链"
   ]
  },
  {
   "cell_type": "code",
<<<<<<< HEAD
   "execution_count": 8,
=======
   "execution_count": 38,
>>>>>>> 00636bdfda229677f7796b4655216627e367dc14
   "metadata": {},
   "outputs": [
    {
     "name": "stdout",
     "output_type": "stream",
     "text": [
      "检索到的第1个内容: \n",
<<<<<<< HEAD
      " 风电场评价指标  \n",
      "8.1 风电场评价指标按机组指标的容量加权平均值进行计算。  \n",
      "8.2 当统计风电场指标时，把因场内原因受累停运备用状态(PRI)的机组视为不可用，其受累停运备用小时(PRIH)计入不可用小时。这时的机组可用小时(AH1)等于运行小时、调度停运备用小时和场外原因受累停运备用小时之和。用公式表示： AH1=SH＋DRH＋PROH 。\n",
      "8.3 风电场可用系数(AFs) 计算公式为：  \n",
      "    AFs=[∑(AH1×GMC)/∑(GMC×PH)]×100% \n",
      "8.4 风电场非计划停运系数(UOFs) 计算公式为：  \n",
      "    UOFs=[∑((UOH+PRIH)×GMC)/∑(GMC×PH)]×100% \n",
      "8.5 风电场利用小时(UTHF)  计算公式为:\n",
      "    UTHF=(∑GAG/∑INC)        \n",
      "\n",
      "\n",
      "-----------------------------------------------------\n",
      "检索到的第2个内容: \n",
=======
>>>>>>> 00636bdfda229677f7796b4655216627e367dc14
      " 附录 ：风电设备可靠性统计状态中、英文对照表\n",
      "所有信息均以“指标名称-英文全称-英文缩写” 的结构给出：\n",
      "\n",
      "在使用-active-ACT \n",
      "可用-available-A \n",
      "运行-in service-S \n",
      "备用-reserve shutdown-R \n",
      "调度停运备用-dispatching reserve shutdown hours-DRH \n",
      "受累停运备用-passive reserve shutdown hours-PRH \n",
      "场内原因受累停运备用-passive reserve shutdown inside hours-PRIH \n",
      "场外原因受累停运备用-passive reserve shutdown outside hours-PROH \n",
      "不可用-unavailable-U \n",
      "计划停运-planned outage-PO \n",
      "非计划停运-unplanned outage-UO  \n",
      "计划停运小时-planned outage hours-POH \n",
      "非计划停运小时-unplanned outage hours-UOH \n",
      "可用小时-available hours-AH \n",
      "不可用小时-unavailable hours-UH \n",
      "运行小时-service hours-SH \n",
      "备用小时-reserve hours-RH \n",
      "统计期间小时-period hours-PH \n",
      "毛实际发电量-gross actual generation-GAG \n",
      "毛最大容量-gross maximum capacity-GMC \n",
      "利用小时-utilization hours-UTH \n",
      "计划停运次数-planned outage times-POT \n",
      "非计划停运次数-unplanned outage times-UOT \n",
      "平均无故障可用小时-mean time between failures-MTBF \n",
      "平均连续可用小时-continuously available hours-CAH \n",
      "检修费用-repairing cost-RC \n",
      "计划停运系数-planned outage factor-POF \n",
      "非计划停运系数-unplanned outage factor-UOF \n",
      "电量损失-Energy loss-EL \n",
      "统计台年数-unit years-UY   \n",
      "运行系数-service factor-SF \n",
      "可用系数-available factor-AF \n",
      "毛容量系数-gross capacity factor-GCF \n",
      "利用系数-utilization factor-UTF \n",
      "出力系数-output factor-OF \n",
      "非计划停运率-unplanned outage rate-UOR \n",
      "非计划停运发生率-unplanned outage occurrence rate-UOOR \n",
      "暴露率-exposure rate-EXR \n",
      "\n",
      "-----------------------------------------------------\n",
<<<<<<< HEAD
=======
      "检索到的第2个内容: \n",
      " 风电场评价指标  \n",
      "8.1 风电场评价指标按机组指标的容量加权平均值进行计算。  \n",
      "8.2 当统计风电场指标时，把因场内原因受累停运备用状态(PRI)的机组视为不可用，其受累停运备用小时(PRIH)计入不可用小时。这时的机组可用小时(AH1)等于运行小时、调度停运备用小时和场外原因受累停运备用小时之和。用公式表示： AH1=SH＋DRH＋PROH 。\n",
      "8.3 风电场可用系数(AFs) 计算公式为：  \n",
      "    AFs=[∑(AH1×GMC)/∑(GMC×PH)]×100% \n",
      "8.4 风电场非计划停运系数(UOFs) 计算公式为：  \n",
      "    UOFs=[∑((UOH+PRIH)×GMC)/∑(GMC×PH)]×100% \n",
      "8.5 风电场利用小时(UTHF)  计算公式为:\n",
      "    UTHF=(∑GAG/∑INC)        \n",
      "\n",
      "\n",
      "-----------------------------------------------------\n",
>>>>>>> 00636bdfda229677f7796b4655216627e367dc14
      "检索到的第3个内容: \n",
      " 状态划分\n",
      "风电机组（以下简称机组）状态划分如下：\n",
      "\n",
      "    在使用(ACT)状态包括可用(A)状态和不可用(U)状态；\n",
      "    不可用(U)状态分为计划停运(PO)状态和非计划停运(UO)状态；\n",
      "    可用(A)状态分为运行(S)状态和备用(R)状态；\n",
      "    备用(R)状态分为调度停运备用(DR)状态和受累停运备(PR)状态；\n",
      "    受累停运备用(PR)状态分为场内原因受累停运备用(PRI)状态和场外原因受累停运备用(PRO)状态。\n",
      "\n",
      "\n",
      "-----------------------------------------------------\n",
      "检索到的第4个内容: \n",
<<<<<<< HEAD
=======
      " 事件数据填写规定  \n",
      "10.1 事件代码是描述设备故障及其原因的特殊标识符，是基础数据的重要组成部分，所有代码应遵循“中心”对风电设备的有关要求填写。机组的所有计划和非计划或受累停运备用事件，都应填写相应的事件代码。  \n",
      "10.2 跨月事件必须拆成两条记录，迄于上月末记录和始于下月初记录。两条记录必须保持时间连续、状态、代码等一致。  \n",
      "10.3 机组计划检修以及非计划检修事件，应填写检修工日和费用。  \n",
      "10.4 当机组发生非计划停运或受累停运备用时，除了要填写事件代码外，还应填写电量损失值（EL）。 \n",
      "\n",
      "1\n",
      "-----------------------------------------------------\n",
      "检索到的第5个内容: \n",
      " 范围  \n",
      "1.1 本规程规定了风力发电设备可靠性的统计办法和评价指标。 适用于我国境内的所有风力发电企业。  \n",
      "1.2 风力发电设备的可靠性统计评价包括风电机组的可靠性统计评价和风电场的可靠性统计评价两部分。  \n",
      "1.3 风电机组的可靠性统计评价范围以风电机组出口主开关为界，包括风轮、传动变速系统、发电机系统、液压系统、偏航系统、控制系统、变桨系统、通讯系统以及相应的辅助系统。  \n",
      "1.4 风电场的可靠性统计评价范围包括风电场内的所有发电设备，除了风电机组外，还包括箱变、汇流 线路、主变等，及其相应的附属、辅助设备，公用系统和设施。\n",
      "\n",
      "\n",
      "-----------------------------------------------------\n",
      "检索到的第6个内容: \n",
>>>>>>> 00636bdfda229677f7796b4655216627e367dc14
      " 风电机组评价指标  \n",
      "7.1 计划停运系数(POF) \n",
      "    POF=(计划停运小时/统计期间小时)×100% =(POH/PH)×100% \n",
      "7.2 非计划停运系数(UOF)\n",
      "    UOF=(非计划停运小时/统计期间小时)×100% =(UOH/PH)×100% \n",
      "7.3 可用系数(AF)\n",
      "    AF=(可用小时/统计期间小时)×100% =(AH/PH)×100% \n",
      "7.4 运行系数(SF) \n",
      "    SF=(运行小时/统计期间小时)×100% =(SH/PH)×100% \n",
      "7.5 容量系数(GCF)  \n",
      "    GCF=[实际发电量/(统计期间小时×最大容量)]×100%= [GA/(PH×GMC)]×100% \n",
      "7.6 利用系数(UTF) \n",
      "    UTF=(利用小时/统计期间小时)×100%=(UTH/PH)×100% \n",
      "7.7 出力系数(OF)  \n",
      "    OF=[实际发电量/(运行小时×最大容量)]×100%=[AG/(SH×GMC)]×100% \n",
      "7.8 非计划停运率(UOR) \n",
      "    UOR=[非计划停运小时/(非计划停运小时+运行小时)]×100%=[UOH/(UOH+SH)]×100% \n",
      "7.9 非计划停运发生率(UOOR) (单位：次/年)  \n",
      "    UOOR=(非计划停运次数/可用小时)×8760=(UOT/AH)×8760 \n",
      "7.10 暴露率(EXR) \n",
      "    EXR= (运行小时/可用小时)×100%=(SH/AH)×100% \n",
      "7.11 平均连续可用小时(CAH) (单位：h) \n",
      "    CAH=[可用小时/(非计划停运次数+计划停运次数)]=[AH/(POT+UOT)] \n",
      "7.12 平均无故障可用小时(MTBF) (单位：h) \n",
      "    对于机组:MTBF=(可用小时/非计划停运次数)=(AH/FOT) \n",
      "7.13 检修费用(RC)(单位：万元) —— 一台机组一次检修的费用（包括材料费、设备费、配件费、人工费用等子项）。 \n",
      "7.14 非计划停运或受累停运备用电量损失(EL) —— 机组在非计划停运或受累停运备用期间的发电量损失估计值，按停运小时和停运期间其它状况相似的风电机组平均出力的乘积来计算。  \n",
      "\n",
      "\n",
      "-----------------------------------------------------\n",
<<<<<<< HEAD
      "检索到的第5个内容: \n",
      " 范围  \n",
      "1.1 本规程规定了风力发电设备可靠性的统计办法和评价指标。 适用于我国境内的所有风力发电企业。  \n",
      "1.2 风力发电设备的可靠性统计评价包括风电机组的可靠性统计评价和风电场的可靠性统计评价两部分。  \n",
      "1.3 风电机组的可靠性统计评价范围以风电机组出口主开关为界，包括风轮、传动变速系统、发电机系统、液压系统、偏航系统、控制系统、变桨系统、通讯系统以及相应的辅助系统。  \n",
      "1.4 风电场的可靠性统计评价范围包括风电场内的所有发电设备，除了风电机组外，还包括箱变、汇流 线路、主变等，及其相应的附属、辅助设备，公用系统和设施。\n",
      "\n",
      "\n",
      "-----------------------------------------------------\n",
      "检索到的第6个内容: \n",
      " 事件数据填写规定  \n",
      "10.1 事件代码是描述设备故障及其原因的特殊标识符，是基础数据的重要组成部分，所有代码应遵循“中心”对风电设备的有关要求填写。机组的所有计划和非计划或受累停运备用事件，都应填写相应的事件代码。  \n",
      "10.2 跨月事件必须拆成两条记录，迄于上月末记录和始于下月初记录。两条记录必须保持时间连续、状态、代码等一致。  \n",
      "10.3 机组计划检修以及非计划检修事件，应填写检修工日和费用。  \n",
      "10.4 当机组发生非计划停运或受累停运备用时，除了要填写事件代码外，还应填写电量损失值（EL）。 \n",
      "\n",
      "1\n",
      "-----------------------------------------------------\n",
      "检索到的第7个内容: \n",
      " 基本要求  \n",
      "2.1 本规程中指标评价所要求的各种基础数据报告，必须尊重科学、事实求是、严肃认真、全面而客观地反映风力发电设备的真实情况，做到准确、及时、完整。  \n",
      "2.2 与本规程配套使用的“风电设备可靠性管理信息系统”软件及相关代码，由中国电力企业联合会电力可靠性管理中心（以下简称“中心”）组织编制，全国统一使用。\n",
      "\n",
      "\n",
      "-----------------------------------------------------\n",
      "检索到的第8个内容: \n",
      " 统计评价报告  \n",
      "11.1 可靠性基础数据报告，分为四种：即机组注册内容报表、机组主设备注册内容、机组月度发电量报表、机组月度事件数据报表。  \n",
      "11.2 机组可靠性基础数据由发电企业记录和统计，并按《电力可靠性监督管理办法》规定的报送时间和审核程序上报。  \n",
      "11.3 报告若需修改，必须以文件形式逐级上报，说明更改内容和变更原因；各级主管部门对上报的报告必须认真核实后进行转报；修改已报出“基础数据”须下次报告时一并完成。  \n",
      "11.4 报送“中心”的可靠性基础数据报告为100kW及以上容量的风电机组。  \n",
      "11.5 记录和报告均应采用可靠性术语。 \n",
      "\n",
      "1\n",
      "-----------------------------------------------------\n",
      "检索到的第9个内容: \n",
=======
      "检索到的第7个内容: \n",
>>>>>>> 00636bdfda229677f7796b4655216627e367dc14
      " 术语和定义  \n",
      "4.1 在使用（ACT）——机组处于要进行统计评价的状态。在使用状态分为可用（A）和不可用（U）。 \n",
      "4.2 可用（A）——机组处于能够执行预定功能的状态，而不论其是否在运行，也不论其提供了多少出力。可用状态分为运行（S）和备用（R）。 \n",
      "4.2.1 运行（S）——机组在电气上处于联接到电力系统的状态，或虽未联接到电力系统但在风速条件满足时，可以自动联接到电力系统的状态。机组在运行状态时，可以是带出力运行，也可以是因风速过低没有出力。  \n",
      "4.2.2 备用（R）——机组处于可用，但不在运行状态。备用可分为调度停运备用（DR）和受累停运备用（PR）。 \n",
      "4.2.2.1 调度停运备用（DR）——机组本身可用，但因电力系统需要，执行调度命令的停运状态。  \n",
      "4.2.2.2 受累停运备用（PR）——机组本身可用，因机组以外原因造成的机组被迫退出运行的状态。按引起受累停运的原因，可分为场内原因受累停运备用（PRI）和场外原因受累停运备用（PRO）。 \n",
      "    a) 场内原因受累停运备用（PRI）——因机组以外的场内设备停运（如汇流线路、箱变、主变等故障或计划检修）造成机组被迫退出运行的状态。  \n",
      "    b) 场外原因受累停运备用（PRO）——因场外原因（如外部输电线路、电力系统故障等）造成机组被迫退出运行的状态。  \n",
      "4.3 不可用（U）——机组不论什么原因处于不能运行或备用的状态。不可用状态分为计划停运（PO）和非计划停运（UO）。 \n",
      "4.3.1 计划停运（PO）——机组处于计划检修或维护的状态。计划停运应是事先安排好进度，并有既定期限的定期维护。  \n",
      "4.3.2 非计划停运（UO）——机组不可用而又不是计划停运的状态。  \n",
      "4.4 额定容量（INC）——指一机组的铭牌额定容量（INC）。 \n",
      "4.5 实际发电量（GAG）——指机组在给定期间内实际发出的电量。  \n",
      "4.6 运行小时（SH）——机组处于运行状态的小时数。   \n",
      "4.7 备用小时（RH）——机组处于备用状态的小时数。用公式可表示为： RH=DRH+PRH =DRH + PRIH + PROH,其中：  \n",
      "4.7.1 调度停运备用小时（DRH）——机组处于调度停运备用状态的小时数。  \n",
      "4.7.2 受累停运备用小时（PRH）——机组处于受累停运备用状态的小时数。受累停运备用小时又可分为下列2类：  \n",
      "    a) 场内原因受累停运备用小时数（PRIH）——机组处于场内原因受累停运备用状态的小时数。  \n",
      "    b) 场外原因受累停运备用小时数（PROH）——机组处于场外原因受累停运备用状态的小时数。  \n",
      "4.8 计划停运小时（POH）——机组处于计划停运状态的小时数。  \n",
      "4.9 非计划停运小时（UOH）——机组处于非计划停运状态的小时数。  \n",
      "4.10 统计期间小时（PH）——机组处于在使用状态的日历小时数。  \n",
      "4.11 可用小时（AH）——机组处于可用状态的小时数。可用小时等于运行小时与备用小时之和，用公式表示为：AH=SH＋RH。\n",
      "4.11 不可用小时（UH）——机组处于不可用状态的小时数。不可用小时等于计划和非计划停运小时之和或统计期间小时与可用小时之差。用公式表示为： UH=POH+UOH=PH-AH。 \n",
      "4.12 统计台年（UY）——为一台机组的统计期间小时数或多台机组的统计期间小时数之和除以8760h，即对一台机组  UY =  PH/8760; 对多台机组  UY = ∑(PH/8760)。\n",
      "4.13 利用小时（UTH）——指机组实际发电量折合成额定容量的运行小时数。 UTH= GAG/INC。 \n",
      "\n",
      "\n",
      "-----------------------------------------------------\n",
<<<<<<< HEAD
=======
      "检索到的第8个内容: \n",
      " 统计评价报告  \n",
      "11.1 可靠性基础数据报告，分为四种：即机组注册内容报表、机组主设备注册内容、机组月度发电量报表、机组月度事件数据报表。  \n",
      "11.2 机组可靠性基础数据由发电企业记录和统计，并按《电力可靠性监督管理办法》规定的报送时间和审核程序上报。  \n",
      "11.3 报告若需修改，必须以文件形式逐级上报，说明更改内容和变更原因；各级主管部门对上报的报告必须认真核实后进行转报；修改已报出“基础数据”须下次报告时一并完成。  \n",
      "11.4 报送“中心”的可靠性基础数据报告为100kW及以上容量的风电机组。  \n",
      "11.5 记录和报告均应采用可靠性术语。 \n",
      "\n",
      "1\n",
      "-----------------------------------------------------\n",
      "检索到的第9个内容: \n",
      " 基本要求  \n",
      "2.1 本规程中指标评价所要求的各种基础数据报告，必须尊重科学、事实求是、严肃认真、全面而客观地反映风力发电设备的真实情况，做到准确、及时、完整。  \n",
      "2.2 与本规程配套使用的“风电设备可靠性管理信息系统”软件及相关代码，由中国电力企业联合会电力可靠性管理中心（以下简称“中心”）组织编制，全国统一使用。\n",
      "\n",
      "\n",
      "-----------------------------------------------------\n",
>>>>>>> 00636bdfda229677f7796b4655216627e367dc14
      "检索到的第10个内容: \n",
      " 状态填报的规定  \n",
      "6.1 运行  \n",
      "6.1.1 设备每月至少应有一条事件记录。否则，此台设备该月被视为未统计。  \n",
      "6.1.2 机组在全月运行时，只须填写一条运行事件记录（FS）；若当月发生任何停运事件，只需如实填写停运事件，运行事件可不填写。  \n",
      "6.2 备用  \n",
      "6.2.1 机组因电网需要安排停运但能随时投入运行时，记为调度停运备用（DR）。 \n",
      "6.2.2 因机组以外的场内设备停运（如汇流线路、箱变、主变等故障或计划检修）造成停运时，视作场内原因受累停运备用（PRI）。 \n",
      "6.2.3 机组因自然灾害（如冰冻）等不可抗拒原因、电力系统故障等外部原因造成停运时，视作场外原因受累停运备用（PRO）。 \n",
      "6.3 计划停运  \n",
      "6.3.1 在机组计划检修中发生新的设备损坏，且在原来计划检修工期内不能修复时，自计划检修工期终止日期起应转为非计划停运事件。  \n",
      "6.4 非计划停运  \n",
      "6.4.1 机组在非计划停运修复期间，若发生设备损坏或发现新的必须消除的缺陷，除填写原发事件记录 外，尚须填写新事件记录。  \n",
      "6.4.2由于设备（或零部件）多种原因造成机组非计划停运时，对于能够区分先后的，以最先发生的事件视作“基础事件” ；对于不能区分先后的，以修复时间最长的事件作为“基础事件” 。把机组此次停运状态的时间作为基础事件的记录时间。对于设备多种原因造成机组非计划停运， 除了要填写“基础事件”外，还必须再将“基础事件”和其他所有事件——按实际修复时间进行记录。  \n",
      "\n",
      "\n",
      "-----------------------------------------------------\n"
     ]
    }
   ],
   "source": [
<<<<<<< HEAD
    "query = \"\"\"风电场可用系数的计算公式？\"\"\"\n",
=======
    "query = \"\"\"风电场有关的术语和定义\"\"\"\n",
>>>>>>> 00636bdfda229677f7796b4655216627e367dc14
    "         # Sample question, change to other questions you are interested in.\n",
    "relevant_documents = vectorstore.similarity_search(query,k=10)\n",
    "for i, doc in enumerate(relevant_documents):\n",
    "    print(f\"检索到的第{i+1}个内容: \\n {doc.page_content}\", end=\"\\n-----------------------------------------------------\\n\")"
   ]
  },
  {
   "cell_type": "code",
   "execution_count": null,
   "metadata": {},
   "outputs": [],
   "source": [
    "# 测试rerank效果\n",
    "from sentence_transformers import CrossEncoder\n",
    "\n",
    "cross_encoder = CrossEncoder(\n",
    "    \"BAAI/bge-reranker-base\", max_length=512, \n",
    "    # device=0\n",
    "    device='cpu'\n",
    ")\n",
    "reranked_docs = cross_encoder.rank(\n",
    "        query,\n",
    "        [doc.page_content for doc in relevant_documents],\n",
    "        top_k=2,\n",
    "        return_documents=True,)\n",
    "reranked_docs"
   ]
  },
  {
   "cell_type": "code",
<<<<<<< HEAD
   "execution_count": 9,
=======
   "execution_count": 39,
>>>>>>> 00636bdfda229677f7796b4655216627e367dc14
   "metadata": {},
   "outputs": [],
   "source": [
    "\"\"\" 使用自定义的检索器,重写_get_relevant_documents方法来实现对相似性检索召回的文本块进行重排\"\"\"\n",
    "class CustomRetriever(BaseRetriever):\n",
    "    \n",
    "    def _get_relevant_documents(\n",
    "        self, query: str, *, run_manager: CallbackManagerForRetrieverRun\n",
    "    ) -> List[Document]:\n",
    "        cross_encoder = CrossEncoder(\"BAAI/bge-reranker-base\", max_length=512, \n",
<<<<<<< HEAD
    "        device=0\n",
    "        # device='cpu'\n",
=======
    "        # device=0\n",
    "        device='cpu'\n",
>>>>>>> 00636bdfda229677f7796b4655216627e367dc14
    "        )\n",
    "        relevant_documents = vectorstore.similarity_search(query,k=10)\n",
    "        reranked_docs = cross_encoder.rank(\n",
    "        query,\n",
    "        [doc.page_content for doc in relevant_documents],\n",
    "        top_k=2,\n",
    "        return_documents=True,)\n",
    "\n",
    "        reranking_relevant_documents= []\n",
    "        for doc in reranked_docs:\n",
    "           reranking_relevant_documents.append(\n",
    "               Document(page_content=doc[\"text\"],\n",
    "                        metadata=relevant_documents[doc[\"corpus_id\"]].metadata)\n",
    "                        ) \n",
    "        return reranking_relevant_documents"
   ]
  },
  {
   "cell_type": "code",
<<<<<<< HEAD
   "execution_count": 10,
=======
   "execution_count": 40,
>>>>>>> 00636bdfda229677f7796b4655216627e367dc14
   "metadata": {},
   "outputs": [],
   "source": [
    "# 自定义加入重排的检索器\n",
    "retriever = CustomRetriever()"
   ]
  },
  {
   "cell_type": "code",
<<<<<<< HEAD
   "execution_count": 11,
=======
   "execution_count": 41,
>>>>>>> 00636bdfda229677f7796b4655216627e367dc14
   "metadata": {},
   "outputs": [],
   "source": [
    "# 创建prompt\n",
    "prompt_template = \"\"\"\n",
    "请参考下面的相关文本回答问题，如果不知道答案，就回复不知道，\n",
    "\n",
    "{context}\n",
    "\n",
    "Question: {question}\n",
    "\n",
    "Helpful Answer:\n",
    "\"\"\"\n",
    "\n",
    "prompt = PromptTemplate(\n",
    " template=prompt_template, input_variables=[\"context\", \"question\"]\n",
    ")"
   ]
  },
  {
   "cell_type": "code",
<<<<<<< HEAD
   "execution_count": 12,
=======
   "execution_count": 42,
>>>>>>> 00636bdfda229677f7796b4655216627e367dc14
   "metadata": {},
   "outputs": [],
   "source": [
    "# 创建百川的LLM\n",
    "llm = BaichuanLLM(model='Baichuan3-Turbo-128k')"
   ]
  },
  {
   "cell_type": "code",
<<<<<<< HEAD
   "execution_count": 13,
=======
   "execution_count": 43,
>>>>>>> 00636bdfda229677f7796b4655216627e367dc14
   "metadata": {},
   "outputs": [],
   "source": [
    "qa_chain = RetrievalQA.from_chain_type(\n",
    "    llm=llm,\n",
    "    chain_type=\"stuff\",\n",
    "    retriever=retriever,\n",
    "    return_source_documents=True,\n",
    "    chain_type_kwargs={\"prompt\": prompt}\n",
    ")"
   ]
  },
  {
   "cell_type": "markdown",
   "metadata": {},
   "source": [
    "### Step5 提问，运行QA链，得到RAG结果"
   ]
  },
  {
   "cell_type": "code",
<<<<<<< HEAD
   "execution_count": 23,
   "metadata": {},
   "outputs": [
    {
=======
   "execution_count": 44,
   "metadata": {},
   "outputs": [
    {
     "name": "stderr",
     "output_type": "stream",
     "text": [
      "d:\\miniconda3\\envs\\transformers\\lib\\site-packages\\langchain_core\\_api\\deprecation.py:139: LangChainDeprecationWarning: The method `Chain.__call__` was deprecated in langchain 0.1.0 and will be removed in 0.3.0. Use invoke instead.\n",
      "  warn_deprecated(\n",
      "d:\\miniconda3\\envs\\transformers\\lib\\site-packages\\huggingface_hub\\file_download.py:1132: FutureWarning: `resume_download` is deprecated and will be removed in version 1.0.0. Downloads always resume when possible. If you want to force a new download, use `force_download=True`.\n",
      "  warnings.warn(\n"
     ]
    },
    {
>>>>>>> 00636bdfda229677f7796b4655216627e367dc14
     "name": "stdout",
     "output_type": "stream",
     "text": [
      "========= chain result ==========\n",
<<<<<<< HEAD
      "为了计算风电场的可用系数（AFs），我们需要使用提供的公式：\n",
      "\n",
      "AFs = [Σ(AH1 * GMC) / Σ(GMC * PH)] × 100%\n",
      "\n",
      "其中：\n",
      "- AH1 是机组可用小时，\n",
      "- GMC 是机组最大容量，\n",
      "- PH 是统计期间小时。\n",
      "\n",
      "首先，我们需要计算每个机组的 AH1 和 GMC 的乘积，然后求和。接着，我们计算每个机组的 GMC 和 PH 的乘积，然后求和。最后，我们将第一个求和结果除以第二个求和结果，并乘以 100% 来得到可用系数。\n",
      "\n",
      "计算过程如下：\n",
      "\n",
      "对于每个机组，我们有：\n",
      "- AH1 = SH + DRH + PROH\n",
      "由于没有提供调度停运备用小时（DRH）和场外原因受累停运备用小时（PROH）的数据，我们将假设这些值为零，因此 AH1 等于运行小时（SH）。\n",
      "\n",
      "现在，我们可以计算每个机组的 AH1 和 GMC 的乘积：\n",
      "AH1 * GMC = [200 * 500, 205 * 510, 210 * 500, 215 * 520, 220 * 500] = [100000, 103500, 105000, 113000, 110000]\n",
      "\n",
      "接下来，我们计算每个机组的 GMC 和 PH 的乘积：\n",
      "GMC * PH = [500 * 250, 510 * 260, 500 * 270, 520 * 280, 500 * 290] = [125000, 133600, 135000, 145600, 141000]\n",
      "\n",
      "现在，我们将所有 AH1 * GMC 的乘积求和：\n",
      "Σ(AH1 * GMC) = 100000 + 103500 + 105000 + 113000 + 110000 = 531500\n",
      "\n",
      "同样地，我们将所有 GMC * PH 的乘积求和：\n",
      "Σ(GMC * PH) = 125000 + 133600 + 135000 + 145600 + 141000 = 680200\n",
      "\n",
      "最后，我们将第一个求和结果除以第二个求和结果，并乘以 100% 得到可用系数：\n",
      "AFs = (531500 / 680200) * 100% ≈ 78.1%\n",
      "\n",
      "因此，该风电场的可用系数大约是 78.1%。\n"
=======
      "风电场有关的术语和定义包括：\n",
      "\n",
      "1. **在使用（ACT）** - 机组处于要进行统计评价的状态，分为可用（A）和不可用（U）。\n",
      "\n",
      "2. **可用（A）** - 机组能够执行预定功能的状态，无论是否在运行或提供出力。可用状态分为运行（S）和备用（R）。\n",
      "\n",
      "   - **运行（S）** - 机组电气上连接到电力系统，或在风速条件满足时可以自动连接到电力系统。即使没有出力，也视为运行状态。\n",
      "\n",
      "   - **备用（R）** - 机组可用但不在运行状态，包括调度停运备用（DR）和受累停运备用（PR）。\n",
      "\n",
      "     - **调度停运备用（DR）** - 机组本身可用，但因电力系统需求执行调度命令的停运状态。\n",
      "\n",
      "     - **受累停运备用（PR）** - 机组可用，但因外部原因被迫退出运行，分为场内原因（PRI）和场外原因（PRO）。\n",
      "\n",
      "       - **场内原因受累停运备用（PRI）** - 因场内设备停运（如汇流线路、箱变、主变等故障或计划检修）导致机组退出运行。\n",
      "\n",
      "       - **场外原因受累停运备用（PRO）** - 因外部输电线路、电力系统故障等场外原因导致机组退出运行。\n",
      "\n",
      "3. **不可用（U）** - 机组无法运行或备用的状态，分为计划停运（PO）和非计划停运（UO）。\n",
      "\n",
      "   - **计划停运（PO）** - 机组处于计划检修或维护状态，通常是事先安排好的定期维护。\n",
      "\n",
      "   - **非计划停运（UO）** - 机组不可用且不是计划停运的状态。\n",
      "\n",
      "4. **额定容量（INC）** - 指机组的铭牌额定容量。\n",
      "\n",
      "5. **实际发电量（GAG）** - 指机组在给定期间内实际发出的电量。\n",
      "\n",
      "6. **运行小时（SH）** - 机组处于运行状态的小时数。\n",
      "\n",
      "7. **备用小时（RH）** - 机组处于备用状态的小时数，包括调度停运备用小时（DRH）、受累停运备用小时（PRH），后者又分为场内原因受累停运备用小时数（PRIH）和场外原因受累停运备用小时数（PROH）。\n",
      "\n",
      "8. **计划停运小时（POH）** - 机组处于计划停运状态的小时数。\n",
      "\n",
      "9. **非计划停运小时（UOH）** - 机组处于非计划停运状态的小时数。\n",
      "\n",
      "10. **统计期间小时（PH）** - 机组处于在使用状态的日历小时数。\n",
      "\n",
      "11. **可用小时（AH）** - 机组处于可用状态的小时数，等于运行小时与备用小时之和。\n",
      "\n",
      "12. **不可用小时（UH）** - 机组处于不可用状态的小时数，等于计划和非计划停运小时之和或统计期间小时与可用小时之差。\n",
      "\n",
      "13. **统计台年（UY）** - 一台机组的统计期间小时数或多台机组的统计期间小时数之和除以8760小时。\n",
      "\n",
      "14. **利用小时（UTH）** - 指机组实际发电量折合成额定容量的运行小时数。\n",
      "\n",
      "这些术语和定义是风力发电设备可靠性统计评价的基础，用于评估风电场的运行效率和可靠性。\n"
>>>>>>> 00636bdfda229677f7796b4655216627e367dc14
     ]
    }
   ],
   "source": [
<<<<<<< HEAD
    "# question = \"风电场可用系数的计算公式？\"\n",
    "question = \"假设某风电场有5台风电机组，其机组可用小时分别是[200,205,210,215,220],统计期间小时分别为[250,260,270,280,290],机组最大容量分别为[500,510,500,520,500],请计算该风电场的可用系数？并给出计算过程。\"\n",
=======
    "question = \"风电场有关的术语和定义\"\n",
>>>>>>> 00636bdfda229677f7796b4655216627e367dc14
    "result = qa_chain({\"query\": question})\n",
    "# result[\"result\"]\n",
    "print(\"========= chain result ==========\")\n",
    "print(result['result'])"
   ]
  }
 ],
 "metadata": {
  "kernelspec": {
   "display_name": "transformers",
   "language": "python",
   "name": "python3"
  },
  "language_info": {
   "codemirror_mode": {
    "name": "ipython",
    "version": 3
   },
   "file_extension": ".py",
   "mimetype": "text/x-python",
   "name": "python",
   "nbconvert_exporter": "python",
   "pygments_lexer": "ipython3",
   "version": "3.9.19"
  }
 },
 "nbformat": 4,
 "nbformat_minor": 2
}
