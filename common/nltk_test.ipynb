{
 "cells": [
  {
   "cell_type": "markdown",
   "id": "d00660bd3afa381b",
   "metadata": {},
   "source": [
    "### 导入相关包"
   ]
  },
  {
   "cell_type": "code",
   "execution_count": 3,
   "id": "8b261a79d88fb486",
   "metadata": {
    "ExecuteTime": {
     "end_time": "2024-11-23T09:07:17.042080Z",
     "start_time": "2024-11-23T09:07:17.031116Z"
    }
   },
   "outputs": [],
   "source": [
    "import jieba"
   ]
  },
  {
   "cell_type": "markdown",
   "id": "290afe0f3c95aad5",
   "metadata": {},
   "source": [
    "### 评价指标计算函数"
   ]
  },
  {
   "cell_type": "code",
   "execution_count": null,
   "id": "initial_id",
   "metadata": {
    "collapsed": true,
    "jupyter": {
     "is_executing": true
    }
   },
   "outputs": [],
   "source": [
    "def calculate_metrics(references, candidates):\n",
    "    precisions = []\n",
    "    recalls = []\n",
    "    f1_scores = []\n",
    "\n",
    "    for reference, candidate in zip(references, candidates):\n",
    "        # 使用jieba分词\n",
    "        ref_tokens = jieba.lcut(reference)\n",
    "        can_tokens = jieba.lcut(candidate)\n",
    "\n",
    "        # 计算正确的token数量（交集）\n",
    "        correct_tokens = set(ref_tokens) & set(can_tokens)\n",
    "        num_correct = len(correct_tokens)\n",
    "\n",
    "        # 计算精确率Precision\n",
    "        precision = num_correct / len(can_tokens) if can_tokens else 0\n",
    "        precisions.append(precision)\n",
    "\n",
    "        # 计算召回率Recall\n",
    "        recall = num_correct / len(ref_tokens) if ref_tokens else 0\n",
    "        recalls.append(recall)\n",
    "\n",
    "        # 计算F1值\n",
    "        f1 = 2 * (precision * recall) / (precision + recall) if (precision + recall) > 0 else 0\n",
    "        f1_scores.append(f1)\n",
    "\n",
    "    # 计算平均Precision、Recall、F1\n",
    "    avg_precision = sum(precisions) / len(precisions) if precisions else 0\n",
    "    avg_recall = sum(recalls) / len(recalls) if recalls else 0\n",
    "    avg_f1 = sum(f1_scores) / len(f1_scores) if f1_scores else 0\n",
    "\n",
    "    return avg_precision, avg_recall, avg_f1\n",
    "\n"
   ]
  },
  {
   "cell_type": "code",
   "execution_count": null,
   "id": "fb7649b92dfcf5c0",
   "metadata": {},
   "outputs": [],
   "source": []
  },
  {
   "cell_type": "code",
   "execution_count": null,
   "id": "386fb1a8044138fd",
   "metadata": {},
   "outputs": [],
   "source": [
    "# 多条标准答案列表\n",
    "references = [\"我爱北京天安门\", \"香蕉是黄色水果\"]\n",
    "# 多条模型回答列表\n",
    "candidates = [\"我爱北京天安门，它很壮观\", \"香蕉是黄色水果，它富含钾\"]\n",
    "\n",
    "avg_precision, avg_recall, avg_f1 = calculate_metrics(references, candidates)\n",
    "print(f\"Average Precision: {avg_precision}\")\n",
    "print(f\"Average Recall: {avg_recall}\")\n",
    "print(f\"Average F1: {avg_f1}\")"
   ]
  }
 ],
 "metadata": {
  "kernelspec": {
   "display_name": "Python 3",
   "language": "python",
   "name": "python3"
  },
  "language_info": {
   "codemirror_mode": {
    "name": "ipython",
    "version": 2
   },
   "file_extension": ".py",
   "mimetype": "text/x-python",
   "name": "python",
   "nbconvert_exporter": "python",
   "pygments_lexer": "ipython2",
   "version": "3.9.20"
  }
 },
 "nbformat": 4,
 "nbformat_minor": 5
}
