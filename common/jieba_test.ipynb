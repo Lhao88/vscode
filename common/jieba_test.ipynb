{
 "cells": [
  {
   "metadata": {},
   "cell_type": "markdown",
   "source": "### 导入相关包",
   "id": "d00660bd3afa381b"
  },
  {
   "metadata": {
    "ExecuteTime": {
     "end_time": "2024-11-25T09:06:18.587050Z",
     "start_time": "2024-11-25T09:06:18.579076Z"
    }
   },
   "cell_type": "code",
   "source": "import jieba",
   "id": "8b261a79d88fb486",
   "outputs": [],
   "execution_count": 11
  },
  {
   "metadata": {},
   "cell_type": "markdown",
   "source": "### 评价指标计算函数",
   "id": "290afe0f3c95aad5"
  },
  {
   "metadata": {
    "ExecuteTime": {
     "end_time": "2024-11-25T09:06:20.400682Z",
     "start_time": "2024-11-25T09:06:20.392707Z"
    }
   },
   "cell_type": "code",
   "source": [
    "# 计算模型回复答案中有多少token在参考答案中出现过\n",
    "def calculate_correct_tokens(ref_tokens,can_tokens):\n",
    "    return [can for can in can_tokens if can in ref_tokens]"
   ],
   "id": "216289b03e956d6b",
   "outputs": [],
   "execution_count": 12
  },
  {
   "cell_type": "code",
   "id": "initial_id",
   "metadata": {
    "collapsed": true,
    "ExecuteTime": {
     "end_time": "2024-11-25T09:06:55.931400Z",
     "start_time": "2024-11-25T09:06:55.918131Z"
    }
   },
   "source": [
    "def calculate_metrics(references, candidates):\n",
    "    precisions = []\n",
    "    recalls = []\n",
    "    f1_scores = []\n",
    "    \n",
    "# 多条标准答案列表\n",
    "    stopwords = ['，','。','？','！','《','》','（','）','：','、','；','“','”']\n",
    "\n",
    "    for reference, candidate in zip(references, candidates):\n",
    "        # 使用jieba分词\n",
    "        ref_tokens = [token for token in jieba.lcut(reference) if token not in stopwords]\n",
    "        can_tokens = [token for token in jieba.lcut(candidate) if token not in stopwords]\n",
    "\n",
    "        # 计算正确的token数量（交集）\n",
    "        correct_tokens = calculate_correct_tokens(ref_tokens,can_tokens)\n",
    "        num_correct = len(correct_tokens)\n",
    "\n",
    "        # 计算精确率Precision\n",
    "        precision = num_correct / len(can_tokens) if can_tokens else 0\n",
    "        precisions.append(precision)\n",
    "\n",
    "        # 计算召回率Recall\n",
    "        recall = num_correct / len(ref_tokens) if ref_tokens else 0\n",
    "        recalls.append(recall)\n",
    "\n",
    "        # 计算F1值\n",
    "        f1 = 2 * (precision * recall) / (precision + recall) if (precision + recall) > 0 else 0\n",
    "        f1_scores.append(f1)\n",
    "\n",
    "    # 计算平均Precision、Recall、F1\n",
    "    avg_precision = sum(precisions) / len(precisions) if precisions else 0\n",
    "    avg_recall = sum(recalls) / len(recalls) if recalls else 0\n",
    "    avg_f1 = sum(f1_scores) / len(f1_scores) if f1_scores else 0\n",
    "\n",
    "    return avg_precision, avg_recall, avg_f1\n",
    "\n"
   ],
   "outputs": [],
   "execution_count": 15
  },
  {
   "metadata": {
    "ExecuteTime": {
     "end_time": "2024-11-25T08:45:04.329877Z",
     "start_time": "2024-11-25T08:45:04.313627Z"
    }
   },
   "cell_type": "code",
   "source": [
    "# 导入问题列表\n",
    "import json\n",
    "with open('../PowerMarketQA/电力现货市场QA.json','r',encoding='UTF-8') as json_file:\n",
    "\tdata = json.load(json_file)\n",
    "results = data['results']\n",
    "\n"
   ],
   "id": "fb7649b92dfcf5c0",
   "outputs": [],
   "execution_count": 5
  },
  {
   "metadata": {
    "ExecuteTime": {
     "end_time": "2024-11-25T09:01:53.884872Z",
     "start_time": "2024-11-25T09:01:53.859239Z"
    }
   },
   "cell_type": "code",
   "source": [
    "# 多条标准答案列表\n",
    "references = []\n",
    "# 多条模型回答列表\n",
    "candidates = []\n",
    "for r in results:\n",
    "    references.append(r['gt_answer'])\n",
    "    candidates.append(r['response'])\n",
    "print(len(references))\n",
    "print(len(candidates))\n",
    "references[0]"
   ],
   "id": "2fe08f8913953549",
   "outputs": [
    {
     "name": "stdout",
     "output_type": "stream",
     "text": [
      "125\n",
      "125\n"
     ]
    },
    {
     "data": {
      "text/plain": [
       "'电力市场的概念。我国关于电力市场的权威解释始见于《中国电力百科全书电力系统卷（第二版）》。电力市场的定义为：基于市场经济原则，电力市场的定义为基于市场经济原则，为实现电力商品交换的电力工业组织结构、经营管理和运行规则的总和。电力市场又是一个具体的执行系统，包括交易场所、交易管理系统、计量和结算系统、信息和通信系统等。上面从组织和实操两个维度对电力市场进行了描绘。通常电力市场包括广义和狭义两种含义。比照商品市场的一般定义，广义的电力市场泛指电力流通交换的领域。按照该含义，自电力作为商品实现交换之日起，电力市场就已经存在。当今在涉及市场规模和范围的语境下，运用的便是广义电力市场的概念。广义的电力市场有着明确的地域和容量指向，电力市场的地理边界可能差异很大，例如单一州（省）域内的电力市场，或者整个国家的电力市场，乃至跨国的电力市场。而这种地理边界受限于电网的覆盖范围，由于电网是电力传输的唯一通道，故多大范围的电网才可能有多大范围的电力市场；电力市场容量也同样存在很大的差异。狭义的电力市场是指现代竞争性的电力市场，《中国电力百科全书》定义的电力市场即为狭义的电力市场，建立电力市场旨在通过开放、竞争等市场手段实现电力能源资源的优化配置。所谓基于市场经济原则主要是指电能生产者和使用者本着公平竞争、自愿互利的原则，通过协商、竞价等方式，就电能及其相关产品进行交易，通过市场竞争确定价格和数量的市场原则。目前广泛讨论的电力市场，除特殊语境下，通常都是指狭义的电力市场。之所以称之为狭义的电力市场，主要原因有二。1）专指现代电力市场，狭义的电力市场兴起于20世纪80年代，是在电力作为商品出现的百年之后，而这百年间，广义电力市场的形态发生了曲折的变迁。电力工业初创期的电力领域是以残酷的市场竞争形态出现的，既有生产方式的竞争（交流与直流之争），也有垂直一体化模式下的电力企业之间抢占市场范围和争夺同一服务地域内的用户之争。这种竞争，一方面有力推动了电力工业的技术进步；另一方面，却也限制了规模经济效益的发挥，并因重复建设等过度竞争而造成资源浪费。因此，20世纪初，电力业态很快从无序竞争状态演变为政府管制或企业自律下的垄断市场形态，尤其是在二次世界大战之后，鉴于恢复经济的需要，大多数国家都采取国家垄断的模式。直至20世纪末，随着电网的发展和技术的进步，电力规模经济的低垂之果几乎已消耗殆尽，加之市场垄断造成的效率低下日渐凸显，且诸多国家政府电力财政补贴的负担日趋沉重，电力处于前所未有的困境，而这一时期，同为垄断行业的航空、石油、天然气、电信等产业的改革取得了令人瞩目的成就，催生了电力工业以建立电力市场为取向的市场化改革，而建立电力市场仅限于在可竞争环节引入竞争，因此也赋予了电力市场现代的含义。2）专指电力商品流通交换的场所、空间及其机制，尽管狭义的电力市场内含电力商品交换所在地、购买方针对性、持续时间、交易流程、政府监管、价格机制、交易合规性、投机强度、市场规模、产业集中度、交易不对称性、波动性等诸多方面并可能有所延伸，涉及电力工业的结构重组和规则重构等内容，但均没有超越电能生产者和使用者之间的交易活动及为满足该交易活动所需的其他活动的范围。鉴于实现电力能源资源的优化配置局限于交换环节，国内有专家学者提出了“泛电力市场”的概念，即在狭义电力市场的基础上，将电力市场化改革领域拓展到规划、投融资、碳交易、环境约束等环节，以实现电力生产、交换相关上下游环节的全链条市场化。电力市场作为电力工业市场化改革的目标模式，因其改革的动因和目标取向不同，以及市场外部环境的差异，呈现出显著的多样性，也使其结构显得格外复杂。世界各地的电力市场，既没有统一的标准供引用，也没有通用的模板可复制，需要结合各自的国情、民情和网情建设和运营。总体上，电力市场有批发市场（wholesalemarket）与零售市场（retailmarket）之分。在电力批发市场中，我国《关于进一步深化电力体制改革的若干意见》（中发〔2015〕9号）（简称中发9号文）配套文件将其分为中长期市场和现货市场，并综合考虑时间维度和交易标的，明确指出：“电力中长期市场主要开展多年、年、季、月、周等日以上电能量交易和可中断负荷、调压等辅助服务交易。电力现货市场主要开展日前、日内、实时电能量交易和备用、调频等辅助服务交易。条件成熟时，探索开展容量市场、电力期货和衍生品等交易。”一般而言，电力批发市场可以按市场性质、交易品种、交易时间、竞争模式等维度进一步细分，各分类市场的知识将在后续问题讨论中详述。'"
      ]
     },
     "execution_count": 10,
     "metadata": {},
     "output_type": "execute_result"
    }
   ],
   "execution_count": 10
  },
  {
   "metadata": {
    "ExecuteTime": {
     "end_time": "2024-11-25T09:07:00.483214Z",
     "start_time": "2024-11-25T09:06:59.913474Z"
    }
   },
   "cell_type": "code",
   "source": [
    "\n",
    "\n",
    "avg_precision, avg_recall, avg_f1 = calculate_metrics(references, candidates)\n",
    "print(f\"Average Precision: {avg_precision}\")\n",
    "print(f\"Average Recall: {avg_recall}\")\n",
    "print(f\"Average F1: {avg_f1}\")"
   ],
   "id": "386fb1a8044138fd",
   "outputs": [
    {
     "name": "stdout",
     "output_type": "stream",
     "text": [
      "Average Precision: 0.8575391033022026\n",
      "Average Recall: 0.48596070285559645\n",
      "Average F1: 0.5596609852702404\n"
     ]
    }
   ],
   "execution_count": 16
  }
 ],
 "metadata": {
  "kernelspec": {
   "display_name": "Python 3",
   "language": "python",
   "name": "python3"
  },
  "language_info": {
   "codemirror_mode": {
    "name": "ipython",
    "version": 2
   },
   "file_extension": ".py",
   "mimetype": "text/x-python",
   "name": "python",
   "nbconvert_exporter": "python",
   "pygments_lexer": "ipython2",
   "version": "2.7.6"
  }
 },
 "nbformat": 4,
 "nbformat_minor": 5
}
