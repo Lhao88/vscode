{
 "cells": [
  {
   "cell_type": "markdown",
   "metadata": {},
   "source": [
    "### Step1 导入相关包"
   ]
  },
  {
   "cell_type": "code",
   "execution_count": 1,
   "metadata": {},
   "outputs": [],
   "source": [
    "import os\n",
    "\n",
    "from langchain_community.llms import BaichuanLLM\n",
    "from langchain_community.vectorstores import FAISS\n",
    "from langchain_text_splitters import RecursiveCharacterTextSplitter\n",
    "from langchain_community.embeddings import HuggingFaceBgeEmbeddings\n",
    "from langchain_community.document_loaders import PyPDFDirectoryLoader\n",
    "from langchain.chains import RetrievalQA\n",
    "from langchain.prompts import PromptTemplate"
   ]
  },
  {
   "cell_type": "markdown",
   "metadata": {},
   "source": [
    "### Step2 加载数据"
   ]
  },
  {
   "cell_type": "code",
   "execution_count": 2,
   "metadata": {},
   "outputs": [],
   "source": [
    "data = \"../demo/\"\n",
    "# 这里为了做演示，随便找了一个pdf"
   ]
  },
  {
   "cell_type": "code",
   "execution_count": 3,
   "metadata": {},
   "outputs": [
    {
     "data": {
      "text/plain": [
       "Document(page_content='第一章 电力现货市场基础   \\n             \\n1   \\n第一章 \\n \\n \\n电力现货市场基础  \\n \\n \\n \\n  \\n 1. 什么是电力市场？电力市场与 普通商品市场有哪 些差异？电力市场有\\n哪些特征？ \\n（1）电力市场的概念。  \\n我国关于电力市场的权威解释始见于《中国电力百科全书  电力系统卷（第二版） 》。\\n电力市场的定义为：基于市场经济原则，电力市场的定义为基于市场经济原则，为实现', metadata={'source': '..\\\\demo\\\\电力现货市场101问.pdf', 'page': 8})"
      ]
     },
     "execution_count": 3,
     "metadata": {},
     "output_type": "execute_result"
    }
   ],
   "source": [
    "loader = PyPDFDirectoryLoader(data)\n",
    "\n",
    "docs_before_split = loader.load()\n",
    "# 过滤目录和附录\n",
    "docs_before_split = [doc for doc in docs_before_split if doc.metadata['page'] > 7 and doc.metadata['page'] <275] \n",
    "# 这里可以理解为对自己的文档切分成块，chuck size是每一块的大小，可以根据需求调整\n",
    "text_splitter = RecursiveCharacterTextSplitter(\n",
    "    chunk_size = 256,\n",
    "    chunk_overlap  = 30,\n",
    ")\n",
    "docs_after_split = text_splitter.split_documents(docs_before_split)\n",
    "\n",
    "docs_after_split[0]"
   ]
  },
  {
   "cell_type": "markdown",
   "metadata": {},
   "source": [
    "### Step3 创建向量数据库"
   ]
  },
  {
   "cell_type": "code",
   "execution_count": 4,
   "metadata": {},
   "outputs": [
    {
     "name": "stderr",
     "output_type": "stream",
     "text": [
      "d:\\miniconda3\\envs\\transformers\\lib\\site-packages\\tqdm\\auto.py:21: TqdmWarning: IProgress not found. Please update jupyter and ipywidgets. See https://ipywidgets.readthedocs.io/en/stable/user_install.html\n",
      "  from .autonotebook import tqdm as notebook_tqdm\n",
      "d:\\miniconda3\\envs\\transformers\\lib\\site-packages\\huggingface_hub\\file_download.py:1132: FutureWarning: `resume_download` is deprecated and will be removed in version 1.0.0. Downloads always resume when possible. If you want to force a new download, use `force_download=True`.\n",
      "  warnings.warn(\n"
     ]
    }
   ],
   "source": [
    "# 从过往工作经验看，embedding对于rag效果影响比较大，一般首选还是openai embedding做这一部分，开源的效果很一般\n",
    "huggingface_embeddings = HuggingFaceBgeEmbeddings(\n",
    "    model_name=\"moka-ai/m3e-base\",  # 使用m3e模型做embeddding\n",
    "    model_kwargs={'device':'cpu'},\n",
    "    encode_kwargs={'normalize_embeddings': True}\n",
    ")"
   ]
  },
  {
   "cell_type": "code",
   "execution_count": 5,
   "metadata": {},
   "outputs": [],
   "source": [
    "vectorstore = FAISS.from_documents(docs_after_split, huggingface_embeddings)"
   ]
  },
  {
   "cell_type": "markdown",
   "metadata": {},
   "source": [
    "### Step4 创建QA链"
   ]
  },
  {
   "cell_type": "code",
   "execution_count": 50,
   "metadata": {},
   "outputs": [],
   "source": [
    "# 创建检索器\n",
    "# retriever = vectorstore.as_retriever(search_type=\"similarity\", search_kwargs={\"k\": 5})"
   ]
  },
  {
   "cell_type": "code",
   "execution_count": 56,
   "metadata": {},
   "outputs": [
    {
     "name": "stdout",
     "output_type": "stream",
     "text": [
      "检索到的第1个内容: \n",
      " 品种、交易时间、竞争模式等维度进一步细分，各分类市场的知识将在后续问题讨论中详述。  \n",
      "（2）电力市场和普通商品市场的差异。  \n",
      "电力市场相较于普通商品市场具有显著的特殊性， 归根到底就在于电力商品与其他一\n",
      "般商品的差异性。电力商品本质即电能，与其他商品最本质的差异在于其自然属性和社\n",
      "会属性。  \n",
      "电力商品具有无仓储性。电能的生产、交割和消费几乎是同时完成的，其交割速度远\n",
      "快于一般商品，因此也不存在一般商品一手交钱一手交货的交易方式。\n",
      "-----------------------------------------------------\n",
      "检索到的第2个内容: \n",
      " 电力现货市场 101 问  \n",
      "  42 \n",
      " \n",
      "图1 − 4 现货市场时间轴  \n",
      "（1）集中式市场模式。  \n",
      "市场供需双方在每天特定时间之前向调度机构报价， 由调度机构根据供需双方报价和\n",
      "网络条件等出清。在不同国家，日前市场的名称有所不同。例如，在挪威和美国 PJM电\n",
      "力市场称日前（ day-ahead ）交易，在澳大利亚称短期提前（ short-run ahead ）交易，在我\n",
      "-----------------------------------------------------\n",
      "检索到的第3个内容: \n",
      " 电力商品具有同质性。电能不带有任何生产者的标识，电能生产者将生产的电能输入\n",
      "-----------------------------------------------------\n",
      "检索到的第4个内容: \n",
      " 电力现货市场 101 问  \n",
      "  30 和一个双边市场，给予了市场充分的流动性，也为市场成员提供了多次报价的机会。  \n",
      "4）美国纽约州容量市场。  \n",
      "美国纽约州 NYISO运营着一个装机容量（ install capacity ，ICAP）市场。该市场的关\n",
      "键特征是它是一个短期市场，虽然装机容量市场的目的是确保长期的资源充裕性，但不\n",
      "提供长期的价格信号，也不锁定未来几年的特定容量价格。  \n",
      "NYISO的ICAP市场有两个为期 6个月的容量期， 即冬季和夏季容量期。 通过三次拍\n",
      "-----------------------------------------------------\n",
      "检索到的第5个内容: \n",
      " 市场”的概念，即在狭义电力市场的基础上，将电力市场化改革领域拓展到规划、投融资、碳交易、环境约束等环节，以实现电力生产、交换相关上下游环节的全链条市场化。  \n",
      "电力市场作为电力工业市场化改革的目标模式，因其改革的动因和目标取向不同，以\n",
      "及市场外部环境的差异，呈现出显著的多样性，也使其结构显得格外复杂。世界各地的电力市场，既没有统一的标准供引用，也没有通用的模板可复制，需要结合各自的国情、\n",
      "民情和网情建设和运营。总体上，电力市场有批发市场（ wholesale market ）与零售市场\n",
      "-----------------------------------------------------\n",
      "检索到的第6个内容: \n",
      " 第一章 电力现货市场基础   \n",
      "             \n",
      "79   月前至日前这一时间段内展开。英国日前现货市场的电力交易由电力交易所负责组织，\n",
      "由于英国系统供应资源较为充裕、网络阻塞较轻，日前出清不考虑实际的网络情况，也\n",
      "不考虑机组的物理参数，出清方式为一般意义的集中竞价拍卖。日前小时拍卖市场的订单簿提前 14个工作日开放并于运行日前一天的 11:00之前关闭。市场成员在此期间提交\n",
      "买卖报价，报价类型包括单一小时报价和块报价，其中块报价最大功率上限为 500MW，\n",
      "-----------------------------------------------------\n",
      "检索到的第7个内容: \n",
      " 电力现货市场 101 问  \n",
      "  102  损失和可预见事故造成的损失。  \n",
      "（9）涉密信息：每位市场成员应对其拥有、控制、知悉的涉密信息保密；除市场规则\n",
      "允许外，不得向任何人披露涉密信息；每位市场成员须采用保密手段。  \n",
      "在有代表性的美国市场中， PJM电力市场对用户侧资源的利用方式较为灵活多样，\n",
      "包括通过电能量市场使得需求侧参与到经济需求响应中、通过辅助服务市场利用需求侧\n",
      "资源。美国得州电力市场则主要通过辅助服务市场利用用户侧资源。用户侧资源参与的辅助服务主要有两类：①\n",
      "-----------------------------------------------------\n",
      "检索到的第8个内容: \n",
      " 交易规则对电力也适用，不需要任何特殊的交易规则和协议。其实不然，电力商品较之普通商品有其无可争议的特殊性。问题 1从商品属性回答了电力市场与普通商品市场的\n",
      "差异，要深入了解电力现货市场的特殊性，则必须深刻理解电力的自然属性，自然属性\n",
      "的电力特殊性是与电力现货市场交易规则的特殊性高度一致的。  \n",
      "1）电力具有难以储存的特殊性。这一特点导致供需双方提前达成的交易结果与需求\n",
      "方实时消费的电能量在数量上必然存在偏差，为弥补这种偏差，势必需要维持实时平衡\n",
      "的特殊的市场规则。\n",
      "-----------------------------------------------------\n",
      "检索到的第9个内容: \n",
      " 2）电力市场具有网络产业特性。无仓储性的市场供需关系以及整个销售的网络性特\n",
      "-----------------------------------------------------\n",
      "检索到的第10个内容: \n",
      " 经验也较多  峰谷价差可能很大，市场成员接受难度大，\n",
      "特别是居民用电短时间没法传到价格信号，出\n",
      "现平衡账户资金问题  美国 PJM、MISO \n",
      " \n",
      "（2）影响电力现货市场的出清价格的因素。  \n",
      "影响电力现货市场电能量出清价格的因素可从发电侧、输配电和用户侧三个方面考\n",
      "虑，具体因素有：  \n",
      "1）发电厂商电量成本。发电厂商的成本可分为容量成本和电量成本。其中容量成本\n",
      "-----------------------------------------------------\n",
      "检索到的第11个内容: \n",
      " 电力现货市场 101 问  \n",
      "  114  a）关键供应商——关键供应指数（ pivotal supplierindex ，PSI）。 \n",
      " 1,\n",
      "0,   ijQQ DPSI −=\n",
      " ＜\n",
      "其他情况  \n",
      "式中，iQ为所有发电商的发电能力，jQ为发电商 j的发电能力， D为总需求。该指数  \n",
      "首次应用是美国联邦监管委员会在 2001年用于测定发电商的市场力（ FERC 2001 ）。目前\n",
      "该指数被加州 ISO，PJM和得州 ERCOT用于市场力识别。\n",
      "-----------------------------------------------------\n",
      "检索到的第12个内容: \n",
      " 电力现货市场 101 问  \n",
      "  78  \n",
      " 26. 什么是市场出清？电力现 货市场下有哪些出清模式？国外有哪些出\n",
      "清模式可以借鉴？ \n",
      "（1）市场出清的概念。  \n",
      "市场出清指商品市场与要素市场同时实现供求平衡的市场状态， 有时也指某一商品市\n",
      "场或某一要素市场实现供求平衡的市场状态。市场上价格有充分的弹性，价格机制的自我调节能够让市场自发实现供求均衡，即市场出清的状态。  \n",
      "不同于一般商品，电能具有实时平衡和基于物理定律的网络化传输的特点，电能生产\n",
      "-----------------------------------------------------\n",
      "检索到的第13个内容: \n",
      " 前市场，由于拥有两个平行的电力交易所，且独立于调度机构，日前市场出清只对申报\n",
      "到交易所的电量进行增量出清计算。  \n",
      "（3）国外典型电力现货市场的出清模式。  \n",
      "1）英国现货市场由日前、日内电力交易和实时的平衡机制构成，而辅助服务则多在\n",
      "-----------------------------------------------------\n",
      "检索到的第14个内容: \n",
      " 电力现货市场 101 问  \n",
      "  192  在美国 PJM市场，其体系包括电能量市场、辅助服务市场、金融输电权市场等， PJM\n",
      "按照时序联合出清电能量市场和辅助服务市场，以实现社会福利最大化，其电能量和辅\n",
      "助服务在市场上是紧密结合的，耦合关系较强。  \n",
      "在英国电力市场，其 97%的电能量通过双边合约进行交易和执行，剩余的不平衡电\n",
      "量由平衡机制来解决。市场流程主要包括远期双边合约市场和期货市场、短期双边合约\n",
      "-----------------------------------------------------\n",
      "检索到的第15个内容: \n",
      " 92. 日前市场与实时市场出清结果及定位有何不同？ \n",
      "作为发现系统电力边际成本的主要手段， 日前市场主要的定位在于发现短期电力边际\n",
      "成本，依据日前市场出清结果确定发电计划。在分散式现货市场中的日前市场，发电机\n",
      "组和电力用户双侧报价，以社会福利最大化为目标，对所有市场主体开展基于可用输电\n",
      "能力（ ATC）的集中优化出清。在集中式现货市场中的日前市场，一种是发电机组和电力\n",
      "用户双侧报价，以社会福利最大化为目标，对所有市场主体开展基于安全约束的机组组\n",
      "-----------------------------------------------------\n",
      "检索到的第16个内容: \n",
      " 以集聚交易量，提升合约流动性；同时配合以差价合约来对冲各价区因阻塞而出现的价差风险。上述做法，本质上与美国电力中长期市场的设计思路类似。  \n",
      "3）英国电力市场尽可能还原了电能的商品属性，一方面应用了区域定价机制且使全\n",
      "国范围内均为同一价区；另一方面，在关闸进入平衡市场前并不考虑价区内的实际物理参数。因此，该市场设计下的衔接机制相对简单，中长期市场、日前市场和日内市场虽\n",
      "存在时序上的不同，但其价格形成机制并无本质区别，市场主体可自由选择任意时点在\n",
      "-----------------------------------------------------\n",
      "检索到的第17个内容: \n",
      " 发电上网电量都必须在实时市场报价和中标；后者仅以系统平衡调度为目的，前序市场交易结果与实际运行的偏差量可通过这类市场获得平衡。二者在运行机制方面有很大差\n",
      "异（详见问题 14）。 \n",
      "（2）电力现货市场的特殊性。  \n",
      "电力现货市场建设是整个电力市场体系建设的重点和难点，也是最具争议的焦点。有\n",
      "一种观点认为电力现货市场的结构和交易规则没有必要独树一帜，其他经济领域的通用\n",
      "-----------------------------------------------------\n",
      "检索到的第18个内容: \n",
      " 1）电力日前市场。  \n",
      "电力日前市场（ day\n",
      " − ahead market ，DAM）是指在电能量交割前一天开展的针对次日\n",
      "24h的电力交易，时段的时长选择多数是延续原有的调度发电计划周期；我国试点建设的\n",
      "电力现货市场中，电力日前市场以 15min为一个交易时段，每天 96个时段。日前市场有\n",
      "日前电能量市场和日前辅助服务市场及其他电力产品日前市场之分，无特殊说明，一般\n",
      "专指日前电能量市场。  \n",
      "时序上，电力日前市场是介乎于中长期市场和实时市场间的一种市场形态，在不同国\n",
      "-----------------------------------------------------\n",
      "检索到的第19个内容: \n",
      " 电力现货市场 101 问  \n",
      "  164  提高电力市场的流动性、提升电力市场的稳定性，减小电价波动。此外，市场主体也将\n",
      "受益于市场耦合，它们在进行跨区（国）交易时不再需要获得相关的输电权（ transmission \n",
      "capacity right ），不同地区的售电商报价和购电商报价可以进行无障碍匹配，大大提高了\n",
      "市场的交易成功率，使买卖双方的利益最大化。其日前市场流程如下：  \n",
      "a.  根据通道传输容量上限和之前显式拍卖的结果，各国 TSO计算各价区间通道的可\n",
      "-----------------------------------------------------\n",
      "检索到的第20个内容: \n",
      " 英国日前和实时市场均采用按系统边际电价结算的竞价机制； 2001年新的电力交易规约\n",
      "（new electricity trading arrangement ，NETA）启动后，日前市场出清计算不考虑实际的网\n",
      "络情况，也不考虑机组的物理参数，出清价格为系统边际电价；而实时平衡市场用于维\n",
      "持电力实时平衡和实施阻塞管理，平衡机制中的调整量按照申报的增减出力报价付费。  \n",
      "电力现货市场结算价格机制对电力市场的运行会产生极大的影响，如 2001年前后的\n",
      "-----------------------------------------------------\n",
      "检索到的第21个内容: \n",
      " 力市场既是生产资料市场，又是生活资料市场，还是十分典型的无仓储公共市场。  \n",
      "（3）电力市场的特征。  \n",
      "电力商品较之其他商品的特殊性，使得电力市场具有明显的特征。要深入了解电力市\n",
      "场的特征，首先需要了解电力工业的技术特征。电力工业具有如下独特的技术特征。  \n",
      "1）快速性：①   发、供、用瞬时完成，这是电力的基本特征，也是电能生产的特点，\n",
      "致使生产者不能自主确定生产计划；②   整个系统参数（电压、电流、相角）快速变化，\n",
      "-----------------------------------------------------\n",
      "检索到的第22个内容: \n",
      " 电力现货市场 101 问  \n",
      "  2 期的电力领域是以残酷的市场竞争形态出现的， 既有生产方式的竞争 （交流与直流之争） ，\n",
      "也有垂直一体化模式下的电力企业之间抢占市场范围和争夺同一服务地域内的用户之\n",
      "争。这种竞争，一方面有力推动了电力工业的技术进步；另一方面，却也限制了规模经济效益的发挥，并因重复建设等过度竞争而造成资源浪费。因此， 20世纪初，电力业态\n",
      "很快从无序竞争状态演变为政府管制或企业自律下的垄断市场形态，尤其是在二次世界\n",
      "-----------------------------------------------------\n",
      "检索到的第23个内容: \n",
      " 特殊市场，兼具实物和服务市场的双重特征，既体现在功能上支撑现货市场运营，保障\n",
      "电力系统安全运行和电能质量，又体现在价格上反映现货市场的机会成本，是现货市场不可或缺的互补性市场。  \n",
      "与现货市场时序上相衔接的是电能量中长期市场（详见问题 5），它指符合准入条\n",
      "-----------------------------------------------------\n",
      "检索到的第24个内容: \n",
      " 电力现货市场 101 问  \n",
      "  132  入调整总结阶段，市场模式采用单一制电价、全电量报价、部分电量按竞价结果结算的\n",
      "方式；南方区域电力市场 2005年11月进入模拟运行阶段，市场模式采用单一制电价、部\n",
      "分电量竞争的形式。客观上，区域电力市场的上述实践探索，检验了不同市场模式在我国的适用性，为电力现货市场的深化建设积累了经验。  \n",
      "在6省（市）电力市场以及东北、华东和南方区域电力市场的试点过程中，相关电网\n",
      "-----------------------------------------------------\n",
      "检索到的第25个内容: \n",
      " 电力现货市场 101 问  \n",
      "  14 建设电力现货市场的核心是建立竞争机制，通过市场实现能源电力资源的优化配置。\n",
      "表现形式上，就是改变传统调度发电计划产生方式，形成以市场交易结果作为安排调度\n",
      "发电计划的主要依据的全新调度模式。在电力工业一体化管理模式下，理想的调度方式是经济调度（详细内容见问题 15），以发电成本（煤耗）最低或供电成本（煤耗）最低为\n",
      "目标，按照等微增的原则安排发电调度计划并实时调度，实现全系统利益最大化，优化\n",
      "-----------------------------------------------------\n"
     ]
    }
   ],
   "source": [
    "query = \"\"\"电力市场与普通商品市场的差异\"\"\"\n",
    "         # Sample question, change to other questions you are interested in.\n",
    "relevant_documents = vectorstore.similarity_search(query,k=25)\n",
    "for i, doc in enumerate(relevant_documents):\n",
    "    print(f\"检索到的第{i+1}个内容: \\n {doc.page_content}\", end=\"\\n-----------------------------------------------------\\n\")\n",
    "\n",
    "\n",
    "# 从这一步看，已经很清晰rag的原理了，即从大量文件索引找到top k相关的text块，供下一步LLM查找、总结答案"
   ]
  },
  {
   "cell_type": "code",
   "execution_count": 61,
   "metadata": {},
   "outputs": [],
   "source": [
    "from langchain_core.documents import Document\n",
    "from langchain_core.retrievers import BaseRetriever\n",
    "from langchain_core.callbacks import CallbackManagerForRetrieverRun\n",
    "\n",
    "from typing import List\n",
    "from sentence_transformers import CrossEncoder\n",
    "\n",
    "\"\"\" 使用自定义的检索器,对上面相关性检索召回的文本块进行重排\"\"\"\n",
    "class CustomRetriever(BaseRetriever):\n",
    "    \n",
    "    def _get_relevant_documents(\n",
    "        self, query: str, *, run_manager: CallbackManagerForRetrieverRun\n",
    "    ) -> List[Document]:\n",
    "        cross_encoder = CrossEncoder(\"BAAI/bge-reranker-base\", max_length=512, device=\"cpu\")\n",
    "        reranked_docs = cross_encoder.rank(\n",
    "        query,\n",
    "        [doc.page_content for doc in relevant_documents],\n",
    "        top_k=5,\n",
    "        return_documents=True,)\n",
    "        reranking_relevant_documents= []\n",
    "        for doc in reranked_docs:\n",
    "           reranking_relevant_documents.append(Document(page_content=doc[\"text\"],metadata=relevant_documents[doc[\"corpus_id\"]].metadata)) \n",
    "        return reranking_relevant_documents"
   ]
  },
  {
   "cell_type": "code",
   "execution_count": 62,
   "metadata": {},
   "outputs": [],
   "source": [
    "# 自定义加入重排的检索器\n",
    "retriever = CustomRetriever()"
   ]
  },
  {
   "cell_type": "code",
   "execution_count": 63,
   "metadata": {},
   "outputs": [],
   "source": [
    "# 创建prompt\n",
    "prompt_template = \"\"\"\n",
    "请用下面相关文本回答问题，如果不知道答案，就回复不知道，\n",
    "\n",
    "{context}\n",
    "\n",
    "Question: {question}\n",
    "\n",
    "Helpful Answer:\n",
    "\"\"\"\n",
    "\n",
    "prompt = PromptTemplate(\n",
    " template=prompt_template, input_variables=[\"context\", \"question\"]\n",
    ")"
   ]
  },
  {
   "cell_type": "code",
   "execution_count": 64,
   "metadata": {},
   "outputs": [],
   "source": [
    "# 创建百川的LLM\n",
    "llm = BaichuanLLM()"
   ]
  },
  {
   "cell_type": "code",
   "execution_count": 65,
   "metadata": {},
   "outputs": [],
   "source": [
    "qa_chain = RetrievalQA.from_chain_type(\n",
    "    llm=llm,\n",
    "    chain_type=\"stuff\",\n",
    "    retriever=retriever,\n",
    "    return_source_documents=True,\n",
    "    chain_type_kwargs={\"prompt\": prompt}\n",
    ")"
   ]
  },
  {
   "cell_type": "markdown",
   "metadata": {},
   "source": [
    "### Step5 提问，运行QA链，得到RAG结果"
   ]
  },
  {
   "cell_type": "code",
   "execution_count": 66,
   "metadata": {},
   "outputs": [
    {
     "name": "stderr",
     "output_type": "stream",
     "text": [
      "d:\\miniconda3\\envs\\transformers\\lib\\site-packages\\huggingface_hub\\file_download.py:1132: FutureWarning: `resume_download` is deprecated and will be removed in version 1.0.0. Downloads always resume when possible. If you want to force a new download, use `force_download=True`.\n",
      "  warnings.warn(\n"
     ]
    },
    {
     "name": "stdout",
     "output_type": "stream",
     "text": [
      "========= chain result ==========\n",
      "{'query': '电力市场与普通商品市场的差异?', 'result': '电力市场与普通商品市场的差异主要体现在电力商品的自然属性和社会属性上。电力商品具有无仓储性，其生产、交割和消费几乎是同时完成的，交割速度远快于一般商品，因此不存在一般商品一手交钱一手交货的交易方式。此外，电力商品具有同质性，电能不带有任何生产者的标识。由于电力商品的难以储存和快速性等特点，电力市场需要维持实时平衡的特殊的市场规则。', 'source_documents': [Document(page_content='品种、交易时间、竞争模式等维度进一步细分，各分类市场的知识将在后续问题讨论中详述。  \\n（2）电力市场和普通商品市场的差异。  \\n电力市场相较于普通商品市场具有显著的特殊性， 归根到底就在于电力商品与其他一\\n般商品的差异性。电力商品本质即电能，与其他商品最本质的差异在于其自然属性和社\\n会属性。  \\n电力商品具有无仓储性。电能的生产、交割和消费几乎是同时完成的，其交割速度远\\n快于一般商品，因此也不存在一般商品一手交钱一手交货的交易方式。', metadata={'source': '..\\\\demo\\\\电力现货市场101问.pdf', 'page': 9}), Document(page_content='交易规则对电力也适用，不需要任何特殊的交易规则和协议。其实不然，电力商品较之普通商品有其无可争议的特殊性。问题 1从商品属性回答了电力市场与普通商品市场的\\n差异，要深入了解电力现货市场的特殊性，则必须深刻理解电力的自然属性，自然属性\\n的电力特殊性是与电力现货市场交易规则的特殊性高度一致的。  \\n1）电力具有难以储存的特殊性。这一特点导致供需双方提前达成的交易结果与需求\\n方实时消费的电能量在数量上必然存在偏差，为弥补这种偏差，势必需要维持实时平衡\\n的特殊的市场规则。', metadata={'source': '..\\\\demo\\\\电力现货市场101问.pdf', 'page': 20}), Document(page_content='电力商品具有同质性。电能不带有任何生产者的标识，电能生产者将生产的电能输入', metadata={'source': '..\\\\demo\\\\电力现货市场101问.pdf', 'page': 9}), Document(page_content='市场”的概念，即在狭义电力市场的基础上，将电力市场化改革领域拓展到规划、投融资、碳交易、环境约束等环节，以实现电力生产、交换相关上下游环节的全链条市场化。  \\n电力市场作为电力工业市场化改革的目标模式，因其改革的动因和目标取向不同，以\\n及市场外部环境的差异，呈现出显著的多样性，也使其结构显得格外复杂。世界各地的电力市场，既没有统一的标准供引用，也没有通用的模板可复制，需要结合各自的国情、\\n民情和网情建设和运营。总体上，电力市场有批发市场（ wholesale market ）与零售市场', metadata={'source': '..\\\\demo\\\\电力现货市场101问.pdf', 'page': 9}), Document(page_content='力市场既是生产资料市场，又是生活资料市场，还是十分典型的无仓储公共市场。  \\n（3）电力市场的特征。  \\n电力商品较之其他商品的特殊性，使得电力市场具有明显的特征。要深入了解电力市\\n场的特征，首先需要了解电力工业的技术特征。电力工业具有如下独特的技术特征。  \\n1）快速性：①   发、供、用瞬时完成，这是电力的基本特征，也是电能生产的特点，\\n致使生产者不能自主确定生产计划；②   整个系统参数（电压、电流、相角）快速变化，', metadata={'source': '..\\\\demo\\\\电力现货市场101问.pdf', 'page': 10})]}\n"
     ]
    }
   ],
   "source": [
    "question = \"电力市场与普通商品市场的差异?\"\n",
    "result = qa_chain({\"query\": question})\n",
    "# result[\"result\"]\n",
    "print(\"========= chain result ==========\")\n",
    "print(result)"
   ]
  },
  {
   "cell_type": "markdown",
   "metadata": {},
   "source": [
    "### Step6 开始评估"
   ]
  },
  {
   "cell_type": "code",
   "execution_count": 68,
   "metadata": {},
   "outputs": [
    {
     "name": "stdout",
     "output_type": "stream",
     "text": [
      "faithfulness_score: 1.0\n",
      "answer_relevancy_score: 0.8896998015854355\n",
      "context_relevancy_score: 0.14705882352941177\n",
      "context_recall_score: 1.0\n"
     ]
    }
   ],
   "source": [
    "result['ground_truths'] = \"电力市场相较于普通商品市场具有显著的特殊性，归根到底就在于电力商品与其他一般商品的差异性。电力商品本质即电能，与其他商品最本质的差异在于其自然属性和社会属性。电力商品具有无仓储性。电能的生产、交割和消费几乎是同时完成的，其交割速度远快于一般商品，因此也不存在一般商品一手交钱一手交货的交易方式。电力商品具有同质性。电能不带有任何生产者的标识，电能生产者将生产的电能输入电网，即完成了生产过程；而电能的使用者也只能从电网获取所需数量的电能，电能生产者和消费者间可以达成交易，但在电能实际生产和消费过程中不存在对应性。电力商品具有可预测性。电能需求在较长周期内会以日或周为单位呈现周期性波动，一定程度上抑制了投机行为，但也增加了市场主体滥用市场力的可能性。电力商品具有生产资料和生活资料的双重属性，因此它既关系国计，又关系民生。电力市场既是生产资料市场，又是生活资料市场，还是十分典型的无仓储公共市场。\"\n",
    "\n",
    "from ragas.metrics import faithfulness, answer_relevancy, context_relevancy, context_recall\n",
    "from ragas.langchain.evalchain import RagasEvaluatorChain\n",
    "\n",
    "# make eval chains\n",
    "eval_chains = {\n",
    "    m.name: RagasEvaluatorChain(metric=m) \n",
    "    for m in [faithfulness, answer_relevancy, context_relevancy, context_recall]\n",
    "}\n",
    "\n",
    "# evaluate\n",
    "for name, eval_chain in eval_chains.items():\n",
    "    score_name = f\"{name}_score\"\n",
    "    print(f\"{score_name}: {eval_chain(result)[score_name]}\")\n"
   ]
  },
  {
   "cell_type": "code",
   "execution_count": null,
   "metadata": {},
   "outputs": [],
   "source": []
  }
 ],
 "metadata": {
  "kernelspec": {
   "display_name": "transformers",
   "language": "python",
   "name": "python3"
  },
  "language_info": {
   "codemirror_mode": {
    "name": "ipython",
    "version": 3
   },
   "file_extension": ".py",
   "mimetype": "text/x-python",
   "name": "python",
   "nbconvert_exporter": "python",
   "pygments_lexer": "ipython3",
   "version": "3.9.19"
  }
 },
 "nbformat": 4,
 "nbformat_minor": 2
}
