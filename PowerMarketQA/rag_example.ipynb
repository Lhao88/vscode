{
  "cells": [
    {
      "cell_type": "code",
      "execution_count": 1,
      "metadata": {
        "id": "ZttZrRc9jRvu"
      },
      "outputs": [],
      "source": [
        "import os\n",
        "from urllib.request import urlretrieve\n",
        "import numpy as np\n",
        "from langchain_community.embeddings import HuggingFaceBgeEmbeddings\n",
        "from langchain_community.llms import HuggingFacePipeline\n",
        "from langchain_community.document_loaders import PyPDFLoader\n",
        "from langchain_community.document_loaders import PyPDFDirectoryLoader\n",
        "from langchain_community.document_loaders import UnstructuredExcelLoader\n",
        "from langchain.text_splitter import CharacterTextSplitter\n",
        "from langchain.text_splitter import RecursiveCharacterTextSplitter\n",
        "from langchain_community.vectorstores import FAISS\n",
        "from langchain.chains import RetrievalQA\n",
        "from langchain.prompts import PromptTemplate"
      ]
    },
    {
      "cell_type": "code",
      "execution_count": null,
      "metadata": {
        "colab": {
          "base_uri": "https://localhost:8080/",
          "height": 53
        },
        "id": "mV6o0lYzjRtU",
        "outputId": "052f860f-8d98-4189-d3d3-f7a32ed3731b"
      },
      "outputs": [],
      "source": [
        "# from langchain_community.llms import HuggingFaceHub\n",
        "\n",
        "# '''\n",
        "# 请注意，这里对于一般的机器，内存要求极高，我再colab尝试下载中文LLM的baichuan，但是仍然OOM，所以用的一个在线LLM做测试，如果在一些网络限制比较\n",
        "# 严格的地方，需要开发者自己从开源社区提前下载好对应的LLM\n",
        "# '''\n",
        "# huggingface_api_token = os.getenv('HUGGINGFACE_API_TOKEN')\n",
        "\n",
        "# hf = HuggingFaceHub(\n",
        "#     huggingfacehub_api_token=huggingface_api_token,\n",
        "#     repo_id=\"mistralai/Mistral-7B-v0.1\",\n",
        "#     model_kwargs={\"temperature\":0.1, \"max_length\":2000})\n",
        "\n",
        "# query = \"\"\"电力市场与普通商品市场的差异\"\"\"  # Sample question, change to other questions you are interested in.\n",
        "# hf.invoke(query)"
      ]
    },
    {
      "cell_type": "code",
      "execution_count": null,
      "metadata": {},
      "outputs": [],
      "source": [
        "# from zhipuai_llm import ZhipuAILLM\n",
        "# zhipuai_api_key = os.getenv(\"ZHIPUAI_API_KEY\")\n",
        "\n",
        "# zhipuai_model = ZhipuAILLM(model='glm-4', temperature=0.1, api_key=zhipuai_api_key)\n",
        "# res = zhipuai_model(\"电力市场与普通商品市场的差异\")\n",
        "# print(res)"
      ]
    },
    {
      "cell_type": "code",
      "execution_count": null,
      "metadata": {},
      "outputs": [],
      "source": [
        "from langchain_community.llms import BaichuanLLM\n",
        "\n",
        "# 加载百川的LLM\n",
        "baichaun = BaichuanLLM()\n",
        "\n",
        "res = baichaun.invoke(\"电力市场与普通商品市场的差异\")\n",
        "print(res)"
      ]
    },
    {
      "cell_type": "code",
      "execution_count": 4,
      "metadata": {
        "id": "H1gelq4oj29w"
      },
      "outputs": [],
      "source": [
        "data = \"../demo/\"\n",
        "# 这里为了做演示，随便找了一个in house 文本/content/0858能源动力-博士专业学位创新成果具体标准2024(最终).pdf"
      ]
    },
    {
      "cell_type": "code",
      "execution_count": 5,
      "metadata": {
        "colab": {
          "base_uri": "https://localhost:8080/"
        },
        "id": "kxqV9TfyjRqP",
        "outputId": "884a3e3d-42f3-4bd1-fcb9-1b8252f2e4c5"
      },
      "outputs": [
        {
          "data": {
            "text/plain": [
              "Document(page_content='第一章 电力现货市场基础   \\n             \\n1   \\n第一章 \\n \\n \\n电力现货市场基础  \\n \\n \\n \\n  \\n 1. 什么是电力市场？电力市场与 普通商品市场有哪 些差异？电力市场有\\n哪些特征？ \\n（1）电力市场的概念。  \\n我国关于电力市场的权威解释始见于《中国电力百科全书  电力系统卷（第二版） 》。\\n电力市场的定义为：基于市场经济原则，电力市场的定义为基于市场经济原则，为实现', metadata={'source': '..\\\\demo\\\\电力现货市场101问.pdf', 'page': 8})"
            ]
          },
          "execution_count": 5,
          "metadata": {},
          "output_type": "execute_result"
        }
      ],
      "source": [
        "loader = PyPDFDirectoryLoader(data)\n",
        "\n",
        "docs_before_split = loader.load()\n",
        "# 过滤目录和附录\n",
        "docs_before_split = [doc for doc in docs_before_split if doc.metadata['page'] > 7 and doc.metadata['page'] <275] \n",
        "# # 这里可以理解为对自己的文档切分成块，chuck size是每一块的大小，可以根据需求调整\n",
        "\n",
        "text_splitter = CharacterTextSplitter(chunk_size = 256,\n",
        "                                    chunk_overlap  = 30,)\n",
        "\n",
        "# docs_after_split = text_splitter.split_documents(docs_before_split)\n",
        "\n",
        "# docs_after_split[0]"
      ]
    },
    {
      "cell_type": "code",
      "execution_count": null,
      "metadata": {},
      "outputs": [],
      "source": [
        "# 提取所有文本信息\n",
        "full_text=\"\"\n",
        "for doc in docs_before_split:\n",
        "    full_text += doc.page_content\n",
        "full_text"
      ]
    },
    {
      "cell_type": "code",
      "execution_count": 6,
      "metadata": {},
      "outputs": [
        {
          "data": {
            "text/plain": [
              "1604"
            ]
          },
          "execution_count": 6,
          "metadata": {},
          "output_type": "execute_result"
        }
      ],
      "source": [
        "len(docs_after_split)"
      ]
    },
    {
      "cell_type": "code",
      "execution_count": 60,
      "metadata": {},
      "outputs": [],
      "source": [
        "\n",
        "# loader = UnstructuredExcelLoader(data, mode=\"elements\")\n",
        "# docs = loader.load()\n",
        "# docs[0]\n",
        "# docs_before_split = docs[0].page_content\n",
        "# #对数据进行分割\n",
        "# docs_after_split = docs_before_split.strip(\"\\n\\n\\n\")\n",
        "# docs_after_split = docs_after_split.split(\"\\n\\n\\n\")\n",
        "# print(len(docs_after_split))"
      ]
    },
    {
      "cell_type": "code",
      "execution_count": 62,
      "metadata": {},
      "outputs": [
        {
          "data": {
            "text/plain": [
              "Document(page_content='Question\\nAnswer', metadata={'source': 0})"
            ]
          },
          "execution_count": 62,
          "metadata": {},
          "output_type": "execute_result"
        }
      ],
      "source": [
        "# from langchain_core.documents import Document\n",
        "# # 重新封装成Document类\n",
        "# docs_after_split = [ Document(page_content=str, metadata={\"source\": idx}) for idx,str in enumerate(docs_after_split)]\n",
        "# docs_after_split[0]"
      ]
    },
    {
      "cell_type": "code",
      "execution_count": 7,
      "metadata": {
        "id": "YEuXljxKkUVP"
      },
      "outputs": [
        {
          "name": "stderr",
          "output_type": "stream",
          "text": [
            "d:\\miniconda3\\envs\\transformers\\lib\\site-packages\\tqdm\\auto.py:21: TqdmWarning: IProgress not found. Please update jupyter and ipywidgets. See https://ipywidgets.readthedocs.io/en/stable/user_install.html\n",
            "  from .autonotebook import tqdm as notebook_tqdm\n",
            "d:\\miniconda3\\envs\\transformers\\lib\\site-packages\\huggingface_hub\\file_download.py:1132: FutureWarning: `resume_download` is deprecated and will be removed in version 1.0.0. Downloads always resume when possible. If you want to force a new download, use `force_download=True`.\n",
            "  warnings.warn(\n"
          ]
        }
      ],
      "source": [
        "# 从过往工作经验看，embedding对于rag效果影响比较大，一般首选还是openi embedding做这一部分，开源的效果很一般\n",
        "huggingface_embeddings = HuggingFaceBgeEmbeddings(\n",
        "    model_name=\"moka-ai/m3e-base\",  # 选用m3e模型做embedding\n",
        "    model_kwargs={'device':'cpu'},\n",
        "    encode_kwargs={'normalize_embeddings': True}\n",
        ")"
      ]
    },
    {
      "cell_type": "code",
      "execution_count": null,
      "metadata": {
        "id": "daOinBz5kUSa"
      },
      "outputs": [],
      "source": [
        "sample_embedding = np.array(huggingface_embeddings.embed_query(docs_after_split[0].page_content))\n",
        "print(\"Sample embedding of a document chunk: \", sample_embedding)\n",
        "print(\"Size of the embedding: \", sample_embedding.shape)"
      ]
    },
    {
      "cell_type": "code",
      "execution_count": 9,
      "metadata": {
        "id": "JPFt-yFDkUNs"
      },
      "outputs": [],
      "source": [
        "# 这一步是对自己前一步切好的文本做embedding处理，并通过faiss存储，faiss的主要作用是提高检索效率\n",
        "vectorstore = FAISS.from_documents(docs_after_split, huggingface_embeddings)"
      ]
    },
    {
      "cell_type": "code",
      "execution_count": 15,
      "metadata": {
        "colab": {
          "base_uri": "https://localhost:8080/"
        },
        "id": "hjiCklOXkULL",
        "outputId": "b38947cf-1d35-4c36-ab84-68455f425567"
      },
      "outputs": [
        {
          "name": "stdout",
          "output_type": "stream",
          "text": [
            "检索到的第1个内容: \n",
            " 品种、交易时间、竞争模式等维度进一步细分，各分类市场的知识将在后续问题讨论中详述。  \n",
            "（2）电力市场和普通商品市场的差异。  \n",
            "电力市场相较于普通商品市场具有显著的特殊性， 归根到底就在于电力商品与其他一\n",
            "般商品的差异性。电力商品本质即电能，与其他商品最本质的差异在于其自然属性和社\n",
            "会属性。  \n",
            "电力商品具有无仓储性。电能的生产、交割和消费几乎是同时完成的，其交割速度远\n",
            "快于一般商品，因此也不存在一般商品一手交钱一手交货的交易方式。\n",
            "-----------------------------------------------------\n",
            "检索到的第2个内容: \n",
            " 电力现货市场 101 问  \n",
            "  42 \n",
            " \n",
            "图1 − 4 现货市场时间轴  \n",
            "（1）集中式市场模式。  \n",
            "市场供需双方在每天特定时间之前向调度机构报价， 由调度机构根据供需双方报价和\n",
            "网络条件等出清。在不同国家，日前市场的名称有所不同。例如，在挪威和美国 PJM电\n",
            "力市场称日前（ day-ahead ）交易，在澳大利亚称短期提前（ short-run ahead ）交易，在我\n",
            "-----------------------------------------------------\n",
            "检索到的第3个内容: \n",
            " 电力商品具有同质性。电能不带有任何生产者的标识，电能生产者将生产的电能输入\n",
            "-----------------------------------------------------\n",
            "检索到的第4个内容: \n",
            " 电力现货市场 101 问  \n",
            "  30 和一个双边市场，给予了市场充分的流动性，也为市场成员提供了多次报价的机会。  \n",
            "4）美国纽约州容量市场。  \n",
            "美国纽约州 NYISO运营着一个装机容量（ install capacity ，ICAP）市场。该市场的关\n",
            "键特征是它是一个短期市场，虽然装机容量市场的目的是确保长期的资源充裕性，但不\n",
            "提供长期的价格信号，也不锁定未来几年的特定容量价格。  \n",
            "NYISO的ICAP市场有两个为期 6个月的容量期， 即冬季和夏季容量期。 通过三次拍\n",
            "-----------------------------------------------------\n"
          ]
        }
      ],
      "source": [
        "query = \"\"\"电力市场与普通商品市场的差异\"\"\"\n",
        "         # Sample question, change to other questions you are interested in.\n",
        "relevant_documents = vectorstore.similarity_search(query)\n",
        "for i, doc in enumerate(relevant_documents):\n",
        "    print(f\"检索到的第{i+1}个内容: \\n {doc.page_content}\", end=\"\\n-----------------------------------------------------\\n\")\n",
        "\n",
        "# 从这一步看，已经很清晰rag的原理了，即从大量文件索引找到top k相关的text块，供下一步LLM查找、总结答案"
      ]
    },
    {
      "cell_type": "code",
      "execution_count": 16,
      "metadata": {
        "id": "zQp2KsZ3lQSB"
      },
      "outputs": [],
      "source": [
        "retriever = vectorstore.as_retriever(search_type=\"similarity\", search_kwargs={\"k\": 3})\n",
        "# 这里的K与检索文本的数量相关，但一般不会太大"
      ]
    },
    {
      "cell_type": "code",
      "execution_count": 17,
      "metadata": {
        "id": "B5cKgjPrnDC6"
      },
      "outputs": [],
      "source": [
        "prompt_template = \"\"\"\n",
        "请用下面相关文本回答问题，如果不知道答案，就回复不知道，\n",
        "\n",
        "{context}\n",
        "\n",
        "Question: {question}\n",
        "\n",
        "Helpful Answer:\n",
        "\"\"\"\n",
        "\n",
        "PROMPT = PromptTemplate(\n",
        " template=prompt_template, input_variables=[\"context\", \"question\"]\n",
        ")"
      ]
    },
    {
      "cell_type": "code",
      "execution_count": 18,
      "metadata": {
        "id": "sWs0UCqDnDAB"
      },
      "outputs": [],
      "source": [
        "retrievalQA = RetrievalQA.from_chain_type(\n",
        "    llm=baichaun,\n",
        "    chain_type=\"stuff\",\n",
        "    retriever=retriever,\n",
        "    return_source_documents=True,\n",
        "    chain_type_kwargs={\"prompt\": PROMPT}\n",
        ")"
      ]
    },
    {
      "cell_type": "code",
      "execution_count": 19,
      "metadata": {
        "colab": {
          "base_uri": "https://localhost:8080/"
        },
        "id": "PQWC_eAGnC9b",
        "outputId": "5f9a6381-016c-4290-9188-86b0b97d7745"
      },
      "outputs": [
        {
          "name": "stdout",
          "output_type": "stream",
          "text": [
            "电力市场与普通商品市场的差异主要体现在电力商品的特性上。电力商品具有无仓储性，这意味着电能的生产、交割和消费几乎是同时完成的，其交割速度远快于一般商品，因此也不存在一般商品一手交钱一手交货的交易方式。此外，电力商品具有同质性，电能不带有任何生产者的标识，电能生产者将生产的电能输入电网后，无法区分不同生产者的电能。\n"
          ]
        }
      ],
      "source": [
        "result = retrievalQA.invoke({\"query\": query})\n",
        "print(result['result'])"
      ]
    },
    {
      "cell_type": "code",
      "execution_count": 20,
      "metadata": {
        "colab": {
          "base_uri": "https://localhost:8080/"
        },
        "id": "531vcraqlgGZ",
        "outputId": "4616ba38-7254-4b5a-f3dc-135aa2e8bf0b"
      },
      "outputs": [
        {
          "name": "stdout",
          "output_type": "stream",
          "text": [
            "There are 3 documents retrieved which are relevant to the query.\n",
            "****************************************************************************************************\n",
            "Relevant Document #1:\n",
            "Source file: ..\\demo\\电力现货市场101问.pdf\n",
            "Content: 品种、交易时间、竞争模式等维度进一步细分，各分类市场的知识将在后续问题讨论中详述。  \n",
            "（2）电力市场和普通商品市场的差异。  \n",
            "电力市场相较于普通商品市场具有显著的特殊性， 归根到底就在于电力商品与其他一\n",
            "般商品的差异性。电力商品本质即电能，与其他商品最本质的差异在于其自然属性和社\n",
            "会属性。  \n",
            "电力商品具有无仓储性。电能的生产、交割和消费几乎是同时完成的，其交割速度远\n",
            "快于一般商品，因此也不存在一般商品一手交钱一手交货的交易方式。\n",
            "----------------------------------------------------------------------------------------------------\n",
            "There are 3 documents retrieved which are relevant to the query.\n",
            "Relevant Document #2:\n",
            "Source file: ..\\demo\\电力现货市场101问.pdf\n",
            "Content: 电力现货市场 101 问  \n",
            "  42 \n",
            " \n",
            "图1 − 4 现货市场时间轴  \n",
            "（1）集中式市场模式。  \n",
            "市场供需双方在每天特定时间之前向调度机构报价， 由调度机构根据供需双方报价和\n",
            "网络条件等出清。在不同国家，日前市场的名称有所不同。例如，在挪威和美国 PJM电\n",
            "力市场称日前（ day-ahead ）交易，在澳大利亚称短期提前（ short-run ahead ）交易，在我\n",
            "----------------------------------------------------------------------------------------------------\n",
            "There are 3 documents retrieved which are relevant to the query.\n",
            "Relevant Document #3:\n",
            "Source file: ..\\demo\\电力现货市场101问.pdf\n",
            "Content: 电力商品具有同质性。电能不带有任何生产者的标识，电能生产者将生产的电能输入\n",
            "----------------------------------------------------------------------------------------------------\n",
            "There are 3 documents retrieved which are relevant to the query.\n"
          ]
        }
      ],
      "source": [
        "relevant_docs = result['source_documents']\n",
        "print(f'There are {len(relevant_docs)} documents retrieved which are relevant to the query.')\n",
        "print(\"*\" * 100)\n",
        "for i, doc in enumerate(relevant_docs):\n",
        "    # print(f\"Relevant Document #{i+1}:\\nSource file: {doc.metadata['source']}, Page: {doc.metadata['page']}\\nContent: {doc.page_content}\")\n",
        "    print(f\"Relevant Document #{i+1}:\\nSource file: {doc.metadata['source']}\\nContent: {doc.page_content}\")\n",
        "    print(\"-\"*100)\n",
        "    print(f'There are {len(relevant_docs)} documents retrieved which are relevant to the query.')"
      ]
    },
    {
      "cell_type": "code",
      "execution_count": null,
      "metadata": {
        "id": "MKTTinYUlgDq"
      },
      "outputs": [],
      "source": [
        "'''\n",
        "fine tuning和rag还是要经过实验对比，具体看效果，在LLM之前，大家比较习惯都先fine tuning下（比如BERT系列），但从上面仅仅是下载模型，\n",
        "colab都OOM了看，fine tuning对于机器的要求更高，而且数据较少的情况下效果不好说。\n",
        "\n",
        "也可以fine tuning之后，再结合fine tuning之后的LLM做rag\n",
        "\n",
        "'''"
      ]
    },
    {
      "cell_type": "code",
      "execution_count": null,
      "metadata": {
        "id": "ym7oBlFalf-7"
      },
      "outputs": [],
      "source": []
    }
  ],
  "metadata": {
    "colab": {
      "provenance": []
    },
    "kernelspec": {
      "display_name": "Python 3",
      "language": "python",
      "name": "python3"
    },
    "language_info": {
      "codemirror_mode": {
        "name": "ipython",
        "version": 3
      },
      "file_extension": ".py",
      "mimetype": "text/x-python",
      "name": "python",
      "nbconvert_exporter": "python",
      "pygments_lexer": "ipython3",
      "version": "3.9.19"
    },
    "vscode": {
      "interpreter": {
        "hash": "ab27e19eb19491d964375babe3d6154ca819cc4497d406e3673c3e0d27a755c3"
      }
    }
  },
  "nbformat": 4,
  "nbformat_minor": 0
}
