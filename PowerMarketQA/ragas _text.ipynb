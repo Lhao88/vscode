{
 "cells": [
  {
   "cell_type": "markdown",
   "metadata": {},
   "source": [
    "### Step1 导入相关包"
   ]
  },
  {
   "cell_type": "code",
   "execution_count": 1,
   "metadata": {},
   "outputs": [
    {
     "name": "stderr",
     "output_type": "stream",
     "text": [
      "d:\\miniconda3\\envs\\transformers\\lib\\site-packages\\tqdm\\auto.py:21: TqdmWarning: IProgress not found. Please update jupyter and ipywidgets. See https://ipywidgets.readthedocs.io/en/stable/user_install.html\n",
      "  from .autonotebook import tqdm as notebook_tqdm\n"
     ]
    }
   ],
   "source": [
    "import os\n",
    "\n",
    "from langchain_community.llms import BaichuanLLM\n",
    "from langchain_community.vectorstores import FAISS\n",
    "from langchain_text_splitters import RecursiveCharacterTextSplitter\n",
    "from langchain_community.embeddings import HuggingFaceBgeEmbeddings\n",
    "from langchain_community.document_loaders import PyPDFDirectoryLoader\n",
    "from langchain.chains import RetrievalQA\n",
    "from langchain.prompts import PromptTemplate\n",
    "\n",
    "from langchain_core.documents import Document\n",
    "from langchain_core.retrievers import BaseRetriever\n",
    "from langchain_core.callbacks import CallbackManagerForRetrieverRun\n",
    "from typing import List\n",
    "from sentence_transformers import CrossEncoder"
   ]
  },
  {
   "cell_type": "markdown",
   "metadata": {},
   "source": [
    "### Step2 加载数据"
   ]
  },
  {
   "cell_type": "code",
   "execution_count": 2,
   "metadata": {},
   "outputs": [],
   "source": [
    "data = \"../demo/\"\n",
    "# 这里为了做演示，随便找了一个pdf"
   ]
  },
  {
   "cell_type": "code",
   "execution_count": 3,
   "metadata": {},
   "outputs": [
    {
     "data": {
      "text/plain": [
       "Document(page_content='第一章 电力现货市场基础   \\n             \\n1   \\n第一章 \\n \\n \\n电力现货市场基础  \\n \\n \\n \\n  \\n 1. 什么是电力市场？电力市场与 普通商品市场有哪 些差异？电力市场有\\n哪些特征？ \\n（1）电力市场的概念。  \\n我国关于电力市场的权威解释始见于《中国电力百科全书  电力系统卷（第二版） 》。\\n电力市场的定义为：基于市场经济原则，电力市场的定义为基于市场经济原则，为实现\\n电力商品交换的电力工业组织结构、经营管理和运行规则的总和。电力市场又是一个具体的执行系统，包括交易场所、交易管理系统、计量和结算系统、信息和通信系统等。\\n上面从组织和实操两个维度对电力市场进行了描绘。  \\n通常电力市场包括广义和狭义两种含义。比照商品市场的一般定义，广义的电力市场\\n泛指电力流通交换的领域。按照该含义，自电力作为商品实现交换之日起，电力市场就\\n已经存在。当今在涉及市场规模和范围的语境下，运用的便是广义电力市场的概念。广\\n义的电力市场有着明确的地域和容量指向，电力市场的地理边界可能差异很大，例如单一州（省）域内的电力市场，或者整个国家的电力市场，乃至跨国的电力市场。而这种\\n地理边界受限于电网的覆盖范围，由于电网是电力传输的唯一通道，故多大范围的电网\\n才可能有多大范围的电力市场；电力市场容量也同样存在很大的差异。  \\n狭义的电力市场是指现代竞争性的电力市场， 《中国电力百科全书》定义的电力市场\\n即为狭义的电力市场，建立电力市场旨在通过开放、竞争等市场手段实现电力能源资源\\n的优化配置。所谓基于市场经济原则主要是指电能生产者和使用者本着公平竞争、自愿互利的原则，通过协商、竞价等方式，就电能及其相关产品进行交易，通过市场竞争确\\n定价格和数量的市场原则。目前广泛讨论的电力市场，除特殊语境下，通常都是指狭义\\n的电力市场。  \\n之所以称之为狭义的电力市场，主要原因有二。  \\n1）专指现代电力市场，狭义的电力市场兴起于 20世纪 80年代，是在电力作为商品\\n出现的百年之后，而这百年间，广义电力市场的形态发生了曲折的变迁。电力工业初创', metadata={'source': '..\\\\demo\\\\电力现货市场101问.pdf', 'page': 8})"
      ]
     },
     "execution_count": 3,
     "metadata": {},
     "output_type": "execute_result"
    }
   ],
   "source": [
    "loader = PyPDFDirectoryLoader(data)\n",
    "\n",
    "docs_before_split = loader.load()\n",
    "# 过滤目录和附录\n",
    "docs_before_split = [doc for doc in docs_before_split if doc.metadata['page'] > 7 and doc.metadata['page'] <275] \n",
    "# 这里可以理解为对自己的文档切分成块，chuck size是每一块的大小，可以根据需求调整\n",
    "# text_splitter = RecursiveCharacterTextSplitter(\n",
    "#     chunk_size = 256,\n",
    "#     chunk_overlap  = 30,\n",
    "# )\n",
    "# docs_after_split = text_splitter.split_documents(docs_before_split)\n",
    "\n",
    "# docs_after_split[0]\n",
    "docs_before_split[0]"
   ]
  },
  {
   "cell_type": "code",
   "execution_count": 4,
   "metadata": {},
   "outputs": [
    {
     "data": {
      "text/plain": [
       "Document(page_content='第一章 电力现货市场基础   \\n             \\n1   \\n第一章 \\n \\n \\n电力现货市场基础  \\n \\n \\n \\n  \\n 1. 什么是电力市场？电力市场与 普通商品市场有哪 些差异？电力市场有\\n哪些特征？ \\n（1）电力市场的概念。  \\n我国关于电力市场的权威解释始见于《中国电力百科全书  电力系统卷（第二版） 》。\\n电力市场的定义为：基于市场经济原则，电力市场的定义为基于市场经济原则，为实现', metadata={'source': '..\\\\demo\\\\电力现货市场101问.pdf'})"
      ]
     },
     "execution_count": 4,
     "metadata": {},
     "output_type": "execute_result"
    }
   ],
   "source": [
    "# 提取所有文本\n",
    "full_text=\"\"\n",
    "for doc in docs_before_split:\n",
    "    full_text += doc.page_content\n",
    "\n",
    "text_splitter = RecursiveCharacterTextSplitter(\n",
    "    chunk_size = 256,\n",
    "    chunk_overlap  = 30,\n",
    ")\n",
    "docs_after_split = text_splitter.create_documents([full_text])\n",
    "docs_after_split = [Document(page_content=doc.page_content,  metadata={\"source\": \"..\\demo\\电力现货市场101问.pdf\"}) for doc in docs_after_split]\n",
    "docs_after_split[0]\n",
    "# # 按段落分割\n",
    "# paragraphs = full_text.split('。  \\n')\n",
    "# #去除段落中的空格和换行\n",
    "# paragraphs = [paragraph.replace('\\n','').replace(' ','') for paragraph in paragraphs]\n",
    "# #去除一些无用段落\n",
    "# paragraphs = [paragraph for paragraph in paragraphs if len(paragraph)>50]\n",
    "# docs_after_split = [Document(page_content=doc,  metadata={\"source\": \"..\\demo\\电力现货市场101问.pdf\"}) for doc in paragraphs]\n",
    "\n",
    "# docs_after_split[0]"
   ]
  },
  {
   "cell_type": "markdown",
   "metadata": {},
   "source": [
    "### Step3 创建向量数据库"
   ]
  },
  {
   "cell_type": "code",
   "execution_count": 5,
   "metadata": {},
   "outputs": [
    {
     "name": "stderr",
     "output_type": "stream",
     "text": [
      "d:\\miniconda3\\envs\\transformers\\lib\\site-packages\\huggingface_hub\\file_download.py:1132: FutureWarning: `resume_download` is deprecated and will be removed in version 1.0.0. Downloads always resume when possible. If you want to force a new download, use `force_download=True`.\n",
      "  warnings.warn(\n"
     ]
    }
   ],
   "source": [
    "# 从过往工作经验看，embedding对于rag效果影响比较大，一般首选还是openai embedding做这一部分，开源的效果很一般\n",
    "huggingface_embeddings = HuggingFaceBgeEmbeddings(\n",
    "    model_name=\"moka-ai/m3e-base\",  # 使用m3e模型做embeddding\n",
    "    model_kwargs={'device':'cpu'},\n",
    "    encode_kwargs={'normalize_embeddings': True}\n",
    ")"
   ]
  },
  {
   "cell_type": "code",
   "execution_count": 6,
   "metadata": {},
   "outputs": [],
   "source": [
    "vectorstore = FAISS.from_documents(docs_after_split, huggingface_embeddings)"
   ]
  },
  {
   "cell_type": "markdown",
   "metadata": {},
   "source": [
    "### Step4 创建QA链"
   ]
  },
  {
   "cell_type": "code",
   "execution_count": 7,
   "metadata": {},
   "outputs": [
    {
     "name": "stdout",
     "output_type": "stream",
     "text": [
      "检索到的第1个内容: \n",
      " 市场”的概念，即在狭义电力市场的基础上，将电力市场化改革领域拓展到规划、投融资、碳交易、环境约束等环节，以实现电力生产、交换相关上下游环节的全链条市场化。  \n",
      "电力市场作为电力工业市场化改革的目标模式，因其改革的动因和目标取向不同，以\n",
      "及市场外部环境的差异，呈现出显著的多样性，也使其结构显得格外复杂。世界各地的电力市场，既没有统一的标准供引用，也没有通用的模板可复制，需要结合各自的国情、\n",
      "民情和网情建设和运营。总体上，电力市场有批发市场（ wholesale market ）与零售市场\n",
      "-----------------------------------------------------\n",
      "检索到的第2个内容: \n",
      " 义的电力市场有着明确的地域和容量指向，电力市场的地理边界可能差异很大，例如单一州（省）域内的电力市场，或者整个国家的电力市场，乃至跨国的电力市场。而这种\n",
      "地理边界受限于电网的覆盖范围，由于电网是电力传输的唯一通道，故多大范围的电网\n",
      "才可能有多大范围的电力市场；电力市场容量也同样存在很大的差异。  \n",
      "狭义的电力市场是指现代竞争性的电力市场， 《中国电力百科全书》定义的电力市场\n",
      "即为狭义的电力市场，建立电力市场旨在通过开放、竞争等市场手段实现电力能源资源\n",
      "-----------------------------------------------------\n",
      "检索到的第3个内容: \n",
      " 市场由发电企业处购买电能，再通过电力零售市场向终端用户出售电力商品。  \n",
      "（2）市场性质。  \n",
      "电力市场按其市场性质可分为实物市场与金融市场。一般而言，实物市场与金融市场\n",
      "可以通过按产品类型和市场主体的意图两个方面加以辨识。电力实物市场建设几乎是各\n",
      "国各地电力市场建设的重心，建设运营中普遍接受电力行政主管部门或监管机构的监管；电力金融市场严格意义上要接受金融监管机构的监管。  \n",
      "1）电力实物市场。  \n",
      "实物市场，业界也有译之为物理市场（ physical market ）的，它是以电能量及其相关\n",
      "-----------------------------------------------------\n",
      "检索到的第4个内容: \n",
      " 市场的功能及特点，具体如下。               电力现货市场 101 问  \n",
      "  42 \n",
      " \n",
      "图1 − 4 现货市场时间轴  \n",
      "（1）集中式市场模式。  \n",
      "市场供需双方在每天特定时间之前向调度机构报价， 由调度机构根据供需双方报价和\n",
      "网络条件等出清。在不同国家，日前市场的名称有所不同。例如，在挪威和美国 PJM电\n",
      "力市场称日前（ day-ahead ）交易，在澳大利亚称短期提前（ short-run ahead ）交易，在我\n",
      "-----------------------------------------------------\n",
      "检索到的第5个内容: \n",
      " 随着电网的发展和技术的进步，电力规模经济的低垂之果几乎已消耗殆尽，加之市场垄\n",
      "断造成的效率低下日渐凸显，且诸多国家政府电力财政补贴的负担日趋沉重，电力处于\n",
      "前所未有的困境，而这一时期，同为垄断行业的航空、石油、天然气、电信等产业的改革取得了令人瞩目的成就，催生了电力工业以建立电力市场为取向的市场化改革，而建\n",
      "立电力市场仅限于在可竞争环节引入竞争，因此也赋予了电力市场现代的含义。  \n",
      "2）专指电力商品流通交换的场所、空间及其机制，尽管狭义的电力市场内含电力商\n",
      "-----------------------------------------------------\n",
      "检索到的第6个内容: \n",
      " 形式参与电力现货市场。储能装置与可中断负荷可以参与旋转备用辅助服务市场。虚拟电厂可以通过先进的通信技术等手段整合可再生能源以及可中断负荷参与主能量市场与\n",
      "备用市场的竞价，谋求聚合体收益最大化。\n",
      " 第一章 电力现货市场基础   \n",
      "             \n",
      "103   \n",
      " 35. 什么是需求响应资源？需 求响应资源如何参与电力现货市场和辅助\n",
      "服务市场？ \n",
      "激励用户侧资源参与供需协调和电网调峰、提高用户侧用能效率，推动用能革命也是\n",
      "-----------------------------------------------------\n",
      "检索到的第7个内容: \n",
      " 是什么？国外有哪些典型的电力辅助服务市场？ \n",
      "（1）电力辅助服务的补偿机制。  \n",
      "电力辅助服务市场是遵循市场原则对提供电力辅助服务的主体因提供产品或服务发\n",
      "生的成本进行经济补偿的一种市场机制。  \n",
      "对应不同的辅助服务调用方式，补偿机制可以分为基于统计成本和基于市场价格两\n",
      "种。  \n",
      "基于统计成本的方式是通过对历史数据的分析， 测算得到不同类型机组提供辅助服务\n",
      "的平均成本，以此为依据设定补偿价格，但随着多种非发电资源的引入和技术的不断进\n",
      "-----------------------------------------------------\n",
      "检索到的第8个内容: \n",
      " 2）电力市场具有网络产业特性。无仓储性的市场供需关系以及整个销售的网络性特             电力现货市场 101 问  \n",
      "  4 征，既是市场特征，也是技术特征。因此，电力市场的建设和运营，不仅需要从社会、\n",
      "政治、经济等方面全方位考虑，更需要遵循电网运行的客观规律，充分考虑电力工业的\n",
      "技术特性。  \n",
      "3）电力市场与环保的关联性。电力市场具有明显的经济外部性，电力市场与气候环\n",
      "境之间的关联性表现在电力的供给与对电能的需求两方面。科学有序的电力市场，有利\n",
      "-----------------------------------------------------\n",
      "检索到的第9个内容: \n",
      " 电力市场安全、经济、清洁运行的作用。  \n",
      "［*本问题根据《电力辅助服务市场机制研究》 （国家能源局市场监管司、华北电力大\n",
      "学）整理］  \n",
      " 8. 容量成本回收机制有哪些？为 什么要建立容量市 场？国外有什么可以\n",
      "借鉴的成功模式吗？容量市场 和现货市场之间是什么关系？ \n",
      "（1）容量回收机制的组成。  \n",
      "在单一电能量市场中，发电机组只有在发电时才能获得收益。对于确保系统可靠性所\n",
      "需的某些发电机组，全年运行时间很短，这些发电机组必须在较短运行时段内回收全部             电力现货市场 101 问\n",
      "-----------------------------------------------------\n",
      "检索到的第10个内容: \n",
      " 衡量市场力的方法。               电力现货市场 101 问  \n",
      "  114  a）关键供应商——关键供应指数（ pivotal supplierindex ，PSI）。 \n",
      " 1,\n",
      "0,   ijQQ DPSI −=\n",
      " ＜\n",
      "其他情况  \n",
      "式中，iQ为所有发电商的发电能力，jQ为发电商 j的发电能力， D为总需求。该指数  \n",
      "首次应用是美国联邦监管委员会在 2001年用于测定发电商的市场力（ FERC 2001 ）。目前\n",
      "-----------------------------------------------------\n",
      "检索到的第11个内容: \n",
      " 电力商品交换的电力工业组织结构、经营管理和运行规则的总和。电力市场又是一个具体的执行系统，包括交易场所、交易管理系统、计量和结算系统、信息和通信系统等。\n",
      "上面从组织和实操两个维度对电力市场进行了描绘。  \n",
      "通常电力市场包括广义和狭义两种含义。比照商品市场的一般定义，广义的电力市场\n",
      "泛指电力流通交换的领域。按照该含义，自电力作为商品实现交换之日起，电力市场就\n",
      "已经存在。当今在涉及市场规模和范围的语境下，运用的便是广义电力市场的概念。广\n",
      "-----------------------------------------------------\n",
      "检索到的第12个内容: \n",
      " （1）国外典型电力市场主辅协调出清模式。  \n",
      "国外成熟的电力市场大部分都将调频、 备用等辅助服务资源与电能量进行联合优化出\n",
      "清，由此带来更可观的经济效益。               电力现货市场 101 问  \n",
      "  192  在美国 PJM市场，其体系包括电能量市场、辅助服务市场、金融输电权市场等， PJM\n",
      "按照时序联合出清电能量市场和辅助服务市场，以实现社会福利最大化，其电能量和辅\n",
      "助服务在市场上是紧密结合的，耦合关系较强。\n",
      "-----------------------------------------------------\n",
      "检索到的第13个内容: \n",
      " 得输电阻塞成本补偿的收益权。输电权市场机制取决于现货市场采取的定价机制和输电阻塞管理机制，在实行节点边际电价（ locational marginal price ，LMP）的现货市场中，\n",
      "金融输电权市场是必不可少的。  \n",
      "电力市场体系是一个十分庞大的系统， 涉及电力工业的各个环节和电力经济的各个方\n",
      "面，推进电力市场建设，需要规划电力市场体系建设的总体方案，通过顶层设计，分层\n",
      "组织、分步实施，协调推进，以实现能源革命的战略目标。  \n",
      " 3. 电力市场有哪些划分维度？具体如何划分？\n",
      "-----------------------------------------------------\n",
      "检索到的第14个内容: \n",
      " 3. 电力市场有哪些划分维度？具体如何划分？ \n",
      "如前所述，电力市场体系实质是电力市场交易体系，包括市场主体、交易对象、交易\n",
      "类型、价格形成机制等方面。完备的电力市场通常由多个部分（子市场）共同构成，各\n",
      "子市场相互联系、相互制约，共同形成合力，推动整个能源电力经济的发展。  \n",
      "电力市场体系中各类市场的划分有不同的维度，一般有交易数量和额度、市场性质、\n",
      "交易品种、时间、竞争模式等维度，如图 1 − 1所示。  \n",
      "（1）交易数量和额度。\n",
      "-----------------------------------------------------\n",
      "检索到的第15个内容: \n",
      " 供应量倾向于小于社会发展的最优需求，需要配合其他鼓励长期发电投资的市场机制保证发电的长期充裕性。  \n",
      "（3）国外电力市场建设过程中的经验。  \n",
      "从国外典型辅助服务市场的运作模式来看， 辅助服务市场主要有电力辅助服务独立交\n",
      "易方式和联合优化方式。独立交易方式指电力辅助服务市场独立于电能量市场运行，常\n",
      "见于以欧洲为代表的分散式电力市场。欧洲电力交易机构与系统调度运行机构分立，电第一章 电力现货市场基础\n",
      "-----------------------------------------------------\n",
      "检索到的第16个内容: \n",
      " 不二选择。  \n",
      "然而，建设竞争性电力市场，尤其是电力现货市场并非易事。完备的电力现货市场必\n",
      "须具有完全竞争市场所需的四个条件：①   市场内有众多的买方和卖方；②   市场内每一\n",
      "个厂商生产的商品是无差异的； ③   所有的经济资源可以在各市场主体间自由流动； ④   市\n",
      "场内从事交易活动的参与者可以平等、完整地掌握市场信息。条件①   是电力现货市场难\n",
      "以逾越但必须跨越的鸿沟，由于长期追求规模经济而形成的市场集中度畸高问题，以及\n",
      "-----------------------------------------------------\n",
      "检索到的第17个内容: \n",
      " （retail market ）之分。在电力批发市场中，我国《关于进一步深化电力体制改革的若干意\n",
      "见》（中发〔 2015〕9号）（简称中发 9号文）配套文件将其分为中长期市场和现货市场，\n",
      "并综合考虑时间维度和交易标的，明确指出： “电力中长期市场主要开展多年、年、季、\n",
      "月、周等日以上电能量交易和可中断负荷、调压等辅助服务交易。电力现货市场主要开展日前、日内、实时电能量交易和备用、调频等辅助服务交易。条件成熟时，探索开展\n",
      "容量市场、电力期货和衍生品等交易。 ”一般而言，电力批发市场可以按市场性质、交易\n",
      "-----------------------------------------------------\n",
      "检索到的第18个内容: \n",
      " （4）国外典型电力辅助服务市场介绍。  \n",
      "1）美国辅助服务市场。  \n",
      "美国 PJM辅助服务市场提供辅助服务，以在系统发生波动时及时满足系统对于电力             电力现货市场 101 问  \n",
      "  24 供应和实时平衡的需求，每个区域输电组织（ regional transmission organization ，RTO）和\n",
      "电网用户必须向 PJM购买该项服务。美国 PJM辅助服务市场将辅助服务义务分配到负荷\n",
      "-----------------------------------------------------\n",
      "检索到的第19个内容: \n",
      " 个地点的电价，以此研究美国日前批发电力市场，市场出清机制是考虑网络约束的节点\n",
      "电价法。  第三章 电力现货市场技术支持系统   \n",
      "             \n",
      "255   随着我国电力现货市场改革的推进和电力现货市场领域理论与技术研究的逐步深入，\n",
      "国内的电力现货市场模拟仿真系统也在逐步研发和完善。我国的电力现货市场综合试点\n",
      "方案也明确规定，电力现货市场试点方案（含配套的电力中长期交易机制）和运营规则应在专家论证后，由具备能力的单位组织全市场仿真（或经济性模拟）及财务信用风险\n",
      "-----------------------------------------------------\n",
      "检索到的第20个内容: \n",
      " 纯靠现货市场难以回收其全部投资和运营成本，需建立容量成本补偿机制，用于吸引电力投资，保障长期电力供应的充裕度。因此，发电容量市场实质上是对能量市场的有效\n",
      "补充， 可在一定程度上帮助投资主体收回在能量和辅助服务市场不能完全回收的成本 （详\n",
      "见问题 8）。 \n",
      "3）电力辅助服务市场。  \n",
      "电力辅助服务指为维护电力系统的安全稳定运行、保证电能质量，除正常电能生产、\n",
      "-----------------------------------------------------\n",
      "检索到的第21个内容: \n",
      " 电出力计划的电能量交易市场。电能量市场主要包括中长期市场、现货市场。  \n",
      "电力辅助服务市场指在维护电力系统的安全稳定运行和电能质量要求的前提下， 通过\n",
      "市场化的方式开展将电能量从发电企业输送到用户所需要的所有辅助措施，确保电力系\n",
      "统安全稳定运行。依据所提供的辅助措施类型，电力辅助服务市场又可进一步细分为提供维持电力系统频率稳定服务的调频服务市场、提供满足负荷峰谷变化的要求而进行发\n",
      "电机出力调整服务的调峰服务市场等。  \n",
      "（1）国外典型电力市场主辅协调出清模式。\n",
      "-----------------------------------------------------\n",
      "检索到的第22个内容: \n",
      " 场内或场外市场达成交易，仅需在关闸前提交需实物交割的合约曲线。  \n",
      "4）澳大利亚国家电力市场分为电力批发市场和电力零售市场，实行现货交易和金融\n",
      "合约交易（差价合约） 。发电厂商通过竞争把发出的电力卖给电力批发市场，市场把电力\n",
      "批发给零售商，终端用户也可以通过合约形式向发电厂商直接购电。在零售市场上，零售商把批发到的电力卖给终端用户。其中的电力金融合约（差价合约）是一种金融风险\n",
      "管理手段，用来减少现货市场价格波动带来的影响。如果发电集团在市场中行使市场力\n",
      "-----------------------------------------------------\n",
      "检索到的第23个内容: \n",
      " 于其所在的地区，而可以在整个大市场范围内进行交易。市场耦合的最大优势在于可以             电力现货市场 101 问  \n",
      "  164  提高电力市场的流动性、提升电力市场的稳定性，减小电价波动。此外，市场主体也将\n",
      "受益于市场耦合，它们在进行跨区（国）交易时不再需要获得相关的输电权（ transmission \n",
      "capacity right ），不同地区的售电商报价和购电商报价可以进行无障碍匹配，大大提高了\n",
      "市场的交易成功率，使买卖双方的利益最大化。其日前市场流程如下：\n",
      "-----------------------------------------------------\n",
      "检索到的第24个内容: \n",
      " 内市场的主要作用在于为市场成员提供一个在日前市场关闭后对其发用电计划进行微调\n",
      "的交易平台，以应对日内的各种预测偏差及非计划状况，其交易规模往往较小。实时市场则往往在小时前由调度机构组织实施，非常接近系统的实时运行，因而其主要作用并\n",
      "不在于电量交易，而在于为电力系统的阻塞管理和辅助服务提供调节手段与经济信号，\n",
      "真实反映系统超短期的资源稀缺程度与阻塞程度；并形成与系统实际运行切合度高的发用电计划，保证电网的安全运行。  \n",
      "（2）电力现货市场的出清模式。\n",
      "-----------------------------------------------------\n",
      "检索到的第25个内容: \n",
      " 于降低发电煤耗，有利于充分利用清洁能源，有利于引导用户合理消费电能。  \n",
      "电力市场是电力工业市场化改革的产物，迄今为止，所有的电力市场都处于不断完善\n",
      "的进程中，所以对电力市场的认识也需要与时俱进。  \n",
      " 2. 什么是电力市场体系？电力现 货市场在电力市场 体系中的地位和作用\n",
      "是什么？ \n",
      "（1）电力市场体系的概念。  \n",
      "一般而言，电力市场体系是由政府监管下各类电力细分市场有机组合而成的群体系\n",
      "-----------------------------------------------------\n"
     ]
    }
   ],
   "source": [
    "query = \"\"\"什么是电力市场？\"\"\"\n",
    "         # Sample question, change to other questions you are interested in.\n",
    "relevant_documents = vectorstore.similarity_search(query,k=25)\n",
    "for i, doc in enumerate(relevant_documents):\n",
    "    print(f\"检索到的第{i+1}个内容: \\n {doc.page_content}\", end=\"\\n-----------------------------------------------------\\n\")\n",
    "\n",
    "\n",
    "# 从这一步看，已经很清晰rag的原理了，即从大量文件索引找到top k相关的text块，供下一步LLM查找、总结答案"
   ]
  },
  {
   "cell_type": "code",
   "execution_count": 8,
   "metadata": {},
   "outputs": [
    {
     "data": {
      "text/plain": [
       "[{'corpus_id': 1,\n",
       "  'score': 0.9989737,\n",
       "  'text': '义的电力市场有着明确的地域和容量指向，电力市场的地理边界可能差异很大，例如单一州（省）域内的电力市场，或者整个国家的电力市场，乃至跨国的电力市场。而这种\\n地理边界受限于电网的覆盖范围，由于电网是电力传输的唯一通道，故多大范围的电网\\n才可能有多大范围的电力市场；电力市场容量也同样存在很大的差异。  \\n狭义的电力市场是指现代竞争性的电力市场， 《中国电力百科全书》定义的电力市场\\n即为狭义的电力市场，建立电力市场旨在通过开放、竞争等市场手段实现电力能源资源'},\n",
       " {'corpus_id': 0,\n",
       "  'score': 0.99877423,\n",
       "  'text': '市场”的概念，即在狭义电力市场的基础上，将电力市场化改革领域拓展到规划、投融资、碳交易、环境约束等环节，以实现电力生产、交换相关上下游环节的全链条市场化。  \\n电力市场作为电力工业市场化改革的目标模式，因其改革的动因和目标取向不同，以\\n及市场外部环境的差异，呈现出显著的多样性，也使其结构显得格外复杂。世界各地的电力市场，既没有统一的标准供引用，也没有通用的模板可复制，需要结合各自的国情、\\n民情和网情建设和运营。总体上，电力市场有批发市场（ wholesale market ）与零售市场'},\n",
       " {'corpus_id': 24,\n",
       "  'score': 0.998711,\n",
       "  'text': '于降低发电煤耗，有利于充分利用清洁能源，有利于引导用户合理消费电能。  \\n电力市场是电力工业市场化改革的产物，迄今为止，所有的电力市场都处于不断完善\\n的进程中，所以对电力市场的认识也需要与时俱进。  \\n 2. 什么是电力市场体系？电力现 货市场在电力市场 体系中的地位和作用\\n是什么？ \\n（1）电力市场体系的概念。  \\n一般而言，电力市场体系是由政府监管下各类电力细分市场有机组合而成的群体系'},\n",
       " {'corpus_id': 10,\n",
       "  'score': 0.9983376,\n",
       "  'text': '电力商品交换的电力工业组织结构、经营管理和运行规则的总和。电力市场又是一个具体的执行系统，包括交易场所、交易管理系统、计量和结算系统、信息和通信系统等。\\n上面从组织和实操两个维度对电力市场进行了描绘。  \\n通常电力市场包括广义和狭义两种含义。比照商品市场的一般定义，广义的电力市场\\n泛指电力流通交换的领域。按照该含义，自电力作为商品实现交换之日起，电力市场就\\n已经存在。当今在涉及市场规模和范围的语境下，运用的便是广义电力市场的概念。广'},\n",
       " {'corpus_id': 4,\n",
       "  'score': 0.997109,\n",
       "  'text': '随着电网的发展和技术的进步，电力规模经济的低垂之果几乎已消耗殆尽，加之市场垄\\n断造成的效率低下日渐凸显，且诸多国家政府电力财政补贴的负担日趋沉重，电力处于\\n前所未有的困境，而这一时期，同为垄断行业的航空、石油、天然气、电信等产业的改革取得了令人瞩目的成就，催生了电力工业以建立电力市场为取向的市场化改革，而建\\n立电力市场仅限于在可竞争环节引入竞争，因此也赋予了电力市场现代的含义。  \\n2）专指电力商品流通交换的场所、空间及其机制，尽管狭义的电力市场内含电力商'}]"
      ]
     },
     "execution_count": 8,
     "metadata": {},
     "output_type": "execute_result"
    }
   ],
   "source": [
    "from sentence_transformers import CrossEncoder\n",
    "\n",
    "cross_encoder = CrossEncoder(\n",
    "    \"BAAI/bge-reranker-base\", max_length=512, device=\"cpu\"\n",
    ")\n",
    "reranked_docs = cross_encoder.rank(\n",
    "        query,\n",
    "        [doc.page_content for doc in relevant_documents],\n",
    "        top_k=5,\n",
    "        return_documents=True,)\n",
    "reranked_docs"
   ]
  },
  {
   "cell_type": "code",
   "execution_count": 30,
   "metadata": {},
   "outputs": [],
   "source": [
    "# 创建检索器\n",
    "retriever = vectorstore.as_retriever(search_type=\"similarity\", search_kwargs={\"k\": 5})"
   ]
  },
  {
   "cell_type": "code",
   "execution_count": 15,
   "metadata": {},
   "outputs": [],
   "source": [
    "\n",
    "\"\"\" 使用自定义的检索器,重写_get_relevant_documents方法来实现对相似性检索召回的文本块进行重排\"\"\"\n",
    "class CustomRetriever(BaseRetriever):\n",
    "    \n",
    "    def _get_relevant_documents(\n",
    "        self, query: str, *, run_manager: CallbackManagerForRetrieverRun\n",
    "    ) -> List[Document]:\n",
    "        cross_encoder = CrossEncoder(\"BAAI/bge-reranker-base\", max_length=512, device=\"cpu\")\n",
    "        relevant_documents = vectorstore.similarity_search(query,k=25)\n",
    "        reranked_docs = cross_encoder.rank(\n",
    "        query,\n",
    "        [doc.page_content for doc in relevant_documents],\n",
    "        top_k=5,\n",
    "        return_documents=True,)\n",
    "\n",
    "        reranking_relevant_documents= []\n",
    "        for doc in reranked_docs:\n",
    "           reranking_relevant_documents.append(\n",
    "               Document(page_content=doc[\"text\"],\n",
    "                        metadata=relevant_documents[doc[\"corpus_id\"]].metadata)\n",
    "                        ) \n",
    "        return reranking_relevant_documents"
   ]
  },
  {
   "cell_type": "code",
   "execution_count": 16,
   "metadata": {},
   "outputs": [],
   "source": [
    "# 自定义加入重排的检索器\n",
    "retriever = CustomRetriever()"
   ]
  },
  {
   "cell_type": "markdown",
   "metadata": {},
   "source": []
  },
  {
   "cell_type": "code",
   "execution_count": 31,
   "metadata": {},
   "outputs": [],
   "source": [
    "# 创建prompt\n",
    "prompt_template = \"\"\"\n",
    "请参考下面的相关文本回答问题，如果不知道答案，就回复不知道，\n",
    "\n",
    "{context}\n",
    "\n",
    "Question: {question}\n",
    "\n",
    "Helpful Answer:\n",
    "\"\"\"\n",
    "\n",
    "prompt = PromptTemplate(\n",
    " template=prompt_template, input_variables=[\"context\", \"question\"]\n",
    ")"
   ]
  },
  {
   "cell_type": "code",
   "execution_count": 32,
   "metadata": {},
   "outputs": [],
   "source": [
    "# 创建百川的LLM\n",
    "llm = BaichuanLLM()"
   ]
  },
  {
   "cell_type": "code",
   "execution_count": 33,
   "metadata": {},
   "outputs": [],
   "source": [
    "qa_chain = RetrievalQA.from_chain_type(\n",
    "    llm=llm,\n",
    "    chain_type=\"stuff\",\n",
    "    retriever=retriever,\n",
    "    return_source_documents=True,\n",
    "    chain_type_kwargs={\"prompt\": prompt}\n",
    ")"
   ]
  },
  {
   "cell_type": "markdown",
   "metadata": {},
   "source": [
    "### Step5 提问，运行QA链，得到RAG结果"
   ]
  },
  {
   "cell_type": "code",
   "execution_count": 46,
   "metadata": {},
   "outputs": [
    {
     "name": "stdout",
     "output_type": "stream",
     "text": [
      "========= chain result ==========\n",
      "电力市场是一种概念，它是指在狭义电力市场的基础上，将电力市场化改革领域拓展到规划、投融资、碳交易、环境约束等环节，以实现电力生产、交换相关上下游环节的全链条市场化。电力市场作为电力工业市场化改革的目标模式，因其改革的动因和目标取向不同，以及市场外部环境的差异，呈现出显著的多样性，也使其结构显得格外复杂。\n"
     ]
    }
   ],
   "source": [
    "question = \"什么是电力市场？\"\n",
    "# question = \"电力辅助服务市场与电力现货市场的关系？\"\n",
    "result = qa_chain({\"query\": question})\n",
    "# result[\"result\"]\n",
    "print(\"========= chain result ==========\")\n",
    "print(result['result'])"
   ]
  },
  {
   "cell_type": "code",
   "execution_count": 44,
   "metadata": {},
   "outputs": [
    {
     "name": "stdout",
     "output_type": "stream",
     "text": [
      "There are 5 documents retrieved which are relevant to the query.\n",
      "****************************************************************************************************\n",
      "Relevant Document #1:\n",
      "Source file: ..\\demo\\电力现货市场101问.pdf\n",
      "Content: 市场”的概念，即在狭义电力市场的基础上，将电力市场化改革领域拓展到规划、投融资、碳交易、环境约束等环节，以实现电力生产、交换相关上下游环节的全链条市场化。  \n",
      "电力市场作为电力工业市场化改革的目标模式，因其改革的动因和目标取向不同，以\n",
      "及市场外部环境的差异，呈现出显著的多样性，也使其结构显得格外复杂。世界各地的电力市场，既没有统一的标准供引用，也没有通用的模板可复制，需要结合各自的国情、\n",
      "民情和网情建设和运营。总体上，电力市场有批发市场（ wholesale market ）与零售市场\n",
      "----------------------------------------------------------------------------------------------------\n",
      "There are 5 documents retrieved which are relevant to the query.\n",
      "Relevant Document #2:\n",
      "Source file: ..\\demo\\电力现货市场101问.pdf\n",
      "Content: 义的电力市场有着明确的地域和容量指向，电力市场的地理边界可能差异很大，例如单一州（省）域内的电力市场，或者整个国家的电力市场，乃至跨国的电力市场。而这种\n",
      "地理边界受限于电网的覆盖范围，由于电网是电力传输的唯一通道，故多大范围的电网\n",
      "才可能有多大范围的电力市场；电力市场容量也同样存在很大的差异。  \n",
      "狭义的电力市场是指现代竞争性的电力市场， 《中国电力百科全书》定义的电力市场\n",
      "即为狭义的电力市场，建立电力市场旨在通过开放、竞争等市场手段实现电力能源资源\n",
      "----------------------------------------------------------------------------------------------------\n",
      "There are 5 documents retrieved which are relevant to the query.\n",
      "Relevant Document #3:\n",
      "Source file: ..\\demo\\电力现货市场101问.pdf\n",
      "Content: 市场由发电企业处购买电能，再通过电力零售市场向终端用户出售电力商品。  \n",
      "（2）市场性质。  \n",
      "电力市场按其市场性质可分为实物市场与金融市场。一般而言，实物市场与金融市场\n",
      "可以通过按产品类型和市场主体的意图两个方面加以辨识。电力实物市场建设几乎是各\n",
      "国各地电力市场建设的重心，建设运营中普遍接受电力行政主管部门或监管机构的监管；电力金融市场严格意义上要接受金融监管机构的监管。  \n",
      "1）电力实物市场。  \n",
      "实物市场，业界也有译之为物理市场（ physical market ）的，它是以电能量及其相关\n",
      "----------------------------------------------------------------------------------------------------\n",
      "There are 5 documents retrieved which are relevant to the query.\n",
      "Relevant Document #4:\n",
      "Source file: ..\\demo\\电力现货市场101问.pdf\n",
      "Content: 市场的功能及特点，具体如下。               电力现货市场 101 问  \n",
      "  42 \n",
      " \n",
      "图1 − 4 现货市场时间轴  \n",
      "（1）集中式市场模式。  \n",
      "市场供需双方在每天特定时间之前向调度机构报价， 由调度机构根据供需双方报价和\n",
      "网络条件等出清。在不同国家，日前市场的名称有所不同。例如，在挪威和美国 PJM电\n",
      "力市场称日前（ day-ahead ）交易，在澳大利亚称短期提前（ short-run ahead ）交易，在我\n",
      "----------------------------------------------------------------------------------------------------\n",
      "There are 5 documents retrieved which are relevant to the query.\n",
      "Relevant Document #5:\n",
      "Source file: ..\\demo\\电力现货市场101问.pdf\n",
      "Content: 随着电网的发展和技术的进步，电力规模经济的低垂之果几乎已消耗殆尽，加之市场垄\n",
      "断造成的效率低下日渐凸显，且诸多国家政府电力财政补贴的负担日趋沉重，电力处于\n",
      "前所未有的困境，而这一时期，同为垄断行业的航空、石油、天然气、电信等产业的改革取得了令人瞩目的成就，催生了电力工业以建立电力市场为取向的市场化改革，而建\n",
      "立电力市场仅限于在可竞争环节引入竞争，因此也赋予了电力市场现代的含义。  \n",
      "2）专指电力商品流通交换的场所、空间及其机制，尽管狭义的电力市场内含电力商\n",
      "----------------------------------------------------------------------------------------------------\n",
      "There are 5 documents retrieved which are relevant to the query.\n"
     ]
    }
   ],
   "source": [
    "relevant_docs = result['source_documents']\n",
    "print(f'There are {len(relevant_docs)} documents retrieved which are relevant to the query.')\n",
    "print(\"*\" * 100)\n",
    "for i, doc in enumerate(relevant_docs):\n",
    "    # print(f\"Relevant Document #{i+1}:\\nSource file: {doc.metadata['source']}, Page: {doc.metadata['page']}\\nContent: {doc.page_content}\")\n",
    "    print(f\"Relevant Document #{i+1}:\\nSource file: {doc.metadata['source']}\\nContent: {doc.page_content}\")\n",
    "    print(\"-\"*100)\n",
    "    print(f'There are {len(relevant_docs)} documents retrieved which are relevant to the query.')"
   ]
  },
  {
   "cell_type": "markdown",
   "metadata": {},
   "source": [
    "### Step6 开始评估"
   ]
  },
  {
   "cell_type": "code",
   "execution_count": 193,
   "metadata": {},
   "outputs": [
    {
     "name": "stdout",
     "output_type": "stream",
     "text": [
      "faithfulness_score: 1.0\n",
      "answer_relevancy_score: 0.8901393929213829\n",
      "context_relevancy_score: 0.14893617021276595\n"
     ]
    }
   ],
   "source": [
    "#result['ground_truths'] = \"电力批发市场按其市场属性，可分为电力实物市场与电力金融市场。一般而言，电力实物市场与电力金融市场可以通过按产品类型和市场主体的意图两个方面加以辨识。电力实物市场建设几乎是各国各地电力市场建设的重心，建设运营中普遍接受电力监管机构的监管；电力金融市场严格意义上要接受金融监管机构的监管（见问题 3）。电力金融市场涉及能源电力衍生出的金融产品的交易行为，具有金融衍生属性，包括市场结构与相关的制度安排、市场主体、产品与交易，同时也具备其特有的供求驱动因素。电力金融市场合同通常不涉及电力实物商品的交割，取而代之的是现金的交割。电力金融市场中，一般参照金融市场期货、期权交易的基本原理进行电力期货、电力期权等电力金融衍生产品交易，其交易的对象是电力金融衍生品。\"\n",
    "\n",
    "from ragas.metrics import faithfulness, answer_relevancy, context_relevancy\n",
    "from ragas.langchain.evalchain import RagasEvaluatorChain\n",
    "\n",
    "# make eval chains\n",
    "eval_chains = {\n",
    "    m.name: RagasEvaluatorChain(metric=m) \n",
    "    for m in [faithfulness, answer_relevancy, context_relevancy]\n",
    "}\n",
    "\n",
    "# evaluate\n",
    "for name, eval_chain in eval_chains.items():\n",
    "    score_name = f\"{name}_score\"\n",
    "    print(f\"{score_name}: {eval_chain(result)[score_name]}\")\n"
   ]
  },
  {
   "cell_type": "code",
   "execution_count": null,
   "metadata": {},
   "outputs": [],
   "source": []
  }
 ],
 "metadata": {
  "kernelspec": {
   "display_name": "transformers",
   "language": "python",
   "name": "python3"
  },
  "language_info": {
   "codemirror_mode": {
    "name": "ipython",
    "version": 3
   },
   "file_extension": ".py",
   "mimetype": "text/x-python",
   "name": "python",
   "nbconvert_exporter": "python",
   "pygments_lexer": "ipython3",
   "version": "3.9.19"
  }
 },
 "nbformat": 4,
 "nbformat_minor": 2
}
