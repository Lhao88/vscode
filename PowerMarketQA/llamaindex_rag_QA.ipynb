{
 "cells": [
  {
   "cell_type": "markdown",
   "metadata": {},
   "source": [
    "### Step1 导入相关包"
   ]
  },
  {
   "cell_type": "code",
   "execution_count": 34,
   "metadata": {},
   "outputs": [],
   "source": [
    "import pandas as pd\n",
    "import numpy as np\n",
    "import faiss\n",
    "from llama_index.core import Settings\n",
    "from llama_index.core import  SimpleKeywordTableIndex,Document, Prompt\n",
    "from llama_index.embeddings.huggingface import HuggingFaceEmbedding\n",
    "from llama_index.vector_stores.faiss import FaissVectorStore\n",
    "from llama_index.core import VectorStoreIndex\n",
    "from transformers import AutoModel, AutoTokenizer\n",
    "\n"
   ]
  },
  {
   "cell_type": "markdown",
   "metadata": {},
   "source": [
    "### Step2 加载外部知识"
   ]
  },
  {
   "cell_type": "code",
   "execution_count": 4,
   "metadata": {},
   "outputs": [
    {
     "data": {
      "text/plain": [
       "Document(id_='1855af09-f634-4c1b-99e9-b10daa41b577', embedding=None, metadata={'source': 'PowerMarketQA\\\\电力现货市场101问.xlsx', 'order': 1}, excluded_embed_metadata_keys=[], excluded_llm_metadata_keys=[], relationships={}, text='1.什么是电力市场？电力市场与普通商品市场有哪些差异？电力市场有哪些特征？\\n（1）电力市场的概念。我国关于电力市场的权威解释始见于《中国电力百科全书电力系统卷（第二版）》。电力市场的定义为：基于市场经济原则，电力市场的定义为基于市场经济原则，为实现电力商品交换的电力工业组织结构、经营管理和运行规则的总和。电力市场又是一个具体的执行系统，包括交易场所、交易管理系统、计量和结算系统、信息和通信系统等。上面从组织和实操两个维度对电力市场进行了描绘。通常电力市场包括广义和狭义两种含义。比照商品市场的一般定义，广义的电力市场泛指电力流通交换的领域。按照该含义，自电力作为商品实现交换之日起，电力市场就已经存在。当今在涉及市场规模和范围的语境下，运用的便是广义电力市场的概念。广义的电力市场有着明确的地域和容量指向，电力市场的地理边界可能差异很大，例如单一州（省）域内的电力市场，或者整个国家的电力市场，乃至跨国的电力市场。而这种地理边界受限于电网的覆盖范围，由于电网是电力传输的唯一通道，故多大范围的电网才可能有多大范围的电力市场；电力市场容量也同样存在很大的差异。狭义的电力市场是指现代竞争性的电力市场，《中国电力百科全书》定义的电力市场即为狭义的电力市场，建立电力市场旨在通过开放、竞争等市场手段实现电力能源资源的优化配置。所谓基于市场经济原则主要是指电能生产者和使用者本着公平竞争、自愿互利的原则，通过协商、竞价等方式，就电能及其相关产品进行交易，通过市场竞争确定价格和数量的市场原则。目前广泛讨论的电力市场，除特殊语境下，通常都是指狭义的电力市场。之所以称之为狭义的电力市场，主要原因有二。1）专指现代电力市场，狭义的电力市场兴起于20世纪80年代，是在电力作为商品出现的百年之后，而这百年间，广义电力市场的形态发生了曲折的变迁。电力工业初创期的电力领域是以残酷的市场竞争形态出现的，既有生产方式的竞争（交流与直流之争），也有垂直一体化模式下的电力企业之间抢占市场范围和争夺同一服务地域内的用户之争。这种竞争，一方面有力推动了电力工业的技术进步；另一方面，却也限制了规模经济效益的发挥，并因重复建设等过度竞争而造成资源浪费。因此，20世纪初，电力业态很快从无序竞争状态演变为政府管制或企业自律下的垄断市场形态，尤其是在二次世界大战之后，鉴于恢复经济的需要，大多数国家都采取国家垄断的模式。直至20世纪末，随着电网的发展和技术的进步，电力规模经济的低垂之果几乎已消耗殆尽，加之市场垄断造成的效率低下日渐凸显，且诸多国家政府电力财政补贴的负担日趋沉重，电力处于前所未有的困境，而这一时期，同为垄断行业的航空、石油、天然气、电信等产业的改革取得了令人瞩目的成就，催生了电力工业以建立电力市场为取向的市场化改革，而建立电力市场仅限于在可竞争环节引入竞争，因此也赋予了电力市场现代的含义。2）专指电力商品流通交换的场所、空间及其机制，尽管狭义的电力市场内含电力商品交换所在地、购买方针对性、持续时间、交易流程、政府监管、价格机制、交易合规性、投机强度、市场规模、产业集中度、交易不对称性、波动性等诸多方面并可能有所延伸，涉及电力工业的结构重组和规则重构等内容，但均没有超越电能生产者和使用者之间的交易活动及为满足该交易活动所需的其他活动的范围。鉴于实现电力能源资源的优化配置局限于交换环节，国内有专家学者提出了“泛电力市场”的概念，即在狭义电力市场的基础上，将电力市场化改革领域拓展到规划、投融资、碳交易、环境约束等环节，以实现电力生产、交换相关上下游环节的全链条市场化。电力市场作为电力工业市场化改革的目标模式，因其改革的动因和目标取向不同，以及市场外部环境的差异，呈现出显著的多样性，也使其结构显得格外复杂。世界各地的电力市场，既没有统一的标准供引用，也没有通用的模板可复制，需要结合各自的国情、民情和网情建设和运营。总体上，电力市场有批发市场（wholesalemarket）与零售市场（retailmarket）之分。在电力批发市场中，我国《关于进一步深化电力体制改革的若干意见》（中发〔2015〕9号）（简称中发9号文）配套文件将其分为中长期市场和现货市场，并综合考虑时间维度和交易标的，明确指出：“电力中长期市场主要开展多年、年、季、月、周等日以上电能量交易和可中断负荷、调压等辅助服务交易。电力现货市场主要开展日前、日内、实时电能量交易和备用、调频等辅助服务交易。条件成熟时，探索开展容量市场、电力期货和衍生品等交易。”一般而言，电力批发市场可以按市场性质、交易品种、交易时间、竞争模式等维度进一步细分，各分类市场的知识将在后续问题讨论中详述。（2）电力市场和普通商品市场的差异。电力市场相较于普通商品市场具有显著的特殊性，归根到底就在于电力商品与其他一般商品的差异性。电力商品本质即电能，与其他商品最本质的差异在于其自然属性和社会属性。电力商品具有无仓储性。电能的生产、交割和消费几乎是同时完成的，其交割速度远快于一般商品，因此也不存在一般商品一手交钱一手交货的交易方式。电力商品具有同质性。电能不带有任何生产者的标识，电能生产者将生产的电能输入电网，即完成了生产过程；而电能的使用者也只能从电网获取所需数量的电能，电能生产者和消费者间可以达成交易，但在电能实际生产和消费过程中不存在对应性。电力商品具有可预测性。电能需求在较长周期内会以日或周为单位呈现周期性波动，一定程度上抑制了投机行为，但也增加了市场主体滥用市场力的可能性。电力商品具有生产资料和生活资料的双重属性，因此它既关系国计，又关系民生。电力市场既是生产资料市场，又是生活资料市场，还是十分典型的无仓储公共市场。（3）电力市场的特征。电力商品较之其他商品的特殊性，使得电力市场具有明显的特征。要深入了解电力市场的特征，首先需要了解电力工业的技术特征。电力工业具有如下独特的技术特征。1）快速性：①发、供、用瞬时完成，这是电力的基本特征，也是电能生产的特点，致使生产者不能自主确定生产计划；②整个系统参数（电压、电流、相角）快速变化，市场难以及时反应；③服从基尔霍夫第一定律（电流节点定律），即在任何一个集总参数电路中的任一节点，在任一时刻通过该节点的所有支路电流的矢量和恒等于零，决定了电力市场的无仓储性，电力不可能大量储存，化学储能、飞轮储能、抽水蓄能电站均不是储存电能，而是把电能转换成另一种形式的能量储存起来。另外，电力工业的快速性还表现在电力系统中元件的投退都是在瞬间完成，从一种运行工况过渡到另一种运行工况的过程十分短暂，也使得电力系统事故的传播极其迅速。2）网络性。电力的输送会受到网络覆盖范围的限制：①大功率的电能传输在现阶段或相当长的时间内只能通过电力网络来实现；②服从基尔霍夫第二定律，即在任何一个集总参数电路中任何时刻，沿任一回路所有支路电压的矢量和恒等于零，它揭示了网络的封闭性和整体性。网络性带来了电力市场的规模效应和输配电环节的自然垄断性。3）稳定性（安全性）。主要表现为电力系统的稳定性，分为功角稳定、电压稳定和频率稳定。从威斯汀豪斯建立的交流系统开始，电力系统就确立了同步运行的原则。如果不同步，就会发生振荡，而电力系统一旦发生了振荡，就意味着特大事故，它的破坏性可能导致网络内所有机组停运、用户断供。电力系统的安全是公共安全，电力系统各个运行主体共担安全责任的特殊使命。4）协调性。上述三个特性客观上要求保持电力系统各环节运行的协调性和系统的整体性，它使电网调度尤为重要，我国通过国务院颁布《电网调度管理条例》以维护电网调度的权威性，目的在于确保电力系统的安全、优质、经济运行。在电力市场环境下，系统运行协调难度加大，电网调度的地位和作用也更加突出。上述特性共同促进了电力工业的高自动化和信息化，而高自动化和信息化又使得现代竞争性电力市场的建设成为可能。电力工业的技术特征和电力商品的特殊性，导致了电力市场的固有特征。1）电力市场服务的广泛性及其产品的不可替代性。电力需求与国民经济的发展呈现显著的正相关性，电力与社会经济的紧密联动性决定了电力市场的社会性和重要性，电能既然是商品，就必须遵循市场规律，它的价格就要遵循价值规律，但又要顾及社会的承受能力。2）电力市场具有网络产业特性。无仓储性的市场供需关系以及整个销售的网络性特征，既是市场特征，也是技术特征。因此，电力市场的建设和运营，不仅需要从社会、政治、经济等方面全方位考虑，更需要遵循电网运行的客观规律，充分考虑电力工业的技术特性。3）电力市场与环保的关联性。电力市场具有明显的经济外部性，电力市场与气候环境之间的关联性表现在电力的供给与对电能的需求两方面。科学有序的电力市场，有利于降低发电煤耗，有利于充分利用清洁能源，有利于引导用户合理消费电能。电力市场是电力工业市场化改革的产物，迄今为止，所有的电力市场都处于不断完善的进程中，所以对电力市场的认识也需要与时俱进。', mimetype='text/plain', start_char_idx=None, end_char_idx=None, text_template='{metadata_str}\\n\\n{content}', metadata_template='{key}: {value}', metadata_seperator='\\n')"
      ]
     },
     "execution_count": 4,
     "metadata": {},
     "output_type": "execute_result"
    }
   ],
   "source": [
    "#  从Excel文件导入外部知识库\n",
    "def load_knowledge_base_from_excel(file_path):\n",
    "    data = pd.read_excel('./电力现货市场101问.xlsx',header=None)\n",
    "    questions = data.loc[1:,0]\n",
    "    answers = data.loc[1:,1]\n",
    "\n",
    "    QA_list = []\n",
    "    for item in zip(questions,answers):\n",
    "        qa = item[0] + '\\n' + item[1]\n",
    "        QA_list.append(qa)\n",
    "    documents = []\n",
    "    for i in range(0,len(QA_list)):\n",
    "        qa_doc = Document(text=QA_list[i], metadata={\"source\": \"PowerMarketQA\\电力现货市场101问.xlsx\",\"order\":i+1})\n",
    "        documents.append(qa_doc)\n",
    "    return documents\n",
    "\n",
    "datas = load_knowledge_base_from_excel('./电力现货市场101问.xlsx')\n",
    "datas[0]"
   ]
  },
  {
   "cell_type": "markdown",
   "metadata": {},
   "source": [
    "### Step3 加载embedding模型"
   ]
  },
  {
   "cell_type": "code",
   "execution_count": 5,
   "metadata": {},
   "outputs": [],
   "source": [
    "# 2. 加载 Hugging Face 上的 M3E embedding 模型\n",
    "def get_m3e_embedding_model(model_name='moka-ai/m3e-base'):\n",
    "    # tokenizer = AutoTokenizer.from_pretrained(model_name)\n",
    "    # model = AutoModel.from_pretrained(model_name)\n",
    "    # embedding_model = HuggingFaceEmbedding(tokenizer=tokenizer, model=model)\n",
    "\n",
    "    # loads moka-ai/m3e-base\n",
    "    embedding_model = HuggingFaceEmbedding(model_name=\"moka-ai/m3e-base\")\n",
    "    return embedding_model\n",
    "\n",
    "embedding_model = get_m3e_embedding_model()"
   ]
  },
  {
   "cell_type": "markdown",
   "metadata": {},
   "source": [
    "### Step4 向量索引"
   ]
  },
  {
   "cell_type": "code",
   "execution_count": 41,
   "metadata": {},
   "outputs": [
    {
     "data": {
      "text/plain": [
       "<faiss.swigfaiss_avx2.IndexFlatL2; proxy of <Swig Object of type 'faiss::IndexFlatL2 *' at 0x000002156821E570> >"
      ]
     },
     "execution_count": 41,
     "metadata": {},
     "output_type": "execute_result"
    }
   ],
   "source": [
    "# 3. 使用 Faiss 向量数据库索引文档\n",
    "def build_faiss_index(documents, embedding_model):\n",
    "    # 获取所有文档的嵌入\n",
    "    embeddings = [embedding_model.get_text_embedding(doc.text) for doc in documents]\n",
    "    # print(embeddings[0])\n",
    "    # 使用faiss构建向量索引\n",
    "    dim = len(embeddings[0])\n",
    "    index = faiss.IndexFlatL2(dim)\n",
    "    index.add(np.array(embeddings))\n",
    "    # Settings.embed_model = embedding_model\n",
    "    # index  =  VectorStoreIndex.from_documents( documents,show_progress= True)\n",
    "    # 创建 Faiss 向量存储对象\n",
    "    # vector_store = FaissVectorStore(faiss_index=index)\n",
    "    # vector_store.add(embeddings)\n",
    "    return index\n",
    "\n",
    "vector = build_faiss_index(datas,embedding_model)\n",
    "vector"
   ]
  },
  {
   "cell_type": "markdown",
   "metadata": {},
   "source": [
    "### Step5 构造prompt"
   ]
  },
  {
   "cell_type": "code",
   "execution_count": 14,
   "metadata": {},
   "outputs": [],
   "source": [
    "# 4. 构造专属的 Prompt\n",
    "def construct_prompt(query, context):\n",
    "    prompt_template = (\n",
    "        \"给出以下查询：\\nQuery: {query}\\n\\n相关文档内容如下：\\n{context}\\n\\n请基于上述信息回答查询。\"\n",
    "    )\n",
    "    return prompt_template.format(query=query, context=context)\n",
    "\n"
   ]
  },
  {
   "cell_type": "code",
   "execution_count": null,
   "metadata": {},
   "outputs": [],
   "source": []
  },
  {
   "cell_type": "markdown",
   "metadata": {},
   "source": [
    "### Step6 加载LLM"
   ]
  },
  {
   "cell_type": "code",
   "execution_count": 16,
   "metadata": {},
   "outputs": [
    {
     "name": "stderr",
     "output_type": "stream",
     "text": [
      "d:\\Download\\miniconda3\\envs\\py3.9\\lib\\site-packages\\pydantic\\_internal\\_fields.py:132: UserWarning: Field \"model_name\" in ZhipuLLM has conflict with protected namespace \"model_\".\n",
      "\n",
      "You may be able to resolve this warning by setting `model_config['protected_namespaces'] = ()`.\n",
      "  warnings.warn(\n"
     ]
    }
   ],
   "source": [
    "# 5. 使用百川大模型回答问题\n",
    "from zhipuai_llm import ZhipuLLM\n",
    "def answer_query_with_baichuan(prompt):\n",
    "    zhipu_llm = ZhipuLLM()\n",
    "    response = zhipu_llm.complete(prompt)\n",
    "    return response['text']\n",
    "\n"
   ]
  },
  {
   "cell_type": "markdown",
   "metadata": {},
   "source": [
    "### Step7 构建RAG流程"
   ]
  },
  {
   "cell_type": "code",
   "execution_count": 45,
   "metadata": {},
   "outputs": [
    {
     "ename": "ValueError",
     "evalue": "not enough values to unpack (expected 2, got 1)",
     "output_type": "error",
     "traceback": [
      "\u001b[1;31m---------------------------------------------------------------------------\u001b[0m",
      "\u001b[1;31mValueError\u001b[0m                                Traceback (most recent call last)",
      "Cell \u001b[1;32mIn[45], line 3\u001b[0m\n\u001b[0;32m      1\u001b[0m query \u001b[38;5;241m=\u001b[39m \u001b[38;5;124m\"\u001b[39m\u001b[38;5;124m电力市场与普通商品市场的差异？\u001b[39m\u001b[38;5;124m\"\u001b[39m\n\u001b[0;32m      2\u001b[0m query_vector \u001b[38;5;241m=\u001b[39m embedding_model\u001b[38;5;241m.\u001b[39mget_text_embedding(query) \n\u001b[1;32m----> 3\u001b[0m I \u001b[38;5;241m=\u001b[39m \u001b[43mvector\u001b[49m\u001b[38;5;241;43m.\u001b[39;49m\u001b[43msearch\u001b[49m\u001b[43m(\u001b[49m\u001b[43mnp\u001b[49m\u001b[38;5;241;43m.\u001b[39;49m\u001b[43marray\u001b[49m\u001b[43m(\u001b[49m\u001b[43mquery_vector\u001b[49m\u001b[43m)\u001b[49m\u001b[43m,\u001b[49m\u001b[43m \u001b[49m\u001b[38;5;241;43m3\u001b[39;49m\u001b[43m)\u001b[49m \n\u001b[0;32m      4\u001b[0m \u001b[38;5;28mprint\u001b[39m(I[:\u001b[38;5;241m5\u001b[39m]) \n",
      "File \u001b[1;32md:\\Download\\miniconda3\\envs\\py3.9\\lib\\site-packages\\faiss\\class_wrappers.py:327\u001b[0m, in \u001b[0;36mhandle_Index.<locals>.replacement_search\u001b[1;34m(self, x, k, params, D, I)\u001b[0m\n\u001b[0;32m    300\u001b[0m \u001b[38;5;28;01mdef\u001b[39;00m \u001b[38;5;21mreplacement_search\u001b[39m(\u001b[38;5;28mself\u001b[39m, x, k, \u001b[38;5;241m*\u001b[39m, params\u001b[38;5;241m=\u001b[39m\u001b[38;5;28;01mNone\u001b[39;00m, D\u001b[38;5;241m=\u001b[39m\u001b[38;5;28;01mNone\u001b[39;00m, I\u001b[38;5;241m=\u001b[39m\u001b[38;5;28;01mNone\u001b[39;00m):\n\u001b[0;32m    301\u001b[0m \u001b[38;5;250m    \u001b[39m\u001b[38;5;124;03m\"\"\"Find the k nearest neighbors of the set of vectors x in the index.\u001b[39;00m\n\u001b[0;32m    302\u001b[0m \n\u001b[0;32m    303\u001b[0m \u001b[38;5;124;03m    Parameters\u001b[39;00m\n\u001b[1;32m   (...)\u001b[0m\n\u001b[0;32m    324\u001b[0m \u001b[38;5;124;03m        When not enough results are found, the label is set to -1\u001b[39;00m\n\u001b[0;32m    325\u001b[0m \u001b[38;5;124;03m    \"\"\"\u001b[39;00m\n\u001b[1;32m--> 327\u001b[0m     n, d \u001b[38;5;241m=\u001b[39m x\u001b[38;5;241m.\u001b[39mshape\n\u001b[0;32m    328\u001b[0m     x \u001b[38;5;241m=\u001b[39m np\u001b[38;5;241m.\u001b[39mascontiguousarray(x, dtype\u001b[38;5;241m=\u001b[39m\u001b[38;5;124m'\u001b[39m\u001b[38;5;124mfloat32\u001b[39m\u001b[38;5;124m'\u001b[39m)\n\u001b[0;32m    329\u001b[0m     \u001b[38;5;28;01massert\u001b[39;00m d \u001b[38;5;241m==\u001b[39m \u001b[38;5;28mself\u001b[39m\u001b[38;5;241m.\u001b[39md\n",
      "\u001b[1;31mValueError\u001b[0m: not enough values to unpack (expected 2, got 1)"
     ]
    }
   ],
   "source": [
    "query = \"电力市场与普通商品市场的差异？\"\n",
    "query_vector = embedding_model.get_text_embedding(query) \n",
    "D,I = vector.search(np.array(query_vector), 3) \n",
    "print(I[:5]) "
   ]
  },
  {
   "cell_type": "code",
   "execution_count": 21,
   "metadata": {},
   "outputs": [],
   "source": [
    "# 主流程\n",
    "def main(query, excel_path='./电力现货市场101问.xlsx', embedding_model_name='moka-ai/m3e-base'):\n",
    "    # 导入知识库\n",
    "    documents = load_knowledge_base_from_excel(excel_path)\n",
    "    \n",
    "    # 获取嵌入模型\n",
    "    embedding_model = get_m3e_embedding_model(embedding_model_name)\n",
    "    \n",
    "    # 构建 Faiss 索引\n",
    "    vector_store = build_faiss_index(documents, embedding_model)\n",
    "    \n",
    "    # 查询并获取相关文档\n",
    "    results = vector_store.query([query],similarity_top_k=3)\n",
    "    context = \"\\n\".join([doc.text for doc in results])\n",
    "    \n",
    "    # 构造 Prompt 并回答\n",
    "    prompt = construct_prompt(query, context)\n",
    "    answer = answer_query_with_baichuan(prompt)\n",
    "    \n",
    "    print(\"Query:\", query)\n",
    "    print(\"Answer:\", answer)\n",
    "\n"
   ]
  },
  {
   "cell_type": "markdown",
   "metadata": {},
   "source": [
    "### Step8 运行示例"
   ]
  },
  {
   "cell_type": "code",
   "execution_count": 20,
   "metadata": {},
   "outputs": [
    {
     "ename": "AttributeError",
     "evalue": "'str' object has no attribute 'filters'",
     "output_type": "error",
     "traceback": [
      "\u001b[1;31m---------------------------------------------------------------------------\u001b[0m",
      "\u001b[1;31mAttributeError\u001b[0m                            Traceback (most recent call last)",
      "Cell \u001b[1;32mIn[20], line 4\u001b[0m\n\u001b[0;32m      2\u001b[0m \u001b[38;5;28;01mif\u001b[39;00m \u001b[38;5;18m__name__\u001b[39m \u001b[38;5;241m==\u001b[39m \u001b[38;5;124m\"\u001b[39m\u001b[38;5;124m__main__\u001b[39m\u001b[38;5;124m\"\u001b[39m:\n\u001b[0;32m      3\u001b[0m     query \u001b[38;5;241m=\u001b[39m \u001b[38;5;124m\"\u001b[39m\u001b[38;5;124m电力市场与普通商品市场的差异？\u001b[39m\u001b[38;5;124m\"\u001b[39m\n\u001b[1;32m----> 4\u001b[0m     \u001b[43mmain\u001b[49m\u001b[43m(\u001b[49m\u001b[43mquery\u001b[49m\u001b[43m)\u001b[49m\n",
      "Cell \u001b[1;32mIn[19], line 13\u001b[0m, in \u001b[0;36mmain\u001b[1;34m(query, excel_path, embedding_model_name)\u001b[0m\n\u001b[0;32m     10\u001b[0m vector_store \u001b[38;5;241m=\u001b[39m build_faiss_index(documents, embedding_model)\n\u001b[0;32m     12\u001b[0m \u001b[38;5;66;03m# 查询并获取相关文档\u001b[39;00m\n\u001b[1;32m---> 13\u001b[0m results \u001b[38;5;241m=\u001b[39m \u001b[43mvector_store\u001b[49m\u001b[38;5;241;43m.\u001b[39;49m\u001b[43mquery\u001b[49m\u001b[43m(\u001b[49m\u001b[43mquery\u001b[49m\u001b[43m,\u001b[49m\u001b[43msimilarity_top_k\u001b[49m\u001b[38;5;241;43m=\u001b[39;49m\u001b[38;5;241;43m3\u001b[39;49m\u001b[43m)\u001b[49m\n\u001b[0;32m     14\u001b[0m context \u001b[38;5;241m=\u001b[39m \u001b[38;5;124m\"\u001b[39m\u001b[38;5;130;01m\\n\u001b[39;00m\u001b[38;5;124m\"\u001b[39m\u001b[38;5;241m.\u001b[39mjoin([doc\u001b[38;5;241m.\u001b[39mtext \u001b[38;5;28;01mfor\u001b[39;00m doc \u001b[38;5;129;01min\u001b[39;00m results])\n\u001b[0;32m     16\u001b[0m \u001b[38;5;66;03m# 构造 Prompt 并回答\u001b[39;00m\n",
      "File \u001b[1;32md:\\Download\\miniconda3\\envs\\py3.9\\lib\\site-packages\\llama_index\\vector_stores\\faiss\\base.py:190\u001b[0m, in \u001b[0;36mFaissVectorStore.query\u001b[1;34m(self, query, **kwargs)\u001b[0m\n\u001b[0;32m    178\u001b[0m \u001b[38;5;28;01mdef\u001b[39;00m \u001b[38;5;21mquery\u001b[39m(\n\u001b[0;32m    179\u001b[0m     \u001b[38;5;28mself\u001b[39m,\n\u001b[0;32m    180\u001b[0m     query: VectorStoreQuery,\n\u001b[0;32m    181\u001b[0m     \u001b[38;5;241m*\u001b[39m\u001b[38;5;241m*\u001b[39mkwargs: Any,\n\u001b[0;32m    182\u001b[0m ) \u001b[38;5;241m-\u001b[39m\u001b[38;5;241m>\u001b[39m VectorStoreQueryResult:\n\u001b[0;32m    183\u001b[0m \u001b[38;5;250m    \u001b[39m\u001b[38;5;124;03m\"\"\"Query index for top k most similar nodes.\u001b[39;00m\n\u001b[0;32m    184\u001b[0m \n\u001b[0;32m    185\u001b[0m \u001b[38;5;124;03m    Args:\u001b[39;00m\n\u001b[1;32m   (...)\u001b[0m\n\u001b[0;32m    188\u001b[0m \n\u001b[0;32m    189\u001b[0m \u001b[38;5;124;03m    \"\"\"\u001b[39;00m\n\u001b[1;32m--> 190\u001b[0m     \u001b[38;5;28;01mif\u001b[39;00m \u001b[43mquery\u001b[49m\u001b[38;5;241;43m.\u001b[39;49m\u001b[43mfilters\u001b[49m \u001b[38;5;129;01mis\u001b[39;00m \u001b[38;5;129;01mnot\u001b[39;00m \u001b[38;5;28;01mNone\u001b[39;00m:\n\u001b[0;32m    191\u001b[0m         \u001b[38;5;28;01mraise\u001b[39;00m \u001b[38;5;167;01mValueError\u001b[39;00m(\u001b[38;5;124m\"\u001b[39m\u001b[38;5;124mMetadata filters not implemented for Faiss yet.\u001b[39m\u001b[38;5;124m\"\u001b[39m)\n\u001b[0;32m    193\u001b[0m     query_embedding \u001b[38;5;241m=\u001b[39m cast(List[\u001b[38;5;28mfloat\u001b[39m], query\u001b[38;5;241m.\u001b[39mquery_embedding)\n",
      "\u001b[1;31mAttributeError\u001b[0m: 'str' object has no attribute 'filters'"
     ]
    }
   ],
   "source": [
    "# 执行示例\n",
    "if __name__ == \"__main__\":\n",
    "    query = \"电力市场与普通商品市场的差异？\"\n",
    "    main(query)"
   ]
  }
 ],
 "metadata": {
  "kernelspec": {
   "display_name": "my_env",
   "language": "python",
   "name": "python3"
  },
  "language_info": {
   "codemirror_mode": {
    "name": "ipython",
    "version": 3
   },
   "file_extension": ".py",
   "mimetype": "text/x-python",
   "name": "python",
   "nbconvert_exporter": "python",
   "pygments_lexer": "ipython3",
   "version": "3.9.20"
  }
 },
 "nbformat": 4,
 "nbformat_minor": 2
}
