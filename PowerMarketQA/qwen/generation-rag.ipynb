{
 "cells": [
  {
   "metadata": {},
   "cell_type": "markdown",
   "source": "#### 导入相关包",
   "id": "1a882d202d46479f"
  },
  {
   "cell_type": "code",
   "id": "initial_id",
   "metadata": {
    "collapsed": true,
    "ExecuteTime": {
     "end_time": "2025-01-11T10:09:02.410875Z",
     "start_time": "2025-01-11T10:08:58.810467Z"
    }
   },
   "source": [
    "import sentence_transformers\n",
    "from langchain_community.vectorstores import FAISS\n",
    "from langchain_community.embeddings import HuggingFaceBgeEmbeddings\n",
    "\n",
    "from langchain.prompts import PromptTemplate\n",
    "from langchain_core.output_parsers import StrOutputParser\n",
    "from langchain_core.runnables import RunnablePassthrough\n",
    "from langchain_core.documents import Document\n",
    "from langchain_core.retrievers import BaseRetriever\n",
    "from langchain_core.callbacks import CallbackManagerForRetrieverRun\n",
    "from typing import List\n",
    "from PowerMarketQA.CustomLLM import CustomLLM"
   ],
   "outputs": [],
   "execution_count": 1
  },
  {
   "metadata": {},
   "cell_type": "markdown",
   "source": "#### 加载外部知识",
   "id": "49360617fc85664d"
  },
  {
   "metadata": {
    "ExecuteTime": {
     "end_time": "2025-01-11T10:11:11.774992Z",
     "start_time": "2025-01-11T10:11:11.586783Z"
    }
   },
   "cell_type": "code",
   "source": [
    "import pandas as pd\n",
    "import os\n",
    "\n",
    "# 假设Excel文件都在一个名为'data'的文件夹下\n",
    "folder_path = './all_data/excel'\n",
    "excel_files = [os.path.join(folder_path, f) for f in os.listdir(folder_path) if f.endswith('.xlsx')]\n",
    "\n",
    "data_frames = []\n",
    "for file in excel_files:\n",
    "    df = pd.read_excel(file)\n",
    "    data_frames.append(df)\n",
    "\n",
    "combined_data = pd.concat(data_frames, ignore_index=True)\n",
    "combined_data"
   ],
   "id": "e6b0f033d9a23e95",
   "outputs": [
    {
     "data": {
      "text/plain": [
       "                     question  \\\n",
       "0       1、什么是光伏发电？什么是分布式光伏系统？   \n",
       "1             2、什么是户用分布式光伏系统？   \n",
       "2            3、您知道光伏发电的历史起源吗？   \n",
       "3               4、光伏电池是怎么发电的？   \n",
       "4       5、户用分布式光伏发电系统由哪些部件构成？   \n",
       "..                        ...   \n",
       "407         169.什么是电力系统的运行操作？   \n",
       "408     170.倒闸操作的分类有哪些？有哪些要求？   \n",
       "409   171.什么是遥控操作和程序操作？有哪些要求？   \n",
       "410  172.倒闸操作的基本要求是什么？包括哪些内容？   \n",
       "411           173.倒闸操作包括哪些内容？   \n",
       "\n",
       "                                                answer  \n",
       "0      光伏发电是指利用太阳能光伏电池把太阳辐射能直接转变成电能的发电方式。光伏发电是当今太阳能...  \n",
       "1      户用分布式光伏系统是指利用自然人宅基地范围内的建筑物，比如自有住宅，以及附属物建设的分布...  \n",
       "2      1839 年，19 岁的法国贝克勒尔做物理实验时，发现在导电液中的两种金属电极用光照射时...  \n",
       "3      光伏电池是一种具有光－电转换特性的半导体器件，它直接将太阳辐射能转换成直流电，是光伏发电...  \n",
       "4      户用分布式光伏发电系统由光伏方阵（光伏方阵由光伏组件串并联而成)、光伏逆变器、光伏支架、...  \n",
       "..                                                 ...  \n",
       "407    电力系统中的设备有运行、热备用、冷备用和检修四种不同的状态，运行操作是指变更电力系统设备...  \n",
       "408    倒闸操作从满足新技术应用和经济性，即减人增效提高劳动生产率的要求来考虑，倒闸操作可分为就...  \n",
       "409    遥控操作是指从调度端或集控站发出远方操作指令，以微机监控系统或变电站的RTU当地功能为技...  \n",
       "410    倒闸操作是一项严谨的工作，应根据值班调度员或运行值班负责人的指令，在受令人复诵无误后执行...  \n",
       "411    倒闸操作的内容包括：\\n1）电力线路停送电操作。\\n2）电力变压器停送电操作。\\n3）电...  \n",
       "\n",
       "[412 rows x 2 columns]"
      ],
      "text/html": [
       "<div>\n",
       "<style scoped>\n",
       "    .dataframe tbody tr th:only-of-type {\n",
       "        vertical-align: middle;\n",
       "    }\n",
       "\n",
       "    .dataframe tbody tr th {\n",
       "        vertical-align: top;\n",
       "    }\n",
       "\n",
       "    .dataframe thead th {\n",
       "        text-align: right;\n",
       "    }\n",
       "</style>\n",
       "<table border=\"1\" class=\"dataframe\">\n",
       "  <thead>\n",
       "    <tr style=\"text-align: right;\">\n",
       "      <th></th>\n",
       "      <th>question</th>\n",
       "      <th>answer</th>\n",
       "    </tr>\n",
       "  </thead>\n",
       "  <tbody>\n",
       "    <tr>\n",
       "      <th>0</th>\n",
       "      <td>1、什么是光伏发电？什么是分布式光伏系统？</td>\n",
       "      <td>光伏发电是指利用太阳能光伏电池把太阳辐射能直接转变成电能的发电方式。光伏发电是当今太阳能...</td>\n",
       "    </tr>\n",
       "    <tr>\n",
       "      <th>1</th>\n",
       "      <td>2、什么是户用分布式光伏系统？</td>\n",
       "      <td>户用分布式光伏系统是指利用自然人宅基地范围内的建筑物，比如自有住宅，以及附属物建设的分布...</td>\n",
       "    </tr>\n",
       "    <tr>\n",
       "      <th>2</th>\n",
       "      <td>3、您知道光伏发电的历史起源吗？</td>\n",
       "      <td>1839 年，19 岁的法国贝克勒尔做物理实验时，发现在导电液中的两种金属电极用光照射时...</td>\n",
       "    </tr>\n",
       "    <tr>\n",
       "      <th>3</th>\n",
       "      <td>4、光伏电池是怎么发电的？</td>\n",
       "      <td>光伏电池是一种具有光－电转换特性的半导体器件，它直接将太阳辐射能转换成直流电，是光伏发电...</td>\n",
       "    </tr>\n",
       "    <tr>\n",
       "      <th>4</th>\n",
       "      <td>5、户用分布式光伏发电系统由哪些部件构成？</td>\n",
       "      <td>户用分布式光伏发电系统由光伏方阵（光伏方阵由光伏组件串并联而成)、光伏逆变器、光伏支架、...</td>\n",
       "    </tr>\n",
       "    <tr>\n",
       "      <th>...</th>\n",
       "      <td>...</td>\n",
       "      <td>...</td>\n",
       "    </tr>\n",
       "    <tr>\n",
       "      <th>407</th>\n",
       "      <td>169.什么是电力系统的运行操作？</td>\n",
       "      <td>电力系统中的设备有运行、热备用、冷备用和检修四种不同的状态，运行操作是指变更电力系统设备...</td>\n",
       "    </tr>\n",
       "    <tr>\n",
       "      <th>408</th>\n",
       "      <td>170.倒闸操作的分类有哪些？有哪些要求？</td>\n",
       "      <td>倒闸操作从满足新技术应用和经济性，即减人增效提高劳动生产率的要求来考虑，倒闸操作可分为就...</td>\n",
       "    </tr>\n",
       "    <tr>\n",
       "      <th>409</th>\n",
       "      <td>171.什么是遥控操作和程序操作？有哪些要求？</td>\n",
       "      <td>遥控操作是指从调度端或集控站发出远方操作指令，以微机监控系统或变电站的RTU当地功能为技...</td>\n",
       "    </tr>\n",
       "    <tr>\n",
       "      <th>410</th>\n",
       "      <td>172.倒闸操作的基本要求是什么？包括哪些内容？</td>\n",
       "      <td>倒闸操作是一项严谨的工作，应根据值班调度员或运行值班负责人的指令，在受令人复诵无误后执行...</td>\n",
       "    </tr>\n",
       "    <tr>\n",
       "      <th>411</th>\n",
       "      <td>173.倒闸操作包括哪些内容？</td>\n",
       "      <td>倒闸操作的内容包括：\\n1）电力线路停送电操作。\\n2）电力变压器停送电操作。\\n3）电...</td>\n",
       "    </tr>\n",
       "  </tbody>\n",
       "</table>\n",
       "<p>412 rows × 2 columns</p>\n",
       "</div>"
      ]
     },
     "execution_count": 3,
     "metadata": {},
     "output_type": "execute_result"
    }
   ],
   "execution_count": 3
  },
  {
   "metadata": {
    "ExecuteTime": {
     "end_time": "2025-01-11T10:14:06.493855Z",
     "start_time": "2025-01-11T10:14:06.471855Z"
    }
   },
   "cell_type": "code",
   "source": [
    "questions = combined_data['question'].tolist()\n",
    "answers = combined_data['answer'].tolist()\n",
    "QA_list = []\n",
    "for q,a  in zip(questions,answers):\n",
    "    qa = q + '\\n' + a\n",
    "    QA_list.append(qa)\n",
    "\n",
    "print(QA_list[0])\n",
    "\n",
    "# 将文本块封装成Document类\n",
    "docs = []\n",
    "for i in range(0,len(QA_list)):\n",
    "    qa_doc = Document(page_content=QA_list[i], metadata={\"source\": \"电力知识\",\"order\":i+1})\n",
    "    docs.append(qa_doc)\n",
    "\n",
    "print(docs[0])"
   ],
   "id": "c7e139e769c3c8fb",
   "outputs": [
    {
     "name": "stdout",
     "output_type": "stream",
     "text": [
      "1、什么是光伏发电？什么是分布式光伏系统？\n",
      "  光伏发电是指利用太阳能光伏电池把太阳辐射能直接转变成电能的发电方式。光伏发电是当今太阳能发电的主流。\n",
      "  分布式光伏系统是指在用户场地附近建设，一般接入低于 35kV 及以下电压等级的电网，所发电以就地消纳为主，且在配电系统平衡调节为特性的光伏发电设施。分布式光伏系统的运行方式自发自用、余电上网，全额上网两种方式。自\n",
      "发自用、余电上网是指分布式光伏发电系统所发电力由电力用户优先使用，多余电量接入电网；全额上网是指分布式光伏发电系统所发电力全部接入电网。\n",
      "  分布式发电遵循因地制宜、清洁高效、分散布局、就近利用的原则，充分利用当地的太阳能资源，替代和减少化石能源消费。\n",
      "page_content='1、什么是光伏发电？什么是分布式光伏系统？\n",
      "  光伏发电是指利用太阳能光伏电池把太阳辐射能直接转变成电能的发电方式。光伏发电是当今太阳能发电的主流。\n",
      "  分布式光伏系统是指在用户场地附近建设，一般接入低于 35kV 及以下电压等级的电网，所发电以就地消纳为主，且在配电系统平衡调节为特性的光伏发电设施。分布式光伏系统的运行方式自发自用、余电上网，全额上网两种方式。自\n",
      "发自用、余电上网是指分布式光伏发电系统所发电力由电力用户优先使用，多余电量接入电网；全额上网是指分布式光伏发电系统所发电力全部接入电网。\n",
      "  分布式发电遵循因地制宜、清洁高效、分散布局、就近利用的原则，充分利用当地的太阳能资源，替代和减少化石能源消费。' metadata={'source': '电力知识', 'order': 1}\n"
     ]
    }
   ],
   "execution_count": 6
  },
  {
   "metadata": {},
   "cell_type": "markdown",
   "source": "#### 将相关知识存储到向量数据库中",
   "id": "6919fb4363887cf5"
  },
  {
   "metadata": {
    "ExecuteTime": {
     "end_time": "2025-01-11T10:17:53.551363Z",
     "start_time": "2025-01-11T10:15:32.375842Z"
    }
   },
   "cell_type": "code",
   "source": [
    "# 从huggingface上加载embedding模型，对文本块向量化\n",
    "huggingface_embeddings = HuggingFaceBgeEmbeddings(\n",
    "    model_name=\"moka-ai/m3e-base\",  # 使用m3e模型做embeddding\n",
    "    model_kwargs={'device':'cpu'},\n",
    "    encode_kwargs={'normalize_embeddings': True}\n",
    ")\n",
    "# 使用FAISS向量数据库存储\n",
    "vectorstore = FAISS.from_documents(docs, huggingface_embeddings)\n",
    "# 构建索引\n",
    "retriever = vectorstore.as_retriever()"
   ],
   "id": "71e9fae6140a4c7f",
   "outputs": [
    {
     "name": "stderr",
     "output_type": "stream",
     "text": [
      "D:\\Download\\miniconda3\\envs\\qwen_1.8B\\lib\\site-packages\\transformers\\utils\\generic.py:260: FutureWarning: `torch.utils._pytree._register_pytree_node` is deprecated. Please use `torch.utils._pytree.register_pytree_node` instead.\n",
      "  torch.utils._pytree._register_pytree_node(\n",
      "D:\\Download\\miniconda3\\envs\\qwen_1.8B\\lib\\site-packages\\transformers\\utils\\generic.py:260: FutureWarning: `torch.utils._pytree._register_pytree_node` is deprecated. Please use `torch.utils._pytree.register_pytree_node` instead.\n",
      "  torch.utils._pytree._register_pytree_node(\n"
     ]
    }
   ],
   "execution_count": 7
  },
  {
   "metadata": {},
   "cell_type": "markdown",
   "source": "#### 根据query检索相关文本",
   "id": "a82b96785823064f"
  },
  {
   "metadata": {
    "ExecuteTime": {
     "end_time": "2025-01-11T10:49:14.547161Z",
     "start_time": "2025-01-11T10:49:14.445891Z"
    }
   },
   "cell_type": "code",
   "source": [
    "query = \"\"\"电力市场与普通商品市场有哪些差异？\"\"\"  # Sample question, change to other questions you are interested in.\n",
    "relevant_documents = vectorstore.similarity_search(query,k=2)\n",
    "for i, doc in enumerate(relevant_documents):\n",
    "    print(f\"检索到的第{i+1}个内容: \\n {doc.page_content}\", end=\"\\n-----------------------------------------------------\\n\")\n"
   ],
   "id": "296f5d7d7fa8993d",
   "outputs": [
    {
     "name": "stdout",
     "output_type": "stream",
     "text": [
      "检索到的第1个内容: \n",
      " 2.电力市场与普通商品市场有哪些差异？\n",
      "  电力市场相较于普通商品市场具有显著的特殊性，归根到底就在于电力商品与其他一般商品的差异性。电力商品本质即电能，与其他商品最本质的差异在于其自然属性和社会属性。\n",
      "（1）电力商品具有无仓储性。电能的生产、交割和消费几乎是同时完成的，其交割速度远快于一般商品，因此也不存在一般商品一手交钱一手交货的交易方式。\n",
      "（2）电力商品具有同质性。电能不带有任何生产者的标识，电能生产者将生产的电能输入电网，即完成了生产过程；而电能的使用者也只能从电网获取所需数量的电能，电能生产者和消费者间可以达成交易，但在电能实际生产和消费过\n",
      "程中不存在对应性。\n",
      "（3）电力商品具有可预测性。电能需求在较长周期内会以日或周为单位呈现周期性波动，一定程度上抑制了投机行为，但也增加了市场主体滥用市场力的可能性。\n",
      "（4）电力商品具有生产资料和生活资料的双重属性，因此它既关系国计，又关系民生。电力市场既是生产资料市场，又是生活资料市场，还是十分典型的无仓储公共市场。\n",
      "-----------------------------------------------------\n",
      "检索到的第2个内容: \n",
      " 1.什么是电力市场？\n",
      "  电力市场的定义为：基于市场经济原则，电力市场的定义为基于市场经济原则，为实现电力商品交换的电力工业组织结构、经营管理和运行规则的总和。电力市场又是一个具体的执行系统，包括交易场所、交易管理系统、计量和结算系\n",
      "统、信息和通信系统等。上面从组织和实操两个维度对电力市场进行了描绘。通常电力市场包括广义和狭义两种含义：\n",
      "（1）比照商品市场的一般定义，广义的电力市场泛指电力流通交换的领域。按照该含义，自电力作为商品实现交换之日起，电力市场就已经存在。当今在涉及市场规模和范围的语境下，运用的便是广义电力市场的概念。广义的电力市场\n",
      "有着明确的地域和容量指向，电力市场的地理边界可能差异很大，例如单一州（省）域内的电力市场，或者整个国家的电力市场，乃至跨国的电力市场。而这种地理边界受限于电网的覆盖范围，由于电网是电力传输的唯一通道，故多大范\n",
      "围的电网才可能有多大范围的电力市场；电力市场容量也同样存在很大的差异。\n",
      "（2）狭义的电力市场是指现代竞争性的电力市场，《中国电力百科全书》定义的电力市场即为狭义的电力市场，建立电力市场旨在通过开放、竞争等市场手段实现电力能源资源的优化配置。所谓基于市场经济原则主要是指电能生产者和\n",
      "使用者本着公平竞争、自愿互利的原则，通过协商、竞价等方式，就电能及其相关产品进行交易，通过市场竞争确定价格和数量的市场原则。\n",
      "  目前广泛讨论的电力市场，除特殊语境下，通常都是指狭义的电力市场。电力市场作为电力工业市场化改革的目标模式，因其改革的动因和目标取向不同，以及市场外部环境的差异，呈现出显著的多样性，也使其结构显得格外复杂。世\n",
      "界各地的电力市场，既没有统一的标准供引用，也没有通用的模板可复制，需要结合各自的国情、民情和网情建设和运营。\n",
      "-----------------------------------------------------\n"
     ]
    }
   ],
   "execution_count": 8
  },
  {
   "metadata": {},
   "cell_type": "markdown",
   "source": "#### 获取上下文信息",
   "id": "6284276bfd77f0ca"
  },
  {
   "metadata": {
    "ExecuteTime": {
     "end_time": "2025-01-11T10:57:05.104208Z",
     "start_time": "2025-01-11T10:57:01.912539Z"
    }
   },
   "cell_type": "code",
   "source": [
    "import json\n",
    "with open('./all_data/json/test.json','r',encoding='UTF-8') as json_file:\n",
    "\ttests = json.load(json_file)\n",
    "    \n",
    "tests_with_doc = []\n",
    "for test in tests:\n",
    "    query = test['question']\n",
    "    relevant_documents = vectorstore.similarity_search(query,k=2)\n",
    "    relevant_documents = [doc.page_content for doc in relevant_documents]\n",
    "    test['relevant_documents'] = relevant_documents\n",
    "    tests_with_doc.append(test)\n",
    "    \n",
    "tests_with_doc[0]"
   ],
   "id": "240adf292386a9d6",
   "outputs": [
    {
     "data": {
      "text/plain": [
       "{'question': '45.避雷器的性能有哪些？',\n",
       " 'answer': '  在确定避雷器性能上，有以下几个重要关系：\\n（1）从保证避雷器运行安全方面考虑，其持续运行电压应等于或大于电网的最大运行相电压。\\n（2）从保证避雷器不会老化太快方面考虑，其额定电压应等于或大于电网持续运行电压的1.25倍。\\n（3）避雷器在标称电流（雷电流）下的残压，等于额定电压（峰值）乘以保护比，目前避雷器的保护比约等于1.6~1.7。',\n",
       " 'relevant_documents': ['45.避雷器的性能有哪些？\\n  在确定避雷器性能上，有以下几个重要关系：\\n（1）从保证避雷器运行安全方面考虑，其持续运行电压应等于或大于电网的最大运行相电压。\\n（2）从保证避雷器不会老化太快方面考虑，其额定电压应等于或大于电网持续运行电压的1.25倍。\\n（3）避雷器在标称电流（雷电流）下的残压，等于额定电压（峰值）乘以保护比，目前避雷器的保护比约等于1.6~1.7。',\n",
       "  '43.什么是避雷器？\\n  避雷器是一种释放过电压能量限制过电压幅值的保护设备，它通过并联放电间隙或非线性电阻的作用，对入侵流动波进行削幅，以降低被保护是所受过电压幅值。避雷器既可用来防护大气过电压，也可用来防护操作过电压，其性能是变\\n电站其他设备绝缘水平的基础。']}"
      ]
     },
     "execution_count": 15,
     "metadata": {},
     "output_type": "execute_result"
    }
   ],
   "execution_count": 15
  },
  {
   "metadata": {},
   "cell_type": "markdown",
   "source": "#### 导出上下文信息",
   "id": "3c9e3da8bfde5ec4"
  },
  {
   "metadata": {
    "ExecuteTime": {
     "end_time": "2025-01-11T10:58:58.281339Z",
     "start_time": "2025-01-11T10:58:58.270339Z"
    }
   },
   "cell_type": "code",
   "source": [
    "import json\n",
    "\n",
    "with open('./all_data/json/test.json', 'w', encoding='utf-8') as f:\n",
    "    json.dump(tests_with_doc, f, ensure_ascii=False, indent=4)"
   ],
   "id": "b8b16fcc1b69cd6a",
   "outputs": [],
   "execution_count": 16
  },
  {
   "metadata": {},
   "cell_type": "markdown",
   "source": "#### 构建RAG流程链",
   "id": "2d819a74cdacc9ea"
  },
  {
   "metadata": {
    "ExecuteTime": {
     "end_time": "2024-12-10T13:57:28.348058Z",
     "start_time": "2024-12-10T13:57:28.343058Z"
    }
   },
   "cell_type": "code",
   "source": [
    "# 构造prompt\n",
    "def prompt_template(question):\n",
    "    relevant_documents = vectorstore.similarity_search(question,k=2)\n",
    "    context = \"\"\n",
    "    for doc in relevant_documents:\n",
    "        context += doc.page_content + \"\\n\"\n",
    "    prompt = \"请使用以下检索到的背景信息来回答问题。如果你不知道答案，直接说你不知道。\\n\"  + f\"背景：\\n{context}\\n\" + f\"问题：{question}\\n\\n\" \n",
    "    return prompt\n"
   ],
   "id": "257a1b8999c296ac",
   "outputs": [],
   "execution_count": 32
  },
  {
   "metadata": {
    "ExecuteTime": {
     "end_time": "2024-12-10T13:46:13.201528Z",
     "start_time": "2024-12-10T13:46:07.362878Z"
    }
   },
   "cell_type": "code",
   "source": [
    "from peft import AutoPeftModelForCausalLM\n",
    "from transformers import AutoTokenizer\n",
    "\n",
    "model_dir = \"E:\\pythonProject\\Qwen\\\\finetune\\output_qwen\"\n",
    "\n",
    "# 加载微调过的模型\n",
    "model = AutoPeftModelForCausalLM.from_pretrained(\n",
    "    f'{model_dir}',\n",
    "    device_map=\"auto\",\n",
    "    trust_remote_code=True\n",
    ").eval()\n",
    "\n",
    "tokenizer = AutoTokenizer.from_pretrained(f'{model_dir}', revision='master', trust_remote_code=True)"
   ],
   "id": "60c9af7ca0b7aa0b",
   "outputs": [
    {
     "name": "stderr",
     "output_type": "stream",
     "text": [
      "The model is automatically converting to bf16 for faster inference. If you want to disable the automatic precision, please manually add bf16/fp16/fp32=True to \"AutoModelForCausalLM.from_pretrained\".\n",
      "Try importing flash-attention for faster inference...\n",
      "Warning: import flash_attn rotary fail, please install FlashAttention rotary to get higher efficiency https://github.com/Dao-AILab/flash-attention/tree/main/csrc/rotary\n",
      "Warning: import flash_attn rms_norm fail, please install FlashAttention layer_norm to get higher efficiency https://github.com/Dao-AILab/flash-attention/tree/main/csrc/layer_norm\n",
      "Warning: import flash_attn fail, please install FlashAttention to get higher efficiency https://github.com/Dao-AILab/flash-attention\n"
     ]
    },
    {
     "data": {
      "text/plain": [
       "Loading checkpoint shards:   0%|          | 0/2 [00:00<?, ?it/s]"
      ],
      "application/vnd.jupyter.widget-view+json": {
       "version_major": 2,
       "version_minor": 0,
       "model_id": "a893de16125e42829f02421e9c8c5cde"
      }
     },
     "metadata": {},
     "output_type": "display_data"
    },
    {
     "name": "stderr",
     "output_type": "stream",
     "text": [
      "D:\\Download\\miniconda3\\envs\\qwen_1.8B\\lib\\site-packages\\peft\\utils\\save_and_load.py:224: FutureWarning: You are using `torch.load` with `weights_only=False` (the current default value), which uses the default pickle module implicitly. It is possible to construct malicious pickle data which will execute arbitrary code during unpickling (See https://github.com/pytorch/pytorch/blob/main/SECURITY.md#untrusted-models for more details). In a future release, the default value for `weights_only` will be flipped to `True`. This limits the functions that could be executed during unpickling. Arbitrary objects will no longer be allowed to be loaded via this mode unless they are explicitly allowlisted by the user via `torch.serialization.add_safe_globals`. We recommend you start setting `weights_only=True` for any use case where you don't have full control of the loaded file. Please open an issue on GitHub for any issues related to this experimental feature.\n",
      "  adapters_weights = torch.load(filename, map_location=torch.device(device))\n"
     ]
    }
   ],
   "execution_count": 26
  },
  {
   "metadata": {
    "ExecuteTime": {
     "end_time": "2024-12-10T13:57:48.268915Z",
     "start_time": "2024-12-10T13:57:36.793952Z"
    }
   },
   "cell_type": "code",
   "source": [
    "# 回复问题\n",
    "prompt= prompt_template(\"电力市场与普通商品市场有哪些差异？\")\n",
    "response, history = model.chat(tokenizer, prompt , history=None)\n",
    "print(response)"
   ],
   "id": "1144edf24cc1d354",
   "outputs": [
    {
     "name": "stdout",
     "output_type": "stream",
     "text": [
      "电力市场与普通商品市场的主要区别在于电力商品的本质及相关的生产要素不同，从市场需求角度分析电力商品与一般商品最大的不同之处在于其无仓储性以及生产与消费同步的特点。从社会属性角度看，电力作为一种天然能源不仅存在于商品交换之中，而是作为实物资源的一部分参与流通，这就决定了电力的价值不只体现在产量的增长中，还体现在物权的流转与配置之中。此外，电力商品不可再生性决定了电力商品的稀缺性，为保障电力供应，通常需对电量进行价格管制，以补偿利用电力的成本损失，从而维护电力系统的正常运作。以上均属电力商品本身的社会属性，为不同类型的电力商品提供了不同的价值认定基础。而普通商品是以货币计量的商品，与电子设备相关的所有技术交易行为，交易的基本对象均为价格，然而价格受供需双方行为影响较大，交易双方的真实成本无法得到体现。不同商品的互动决定了某些商品的市场价格难以用单一的通货膨胀率来描述，例如黄金因为其稀有性可明显地反映通货膨胀的程度。电力商品虽然以电价的形式直接与需求者打交道，但由于电力商品实物价值的获取是在电网之外通过竞价的方式完成，这一特性使电力商品的价格很难由某种固定的指数来衡量，如购买水电的价格就与时间的关系很大，只要出现供应短缺时，往往价格就会上升，这对建立一个完善的电力市场来说，是一个巨大的挑战。由于电力商品涉及到电网以外的部分供电基础设施和多种替代能源，没有石油等其他商品那样可以通过地理范围或者供应链的划分把不同地域的企业和个体组织排除在外。电力交易买卖的是服务和费用的总称，如何正确界定各种外部服务关系对于电力行业长期发展至关重要。\n"
     ]
    }
   ],
   "execution_count": 33
  },
  {
   "metadata": {},
   "cell_type": "markdown",
   "source": "#### 在数据集上测试回复效果",
   "id": "9b56287b1a5a4858"
  },
  {
   "metadata": {
    "ExecuteTime": {
     "end_time": "2024-12-10T13:54:37.233085Z",
     "start_time": "2024-12-10T13:54:37.222085Z"
    }
   },
   "cell_type": "code",
   "source": "questions[:3]",
   "id": "5b3efc4227cd227c",
   "outputs": [
    {
     "data": {
      "text/plain": [
       "['1.什么是电力市场？', '2.电力市场与普通商品市场有哪些差异？', '3.电力市场有哪些特征？']"
      ]
     },
     "execution_count": 30,
     "metadata": {},
     "output_type": "execute_result"
    }
   ],
   "execution_count": 30
  },
  {
   "metadata": {
    "ExecuteTime": {
     "end_time": "2024-12-10T14:30:21.525729Z",
     "start_time": "2024-12-10T14:09:03.780708Z"
    }
   },
   "cell_type": "code",
   "source": [
    "rag_results = []\n",
    "for index,query in enumerate(questions):\n",
    "    prompt = prompt_template(query)\n",
    "    response, history = model.chat(tokenizer, prompt , history=None)\n",
    "    rag_results.append({'query':query,\n",
    "                    'query_id':index+1,\n",
    "                    'reference':answers[index],\n",
    "                    'response':response})\n",
    "\n",
    "    print(f\"第{index+1}个问题已回复..........\")\n"
   ],
   "id": "8a10815b4d6d43cc",
   "outputs": [
    {
     "name": "stdout",
     "output_type": "stream",
     "text": [
      "第1个问题已回复..........\n",
      "第2个问题已回复..........\n",
      "第3个问题已回复..........\n",
      "第4个问题已回复..........\n",
      "第5个问题已回复..........\n",
      "第6个问题已回复..........\n",
      "第7个问题已回复..........\n",
      "第8个问题已回复..........\n",
      "第9个问题已回复..........\n",
      "第10个问题已回复..........\n",
      "第11个问题已回复..........\n",
      "第12个问题已回复..........\n",
      "第13个问题已回复..........\n",
      "第14个问题已回复..........\n",
      "第15个问题已回复..........\n",
      "第16个问题已回复..........\n",
      "第17个问题已回复..........\n",
      "第18个问题已回复..........\n",
      "第19个问题已回复..........\n",
      "第20个问题已回复..........\n",
      "第21个问题已回复..........\n",
      "第22个问题已回复..........\n",
      "第23个问题已回复..........\n",
      "第24个问题已回复..........\n",
      "第25个问题已回复..........\n",
      "第26个问题已回复..........\n",
      "第27个问题已回复..........\n",
      "第28个问题已回复..........\n",
      "第29个问题已回复..........\n",
      "第30个问题已回复..........\n",
      "第31个问题已回复..........\n",
      "第32个问题已回复..........\n",
      "第33个问题已回复..........\n",
      "第34个问题已回复..........\n",
      "第35个问题已回复..........\n",
      "第36个问题已回复..........\n",
      "第37个问题已回复..........\n",
      "第38个问题已回复..........\n",
      "第39个问题已回复..........\n",
      "第40个问题已回复..........\n",
      "第41个问题已回复..........\n",
      "第42个问题已回复..........\n",
      "第43个问题已回复..........\n",
      "第44个问题已回复..........\n",
      "第45个问题已回复..........\n",
      "第46个问题已回复..........\n",
      "第47个问题已回复..........\n",
      "第48个问题已回复..........\n",
      "第49个问题已回复..........\n",
      "第50个问题已回复..........\n",
      "第51个问题已回复..........\n",
      "第52个问题已回复..........\n",
      "第53个问题已回复..........\n",
      "第54个问题已回复..........\n",
      "第55个问题已回复..........\n",
      "第56个问题已回复..........\n",
      "第57个问题已回复..........\n",
      "第58个问题已回复..........\n",
      "第59个问题已回复..........\n",
      "第60个问题已回复..........\n",
      "第61个问题已回复..........\n",
      "第62个问题已回复..........\n",
      "第63个问题已回复..........\n",
      "第64个问题已回复..........\n",
      "第65个问题已回复..........\n",
      "第66个问题已回复..........\n",
      "第67个问题已回复..........\n",
      "第68个问题已回复..........\n",
      "第69个问题已回复..........\n",
      "第70个问题已回复..........\n",
      "第71个问题已回复..........\n",
      "第72个问题已回复..........\n",
      "第73个问题已回复..........\n",
      "第74个问题已回复..........\n",
      "第75个问题已回复..........\n",
      "第76个问题已回复..........\n",
      "第77个问题已回复..........\n",
      "第78个问题已回复..........\n",
      "第79个问题已回复..........\n",
      "第80个问题已回复..........\n",
      "第81个问题已回复..........\n",
      "第82个问题已回复..........\n",
      "第83个问题已回复..........\n",
      "第84个问题已回复..........\n",
      "第85个问题已回复..........\n",
      "第86个问题已回复..........\n",
      "第87个问题已回复..........\n",
      "第88个问题已回复..........\n",
      "第89个问题已回复..........\n",
      "第90个问题已回复..........\n",
      "第91个问题已回复..........\n",
      "第92个问题已回复..........\n",
      "第93个问题已回复..........\n",
      "第94个问题已回复..........\n",
      "第95个问题已回复..........\n",
      "第96个问题已回复..........\n",
      "第97个问题已回复..........\n",
      "第98个问题已回复..........\n",
      "第99个问题已回复..........\n",
      "第100个问题已回复..........\n",
      "第101个问题已回复..........\n",
      "第102个问题已回复..........\n",
      "第103个问题已回复..........\n",
      "第104个问题已回复..........\n",
      "第105个问题已回复..........\n",
      "第106个问题已回复..........\n",
      "第107个问题已回复..........\n",
      "第108个问题已回复..........\n",
      "第109个问题已回复..........\n",
      "第110个问题已回复..........\n",
      "第111个问题已回复..........\n",
      "第112个问题已回复..........\n",
      "第113个问题已回复..........\n",
      "第114个问题已回复..........\n",
      "第115个问题已回复..........\n",
      "第116个问题已回复..........\n",
      "第117个问题已回复..........\n",
      "第118个问题已回复..........\n",
      "第119个问题已回复..........\n",
      "第120个问题已回复..........\n",
      "第121个问题已回复..........\n",
      "第122个问题已回复..........\n",
      "第123个问题已回复..........\n",
      "第124个问题已回复..........\n"
     ]
    },
    {
     "ename": "IndexError",
     "evalue": "list index out of range",
     "output_type": "error",
     "traceback": [
      "\u001B[1;31m---------------------------------------------------------------------------\u001B[0m",
      "\u001B[1;31mIndexError\u001B[0m                                Traceback (most recent call last)",
      "Cell \u001B[1;32mIn[34], line 7\u001B[0m\n\u001B[0;32m      3\u001B[0m prompt \u001B[38;5;241m=\u001B[39m prompt_template(query)\n\u001B[0;32m      4\u001B[0m response, history \u001B[38;5;241m=\u001B[39m model\u001B[38;5;241m.\u001B[39mchat(tokenizer, prompt , history\u001B[38;5;241m=\u001B[39m\u001B[38;5;28;01mNone\u001B[39;00m)\n\u001B[0;32m      5\u001B[0m rag_results\u001B[38;5;241m.\u001B[39mappend({\u001B[38;5;124m'\u001B[39m\u001B[38;5;124mquery\u001B[39m\u001B[38;5;124m'\u001B[39m:query,\n\u001B[0;32m      6\u001B[0m                 \u001B[38;5;124m'\u001B[39m\u001B[38;5;124mquery_id\u001B[39m\u001B[38;5;124m'\u001B[39m:index\u001B[38;5;241m+\u001B[39m\u001B[38;5;241m1\u001B[39m,\n\u001B[1;32m----> 7\u001B[0m                 \u001B[38;5;124m'\u001B[39m\u001B[38;5;124mreference\u001B[39m\u001B[38;5;124m'\u001B[39m:\u001B[43manswers\u001B[49m\u001B[43m[\u001B[49m\u001B[43mindex\u001B[49m\u001B[38;5;241;43m+\u001B[39;49m\u001B[38;5;241;43m1\u001B[39;49m\u001B[43m]\u001B[49m,\n\u001B[0;32m      8\u001B[0m                 \u001B[38;5;124m'\u001B[39m\u001B[38;5;124mresponse\u001B[39m\u001B[38;5;124m'\u001B[39m:response})\n\u001B[0;32m     10\u001B[0m \u001B[38;5;28mprint\u001B[39m(\u001B[38;5;124mf\u001B[39m\u001B[38;5;124m\"\u001B[39m\u001B[38;5;124m第\u001B[39m\u001B[38;5;132;01m{\u001B[39;00mindex\u001B[38;5;241m+\u001B[39m\u001B[38;5;241m1\u001B[39m\u001B[38;5;132;01m}\u001B[39;00m\u001B[38;5;124m个问题已回复..........\u001B[39m\u001B[38;5;124m\"\u001B[39m)\n",
      "\u001B[1;31mIndexError\u001B[0m: list index out of range"
     ]
    }
   ],
   "execution_count": 34
  },
  {
   "metadata": {
    "ExecuteTime": {
     "end_time": "2024-12-11T06:41:50.099528Z",
     "start_time": "2024-12-11T06:41:34.004540Z"
    }
   },
   "cell_type": "code",
   "source": [
    "prompt = prompt_template(questions[124])\n",
    "response, history = model.chat(tokenizer, prompt , history=None)\n",
    "rag_results.append({'query':query,\n",
    "                    'query_id':125,\n",
    "                    'reference':answers[124],\n",
    "                    'response':response})"
   ],
   "id": "7f4329befbadbbb3",
   "outputs": [],
   "execution_count": 38
  },
  {
   "metadata": {
    "ExecuteTime": {
     "end_time": "2024-12-11T06:42:07.719929Z",
     "start_time": "2024-12-11T06:42:07.701045Z"
    }
   },
   "cell_type": "code",
   "source": "rag_results[124]",
   "id": "c0147e165fb51343",
   "outputs": [
    {
     "data": {
      "text/plain": [
       "{'query': '125.电力现货技术支持系统与电力交易平台定位与关系是什么？',\n",
       " 'query_id': 125,\n",
       " 'reference': '随着中发9号文的发布，我国电力市场改革不断深化，电力交易品种日益丰富，以中长期交易规避风险，以现货市场发现价格的“中长期+现货”联合运营模式逐渐形成。中发9号文配套文件《关于推进电力市场建设的实施意见》指出，电力市场主要由中长期市场和现货市场构成，中长期市场主要开展多年、年、季、月、周等日以上电能量交易和可中断负荷、调压等辅助服务交易。现货市场主要开展日前、日内、实施电能量交易和备用、调频等辅助服务交易。条件成熟时，探索开展容量市场、电力期货和衍生品等交易。2018年，国家电网公司《全国统一电力市场深化设计方案》在综合考虑体制架构和电网安全运行需要的基础上，提出了由交易中心负责市场注册、交易申报、交易结算、信息发布等与市场交易密切相关环节，由调控中心负责现货和辅助服务交易组织、安全校核等与电网运行密切相关环节的统一市场联合运营模式。此模式也成为了电力市场技术支撑平台在交易中心和调控中心之间功能建设的实际划分标准，交易中心的电力交易平台、调控中心的电力现货技术支持系统各功能相互协作实现“全时段、全过程、全环节”的交易流程，实现“中长期+现货”市场安全、高效、有序运营，向市场成员提供准确规范的市场交易信息和在线交易业务支持。调控中心负责现货交易与电网运行密切相关的环节，负责安全校核、现货交易组织、辅助服务交易组织等工作。电力现货技术支持系统面向调控中心业务，用于支撑日前、实时等电力现货市场的组织、出清、安全校核等核心业务，并与调控中心内部的调度系统、交易中心的电力交易平台等系统实现对接。交易中心负责与市场交易密切相关的环节，电力交易平台作为国网公司对市场主体服务的窗口，在市场注册、交易申报、交易结算、信息发布等环节为市场主体提供相关服务，并与包括电力现货技术支持系统在内的调度、营销、财务等系统实现对接。电力交易平台分为面向电力交易中心的主站端，以及面向发电侧、用电侧等市场成员的子站端。主站端的主要功能是市场成员注册审批、中长期交易组织、政府授权合约分解、合同管理、结算计算、信息发布、信息管理、信用管理等功能；子站端是发用侧市场成员用于进行市场注册、现货市场申报、中长期市场申报、中长期合约备案、查看发布信息、查看结算账单的系统。分主要交易环节看：（1）市场成员管理：市场成员向电力交易平台提交注册申请和相关信息。电力交易平台将调控中心业务所需要的市场成员信息推送至电力现货技术支持系统。（2）交易申报：中长期电力交易在电力交易平台组织，现货交易在电力现货技术支持系统组织，但参与市场的市场成员均在电力交易平台的外网端进行报价。即现货交易申报通过电力交易平台受理，面向公众的现货交易信息也通过电力交易平台发布。（3）交易出清：中长期电力交易的出清在电力交易平台开展，中长期电力交易、现货交易均由调控中心进行安全校核，现货交易的安全校核和市场出清在电力现货技术支持系统一并进行。（4）交易结算：交易中心根据中长期、现货以及辅助服务交易结果、执行情况，通过电力交易平台出具结算依据。对各类交易品种日清分、月结算、年清算。（5）信息发布：交易中心将市场相关信息在电力交易平台对外发布，调控中心协助开展现货交易部分的信息发布工作。总体而言，电力现货技术支持系统与电力交易平台分别针对使用用户的业务特点和需求而建立，同时具有较强的业务配合衔接和数据交互关系。',\n",
       " 'response': '电力现货技术支持系统与电力交易平台定位与关系。   电力现货技术支持系统与电力交易平台相对独立，但是两者又紧密相连，处于电力市场体系的中间层，是支撑市场化运作的重要基础保障系统。目前，调度、输电、配电、零售、调度交易等传统能源电力工业领域的大用户市场模式下，建设系统架构决定了所有系统业务及上溯的所有功能是通用的，因此，硬件资源全部开放，但在电力现货技术支持系统仅针对为中长期市场、现货交易等相关市场搭建，并已完全构建好了基础功能，并达到可投入市场使用的程度。   电力现货技术支持系统在综合考虑体制架构和电网安全运行需要的基础上，提出了由交易中心负责市场注册、交易申报、交易结算、信息发布等与市场交易密切相关环节，由调控中心负责现货和辅助服务交易组织、安全校核等。   基于现货市场属于市场化改革的产物，各地以中长期、短周期电力交易入手，试点一批，并逐步推开，现货市场的市场主体主要包括购售双方、保价保险双方、市场运行管理部门、电力辅助服务供应商、具备市场能力的独立电力辅助服务运营商。   市场交易的产品和服务包括中长期、日前、日内、实时电能量交易、低谷电能交易、辅助服务等，从电源侧出清、电网调度、远期交易、电量平衡、可控负荷控制等几个大的产品类别上进行综合评价。中长期交易主要集中在能效电价的申报、定价、执行等环节，为电力工业的长远发展指明了方向。从成交结果来看，竞争性的中长期交易包括现货市场在内至少形成三个有较大影响力的中标候选，中长期交易标的物涵盖多个电源类别、多种供需模式。目前中长期交易累计成交超过60万亿美元，累计创造就业岗位超过500万个，累计助力中国企业解决近亿千瓦的消纳问题。中长期交易不再局限于投资与中长期的配电网经济合作模式，以前所未有的形式发挥经济规律作用，强调全局观念，充分发挥市场主体积极性，创新市场化方式来调节稀缺能源供给。中长期交易已经成为交易方式一个重要的发展方向。   国家鼓励参与的电力辅助服务原则上包含含大量基荷的调频、调相机、无功补偿等保供电方案，预留一定规模的其他电力辅助服务在现货市场中具体运营，保供稳价所需的非调频'}"
      ]
     },
     "execution_count": 40,
     "metadata": {},
     "output_type": "execute_result"
    }
   ],
   "execution_count": 40
  },
  {
   "metadata": {
    "ExecuteTime": {
     "end_time": "2024-12-11T06:43:59.812735Z",
     "start_time": "2024-12-11T06:43:59.791757Z"
    }
   },
   "cell_type": "code",
   "source": [
    "import json\n",
    "with open(\"response/power_qa_rag_results_qwen_lora.json\", \"w\", encoding='utf-8') as f:\n",
    "   json.dump(rag_results, f, ensure_ascii=False, indent=4)"
   ],
   "id": "bd3566bda9d28d29",
   "outputs": [],
   "execution_count": 41
  }
 ],
 "metadata": {
  "kernelspec": {
   "display_name": "Python 3",
   "language": "python",
   "name": "python3"
  },
  "language_info": {
   "codemirror_mode": {
    "name": "ipython",
    "version": 2
   },
   "file_extension": ".py",
   "mimetype": "text/x-python",
   "name": "python",
   "nbconvert_exporter": "python",
   "pygments_lexer": "ipython2",
   "version": "2.7.6"
  }
 },
 "nbformat": 4,
 "nbformat_minor": 5
}
