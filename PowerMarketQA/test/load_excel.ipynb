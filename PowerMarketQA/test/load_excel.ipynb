{
 "cells": [
  {
   "cell_type": "code",
   "metadata": {
    "ExecuteTime": {
     "end_time": "2025-01-10T05:15:21.922632Z",
     "start_time": "2025-01-10T05:15:20.737418Z"
    }
   },
   "source": [
    "import pandas as pd\n",
    "from datasets import *"
   ],
   "outputs": [],
   "execution_count": 1
  },
  {
   "metadata": {},
   "cell_type": "markdown",
   "source": "### 从csv文件中加载数据集"
  },
  {
   "metadata": {},
   "cell_type": "markdown",
   "source": ""
  },
  {
   "metadata": {
    "ExecuteTime": {
     "end_time": "2024-12-10T10:18:18.718743Z",
     "start_time": "2024-12-10T10:18:18.681689Z"
    }
   },
   "cell_type": "code",
   "source": [
    "data = pd.read_csv(\"../qwen/all_data/电力现货市场百问百答.csv\",encoding='gbk',header=0)\n",
    "data"
   ],
   "outputs": [
    {
     "data": {
      "text/plain": [
       "                           question  \\\n",
       "0                        1.什么是电力市场？   \n",
       "1               2.电力市场与普通商品市场有哪些差异？   \n",
       "2                      3.电力市场有哪些特征？   \n",
       "3                      4.什么是电力市场体系？   \n",
       "4        5.电力现货市场在电力市场体系中的地位和作用是什么？   \n",
       "..                              ...   \n",
       "120       121.现货市场建设为何需要完备的电能量计量系统？   \n",
       "121    122.现货市场建设对电能量计量系统有什么新的技术要求？   \n",
       "122         123.现货市场运营为什么需要对用户表计改造？   \n",
       "123           124.现货市场运营对表计改造有什么要求？   \n",
       "124  125.电力现货技术支持系统与电力交易平台定位与关系是什么？   \n",
       "\n",
       "                                                answer  \n",
       "0    电力市场的定义为：基于市场经济原则，电力市场的定义为基于市场经济原则，为实现电力商品交换的电...  \n",
       "1    电力市场和普通商品市场的差异。电力市场相较于普通商品市场具有显著的特殊性，归根到底就在于电力...  \n",
       "2    电力工业的技术特征和电力商品的特殊性，导致了电力市场的固有特征。1）电力市场服务的广泛性及其...  \n",
       "3    一般而言，电力市场体系是由政府监管下各类电力细分市场有机组合而成的群体系统，包括为构建各细分...  \n",
       "4    电力市场体系建设是一项系统工程，世界上绝大多数电力市场都是以电力现货市场建设起步。电力现货市...  \n",
       "..                                                 ...  \n",
       "120  现货市场建设需要完备的电能量计量系统的原因。现货市场结算需要通过采集市场计量装置的计量数据确...  \n",
       "121  现货市场建设对电能量计量系统的技术要求：电力现货市场对数据采集频率、计量数据准确度、计量数据...  \n",
       "122  现货市场运行需要对用户表计改造的原因。现货市场开启之后，计量周期由月缩短至15min，缩短约...  \n",
       "123  对表计改造的要求。针对符合准入条件（一定电压等级或一定规模）且有参与市场意愿的用户，初期可通...  \n",
       "124  随着中发9号文的发布，我国电力市场改革不断深化，电力交易品种日益丰富，以中长期交易规避风险，...  \n",
       "\n",
       "[125 rows x 2 columns]"
      ],
      "text/html": [
       "<div>\n",
       "<style scoped>\n",
       "    .dataframe tbody tr th:only-of-type {\n",
       "        vertical-align: middle;\n",
       "    }\n",
       "\n",
       "    .dataframe tbody tr th {\n",
       "        vertical-align: top;\n",
       "    }\n",
       "\n",
       "    .dataframe thead th {\n",
       "        text-align: right;\n",
       "    }\n",
       "</style>\n",
       "<table border=\"1\" class=\"dataframe\">\n",
       "  <thead>\n",
       "    <tr style=\"text-align: right;\">\n",
       "      <th></th>\n",
       "      <th>question</th>\n",
       "      <th>answer</th>\n",
       "    </tr>\n",
       "  </thead>\n",
       "  <tbody>\n",
       "    <tr>\n",
       "      <th>0</th>\n",
       "      <td>1.什么是电力市场？</td>\n",
       "      <td>电力市场的定义为：基于市场经济原则，电力市场的定义为基于市场经济原则，为实现电力商品交换的电...</td>\n",
       "    </tr>\n",
       "    <tr>\n",
       "      <th>1</th>\n",
       "      <td>2.电力市场与普通商品市场有哪些差异？</td>\n",
       "      <td>电力市场和普通商品市场的差异。电力市场相较于普通商品市场具有显著的特殊性，归根到底就在于电力...</td>\n",
       "    </tr>\n",
       "    <tr>\n",
       "      <th>2</th>\n",
       "      <td>3.电力市场有哪些特征？</td>\n",
       "      <td>电力工业的技术特征和电力商品的特殊性，导致了电力市场的固有特征。1）电力市场服务的广泛性及其...</td>\n",
       "    </tr>\n",
       "    <tr>\n",
       "      <th>3</th>\n",
       "      <td>4.什么是电力市场体系？</td>\n",
       "      <td>一般而言，电力市场体系是由政府监管下各类电力细分市场有机组合而成的群体系统，包括为构建各细分...</td>\n",
       "    </tr>\n",
       "    <tr>\n",
       "      <th>4</th>\n",
       "      <td>5.电力现货市场在电力市场体系中的地位和作用是什么？</td>\n",
       "      <td>电力市场体系建设是一项系统工程，世界上绝大多数电力市场都是以电力现货市场建设起步。电力现货市...</td>\n",
       "    </tr>\n",
       "    <tr>\n",
       "      <th>...</th>\n",
       "      <td>...</td>\n",
       "      <td>...</td>\n",
       "    </tr>\n",
       "    <tr>\n",
       "      <th>120</th>\n",
       "      <td>121.现货市场建设为何需要完备的电能量计量系统？</td>\n",
       "      <td>现货市场建设需要完备的电能量计量系统的原因。现货市场结算需要通过采集市场计量装置的计量数据确...</td>\n",
       "    </tr>\n",
       "    <tr>\n",
       "      <th>121</th>\n",
       "      <td>122.现货市场建设对电能量计量系统有什么新的技术要求？</td>\n",
       "      <td>现货市场建设对电能量计量系统的技术要求：电力现货市场对数据采集频率、计量数据准确度、计量数据...</td>\n",
       "    </tr>\n",
       "    <tr>\n",
       "      <th>122</th>\n",
       "      <td>123.现货市场运营为什么需要对用户表计改造？</td>\n",
       "      <td>现货市场运行需要对用户表计改造的原因。现货市场开启之后，计量周期由月缩短至15min，缩短约...</td>\n",
       "    </tr>\n",
       "    <tr>\n",
       "      <th>123</th>\n",
       "      <td>124.现货市场运营对表计改造有什么要求？</td>\n",
       "      <td>对表计改造的要求。针对符合准入条件（一定电压等级或一定规模）且有参与市场意愿的用户，初期可通...</td>\n",
       "    </tr>\n",
       "    <tr>\n",
       "      <th>124</th>\n",
       "      <td>125.电力现货技术支持系统与电力交易平台定位与关系是什么？</td>\n",
       "      <td>随着中发9号文的发布，我国电力市场改革不断深化，电力交易品种日益丰富，以中长期交易规避风险，...</td>\n",
       "    </tr>\n",
       "  </tbody>\n",
       "</table>\n",
       "<p>125 rows × 2 columns</p>\n",
       "</div>"
      ]
     },
     "execution_count": 6,
     "metadata": {},
     "output_type": "execute_result"
    }
   ],
   "execution_count": 6
  },
  {
   "metadata": {
    "ExecuteTime": {
     "end_time": "2024-12-09T14:03:18.757391Z",
     "start_time": "2024-12-09T14:03:18.381727Z"
    }
   },
   "cell_type": "code",
   "source": [
    "dataset = load_dataset(\"csv\", data_files=\"../户用光伏建设运行百问百答.csv\", split=\"train\")\n",
    "dataset"
   ],
   "outputs": [
    {
     "ename": "NameError",
     "evalue": "name 'load_dataset' is not defined",
     "output_type": "error",
     "traceback": [
      "\u001B[1;31m---------------------------------------------------------------------------\u001B[0m",
      "\u001B[1;31mNameError\u001B[0m                                 Traceback (most recent call last)",
      "Cell \u001B[1;32mIn[1], line 1\u001B[0m\n\u001B[1;32m----> 1\u001B[0m dataset \u001B[38;5;241m=\u001B[39m \u001B[43mload_dataset\u001B[49m(\u001B[38;5;124m\"\u001B[39m\u001B[38;5;124mcsv\u001B[39m\u001B[38;5;124m\"\u001B[39m, data_files\u001B[38;5;241m=\u001B[39m\u001B[38;5;124m\"\u001B[39m\u001B[38;5;124m../户用光伏建设运行百问百答.csv\u001B[39m\u001B[38;5;124m\"\u001B[39m, split\u001B[38;5;241m=\u001B[39m\u001B[38;5;124m\"\u001B[39m\u001B[38;5;124mtrain\u001B[39m\u001B[38;5;124m\"\u001B[39m)\n\u001B[0;32m      2\u001B[0m dataset\n",
      "\u001B[1;31mNameError\u001B[0m: name 'load_dataset' is not defined"
     ]
    }
   ],
   "execution_count": 1
  },
  {
   "metadata": {
    "ExecuteTime": {
     "end_time": "2024-12-08T10:53:21.773745Z",
     "start_time": "2024-12-08T10:53:21.761646Z"
    }
   },
   "cell_type": "code",
   "source": "dataset",
   "outputs": [
    {
     "data": {
      "text/plain": [
       "'2.电力市场与普通商品市场有哪些差异？'"
      ]
     },
     "execution_count": 9,
     "metadata": {},
     "output_type": "execute_result"
    }
   ],
   "execution_count": 9
  },
  {
   "cell_type": "markdown",
   "metadata": {},
   "source": [
    "### 从表格中加载问题集和答案集"
   ]
  },
  {
   "cell_type": "code",
   "metadata": {
    "ExecuteTime": {
     "end_time": "2025-01-10T05:16:52.395779Z",
     "start_time": "2025-01-10T05:16:52.359780Z"
    }
   },
   "source": [
    "data = pd.read_excel('../户用光伏建设运行百问百答.xlsx',header=None)\n",
    "# data = pd.read_csv(\"..//电力现货市场百问百答.csv\",encoding='gbk',header=None)\n",
    "questions = data.loc[1:,0]\n",
    "answers = data.loc[1:,1]\n"
   ],
   "outputs": [],
   "execution_count": 5
  },
  {
   "metadata": {
    "ExecuteTime": {
     "end_time": "2025-01-10T05:16:54.725091Z",
     "start_time": "2025-01-10T05:16:54.710091Z"
    }
   },
   "cell_type": "code",
   "source": [
    "\n",
    "answers = [ a.replace(\"*\",\"\").replace(\"回答：\",\"\").replace(\"\\n\\n\",\"\\n\") for a in answers]"
   ],
   "outputs": [],
   "execution_count": 6
  },
  {
   "cell_type": "code",
   "metadata": {
    "ExecuteTime": {
     "end_time": "2025-01-10T05:16:56.960711Z",
     "start_time": "2025-01-10T05:16:56.947731Z"
    }
   },
   "source": [
    "QA_list = []\n",
    "for item in zip(questions,answers):\n",
    "    qa = item[0] + '\\n' + item[1]\n",
    "    QA_list.append(qa)\n",
    "\n",
    "print(QA_list[0])"
   ],
   "outputs": [
    {
     "name": "stdout",
     "output_type": "stream",
     "text": [
      "1、什么是光伏发电？什么是分布式光伏系统？\n",
      "\n",
      "光伏发电是一种将太阳光能直接转换为电能的技术。它通过光伏效应实现能量转换，即当阳光照射到半导体材料（如硅）上时，会产生电子-空穴对，从而产生电流。这种发电方式具有无污染、可再生等优点，是目前新能源领域的重要发展方向。\n",
      "分布式光伏系统是指在用户用电场所附近安装的光伏发电系统。它与传统的集中式光伏电站不同，其特点是规模较小、分布广泛。分布式光伏系统一般接入低压配电网，如10千伏或380/220伏，并通过逆变器将直流电转换为交流电后并入电网。其主要功能是实现“自发自用、余电上网”，即在满足自身用电需求的同时，多余的电能可输送至公共电网。\n",
      "具体来说，分布式光伏系统包括以下几个特点：\n",
      "1. 就地消纳：分布式光伏系统产生的电能首先用于满足用户的用电需求，剩余部分再向电网输送。\n",
      "2. 自发自用：用户可以根据自身的用电情况调整光伏发电设备的装机容量，以确保光伏发电量与用电量相匹配。\n",
      "3. 余电上网：当光伏发电量超过用户用电需求时，多余的电能可通过并网线路送入电网，供其他用户使用。\n",
      "4. 全额上网：在某些地区，政府鼓励光伏发电企业将所有发电量都送往电网，以提高光伏发电的利用率。\n",
      "5. 分散布局：分布式光伏系统可以在农村、城市居民区等地方灵活布置，有利于提高光伏发电的普及率。\n",
      "6. 清洁环保：分布式光伏系统在使用过程中不会产生污染物，有助于改善环境质量。\n",
      "总之，分布式光伏系统作为一种新型可再生能源利用方式，在我国得到了迅速发展，对于促进能源结构优化、推动绿色低碳发展具有重要意义。随着技术的不断进步和政策支持力度的加大，分布式光伏系统将在未来发挥更大的作用。\n"
     ]
    }
   ],
   "execution_count": 7
  },
  {
   "metadata": {
    "ExecuteTime": {
     "end_time": "2025-01-10T05:18:56.748244Z",
     "start_time": "2025-01-10T05:18:56.733243Z"
    }
   },
   "cell_type": "code",
   "source": [
    "import csv\n",
    " \n",
    "with open('..//户用光伏建设运行百问百答.csv', 'w',encoding=\"utf-8\") as f:\n",
    "    writer = csv.writer(f)\n",
    "    writer.writerow(['question', 'answer'])\n",
    "    for item in zip(questions,answers):      \n",
    "        writer.writerow([item[0], item[1]])\n"
   ],
   "outputs": [],
   "execution_count": 8
  }
 ],
 "metadata": {
  "kernelspec": {
   "display_name": "my_env",
   "language": "python",
   "name": "python3"
  },
  "language_info": {
   "codemirror_mode": {
    "name": "ipython",
    "version": 3
   },
   "file_extension": ".py",
   "mimetype": "text/x-python",
   "name": "python",
   "nbconvert_exporter": "python",
   "pygments_lexer": "ipython3",
   "version": "3.9.19"
  }
 },
 "nbformat": 4,
 "nbformat_minor": 2
}
