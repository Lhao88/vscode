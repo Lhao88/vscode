{
 "cells": [
  {
   "cell_type": "code",
   "execution_count": 3,
   "metadata": {},
   "outputs": [],
   "source": [
    "import pandas as pd\n",
    "data = pd.read_excel('./电力现货市场QA.xlsx',header=None)\n",
    "questions = data.loc[1:,0]\n",
    "answers = data.loc[1:,1]\n"
   ]
  },
  {
   "cell_type": "markdown",
   "metadata": {},
   "source": [
    "### Step1 导入相关包"
   ]
  },
  {
   "cell_type": "code",
   "execution_count": 1,
   "metadata": {},
   "outputs": [],
   "source": [
    "from langchain_community.llms import BaichuanLLM\n",
    "from langchain_community.vectorstores import FAISS\n",
    "\n",
    "from langchain_community.embeddings import HuggingFaceBgeEmbeddings\n",
    "from langchain.chains import RetrievalQA\n",
    "from langchain.prompts import PromptTemplate\n",
    "from langchain_core.output_parsers import StrOutputParser\n",
    "from langchain_core.runnables import RunnablePassthrough\n",
    "from langchain_core.documents import Document\n",
    "from langchain_core.retrievers import BaseRetriever\n",
    "from langchain_core.callbacks import CallbackManagerForRetrieverRun\n",
    "from typing import List"
   ]
  },
  {
   "cell_type": "markdown",
   "metadata": {},
   "source": [
    "### Step2 加载数据"
   ]
  },
  {
   "cell_type": "code",
   "execution_count": 2,
   "metadata": {},
   "outputs": [],
   "source": [
    "import pandas as pd"
   ]
  },
  {
   "cell_type": "code",
   "execution_count": 3,
   "metadata": {},
   "outputs": [],
   "source": [
    "data = pd.read_excel('./电力现货市场QA.xlsx',header=None)\n",
    "questions = data.loc[1:,0]\n",
    "answers = data.loc[1:,1]"
   ]
  },
  {
   "cell_type": "code",
   "execution_count": 4,
   "metadata": {},
   "outputs": [],
   "source": [
    "check_inputs = {}\n",
    "results = []"
   ]
  },
  {
   "cell_type": "code",
   "execution_count": 5,
   "metadata": {},
   "outputs": [],
   "source": [
    "QA_list = []\n",
    "for index , (q , a)in enumerate(zip(questions,answers)):\n",
    "    qa = q + '\\n' + a\n",
    "    results.append({\"query_id\":index+1,\n",
    "                    \"query\":q,\n",
    "                    \"gt_answer\":a\n",
    "                    })\n",
    "    QA_list.append(qa)\n"
   ]
  },
  {
   "cell_type": "code",
   "execution_count": 6,
   "metadata": {},
   "outputs": [
    {
     "name": "stdout",
     "output_type": "stream",
     "text": [
      "{'query_id': 1, 'query': '1.什么是电力市场？', 'gt_answer': '电力市场的概念。我国关于电力市场的权威解释始见于《中国电力百科全书电力系统卷（第二版）》。电力市场的定义为：基于市场经济原则，电力市场的定义为基于市场经济原则，为实现电力商品交换的电力工业组织结构、经营管理和运行规则的总和。电力市场又是一个具体的执行系统，包括交易场所、交易管理系统、计量和结算系统、信息和通信系统等。上面从组织和实操两个维度对电力市场进行了描绘。通常电力市场包括广义和狭义两种含义。比照商品市场的一般定义，广义的电力市场泛指电力流通交换的领域。按照该含义，自电力作为商品实现交换之日起，电力市场就已经存在。当今在涉及市场规模和范围的语境下，运用的便是广义电力市场的概念。广义的电力市场有着明确的地域和容量指向，电力市场的地理边界可能差异很大，例如单一州（省）域内的电力市场，或者整个国家的电力市场，乃至跨国的电力市场。而这种地理边界受限于电网的覆盖范围，由于电网是电力传输的唯一通道，故多大范围的电网才可能有多大范围的电力市场；电力市场容量也同样存在很大的差异。狭义的电力市场是指现代竞争性的电力市场，《中国电力百科全书》定义的电力市场即为狭义的电力市场，建立电力市场旨在通过开放、竞争等市场手段实现电力能源资源的优化配置。所谓基于市场经济原则主要是指电能生产者和使用者本着公平竞争、自愿互利的原则，通过协商、竞价等方式，就电能及其相关产品进行交易，通过市场竞争确定价格和数量的市场原则。目前广泛讨论的电力市场，除特殊语境下，通常都是指狭义的电力市场。之所以称之为狭义的电力市场，主要原因有二。1）专指现代电力市场，狭义的电力市场兴起于20世纪80年代，是在电力作为商品出现的百年之后，而这百年间，广义电力市场的形态发生了曲折的变迁。电力工业初创期的电力领域是以残酷的市场竞争形态出现的，既有生产方式的竞争（交流与直流之争），也有垂直一体化模式下的电力企业之间抢占市场范围和争夺同一服务地域内的用户之争。这种竞争，一方面有力推动了电力工业的技术进步；另一方面，却也限制了规模经济效益的发挥，并因重复建设等过度竞争而造成资源浪费。因此，20世纪初，电力业态很快从无序竞争状态演变为政府管制或企业自律下的垄断市场形态，尤其是在二次世界大战之后，鉴于恢复经济的需要，大多数国家都采取国家垄断的模式。直至20世纪末，随着电网的发展和技术的进步，电力规模经济的低垂之果几乎已消耗殆尽，加之市场垄断造成的效率低下日渐凸显，且诸多国家政府电力财政补贴的负担日趋沉重，电力处于前所未有的困境，而这一时期，同为垄断行业的航空、石油、天然气、电信等产业的改革取得了令人瞩目的成就，催生了电力工业以建立电力市场为取向的市场化改革，而建立电力市场仅限于在可竞争环节引入竞争，因此也赋予了电力市场现代的含义。2）专指电力商品流通交换的场所、空间及其机制，尽管狭义的电力市场内含电力商品交换所在地、购买方针对性、持续时间、交易流程、政府监管、价格机制、交易合规性、投机强度、市场规模、产业集中度、交易不对称性、波动性等诸多方面并可能有所延伸，涉及电力工业的结构重组和规则重构等内容，但均没有超越电能生产者和使用者之间的交易活动及为满足该交易活动所需的其他活动的范围。鉴于实现电力能源资源的优化配置局限于交换环节，国内有专家学者提出了“泛电力市场”的概念，即在狭义电力市场的基础上，将电力市场化改革领域拓展到规划、投融资、碳交易、环境约束等环节，以实现电力生产、交换相关上下游环节的全链条市场化。电力市场作为电力工业市场化改革的目标模式，因其改革的动因和目标取向不同，以及市场外部环境的差异，呈现出显著的多样性，也使其结构显得格外复杂。世界各地的电力市场，既没有统一的标准供引用，也没有通用的模板可复制，需要结合各自的国情、民情和网情建设和运营。总体上，电力市场有批发市场（wholesalemarket）与零售市场（retailmarket）之分。在电力批发市场中，我国《关于进一步深化电力体制改革的若干意见》（中发〔2015〕9号）（简称中发9号文）配套文件将其分为中长期市场和现货市场，并综合考虑时间维度和交易标的，明确指出：“电力中长期市场主要开展多年、年、季、月、周等日以上电能量交易和可中断负荷、调压等辅助服务交易。电力现货市场主要开展日前、日内、实时电能量交易和备用、调频等辅助服务交易。条件成熟时，探索开展容量市场、电力期货和衍生品等交易。”一般而言，电力批发市场可以按市场性质、交易品种、交易时间、竞争模式等维度进一步细分，各分类市场的知识将在后续问题讨论中详述。'}\n"
     ]
    }
   ],
   "source": [
    "print(results[0])"
   ]
  },
  {
   "cell_type": "code",
   "execution_count": 7,
   "metadata": {},
   "outputs": [
    {
     "data": {
      "text/plain": [
       "Document(metadata={'source': 'PowerMarketQA\\\\电力现货市场101问.xlsx', 'order': 1}, page_content='1.什么是电力市场？\\n电力市场的概念。我国关于电力市场的权威解释始见于《中国电力百科全书电力系统卷（第二版）》。电力市场的定义为：基于市场经济原则，电力市场的定义为基于市场经济原则，为实现电力商品交换的电力工业组织结构、经营管理和运行规则的总和。电力市场又是一个具体的执行系统，包括交易场所、交易管理系统、计量和结算系统、信息和通信系统等。上面从组织和实操两个维度对电力市场进行了描绘。通常电力市场包括广义和狭义两种含义。比照商品市场的一般定义，广义的电力市场泛指电力流通交换的领域。按照该含义，自电力作为商品实现交换之日起，电力市场就已经存在。当今在涉及市场规模和范围的语境下，运用的便是广义电力市场的概念。广义的电力市场有着明确的地域和容量指向，电力市场的地理边界可能差异很大，例如单一州（省）域内的电力市场，或者整个国家的电力市场，乃至跨国的电力市场。而这种地理边界受限于电网的覆盖范围，由于电网是电力传输的唯一通道，故多大范围的电网才可能有多大范围的电力市场；电力市场容量也同样存在很大的差异。狭义的电力市场是指现代竞争性的电力市场，《中国电力百科全书》定义的电力市场即为狭义的电力市场，建立电力市场旨在通过开放、竞争等市场手段实现电力能源资源的优化配置。所谓基于市场经济原则主要是指电能生产者和使用者本着公平竞争、自愿互利的原则，通过协商、竞价等方式，就电能及其相关产品进行交易，通过市场竞争确定价格和数量的市场原则。目前广泛讨论的电力市场，除特殊语境下，通常都是指狭义的电力市场。之所以称之为狭义的电力市场，主要原因有二。1）专指现代电力市场，狭义的电力市场兴起于20世纪80年代，是在电力作为商品出现的百年之后，而这百年间，广义电力市场的形态发生了曲折的变迁。电力工业初创期的电力领域是以残酷的市场竞争形态出现的，既有生产方式的竞争（交流与直流之争），也有垂直一体化模式下的电力企业之间抢占市场范围和争夺同一服务地域内的用户之争。这种竞争，一方面有力推动了电力工业的技术进步；另一方面，却也限制了规模经济效益的发挥，并因重复建设等过度竞争而造成资源浪费。因此，20世纪初，电力业态很快从无序竞争状态演变为政府管制或企业自律下的垄断市场形态，尤其是在二次世界大战之后，鉴于恢复经济的需要，大多数国家都采取国家垄断的模式。直至20世纪末，随着电网的发展和技术的进步，电力规模经济的低垂之果几乎已消耗殆尽，加之市场垄断造成的效率低下日渐凸显，且诸多国家政府电力财政补贴的负担日趋沉重，电力处于前所未有的困境，而这一时期，同为垄断行业的航空、石油、天然气、电信等产业的改革取得了令人瞩目的成就，催生了电力工业以建立电力市场为取向的市场化改革，而建立电力市场仅限于在可竞争环节引入竞争，因此也赋予了电力市场现代的含义。2）专指电力商品流通交换的场所、空间及其机制，尽管狭义的电力市场内含电力商品交换所在地、购买方针对性、持续时间、交易流程、政府监管、价格机制、交易合规性、投机强度、市场规模、产业集中度、交易不对称性、波动性等诸多方面并可能有所延伸，涉及电力工业的结构重组和规则重构等内容，但均没有超越电能生产者和使用者之间的交易活动及为满足该交易活动所需的其他活动的范围。鉴于实现电力能源资源的优化配置局限于交换环节，国内有专家学者提出了“泛电力市场”的概念，即在狭义电力市场的基础上，将电力市场化改革领域拓展到规划、投融资、碳交易、环境约束等环节，以实现电力生产、交换相关上下游环节的全链条市场化。电力市场作为电力工业市场化改革的目标模式，因其改革的动因和目标取向不同，以及市场外部环境的差异，呈现出显著的多样性，也使其结构显得格外复杂。世界各地的电力市场，既没有统一的标准供引用，也没有通用的模板可复制，需要结合各自的国情、民情和网情建设和运营。总体上，电力市场有批发市场（wholesalemarket）与零售市场（retailmarket）之分。在电力批发市场中，我国《关于进一步深化电力体制改革的若干意见》（中发〔2015〕9号）（简称中发9号文）配套文件将其分为中长期市场和现货市场，并综合考虑时间维度和交易标的，明确指出：“电力中长期市场主要开展多年、年、季、月、周等日以上电能量交易和可中断负荷、调压等辅助服务交易。电力现货市场主要开展日前、日内、实时电能量交易和备用、调频等辅助服务交易。条件成熟时，探索开展容量市场、电力期货和衍生品等交易。”一般而言，电力批发市场可以按市场性质、交易品种、交易时间、竞争模式等维度进一步细分，各分类市场的知识将在后续问题讨论中详述。')"
      ]
     },
     "execution_count": 7,
     "metadata": {},
     "output_type": "execute_result"
    }
   ],
   "source": [
    "# 将分割后的文本块封装成Document类\n",
    "docs_after_split = []\n",
    "for i in range(0,len(QA_list)):\n",
    "    qa_doc = Document(page_content=QA_list[i], metadata={\"source\": \"PowerMarketQA\\电力现货市场101问.xlsx\",\"order\":i+1})\n",
    "    docs_after_split.append(qa_doc)\n",
    "\n",
    "docs_after_split[0]"
   ]
  },
  {
   "cell_type": "markdown",
   "metadata": {},
   "source": [
    "### Step3 创建向量数据库"
   ]
  },
  {
   "cell_type": "code",
   "execution_count": 8,
   "metadata": {},
   "outputs": [
    {
     "name": "stderr",
     "output_type": "stream",
     "text": [
      "d:\\Download\\miniconda3\\envs\\py3.9\\lib\\site-packages\\tqdm\\auto.py:21: TqdmWarning: IProgress not found. Please update jupyter and ipywidgets. See https://ipywidgets.readthedocs.io/en/stable/user_install.html\n",
      "  from .autonotebook import tqdm as notebook_tqdm\n"
     ]
    }
   ],
   "source": [
    "# 从过往工作经验看，embedding对于rag效果影响比较大，一般首选还是openai embedding做这一部分，开源的效果很一般\n",
    "huggingface_embeddings = HuggingFaceBgeEmbeddings(\n",
    "    model_name=\"moka-ai/m3e-base\",  # 使用m3e模型做embeddding\n",
    "    model_kwargs={'device':0},\n",
    "    encode_kwargs={'normalize_embeddings': True}\n",
    ")"
   ]
  },
  {
   "cell_type": "code",
   "execution_count": 9,
   "metadata": {},
   "outputs": [],
   "source": [
    "vectorstore = FAISS.from_documents(docs_after_split, huggingface_embeddings)"
   ]
  },
  {
   "cell_type": "markdown",
   "metadata": {},
   "source": [
    "### Step4 创建QA链"
   ]
  },
  {
   "cell_type": "code",
   "execution_count": 10,
   "metadata": {},
   "outputs": [
    {
     "name": "stdout",
     "output_type": "stream",
     "text": [
      "检索到的第1个内容: \n",
      " 34.输配电价对现货市场有什么影响？\n",
      "输配电价机制对电力现货市场的影响。输配电价机制是电力市场机制的重要部分，同样也是影响电力现货市场的重要因素。一般来说，电力现货市场的设计目标是理顺电力价格的形成机制，提高能源利用效率，降低电力成本，促进节能环保。电力现货市场设计应能够通过发现完整的电力价格信号，引导市场主体开展电力交易，为资源优化配置、规划投资提供可量化的参考依据，实现电力市场交易与电力系统实际运行的高效匹配。其核心是发现完整的电力价格信号。输配电价机制会影响电力现货市场设计，影响参与现货市场的市场主体的收益，进而会影响电力现货市场运行，主要表现在以下方面。1）输配电价机制影响电力现货市场设计。电价形成是电力市场的核心，涉及发电厂商、电网企业以及电力用户的利益。输配电价是电力产业价格链的中间环节，合理的输配电价机制是电力现货市场的基础和关键，它需要反映电力生产的真实成本和市场供需关系，从而为各市场成员提供明确的价格信号，正确引导市场消费和电力投资，优化社会资源的配置。2）输配电价机制影响参与现货市场的市场主体的收益。电价体系分为上网电价、输配电价和销售电价，在市场化的电力体制中，上网电价和销售电价由竞争产生，而输配电价往往由监管机构进行独立核定。但输配电价形成和分摊会影响市场主体参与现货市场的竞争方式，进而影响现货市场的市场主体的收益。3）输配电价机制会影响电力现货市场运行。合理的输配电价是电力市场有效运作的必要条件，输配电价空间会受到上网电价和销售电价的制约，如果电网合理成本的回收、合理收益的获取得不到根本保证，会严重地影响电网建设资本金的筹集。合理的输配电费用定价和分摊有利于向电力交易主体提供有效的经济信号，促进电力资源优化配置，并促进电网企业更有效地管理、规划输配电资源。\n",
      "-----------------------------------------------------\n",
      "检索到的第2个内容: \n",
      " 28.什么是现货市场中的再调度法？\n",
      "再调度法（re-dispatch）是一种实时消除阻塞的方法，这种阻塞管理方法不直接改变日前市场中标的发电量和价格，而是一个独立、自愿参与的市场，发电机组可以在其日前发电计划的基础上，对向上或向下调整的发电量进行报价，即机组的上调、下调报价，并在实际调用后获得收益。（1）再调度法原理。系统运营商作为再调度市场的唯一买方，根据机组报价、出力约束、线路潮流分布因子等约束条件，以系统再次调节成本最低为目标，安排发电机组调整计划。具体来说，当系统发生阻塞时，在阻塞线路受端，需要对未调度发电机组按报价由低到高的顺序安排机组发电，这部分机组称为限上（constrained-on）机组，对于限上机组的多发电量按机组上调报价进行结算；在阻塞线路送端，对已经安排调度计划的发电机组按报价由高到低的顺序安排机组停发或少发电，这部分机组称为限下（constrained-off）机组，限下机组的少发电量按系统边际电价和下调报价之差进行补偿。再调度产生的阻塞成本由两部分组成：①限上机组参与再调度的上调报价和日前市场出清边际电价的差值；②限下机组回购发电量的报价与日前市场中出清边际电价的价差。阻塞成本由系统运营商直接承担，并最终通过输电费用向用户进行分摊。\n",
      "-----------------------------------------------------\n",
      "检索到的第3个内容: \n",
      " 112.负荷预测在现货市场中的作用？\n",
      "电力现货市场指日前及更短时间内的电能量交易市场，主要利用短期、超短期负荷预测，用于支撑日前市场与实时市场的出清计算。系统负荷预测和母线负荷预测结果是现货市场的基础数据。日前市场基于短期负荷预测，同时考虑电网运行可靠性与运行备用需求，在此基础上确定次日机组开机组合及出力计划；实时市场则基于超短期负荷预测，确定机组实时计算周期的出力结果。系统负荷预测决定了市场的总发电容量需求，也是系统边际价格的关键依据。系统负荷预测的结果及其准确度直接影响市场供需情况，若系统负荷预测结果偏差较大，会使市场出清结果偏离电网实际运行情况，从而使得计算失去意义。母线负荷预测直接影响了安全校核的准确性，也是节点边际电价的计算依据。节点边际电价作为市场价格信号，能够反映电能在不同时间、不同节点的价值，母线负荷预测的结果及其准确度直接影响电网阻塞情况。节点边际电价是依据母线负荷而非系统负荷计算得出，若母线负荷预测结果偏差较大，会使节点电价结果失真，影响现货市场的有效性。准确的负荷预测对电力系统控制、运行和现货市场非常重要。\n",
      "-----------------------------------------------------\n"
     ]
    }
   ],
   "source": [
    "query = \"\"\"输配电价对现货市场有什么影响？\"\"\"\n",
    "         # Sample question, change to other questions you are interested in.\n",
    "relevant_documents = vectorstore.similarity_search(query,k=3)\n",
    "for i, doc in enumerate(relevant_documents):\n",
    "    print(f\"检索到的第{i+1}个内容: \\n {doc.page_content}\", end=\"\\n-----------------------------------------------------\\n\")\n",
    "\n",
    "\n",
    "# 从这一步看，已经很清晰rag的原理了，即从大量文件索引找到top k相关的text块，供下一步LLM查找、总结答案"
   ]
  },
  {
   "cell_type": "code",
   "execution_count": 11,
   "metadata": {},
   "outputs": [],
   "source": [
    "# 创建检索器\n",
    "retriever = vectorstore.as_retriever(search_type=\"similarity\", search_kwargs={\"k\": 3})"
   ]
  },
  {
   "cell_type": "code",
   "execution_count": 15,
   "metadata": {},
   "outputs": [
    {
     "name": "stderr",
     "output_type": "stream",
     "text": [
      "A new version of the following files was downloaded from https://huggingface.co/THUDM/chatglm3-6b:\n",
      "- tokenization_chatglm.py\n",
      ". Make sure to double-check they do not contain any added malicious code. To avoid downloading new versions of the code file, you can pin a revision.\n",
      "Setting eos_token is not supported, use the default one.\n",
      "Setting pad_token is not supported, use the default one.\n",
      "Setting unk_token is not supported, use the default one.\n",
      "A new version of the following files was downloaded from https://huggingface.co/THUDM/chatglm3-6b:\n",
      "- configuration_chatglm.py\n",
      ". Make sure to double-check they do not contain any added malicious code. To avoid downloading new versions of the code file, you can pin a revision.\n",
      "A new version of the following files was downloaded from https://huggingface.co/THUDM/chatglm3-6b:\n",
      "- quantization.py\n",
      ". Make sure to double-check they do not contain any added malicious code. To avoid downloading new versions of the code file, you can pin a revision.\n",
      "A new version of the following files was downloaded from https://huggingface.co/THUDM/chatglm3-6b:\n",
      "- modeling_chatglm.py\n",
      "- quantization.py\n",
      ". Make sure to double-check they do not contain any added malicious code. To avoid downloading new versions of the code file, you can pin a revision.\n",
      "Downloading shards:   0%|          | 0/7 [01:02<?, ?it/s]\n"
     ]
    },
    {
     "ename": "KeyboardInterrupt",
     "evalue": "",
     "output_type": "error",
     "traceback": [
      "\u001b[1;31m---------------------------------------------------------------------------\u001b[0m",
      "\u001b[1;31mKeyboardInterrupt\u001b[0m                         Traceback (most recent call last)",
      "Cell \u001b[1;32mIn[15], line 3\u001b[0m\n\u001b[0;32m      1\u001b[0m \u001b[38;5;28;01mfrom\u001b[39;00m \u001b[38;5;21;01mtransformers\u001b[39;00m \u001b[38;5;28;01mimport\u001b[39;00m AutoTokenizer, AutoModel\n\u001b[0;32m      2\u001b[0m tokenizer \u001b[38;5;241m=\u001b[39m AutoTokenizer\u001b[38;5;241m.\u001b[39mfrom_pretrained(\u001b[38;5;124m\"\u001b[39m\u001b[38;5;124mTHUDM/chatglm3-6b\u001b[39m\u001b[38;5;124m\"\u001b[39m, trust_remote_code\u001b[38;5;241m=\u001b[39m\u001b[38;5;28;01mTrue\u001b[39;00m)\n\u001b[1;32m----> 3\u001b[0m model \u001b[38;5;241m=\u001b[39m \u001b[43mAutoModel\u001b[49m\u001b[38;5;241;43m.\u001b[39;49m\u001b[43mfrom_pretrained\u001b[49m\u001b[43m(\u001b[49m\u001b[38;5;124;43m\"\u001b[39;49m\u001b[38;5;124;43mTHUDM/chatglm3-6b\u001b[39;49m\u001b[38;5;124;43m\"\u001b[39;49m\u001b[43m,\u001b[49m\u001b[43m \u001b[49m\u001b[43mtrust_remote_code\u001b[49m\u001b[38;5;241;43m=\u001b[39;49m\u001b[38;5;28;43;01mTrue\u001b[39;49;00m\u001b[43m)\u001b[49m\u001b[38;5;241m.\u001b[39mhalf()\u001b[38;5;241m.\u001b[39mcuda()\n\u001b[0;32m      4\u001b[0m model \u001b[38;5;241m=\u001b[39m model\u001b[38;5;241m.\u001b[39meval()\n",
      "File \u001b[1;32md:\\Download\\miniconda3\\envs\\py3.9\\lib\\site-packages\\transformers\\models\\auto\\auto_factory.py:559\u001b[0m, in \u001b[0;36m_BaseAutoModelClass.from_pretrained\u001b[1;34m(cls, pretrained_model_name_or_path, *model_args, **kwargs)\u001b[0m\n\u001b[0;32m    557\u001b[0m     \u001b[38;5;28mcls\u001b[39m\u001b[38;5;241m.\u001b[39mregister(config\u001b[38;5;241m.\u001b[39m\u001b[38;5;18m__class__\u001b[39m, model_class, exist_ok\u001b[38;5;241m=\u001b[39m\u001b[38;5;28;01mTrue\u001b[39;00m)\n\u001b[0;32m    558\u001b[0m     model_class \u001b[38;5;241m=\u001b[39m add_generation_mixin_to_remote_model(model_class)\n\u001b[1;32m--> 559\u001b[0m     \u001b[38;5;28;01mreturn\u001b[39;00m model_class\u001b[38;5;241m.\u001b[39mfrom_pretrained(\n\u001b[0;32m    560\u001b[0m         pretrained_model_name_or_path, \u001b[38;5;241m*\u001b[39mmodel_args, config\u001b[38;5;241m=\u001b[39mconfig, \u001b[38;5;241m*\u001b[39m\u001b[38;5;241m*\u001b[39mhub_kwargs, \u001b[38;5;241m*\u001b[39m\u001b[38;5;241m*\u001b[39mkwargs\n\u001b[0;32m    561\u001b[0m     )\n\u001b[0;32m    562\u001b[0m \u001b[38;5;28;01melif\u001b[39;00m \u001b[38;5;28mtype\u001b[39m(config) \u001b[38;5;129;01min\u001b[39;00m \u001b[38;5;28mcls\u001b[39m\u001b[38;5;241m.\u001b[39m_model_mapping\u001b[38;5;241m.\u001b[39mkeys():\n\u001b[0;32m    563\u001b[0m     model_class \u001b[38;5;241m=\u001b[39m _get_model_class(config, \u001b[38;5;28mcls\u001b[39m\u001b[38;5;241m.\u001b[39m_model_mapping)\n",
      "File \u001b[1;32md:\\Download\\miniconda3\\envs\\py3.9\\lib\\site-packages\\transformers\\modeling_utils.py:3974\u001b[0m, in \u001b[0;36mPreTrainedModel.from_pretrained\u001b[1;34m(cls, pretrained_model_name_or_path, config, cache_dir, ignore_mismatched_sizes, force_download, local_files_only, token, revision, use_safetensors, weights_only, *model_args, **kwargs)\u001b[0m\n\u001b[0;32m   3971\u001b[0m \u001b[38;5;66;03m# We'll need to download and cache each checkpoint shard if the checkpoint is sharded.\u001b[39;00m\n\u001b[0;32m   3972\u001b[0m \u001b[38;5;28;01mif\u001b[39;00m is_sharded:\n\u001b[0;32m   3973\u001b[0m     \u001b[38;5;66;03m# resolved_archive_file becomes a list of files that point to the different checkpoint shards in this case.\u001b[39;00m\n\u001b[1;32m-> 3974\u001b[0m     resolved_archive_file, sharded_metadata \u001b[38;5;241m=\u001b[39m \u001b[43mget_checkpoint_shard_files\u001b[49m\u001b[43m(\u001b[49m\n\u001b[0;32m   3975\u001b[0m \u001b[43m        \u001b[49m\u001b[43mpretrained_model_name_or_path\u001b[49m\u001b[43m,\u001b[49m\n\u001b[0;32m   3976\u001b[0m \u001b[43m        \u001b[49m\u001b[43mresolved_archive_file\u001b[49m\u001b[43m,\u001b[49m\n\u001b[0;32m   3977\u001b[0m \u001b[43m        \u001b[49m\u001b[43mcache_dir\u001b[49m\u001b[38;5;241;43m=\u001b[39;49m\u001b[43mcache_dir\u001b[49m\u001b[43m,\u001b[49m\n\u001b[0;32m   3978\u001b[0m \u001b[43m        \u001b[49m\u001b[43mforce_download\u001b[49m\u001b[38;5;241;43m=\u001b[39;49m\u001b[43mforce_download\u001b[49m\u001b[43m,\u001b[49m\n\u001b[0;32m   3979\u001b[0m \u001b[43m        \u001b[49m\u001b[43mproxies\u001b[49m\u001b[38;5;241;43m=\u001b[39;49m\u001b[43mproxies\u001b[49m\u001b[43m,\u001b[49m\n\u001b[0;32m   3980\u001b[0m \u001b[43m        \u001b[49m\u001b[43mresume_download\u001b[49m\u001b[38;5;241;43m=\u001b[39;49m\u001b[43mresume_download\u001b[49m\u001b[43m,\u001b[49m\n\u001b[0;32m   3981\u001b[0m \u001b[43m        \u001b[49m\u001b[43mlocal_files_only\u001b[49m\u001b[38;5;241;43m=\u001b[39;49m\u001b[43mlocal_files_only\u001b[49m\u001b[43m,\u001b[49m\n\u001b[0;32m   3982\u001b[0m \u001b[43m        \u001b[49m\u001b[43mtoken\u001b[49m\u001b[38;5;241;43m=\u001b[39;49m\u001b[43mtoken\u001b[49m\u001b[43m,\u001b[49m\n\u001b[0;32m   3983\u001b[0m \u001b[43m        \u001b[49m\u001b[43muser_agent\u001b[49m\u001b[38;5;241;43m=\u001b[39;49m\u001b[43muser_agent\u001b[49m\u001b[43m,\u001b[49m\n\u001b[0;32m   3984\u001b[0m \u001b[43m        \u001b[49m\u001b[43mrevision\u001b[49m\u001b[38;5;241;43m=\u001b[39;49m\u001b[43mrevision\u001b[49m\u001b[43m,\u001b[49m\n\u001b[0;32m   3985\u001b[0m \u001b[43m        \u001b[49m\u001b[43msubfolder\u001b[49m\u001b[38;5;241;43m=\u001b[39;49m\u001b[43msubfolder\u001b[49m\u001b[43m,\u001b[49m\n\u001b[0;32m   3986\u001b[0m \u001b[43m        \u001b[49m\u001b[43m_commit_hash\u001b[49m\u001b[38;5;241;43m=\u001b[39;49m\u001b[43mcommit_hash\u001b[49m\u001b[43m,\u001b[49m\n\u001b[0;32m   3987\u001b[0m \u001b[43m    \u001b[49m\u001b[43m)\u001b[49m\n\u001b[0;32m   3989\u001b[0m \u001b[38;5;28;01mif\u001b[39;00m (\n\u001b[0;32m   3990\u001b[0m     is_safetensors_available()\n\u001b[0;32m   3991\u001b[0m     \u001b[38;5;129;01mand\u001b[39;00m \u001b[38;5;28misinstance\u001b[39m(resolved_archive_file, \u001b[38;5;28mstr\u001b[39m)\n\u001b[0;32m   3992\u001b[0m     \u001b[38;5;129;01mand\u001b[39;00m resolved_archive_file\u001b[38;5;241m.\u001b[39mendswith(\u001b[38;5;124m\"\u001b[39m\u001b[38;5;124m.safetensors\u001b[39m\u001b[38;5;124m\"\u001b[39m)\n\u001b[0;32m   3993\u001b[0m ):\n\u001b[0;32m   3994\u001b[0m     \u001b[38;5;28;01mwith\u001b[39;00m safe_open(resolved_archive_file, framework\u001b[38;5;241m=\u001b[39m\u001b[38;5;124m\"\u001b[39m\u001b[38;5;124mpt\u001b[39m\u001b[38;5;124m\"\u001b[39m) \u001b[38;5;28;01mas\u001b[39;00m f:\n",
      "File \u001b[1;32md:\\Download\\miniconda3\\envs\\py3.9\\lib\\site-packages\\transformers\\utils\\hub.py:1098\u001b[0m, in \u001b[0;36mget_checkpoint_shard_files\u001b[1;34m(pretrained_model_name_or_path, index_filename, cache_dir, force_download, proxies, resume_download, local_files_only, token, user_agent, revision, subfolder, _commit_hash, **deprecated_kwargs)\u001b[0m\n\u001b[0;32m   1095\u001b[0m \u001b[38;5;28;01mfor\u001b[39;00m shard_filename \u001b[38;5;129;01min\u001b[39;00m tqdm(shard_filenames, desc\u001b[38;5;241m=\u001b[39m\u001b[38;5;124m\"\u001b[39m\u001b[38;5;124mDownloading shards\u001b[39m\u001b[38;5;124m\"\u001b[39m, disable\u001b[38;5;241m=\u001b[39m\u001b[38;5;129;01mnot\u001b[39;00m show_progress_bar):\n\u001b[0;32m   1096\u001b[0m     \u001b[38;5;28;01mtry\u001b[39;00m:\n\u001b[0;32m   1097\u001b[0m         \u001b[38;5;66;03m# Load from URL\u001b[39;00m\n\u001b[1;32m-> 1098\u001b[0m         cached_filename \u001b[38;5;241m=\u001b[39m \u001b[43mcached_file\u001b[49m\u001b[43m(\u001b[49m\n\u001b[0;32m   1099\u001b[0m \u001b[43m            \u001b[49m\u001b[43mpretrained_model_name_or_path\u001b[49m\u001b[43m,\u001b[49m\n\u001b[0;32m   1100\u001b[0m \u001b[43m            \u001b[49m\u001b[43mshard_filename\u001b[49m\u001b[43m,\u001b[49m\n\u001b[0;32m   1101\u001b[0m \u001b[43m            \u001b[49m\u001b[43mcache_dir\u001b[49m\u001b[38;5;241;43m=\u001b[39;49m\u001b[43mcache_dir\u001b[49m\u001b[43m,\u001b[49m\n\u001b[0;32m   1102\u001b[0m \u001b[43m            \u001b[49m\u001b[43mforce_download\u001b[49m\u001b[38;5;241;43m=\u001b[39;49m\u001b[43mforce_download\u001b[49m\u001b[43m,\u001b[49m\n\u001b[0;32m   1103\u001b[0m \u001b[43m            \u001b[49m\u001b[43mproxies\u001b[49m\u001b[38;5;241;43m=\u001b[39;49m\u001b[43mproxies\u001b[49m\u001b[43m,\u001b[49m\n\u001b[0;32m   1104\u001b[0m \u001b[43m            \u001b[49m\u001b[43mresume_download\u001b[49m\u001b[38;5;241;43m=\u001b[39;49m\u001b[43mresume_download\u001b[49m\u001b[43m,\u001b[49m\n\u001b[0;32m   1105\u001b[0m \u001b[43m            \u001b[49m\u001b[43mlocal_files_only\u001b[49m\u001b[38;5;241;43m=\u001b[39;49m\u001b[43mlocal_files_only\u001b[49m\u001b[43m,\u001b[49m\n\u001b[0;32m   1106\u001b[0m \u001b[43m            \u001b[49m\u001b[43mtoken\u001b[49m\u001b[38;5;241;43m=\u001b[39;49m\u001b[43mtoken\u001b[49m\u001b[43m,\u001b[49m\n\u001b[0;32m   1107\u001b[0m \u001b[43m            \u001b[49m\u001b[43muser_agent\u001b[49m\u001b[38;5;241;43m=\u001b[39;49m\u001b[43muser_agent\u001b[49m\u001b[43m,\u001b[49m\n\u001b[0;32m   1108\u001b[0m \u001b[43m            \u001b[49m\u001b[43mrevision\u001b[49m\u001b[38;5;241;43m=\u001b[39;49m\u001b[43mrevision\u001b[49m\u001b[43m,\u001b[49m\n\u001b[0;32m   1109\u001b[0m \u001b[43m            \u001b[49m\u001b[43msubfolder\u001b[49m\u001b[38;5;241;43m=\u001b[39;49m\u001b[43msubfolder\u001b[49m\u001b[43m,\u001b[49m\n\u001b[0;32m   1110\u001b[0m \u001b[43m            \u001b[49m\u001b[43m_commit_hash\u001b[49m\u001b[38;5;241;43m=\u001b[39;49m\u001b[43m_commit_hash\u001b[49m\u001b[43m,\u001b[49m\n\u001b[0;32m   1111\u001b[0m \u001b[43m        \u001b[49m\u001b[43m)\u001b[49m\n\u001b[0;32m   1112\u001b[0m     \u001b[38;5;66;03m# We have already dealt with RepositoryNotFoundError and RevisionNotFoundError when getting the index, so\u001b[39;00m\n\u001b[0;32m   1113\u001b[0m     \u001b[38;5;66;03m# we don't have to catch them here.\u001b[39;00m\n\u001b[0;32m   1114\u001b[0m     \u001b[38;5;28;01mexcept\u001b[39;00m EntryNotFoundError:\n",
      "File \u001b[1;32md:\\Download\\miniconda3\\envs\\py3.9\\lib\\site-packages\\transformers\\utils\\hub.py:403\u001b[0m, in \u001b[0;36mcached_file\u001b[1;34m(path_or_repo_id, filename, cache_dir, force_download, resume_download, proxies, token, revision, local_files_only, subfolder, repo_type, user_agent, _raise_exceptions_for_gated_repo, _raise_exceptions_for_missing_entries, _raise_exceptions_for_connection_errors, _commit_hash, **deprecated_kwargs)\u001b[0m\n\u001b[0;32m    400\u001b[0m user_agent \u001b[38;5;241m=\u001b[39m http_user_agent(user_agent)\n\u001b[0;32m    401\u001b[0m \u001b[38;5;28;01mtry\u001b[39;00m:\n\u001b[0;32m    402\u001b[0m     \u001b[38;5;66;03m# Load from URL or cache if already cached\u001b[39;00m\n\u001b[1;32m--> 403\u001b[0m     resolved_file \u001b[38;5;241m=\u001b[39m \u001b[43mhf_hub_download\u001b[49m\u001b[43m(\u001b[49m\n\u001b[0;32m    404\u001b[0m \u001b[43m        \u001b[49m\u001b[43mpath_or_repo_id\u001b[49m\u001b[43m,\u001b[49m\n\u001b[0;32m    405\u001b[0m \u001b[43m        \u001b[49m\u001b[43mfilename\u001b[49m\u001b[43m,\u001b[49m\n\u001b[0;32m    406\u001b[0m \u001b[43m        \u001b[49m\u001b[43msubfolder\u001b[49m\u001b[38;5;241;43m=\u001b[39;49m\u001b[38;5;28;43;01mNone\u001b[39;49;00m\u001b[43m \u001b[49m\u001b[38;5;28;43;01mif\u001b[39;49;00m\u001b[43m \u001b[49m\u001b[38;5;28;43mlen\u001b[39;49m\u001b[43m(\u001b[49m\u001b[43msubfolder\u001b[49m\u001b[43m)\u001b[49m\u001b[43m \u001b[49m\u001b[38;5;241;43m==\u001b[39;49m\u001b[43m \u001b[49m\u001b[38;5;241;43m0\u001b[39;49m\u001b[43m \u001b[49m\u001b[38;5;28;43;01melse\u001b[39;49;00m\u001b[43m \u001b[49m\u001b[43msubfolder\u001b[49m\u001b[43m,\u001b[49m\n\u001b[0;32m    407\u001b[0m \u001b[43m        \u001b[49m\u001b[43mrepo_type\u001b[49m\u001b[38;5;241;43m=\u001b[39;49m\u001b[43mrepo_type\u001b[49m\u001b[43m,\u001b[49m\n\u001b[0;32m    408\u001b[0m \u001b[43m        \u001b[49m\u001b[43mrevision\u001b[49m\u001b[38;5;241;43m=\u001b[39;49m\u001b[43mrevision\u001b[49m\u001b[43m,\u001b[49m\n\u001b[0;32m    409\u001b[0m \u001b[43m        \u001b[49m\u001b[43mcache_dir\u001b[49m\u001b[38;5;241;43m=\u001b[39;49m\u001b[43mcache_dir\u001b[49m\u001b[43m,\u001b[49m\n\u001b[0;32m    410\u001b[0m \u001b[43m        \u001b[49m\u001b[43muser_agent\u001b[49m\u001b[38;5;241;43m=\u001b[39;49m\u001b[43muser_agent\u001b[49m\u001b[43m,\u001b[49m\n\u001b[0;32m    411\u001b[0m \u001b[43m        \u001b[49m\u001b[43mforce_download\u001b[49m\u001b[38;5;241;43m=\u001b[39;49m\u001b[43mforce_download\u001b[49m\u001b[43m,\u001b[49m\n\u001b[0;32m    412\u001b[0m \u001b[43m        \u001b[49m\u001b[43mproxies\u001b[49m\u001b[38;5;241;43m=\u001b[39;49m\u001b[43mproxies\u001b[49m\u001b[43m,\u001b[49m\n\u001b[0;32m    413\u001b[0m \u001b[43m        \u001b[49m\u001b[43mresume_download\u001b[49m\u001b[38;5;241;43m=\u001b[39;49m\u001b[43mresume_download\u001b[49m\u001b[43m,\u001b[49m\n\u001b[0;32m    414\u001b[0m \u001b[43m        \u001b[49m\u001b[43mtoken\u001b[49m\u001b[38;5;241;43m=\u001b[39;49m\u001b[43mtoken\u001b[49m\u001b[43m,\u001b[49m\n\u001b[0;32m    415\u001b[0m \u001b[43m        \u001b[49m\u001b[43mlocal_files_only\u001b[49m\u001b[38;5;241;43m=\u001b[39;49m\u001b[43mlocal_files_only\u001b[49m\u001b[43m,\u001b[49m\n\u001b[0;32m    416\u001b[0m \u001b[43m    \u001b[49m\u001b[43m)\u001b[49m\n\u001b[0;32m    417\u001b[0m \u001b[38;5;28;01mexcept\u001b[39;00m GatedRepoError \u001b[38;5;28;01mas\u001b[39;00m e:\n\u001b[0;32m    418\u001b[0m     resolved_file \u001b[38;5;241m=\u001b[39m _get_cache_file_to_return(path_or_repo_id, full_filename, cache_dir, revision)\n",
      "File \u001b[1;32md:\\Download\\miniconda3\\envs\\py3.9\\lib\\site-packages\\huggingface_hub\\utils\\_validators.py:114\u001b[0m, in \u001b[0;36mvalidate_hf_hub_args.<locals>._inner_fn\u001b[1;34m(*args, **kwargs)\u001b[0m\n\u001b[0;32m    111\u001b[0m \u001b[38;5;28;01mif\u001b[39;00m check_use_auth_token:\n\u001b[0;32m    112\u001b[0m     kwargs \u001b[38;5;241m=\u001b[39m smoothly_deprecate_use_auth_token(fn_name\u001b[38;5;241m=\u001b[39mfn\u001b[38;5;241m.\u001b[39m\u001b[38;5;18m__name__\u001b[39m, has_token\u001b[38;5;241m=\u001b[39mhas_token, kwargs\u001b[38;5;241m=\u001b[39mkwargs)\n\u001b[1;32m--> 114\u001b[0m \u001b[38;5;28;01mreturn\u001b[39;00m fn(\u001b[38;5;241m*\u001b[39margs, \u001b[38;5;241m*\u001b[39m\u001b[38;5;241m*\u001b[39mkwargs)\n",
      "File \u001b[1;32md:\\Download\\miniconda3\\envs\\py3.9\\lib\\site-packages\\huggingface_hub\\file_download.py:862\u001b[0m, in \u001b[0;36mhf_hub_download\u001b[1;34m(repo_id, filename, subfolder, repo_type, revision, library_name, library_version, cache_dir, local_dir, user_agent, force_download, proxies, etag_timeout, token, local_files_only, headers, endpoint, resume_download, force_filename, local_dir_use_symlinks)\u001b[0m\n\u001b[0;32m    842\u001b[0m     \u001b[38;5;28;01mreturn\u001b[39;00m _hf_hub_download_to_local_dir(\n\u001b[0;32m    843\u001b[0m         \u001b[38;5;66;03m# Destination\u001b[39;00m\n\u001b[0;32m    844\u001b[0m         local_dir\u001b[38;5;241m=\u001b[39mlocal_dir,\n\u001b[1;32m   (...)\u001b[0m\n\u001b[0;32m    859\u001b[0m         local_files_only\u001b[38;5;241m=\u001b[39mlocal_files_only,\n\u001b[0;32m    860\u001b[0m     )\n\u001b[0;32m    861\u001b[0m \u001b[38;5;28;01melse\u001b[39;00m:\n\u001b[1;32m--> 862\u001b[0m     \u001b[38;5;28;01mreturn\u001b[39;00m \u001b[43m_hf_hub_download_to_cache_dir\u001b[49m\u001b[43m(\u001b[49m\n\u001b[0;32m    863\u001b[0m \u001b[43m        \u001b[49m\u001b[38;5;66;43;03m# Destination\u001b[39;49;00m\n\u001b[0;32m    864\u001b[0m \u001b[43m        \u001b[49m\u001b[43mcache_dir\u001b[49m\u001b[38;5;241;43m=\u001b[39;49m\u001b[43mcache_dir\u001b[49m\u001b[43m,\u001b[49m\n\u001b[0;32m    865\u001b[0m \u001b[43m        \u001b[49m\u001b[38;5;66;43;03m# File info\u001b[39;49;00m\n\u001b[0;32m    866\u001b[0m \u001b[43m        \u001b[49m\u001b[43mrepo_id\u001b[49m\u001b[38;5;241;43m=\u001b[39;49m\u001b[43mrepo_id\u001b[49m\u001b[43m,\u001b[49m\n\u001b[0;32m    867\u001b[0m \u001b[43m        \u001b[49m\u001b[43mfilename\u001b[49m\u001b[38;5;241;43m=\u001b[39;49m\u001b[43mfilename\u001b[49m\u001b[43m,\u001b[49m\n\u001b[0;32m    868\u001b[0m \u001b[43m        \u001b[49m\u001b[43mrepo_type\u001b[49m\u001b[38;5;241;43m=\u001b[39;49m\u001b[43mrepo_type\u001b[49m\u001b[43m,\u001b[49m\n\u001b[0;32m    869\u001b[0m \u001b[43m        \u001b[49m\u001b[43mrevision\u001b[49m\u001b[38;5;241;43m=\u001b[39;49m\u001b[43mrevision\u001b[49m\u001b[43m,\u001b[49m\n\u001b[0;32m    870\u001b[0m \u001b[43m        \u001b[49m\u001b[38;5;66;43;03m# HTTP info\u001b[39;49;00m\n\u001b[0;32m    871\u001b[0m \u001b[43m        \u001b[49m\u001b[43mendpoint\u001b[49m\u001b[38;5;241;43m=\u001b[39;49m\u001b[43mendpoint\u001b[49m\u001b[43m,\u001b[49m\n\u001b[0;32m    872\u001b[0m \u001b[43m        \u001b[49m\u001b[43metag_timeout\u001b[49m\u001b[38;5;241;43m=\u001b[39;49m\u001b[43metag_timeout\u001b[49m\u001b[43m,\u001b[49m\n\u001b[0;32m    873\u001b[0m \u001b[43m        \u001b[49m\u001b[43mheaders\u001b[49m\u001b[38;5;241;43m=\u001b[39;49m\u001b[43mheaders\u001b[49m\u001b[43m,\u001b[49m\n\u001b[0;32m    874\u001b[0m \u001b[43m        \u001b[49m\u001b[43mproxies\u001b[49m\u001b[38;5;241;43m=\u001b[39;49m\u001b[43mproxies\u001b[49m\u001b[43m,\u001b[49m\n\u001b[0;32m    875\u001b[0m \u001b[43m        \u001b[49m\u001b[43mtoken\u001b[49m\u001b[38;5;241;43m=\u001b[39;49m\u001b[43mtoken\u001b[49m\u001b[43m,\u001b[49m\n\u001b[0;32m    876\u001b[0m \u001b[43m        \u001b[49m\u001b[38;5;66;43;03m# Additional options\u001b[39;49;00m\n\u001b[0;32m    877\u001b[0m \u001b[43m        \u001b[49m\u001b[43mlocal_files_only\u001b[49m\u001b[38;5;241;43m=\u001b[39;49m\u001b[43mlocal_files_only\u001b[49m\u001b[43m,\u001b[49m\n\u001b[0;32m    878\u001b[0m \u001b[43m        \u001b[49m\u001b[43mforce_download\u001b[49m\u001b[38;5;241;43m=\u001b[39;49m\u001b[43mforce_download\u001b[49m\u001b[43m,\u001b[49m\n\u001b[0;32m    879\u001b[0m \u001b[43m    \u001b[49m\u001b[43m)\u001b[49m\n",
      "File \u001b[1;32md:\\Download\\miniconda3\\envs\\py3.9\\lib\\site-packages\\huggingface_hub\\file_download.py:1011\u001b[0m, in \u001b[0;36m_hf_hub_download_to_cache_dir\u001b[1;34m(cache_dir, repo_id, filename, repo_type, revision, endpoint, etag_timeout, headers, proxies, token, local_files_only, force_download)\u001b[0m\n\u001b[0;32m   1009\u001b[0m Path(lock_path)\u001b[38;5;241m.\u001b[39mparent\u001b[38;5;241m.\u001b[39mmkdir(parents\u001b[38;5;241m=\u001b[39m\u001b[38;5;28;01mTrue\u001b[39;00m, exist_ok\u001b[38;5;241m=\u001b[39m\u001b[38;5;28;01mTrue\u001b[39;00m)\n\u001b[0;32m   1010\u001b[0m \u001b[38;5;28;01mwith\u001b[39;00m WeakFileLock(lock_path):\n\u001b[1;32m-> 1011\u001b[0m     \u001b[43m_download_to_tmp_and_move\u001b[49m\u001b[43m(\u001b[49m\n\u001b[0;32m   1012\u001b[0m \u001b[43m        \u001b[49m\u001b[43mincomplete_path\u001b[49m\u001b[38;5;241;43m=\u001b[39;49m\u001b[43mPath\u001b[49m\u001b[43m(\u001b[49m\u001b[43mblob_path\u001b[49m\u001b[43m \u001b[49m\u001b[38;5;241;43m+\u001b[39;49m\u001b[43m \u001b[49m\u001b[38;5;124;43m\"\u001b[39;49m\u001b[38;5;124;43m.incomplete\u001b[39;49m\u001b[38;5;124;43m\"\u001b[39;49m\u001b[43m)\u001b[49m\u001b[43m,\u001b[49m\n\u001b[0;32m   1013\u001b[0m \u001b[43m        \u001b[49m\u001b[43mdestination_path\u001b[49m\u001b[38;5;241;43m=\u001b[39;49m\u001b[43mPath\u001b[49m\u001b[43m(\u001b[49m\u001b[43mblob_path\u001b[49m\u001b[43m)\u001b[49m\u001b[43m,\u001b[49m\n\u001b[0;32m   1014\u001b[0m \u001b[43m        \u001b[49m\u001b[43murl_to_download\u001b[49m\u001b[38;5;241;43m=\u001b[39;49m\u001b[43murl_to_download\u001b[49m\u001b[43m,\u001b[49m\n\u001b[0;32m   1015\u001b[0m \u001b[43m        \u001b[49m\u001b[43mproxies\u001b[49m\u001b[38;5;241;43m=\u001b[39;49m\u001b[43mproxies\u001b[49m\u001b[43m,\u001b[49m\n\u001b[0;32m   1016\u001b[0m \u001b[43m        \u001b[49m\u001b[43mheaders\u001b[49m\u001b[38;5;241;43m=\u001b[39;49m\u001b[43mheaders\u001b[49m\u001b[43m,\u001b[49m\n\u001b[0;32m   1017\u001b[0m \u001b[43m        \u001b[49m\u001b[43mexpected_size\u001b[49m\u001b[38;5;241;43m=\u001b[39;49m\u001b[43mexpected_size\u001b[49m\u001b[43m,\u001b[49m\n\u001b[0;32m   1018\u001b[0m \u001b[43m        \u001b[49m\u001b[43mfilename\u001b[49m\u001b[38;5;241;43m=\u001b[39;49m\u001b[43mfilename\u001b[49m\u001b[43m,\u001b[49m\n\u001b[0;32m   1019\u001b[0m \u001b[43m        \u001b[49m\u001b[43mforce_download\u001b[49m\u001b[38;5;241;43m=\u001b[39;49m\u001b[43mforce_download\u001b[49m\u001b[43m,\u001b[49m\n\u001b[0;32m   1020\u001b[0m \u001b[43m    \u001b[49m\u001b[43m)\u001b[49m\n\u001b[0;32m   1021\u001b[0m     \u001b[38;5;28;01mif\u001b[39;00m \u001b[38;5;129;01mnot\u001b[39;00m os\u001b[38;5;241m.\u001b[39mpath\u001b[38;5;241m.\u001b[39mexists(pointer_path):\n\u001b[0;32m   1022\u001b[0m         _create_symlink(blob_path, pointer_path, new_blob\u001b[38;5;241m=\u001b[39m\u001b[38;5;28;01mTrue\u001b[39;00m)\n",
      "File \u001b[1;32md:\\Download\\miniconda3\\envs\\py3.9\\lib\\site-packages\\huggingface_hub\\file_download.py:1545\u001b[0m, in \u001b[0;36m_download_to_tmp_and_move\u001b[1;34m(incomplete_path, destination_path, url_to_download, proxies, headers, expected_size, filename, force_download)\u001b[0m\n\u001b[0;32m   1542\u001b[0m         _check_disk_space(expected_size, incomplete_path\u001b[38;5;241m.\u001b[39mparent)\n\u001b[0;32m   1543\u001b[0m         _check_disk_space(expected_size, destination_path\u001b[38;5;241m.\u001b[39mparent)\n\u001b[1;32m-> 1545\u001b[0m     \u001b[43mhttp_get\u001b[49m\u001b[43m(\u001b[49m\n\u001b[0;32m   1546\u001b[0m \u001b[43m        \u001b[49m\u001b[43murl_to_download\u001b[49m\u001b[43m,\u001b[49m\n\u001b[0;32m   1547\u001b[0m \u001b[43m        \u001b[49m\u001b[43mf\u001b[49m\u001b[43m,\u001b[49m\n\u001b[0;32m   1548\u001b[0m \u001b[43m        \u001b[49m\u001b[43mproxies\u001b[49m\u001b[38;5;241;43m=\u001b[39;49m\u001b[43mproxies\u001b[49m\u001b[43m,\u001b[49m\n\u001b[0;32m   1549\u001b[0m \u001b[43m        \u001b[49m\u001b[43mresume_size\u001b[49m\u001b[38;5;241;43m=\u001b[39;49m\u001b[43mresume_size\u001b[49m\u001b[43m,\u001b[49m\n\u001b[0;32m   1550\u001b[0m \u001b[43m        \u001b[49m\u001b[43mheaders\u001b[49m\u001b[38;5;241;43m=\u001b[39;49m\u001b[43mheaders\u001b[49m\u001b[43m,\u001b[49m\n\u001b[0;32m   1551\u001b[0m \u001b[43m        \u001b[49m\u001b[43mexpected_size\u001b[49m\u001b[38;5;241;43m=\u001b[39;49m\u001b[43mexpected_size\u001b[49m\u001b[43m,\u001b[49m\n\u001b[0;32m   1552\u001b[0m \u001b[43m    \u001b[49m\u001b[43m)\u001b[49m\n\u001b[0;32m   1554\u001b[0m logger\u001b[38;5;241m.\u001b[39minfo(\u001b[38;5;124mf\u001b[39m\u001b[38;5;124m\"\u001b[39m\u001b[38;5;124mDownload complete. Moving file to \u001b[39m\u001b[38;5;132;01m{\u001b[39;00mdestination_path\u001b[38;5;132;01m}\u001b[39;00m\u001b[38;5;124m\"\u001b[39m)\n\u001b[0;32m   1555\u001b[0m _chmod_and_move(incomplete_path, destination_path)\n",
      "File \u001b[1;32md:\\Download\\miniconda3\\envs\\py3.9\\lib\\site-packages\\huggingface_hub\\file_download.py:454\u001b[0m, in \u001b[0;36mhttp_get\u001b[1;34m(url, temp_file, proxies, resume_size, headers, expected_size, displayed_filename, _nb_retries, _tqdm_bar)\u001b[0m\n\u001b[0;32m    452\u001b[0m new_resume_size \u001b[38;5;241m=\u001b[39m resume_size\n\u001b[0;32m    453\u001b[0m \u001b[38;5;28;01mtry\u001b[39;00m:\n\u001b[1;32m--> 454\u001b[0m     \u001b[38;5;28;01mfor\u001b[39;00m chunk \u001b[38;5;129;01min\u001b[39;00m r\u001b[38;5;241m.\u001b[39miter_content(chunk_size\u001b[38;5;241m=\u001b[39mconstants\u001b[38;5;241m.\u001b[39mDOWNLOAD_CHUNK_SIZE):\n\u001b[0;32m    455\u001b[0m         \u001b[38;5;28;01mif\u001b[39;00m chunk:  \u001b[38;5;66;03m# filter out keep-alive new chunks\u001b[39;00m\n\u001b[0;32m    456\u001b[0m             progress\u001b[38;5;241m.\u001b[39mupdate(\u001b[38;5;28mlen\u001b[39m(chunk))\n",
      "File \u001b[1;32md:\\Download\\miniconda3\\envs\\py3.9\\lib\\site-packages\\requests\\models.py:820\u001b[0m, in \u001b[0;36mResponse.iter_content.<locals>.generate\u001b[1;34m()\u001b[0m\n\u001b[0;32m    818\u001b[0m \u001b[38;5;28;01mif\u001b[39;00m \u001b[38;5;28mhasattr\u001b[39m(\u001b[38;5;28mself\u001b[39m\u001b[38;5;241m.\u001b[39mraw, \u001b[38;5;124m\"\u001b[39m\u001b[38;5;124mstream\u001b[39m\u001b[38;5;124m\"\u001b[39m):\n\u001b[0;32m    819\u001b[0m     \u001b[38;5;28;01mtry\u001b[39;00m:\n\u001b[1;32m--> 820\u001b[0m         \u001b[38;5;28;01myield from\u001b[39;00m \u001b[38;5;28mself\u001b[39m\u001b[38;5;241m.\u001b[39mraw\u001b[38;5;241m.\u001b[39mstream(chunk_size, decode_content\u001b[38;5;241m=\u001b[39m\u001b[38;5;28;01mTrue\u001b[39;00m)\n\u001b[0;32m    821\u001b[0m     \u001b[38;5;28;01mexcept\u001b[39;00m ProtocolError \u001b[38;5;28;01mas\u001b[39;00m e:\n\u001b[0;32m    822\u001b[0m         \u001b[38;5;28;01mraise\u001b[39;00m ChunkedEncodingError(e)\n",
      "File \u001b[1;32md:\\Download\\miniconda3\\envs\\py3.9\\lib\\site-packages\\urllib3\\response.py:1060\u001b[0m, in \u001b[0;36mHTTPResponse.stream\u001b[1;34m(self, amt, decode_content)\u001b[0m\n\u001b[0;32m   1058\u001b[0m \u001b[38;5;28;01melse\u001b[39;00m:\n\u001b[0;32m   1059\u001b[0m     \u001b[38;5;28;01mwhile\u001b[39;00m \u001b[38;5;129;01mnot\u001b[39;00m is_fp_closed(\u001b[38;5;28mself\u001b[39m\u001b[38;5;241m.\u001b[39m_fp) \u001b[38;5;129;01mor\u001b[39;00m \u001b[38;5;28mlen\u001b[39m(\u001b[38;5;28mself\u001b[39m\u001b[38;5;241m.\u001b[39m_decoded_buffer) \u001b[38;5;241m>\u001b[39m \u001b[38;5;241m0\u001b[39m:\n\u001b[1;32m-> 1060\u001b[0m         data \u001b[38;5;241m=\u001b[39m \u001b[38;5;28;43mself\u001b[39;49m\u001b[38;5;241;43m.\u001b[39;49m\u001b[43mread\u001b[49m\u001b[43m(\u001b[49m\u001b[43mamt\u001b[49m\u001b[38;5;241;43m=\u001b[39;49m\u001b[43mamt\u001b[49m\u001b[43m,\u001b[49m\u001b[43m \u001b[49m\u001b[43mdecode_content\u001b[49m\u001b[38;5;241;43m=\u001b[39;49m\u001b[43mdecode_content\u001b[49m\u001b[43m)\u001b[49m\n\u001b[0;32m   1062\u001b[0m         \u001b[38;5;28;01mif\u001b[39;00m data:\n\u001b[0;32m   1063\u001b[0m             \u001b[38;5;28;01myield\u001b[39;00m data\n",
      "File \u001b[1;32md:\\Download\\miniconda3\\envs\\py3.9\\lib\\site-packages\\urllib3\\response.py:949\u001b[0m, in \u001b[0;36mHTTPResponse.read\u001b[1;34m(self, amt, decode_content, cache_content)\u001b[0m\n\u001b[0;32m    946\u001b[0m     \u001b[38;5;28;01mif\u001b[39;00m \u001b[38;5;28mlen\u001b[39m(\u001b[38;5;28mself\u001b[39m\u001b[38;5;241m.\u001b[39m_decoded_buffer) \u001b[38;5;241m>\u001b[39m\u001b[38;5;241m=\u001b[39m amt:\n\u001b[0;32m    947\u001b[0m         \u001b[38;5;28;01mreturn\u001b[39;00m \u001b[38;5;28mself\u001b[39m\u001b[38;5;241m.\u001b[39m_decoded_buffer\u001b[38;5;241m.\u001b[39mget(amt)\n\u001b[1;32m--> 949\u001b[0m data \u001b[38;5;241m=\u001b[39m \u001b[38;5;28;43mself\u001b[39;49m\u001b[38;5;241;43m.\u001b[39;49m\u001b[43m_raw_read\u001b[49m\u001b[43m(\u001b[49m\u001b[43mamt\u001b[49m\u001b[43m)\u001b[49m\n\u001b[0;32m    951\u001b[0m flush_decoder \u001b[38;5;241m=\u001b[39m amt \u001b[38;5;129;01mis\u001b[39;00m \u001b[38;5;28;01mNone\u001b[39;00m \u001b[38;5;129;01mor\u001b[39;00m (amt \u001b[38;5;241m!=\u001b[39m \u001b[38;5;241m0\u001b[39m \u001b[38;5;129;01mand\u001b[39;00m \u001b[38;5;129;01mnot\u001b[39;00m data)\n\u001b[0;32m    953\u001b[0m \u001b[38;5;28;01mif\u001b[39;00m \u001b[38;5;129;01mnot\u001b[39;00m data \u001b[38;5;129;01mand\u001b[39;00m \u001b[38;5;28mlen\u001b[39m(\u001b[38;5;28mself\u001b[39m\u001b[38;5;241m.\u001b[39m_decoded_buffer) \u001b[38;5;241m==\u001b[39m \u001b[38;5;241m0\u001b[39m:\n",
      "File \u001b[1;32md:\\Download\\miniconda3\\envs\\py3.9\\lib\\site-packages\\urllib3\\response.py:873\u001b[0m, in \u001b[0;36mHTTPResponse._raw_read\u001b[1;34m(self, amt, read1)\u001b[0m\n\u001b[0;32m    870\u001b[0m fp_closed \u001b[38;5;241m=\u001b[39m \u001b[38;5;28mgetattr\u001b[39m(\u001b[38;5;28mself\u001b[39m\u001b[38;5;241m.\u001b[39m_fp, \u001b[38;5;124m\"\u001b[39m\u001b[38;5;124mclosed\u001b[39m\u001b[38;5;124m\"\u001b[39m, \u001b[38;5;28;01mFalse\u001b[39;00m)\n\u001b[0;32m    872\u001b[0m \u001b[38;5;28;01mwith\u001b[39;00m \u001b[38;5;28mself\u001b[39m\u001b[38;5;241m.\u001b[39m_error_catcher():\n\u001b[1;32m--> 873\u001b[0m     data \u001b[38;5;241m=\u001b[39m \u001b[38;5;28;43mself\u001b[39;49m\u001b[38;5;241;43m.\u001b[39;49m\u001b[43m_fp_read\u001b[49m\u001b[43m(\u001b[49m\u001b[43mamt\u001b[49m\u001b[43m,\u001b[49m\u001b[43m \u001b[49m\u001b[43mread1\u001b[49m\u001b[38;5;241;43m=\u001b[39;49m\u001b[43mread1\u001b[49m\u001b[43m)\u001b[49m \u001b[38;5;28;01mif\u001b[39;00m \u001b[38;5;129;01mnot\u001b[39;00m fp_closed \u001b[38;5;28;01melse\u001b[39;00m \u001b[38;5;124mb\u001b[39m\u001b[38;5;124m\"\u001b[39m\u001b[38;5;124m\"\u001b[39m\n\u001b[0;32m    874\u001b[0m     \u001b[38;5;28;01mif\u001b[39;00m amt \u001b[38;5;129;01mis\u001b[39;00m \u001b[38;5;129;01mnot\u001b[39;00m \u001b[38;5;28;01mNone\u001b[39;00m \u001b[38;5;129;01mand\u001b[39;00m amt \u001b[38;5;241m!=\u001b[39m \u001b[38;5;241m0\u001b[39m \u001b[38;5;129;01mand\u001b[39;00m \u001b[38;5;129;01mnot\u001b[39;00m data:\n\u001b[0;32m    875\u001b[0m         \u001b[38;5;66;03m# Platform-specific: Buggy versions of Python.\u001b[39;00m\n\u001b[0;32m    876\u001b[0m         \u001b[38;5;66;03m# Close the connection when no data is returned\u001b[39;00m\n\u001b[1;32m   (...)\u001b[0m\n\u001b[0;32m    881\u001b[0m         \u001b[38;5;66;03m# not properly close the connection in all cases. There is\u001b[39;00m\n\u001b[0;32m    882\u001b[0m         \u001b[38;5;66;03m# no harm in redundantly calling close.\u001b[39;00m\n\u001b[0;32m    883\u001b[0m         \u001b[38;5;28mself\u001b[39m\u001b[38;5;241m.\u001b[39m_fp\u001b[38;5;241m.\u001b[39mclose()\n",
      "File \u001b[1;32md:\\Download\\miniconda3\\envs\\py3.9\\lib\\site-packages\\urllib3\\response.py:856\u001b[0m, in \u001b[0;36mHTTPResponse._fp_read\u001b[1;34m(self, amt, read1)\u001b[0m\n\u001b[0;32m    853\u001b[0m     \u001b[38;5;28;01mreturn\u001b[39;00m \u001b[38;5;28mself\u001b[39m\u001b[38;5;241m.\u001b[39m_fp\u001b[38;5;241m.\u001b[39mread1(amt) \u001b[38;5;28;01mif\u001b[39;00m amt \u001b[38;5;129;01mis\u001b[39;00m \u001b[38;5;129;01mnot\u001b[39;00m \u001b[38;5;28;01mNone\u001b[39;00m \u001b[38;5;28;01melse\u001b[39;00m \u001b[38;5;28mself\u001b[39m\u001b[38;5;241m.\u001b[39m_fp\u001b[38;5;241m.\u001b[39mread1()\n\u001b[0;32m    854\u001b[0m \u001b[38;5;28;01melse\u001b[39;00m:\n\u001b[0;32m    855\u001b[0m     \u001b[38;5;66;03m# StringIO doesn't like amt=None\u001b[39;00m\n\u001b[1;32m--> 856\u001b[0m     \u001b[38;5;28;01mreturn\u001b[39;00m \u001b[38;5;28;43mself\u001b[39;49m\u001b[38;5;241;43m.\u001b[39;49m\u001b[43m_fp\u001b[49m\u001b[38;5;241;43m.\u001b[39;49m\u001b[43mread\u001b[49m\u001b[43m(\u001b[49m\u001b[43mamt\u001b[49m\u001b[43m)\u001b[49m \u001b[38;5;28;01mif\u001b[39;00m amt \u001b[38;5;129;01mis\u001b[39;00m \u001b[38;5;129;01mnot\u001b[39;00m \u001b[38;5;28;01mNone\u001b[39;00m \u001b[38;5;28;01melse\u001b[39;00m \u001b[38;5;28mself\u001b[39m\u001b[38;5;241m.\u001b[39m_fp\u001b[38;5;241m.\u001b[39mread()\n",
      "File \u001b[1;32md:\\Download\\miniconda3\\envs\\py3.9\\lib\\http\\client.py:463\u001b[0m, in \u001b[0;36mHTTPResponse.read\u001b[1;34m(self, amt)\u001b[0m\n\u001b[0;32m    460\u001b[0m \u001b[38;5;28;01mif\u001b[39;00m amt \u001b[38;5;129;01mis\u001b[39;00m \u001b[38;5;129;01mnot\u001b[39;00m \u001b[38;5;28;01mNone\u001b[39;00m:\n\u001b[0;32m    461\u001b[0m     \u001b[38;5;66;03m# Amount is given, implement using readinto\u001b[39;00m\n\u001b[0;32m    462\u001b[0m     b \u001b[38;5;241m=\u001b[39m \u001b[38;5;28mbytearray\u001b[39m(amt)\n\u001b[1;32m--> 463\u001b[0m     n \u001b[38;5;241m=\u001b[39m \u001b[38;5;28;43mself\u001b[39;49m\u001b[38;5;241;43m.\u001b[39;49m\u001b[43mreadinto\u001b[49m\u001b[43m(\u001b[49m\u001b[43mb\u001b[49m\u001b[43m)\u001b[49m\n\u001b[0;32m    464\u001b[0m     \u001b[38;5;28;01mreturn\u001b[39;00m \u001b[38;5;28mmemoryview\u001b[39m(b)[:n]\u001b[38;5;241m.\u001b[39mtobytes()\n\u001b[0;32m    465\u001b[0m \u001b[38;5;28;01melse\u001b[39;00m:\n\u001b[0;32m    466\u001b[0m     \u001b[38;5;66;03m# Amount is not given (unbounded read) so we must check self.length\u001b[39;00m\n\u001b[0;32m    467\u001b[0m     \u001b[38;5;66;03m# and self.chunked\u001b[39;00m\n",
      "File \u001b[1;32md:\\Download\\miniconda3\\envs\\py3.9\\lib\\http\\client.py:507\u001b[0m, in \u001b[0;36mHTTPResponse.readinto\u001b[1;34m(self, b)\u001b[0m\n\u001b[0;32m    502\u001b[0m         b \u001b[38;5;241m=\u001b[39m \u001b[38;5;28mmemoryview\u001b[39m(b)[\u001b[38;5;241m0\u001b[39m:\u001b[38;5;28mself\u001b[39m\u001b[38;5;241m.\u001b[39mlength]\n\u001b[0;32m    504\u001b[0m \u001b[38;5;66;03m# we do not use _safe_read() here because this may be a .will_close\u001b[39;00m\n\u001b[0;32m    505\u001b[0m \u001b[38;5;66;03m# connection, and the user is reading more bytes than will be provided\u001b[39;00m\n\u001b[0;32m    506\u001b[0m \u001b[38;5;66;03m# (for example, reading in 1k chunks)\u001b[39;00m\n\u001b[1;32m--> 507\u001b[0m n \u001b[38;5;241m=\u001b[39m \u001b[38;5;28;43mself\u001b[39;49m\u001b[38;5;241;43m.\u001b[39;49m\u001b[43mfp\u001b[49m\u001b[38;5;241;43m.\u001b[39;49m\u001b[43mreadinto\u001b[49m\u001b[43m(\u001b[49m\u001b[43mb\u001b[49m\u001b[43m)\u001b[49m\n\u001b[0;32m    508\u001b[0m \u001b[38;5;28;01mif\u001b[39;00m \u001b[38;5;129;01mnot\u001b[39;00m n \u001b[38;5;129;01mand\u001b[39;00m b:\n\u001b[0;32m    509\u001b[0m     \u001b[38;5;66;03m# Ideally, we would raise IncompleteRead if the content-length\u001b[39;00m\n\u001b[0;32m    510\u001b[0m     \u001b[38;5;66;03m# wasn't satisfied, but it might break compatibility.\u001b[39;00m\n\u001b[0;32m    511\u001b[0m     \u001b[38;5;28mself\u001b[39m\u001b[38;5;241m.\u001b[39m_close_conn()\n",
      "File \u001b[1;32md:\\Download\\miniconda3\\envs\\py3.9\\lib\\socket.py:716\u001b[0m, in \u001b[0;36mSocketIO.readinto\u001b[1;34m(self, b)\u001b[0m\n\u001b[0;32m    714\u001b[0m \u001b[38;5;28;01mwhile\u001b[39;00m \u001b[38;5;28;01mTrue\u001b[39;00m:\n\u001b[0;32m    715\u001b[0m     \u001b[38;5;28;01mtry\u001b[39;00m:\n\u001b[1;32m--> 716\u001b[0m         \u001b[38;5;28;01mreturn\u001b[39;00m \u001b[38;5;28;43mself\u001b[39;49m\u001b[38;5;241;43m.\u001b[39;49m\u001b[43m_sock\u001b[49m\u001b[38;5;241;43m.\u001b[39;49m\u001b[43mrecv_into\u001b[49m\u001b[43m(\u001b[49m\u001b[43mb\u001b[49m\u001b[43m)\u001b[49m\n\u001b[0;32m    717\u001b[0m     \u001b[38;5;28;01mexcept\u001b[39;00m timeout:\n\u001b[0;32m    718\u001b[0m         \u001b[38;5;28mself\u001b[39m\u001b[38;5;241m.\u001b[39m_timeout_occurred \u001b[38;5;241m=\u001b[39m \u001b[38;5;28;01mTrue\u001b[39;00m\n",
      "File \u001b[1;32md:\\Download\\miniconda3\\envs\\py3.9\\lib\\ssl.py:1275\u001b[0m, in \u001b[0;36mSSLSocket.recv_into\u001b[1;34m(self, buffer, nbytes, flags)\u001b[0m\n\u001b[0;32m   1271\u001b[0m     \u001b[38;5;28;01mif\u001b[39;00m flags \u001b[38;5;241m!=\u001b[39m \u001b[38;5;241m0\u001b[39m:\n\u001b[0;32m   1272\u001b[0m         \u001b[38;5;28;01mraise\u001b[39;00m \u001b[38;5;167;01mValueError\u001b[39;00m(\n\u001b[0;32m   1273\u001b[0m           \u001b[38;5;124m\"\u001b[39m\u001b[38;5;124mnon-zero flags not allowed in calls to recv_into() on \u001b[39m\u001b[38;5;132;01m%s\u001b[39;00m\u001b[38;5;124m\"\u001b[39m \u001b[38;5;241m%\u001b[39m\n\u001b[0;32m   1274\u001b[0m           \u001b[38;5;28mself\u001b[39m\u001b[38;5;241m.\u001b[39m\u001b[38;5;18m__class__\u001b[39m)\n\u001b[1;32m-> 1275\u001b[0m     \u001b[38;5;28;01mreturn\u001b[39;00m \u001b[38;5;28;43mself\u001b[39;49m\u001b[38;5;241;43m.\u001b[39;49m\u001b[43mread\u001b[49m\u001b[43m(\u001b[49m\u001b[43mnbytes\u001b[49m\u001b[43m,\u001b[49m\u001b[43m \u001b[49m\u001b[43mbuffer\u001b[49m\u001b[43m)\u001b[49m\n\u001b[0;32m   1276\u001b[0m \u001b[38;5;28;01melse\u001b[39;00m:\n\u001b[0;32m   1277\u001b[0m     \u001b[38;5;28;01mreturn\u001b[39;00m \u001b[38;5;28msuper\u001b[39m()\u001b[38;5;241m.\u001b[39mrecv_into(buffer, nbytes, flags)\n",
      "File \u001b[1;32md:\\Download\\miniconda3\\envs\\py3.9\\lib\\ssl.py:1133\u001b[0m, in \u001b[0;36mSSLSocket.read\u001b[1;34m(self, len, buffer)\u001b[0m\n\u001b[0;32m   1131\u001b[0m \u001b[38;5;28;01mtry\u001b[39;00m:\n\u001b[0;32m   1132\u001b[0m     \u001b[38;5;28;01mif\u001b[39;00m buffer \u001b[38;5;129;01mis\u001b[39;00m \u001b[38;5;129;01mnot\u001b[39;00m \u001b[38;5;28;01mNone\u001b[39;00m:\n\u001b[1;32m-> 1133\u001b[0m         \u001b[38;5;28;01mreturn\u001b[39;00m \u001b[38;5;28;43mself\u001b[39;49m\u001b[38;5;241;43m.\u001b[39;49m\u001b[43m_sslobj\u001b[49m\u001b[38;5;241;43m.\u001b[39;49m\u001b[43mread\u001b[49m\u001b[43m(\u001b[49m\u001b[38;5;28;43mlen\u001b[39;49m\u001b[43m,\u001b[49m\u001b[43m \u001b[49m\u001b[43mbuffer\u001b[49m\u001b[43m)\u001b[49m\n\u001b[0;32m   1134\u001b[0m     \u001b[38;5;28;01melse\u001b[39;00m:\n\u001b[0;32m   1135\u001b[0m         \u001b[38;5;28;01mreturn\u001b[39;00m \u001b[38;5;28mself\u001b[39m\u001b[38;5;241m.\u001b[39m_sslobj\u001b[38;5;241m.\u001b[39mread(\u001b[38;5;28mlen\u001b[39m)\n",
      "\u001b[1;31mKeyboardInterrupt\u001b[0m: "
     ]
    }
   ],
   "source": [
    "from transformers import AutoTokenizer, AutoModel\n",
    "tokenizer = AutoTokenizer.from_pretrained(\"THUDM/chatglm3-6b\", trust_remote_code=True)\n",
    "model = AutoModel.from_pretrained(\"THUDM/chatglm3-6b\", trust_remote_code=True).half().cuda()\n",
    "model = model.eval()"
   ]
  },
  {
   "cell_type": "code",
   "execution_count": 12,
   "metadata": {},
   "outputs": [],
   "source": [
    "from langchain.prompts import ChatPromptTemplate\n",
    "template = \"\"\"请使用以下检索到的背景信息来回答问题。如果你不知道答案，直接说你不知道。\n",
    "问题：{question} \n",
    "\n",
    "背景：{context} \n",
    "\n",
    "答案：\n",
    "\"\"\"\n",
    "\n",
    "prompt = ChatPromptTemplate.from_template(template)\n",
    "\n",
    "#llm = chat_models.ChatOpenAI(model=\"gpt-3.5-turbo\", temperature=0)\n",
    "# llm = Ollama(model=\"qwen2:1.5b\", temperature=0)\n",
    "\n",
    "llm = BaichuanLLM(model='Baichuan3-Turbo-128k')\n",
    "\n",
    "# Post-processing\n",
    "def format_docs(docs):\n",
    "    return \"\\n\\n\".join(doc.page_content for doc in docs)\n",
    "\n",
    "# Chain\n",
    "qa_chain = (\n",
    "    {\"context\": retriever | format_docs, \"question\": RunnablePassthrough()}\n",
    "    | prompt\n",
    "    | llm\n",
    "    | StrOutputParser()\n",
    ")\n"
   ]
  },
  {
   "cell_type": "code",
   "execution_count": 14,
   "metadata": {},
   "outputs": [
    {
     "name": "stdout",
     "output_type": "stream",
     "text": [
      "输配电价对现货市场的影响主要体现在以下几个方面：\n",
      "\n",
      "1. 影响电力现货市场设计：输配电价是电力产业价格链的中间环节，合理的输配电价机制是电力现货市场的基础和关键。它需要反映电力生产的真实成本和市场供需关系，为各市场成员提供明确的价格信号，正确引导市场消费和电力投资，优化社会资源的配置。\n",
      "\n",
      "2. 影响参与现货市场的市场主体的收益：电价体系分为上网电价、输配电价和销售电价。在市场化的电力体制中，上网电价和销售电价由竞争产生，而输配电价往往由监管机构进行独立核定。输配电价形成和分摊会影响市场主体参与现货市场的竞争方式，进而影响现货市场的市场主体的收益。\n",
      "\n",
      "3. 影响电力现货市场运行：合理的输配电价是电力市场有效运作的必要条件。输配电价空间会受到上网电价和销售电价的制约。如果电网合理成本的回收、合理收益的获取得不到根本保证，会严重地影响电网建设资本金的筹集。合理的输配电费用定价和分摊有利于向电力交易主体提供有效的经济信号，促进电力资源优化配置，并促进电网企业更有效地管理、规划输配电资源。\n"
     ]
    }
   ],
   "source": [
    "print(qa_chain.invoke(\"输配电价对现货市场有什么影响？\"))"
   ]
  },
  {
   "cell_type": "markdown",
   "metadata": {},
   "source": []
  },
  {
   "cell_type": "code",
   "execution_count": 15,
   "metadata": {},
   "outputs": [
    {
     "name": "stderr",
     "output_type": "stream",
     "text": [
      "C:\\Users\\Administrator\\AppData\\Local\\Temp\\ipykernel_20288\\806108324.py:2: LangChainDeprecationWarning: The method `Chain.__call__` was deprecated in langchain 0.1.0 and will be removed in 1.0. Use :meth:`~invoke` instead.\n",
      "  response = qa_chain({\"query\": query})\n"
     ]
    },
    {
     "name": "stdout",
     "output_type": "stream",
     "text": [
      "第1个问题已回复..........\n",
      "第2个问题已回复..........\n",
      "第3个问题已回复..........\n",
      "第4个问题已回复..........\n",
      "第5个问题已回复..........\n",
      "第6个问题已回复..........\n",
      "第7个问题已回复..........\n",
      "第8个问题已回复..........\n",
      "第9个问题已回复..........\n",
      "第10个问题已回复..........\n",
      "第11个问题已回复..........\n",
      "第12个问题已回复..........\n",
      "第13个问题已回复..........\n",
      "第14个问题已回复..........\n",
      "第15个问题已回复..........\n",
      "第16个问题已回复..........\n",
      "第17个问题已回复..........\n",
      "第18个问题已回复..........\n",
      "第19个问题已回复..........\n",
      "第20个问题已回复..........\n",
      "第21个问题已回复..........\n",
      "第22个问题已回复..........\n",
      "第23个问题已回复..........\n",
      "第24个问题已回复..........\n",
      "第25个问题已回复..........\n",
      "第26个问题已回复..........\n",
      "第27个问题已回复..........\n",
      "第28个问题已回复..........\n",
      "第29个问题已回复..........\n",
      "第30个问题已回复..........\n",
      "第31个问题已回复..........\n",
      "第32个问题已回复..........\n",
      "第33个问题已回复..........\n",
      "第34个问题已回复..........\n",
      "第35个问题已回复..........\n",
      "第36个问题已回复..........\n",
      "第37个问题已回复..........\n",
      "第38个问题已回复..........\n",
      "第39个问题已回复..........\n",
      "第40个问题已回复..........\n",
      "第41个问题已回复..........\n",
      "第42个问题已回复..........\n",
      "第43个问题已回复..........\n",
      "第44个问题已回复..........\n",
      "第45个问题已回复..........\n",
      "第46个问题已回复..........\n",
      "第47个问题已回复..........\n",
      "第48个问题已回复..........\n",
      "第49个问题已回复..........\n",
      "第50个问题已回复..........\n",
      "第51个问题已回复..........\n",
      "第52个问题已回复..........\n",
      "第53个问题已回复..........\n",
      "第54个问题已回复..........\n",
      "第55个问题已回复..........\n",
      "第56个问题已回复..........\n",
      "第57个问题已回复..........\n",
      "第58个问题已回复..........\n",
      "第59个问题已回复..........\n",
      "第60个问题已回复..........\n",
      "第61个问题已回复..........\n",
      "第62个问题已回复..........\n",
      "第63个问题已回复..........\n",
      "第64个问题已回复..........\n",
      "第65个问题已回复..........\n",
      "第66个问题已回复..........\n",
      "第67个问题已回复..........\n",
      "第68个问题已回复..........\n",
      "第69个问题已回复..........\n",
      "第70个问题已回复..........\n",
      "第71个问题已回复..........\n",
      "第72个问题已回复..........\n",
      "第73个问题已回复..........\n",
      "第74个问题已回复..........\n",
      "第75个问题已回复..........\n",
      "第76个问题已回复..........\n",
      "第77个问题已回复..........\n",
      "第78个问题已回复..........\n",
      "第79个问题已回复..........\n",
      "第80个问题已回复..........\n",
      "第81个问题已回复..........\n",
      "第82个问题已回复..........\n",
      "第83个问题已回复..........\n",
      "第84个问题已回复..........\n",
      "第85个问题已回复..........\n",
      "第86个问题已回复..........\n",
      "第87个问题已回复..........\n",
      "第88个问题已回复..........\n",
      "第89个问题已回复..........\n",
      "第90个问题已回复..........\n",
      "第91个问题已回复..........\n",
      "第92个问题已回复..........\n",
      "第93个问题已回复..........\n",
      "第94个问题已回复..........\n",
      "第95个问题已回复..........\n",
      "第96个问题已回复..........\n",
      "第97个问题已回复..........\n",
      "第98个问题已回复..........\n",
      "第99个问题已回复..........\n",
      "第100个问题已回复..........\n",
      "第101个问题已回复..........\n",
      "第102个问题已回复..........\n",
      "第103个问题已回复..........\n",
      "第104个问题已回复..........\n",
      "第105个问题已回复..........\n",
      "第106个问题已回复..........\n",
      "第107个问题已回复..........\n",
      "第108个问题已回复..........\n",
      "第109个问题已回复..........\n",
      "第110个问题已回复..........\n",
      "第111个问题已回复..........\n",
      "第112个问题已回复..........\n",
      "第113个问题已回复..........\n",
      "第114个问题已回复..........\n",
      "第115个问题已回复..........\n",
      "第116个问题已回复..........\n",
      "第117个问题已回复..........\n",
      "第118个问题已回复..........\n",
      "第119个问题已回复..........\n",
      "第120个问题已回复..........\n",
      "第121个问题已回复..........\n",
      "第122个问题已回复..........\n",
      "第123个问题已回复..........\n",
      "第124个问题已回复..........\n",
      "第125个问题已回复..........\n"
     ]
    },
    {
     "data": {
      "text/plain": [
       "{'query_id': 125,\n",
       " 'query': '125.电力现货技术支持系统与电力交易平台定位与关系是什么？',\n",
       " 'gt_answer': '随着中发9号文的发布，我国电力市场改革不断深化，电力交易品种日益丰富，以中长期交易规避风险，以现货市场发现价格的“中长期+现货”联合运营模式逐渐形成。中发9号文配套文件《关于推进电力市场建设的实施意见》指出，电力市场主要由中长期市场和现货市场构成，中长期市场主要开展多年、年、季、月、周等日以上电能量交易和可中断负荷、调压等辅助服务交易。现货市场主要开展日前、日内、实施电能量交易和备用、调频等辅助服务交易。条件成熟时，探索开展容量市场、电力期货和衍生品等交易。2018年，国家电网公司《全国统一电力市场深化设计方案》在综合考虑体制架构和电网安全运行需要的基础上，提出了由交易中心负责市场注册、交易申报、交易结算、信息发布等与市场交易密切相关环节，由调控中心负责现货和辅助服务交易组织、安全校核等与电网运行密切相关环节的统一市场联合运营模式。此模式也成为了电力市场技术支撑平台在交易中心和调控中心之间功能建设的实际划分标准，交易中心的电力交易平台、调控中心的电力现货技术支持系统各功能相互协作实现“全时段、全过程、全环节”的交易流程，实现“中长期+现货”市场安全、高效、有序运营，向市场成员提供准确规范的市场交易信息和在线交易业务支持。调控中心负责现货交易与电网运行密切相关的环节，负责安全校核、现货交易组织、辅助服务交易组织等工作。电力现货技术支持系统面向调控中心业务，用于支撑日前、实时等电力现货市场的组织、出清、安全校核等核心业务，并与调控中心内部的调度系统、交易中心的电力交易平台等系统实现对接。交易中心负责与市场交易密切相关的环节，电力交易平台作为国网公司对市场主体服务的窗口，在市场注册、交易申报、交易结算、信息发布等环节为市场主体提供相关服务，并与包括电力现货技术支持系统在内的调度、营销、财务等系统实现对接。电力交易平台分为面向电力交易中心的主站端，以及面向发电侧、用电侧等市场成员的子站端。主站端的主要功能是市场成员注册审批、中长期交易组织、政府授权合约分解、合同管理、结算计算、信息发布、信息管理、信用管理等功能；子站端是发用侧市场成员用于进行市场注册、现货市场申报、中长期市场申报、中长期合约备案、查看发布信息、查看结算账单的系统。分主要交易环节看：（1）市场成员管理：市场成员向电力交易平台提交注册申请和相关信息。电力交易平台将调控中心业务所需要的市场成员信息推送至电力现货技术支持系统。（2）交易申报：中长期电力交易在电力交易平台组织，现货交易在电力现货技术支持系统组织，但参与市场的市场成员均在电力交易平台的外网端进行报价。即现货交易申报通过电力交易平台受理，面向公众的现货交易信息也通过电力交易平台发布。（3）交易出清：中长期电力交易的出清在电力交易平台开展，中长期电力交易、现货交易均由调控中心进行安全校核，现货交易的安全校核和市场出清在电力现货技术支持系统一并进行。（4）交易结算：交易中心根据中长期、现货以及辅助服务交易结果、执行情况，通过电力交易平台出具结算依据。对各类交易品种日清分、月结算、年清算。（5）信息发布：交易中心将市场相关信息在电力交易平台对外发布，调控中心协助开展现货交易部分的信息发布工作。总体而言，电力现货技术支持系统与电力交易平台分别针对使用用户的业务特点和需求而建立，同时具有较强的业务配合衔接和数据交互关系。',\n",
       " 'response': '电力现货技术支持系统与电力交易平台的定位与关系如下：\\n\\n1. 定位：\\n   - 电力现货技术支持系统面向调控中心业务，用于支撑日前、实时等电力现货市场的组织、出清、安全校核等核心业务。\\n   - 电力交易平台作为国网公司对市场主体服务的窗口，在市场注册、交易申报、交易结算、信息发布等环节为市场主体提供相关服务。\\n\\n2. 关系：\\n   - 两者在功能上相互协作，实现“全时段、全过程、全环节”的交易流程，共同实现“中长期+现货”市场安全、高效、有序运营。\\n   - 调控中心负责现货交易与电网运行密切相关的环节，如安全校核、现货交易组织、辅助服务交易组织等。\\n   - 交易中心负责与市场交易密切相关的环节，包括市场成员管理、交易申报、交易出清、交易结算、信息发布等。\\n   - 电力现货技术支持系统与调控中心内部的调度系统、交易中心的电力交易平台等系统实现对接，确保数据和信息的流畅传递。\\n\\n总结来说，电力现货技术支持系统专注于现货市场的核心业务处理，而电力交易平台则侧重于为市场主体提供市场交易的相关服务和支持。两者在电力市场运营中扮演着互补的角色，通过紧密的协作确保电力市场的高效运作。',\n",
       " 'retrieved_context': [{'doc_id': 125,\n",
       "   'text': '125.电力现货技术支持系统与电力交易平台定位与关系是什么？\\n随着中发9号文的发布，我国电力市场改革不断深化，电力交易品种日益丰富，以中长期交易规避风险，以现货市场发现价格的“中长期+现货”联合运营模式逐渐形成。中发9号文配套文件《关于推进电力市场建设的实施意见》指出，电力市场主要由中长期市场和现货市场构成，中长期市场主要开展多年、年、季、月、周等日以上电能量交易和可中断负荷、调压等辅助服务交易。现货市场主要开展日前、日内、实施电能量交易和备用、调频等辅助服务交易。条件成熟时，探索开展容量市场、电力期货和衍生品等交易。2018年，国家电网公司《全国统一电力市场深化设计方案》在综合考虑体制架构和电网安全运行需要的基础上，提出了由交易中心负责市场注册、交易申报、交易结算、信息发布等与市场交易密切相关环节，由调控中心负责现货和辅助服务交易组织、安全校核等与电网运行密切相关环节的统一市场联合运营模式。此模式也成为了电力市场技术支撑平台在交易中心和调控中心之间功能建设的实际划分标准，交易中心的电力交易平台、调控中心的电力现货技术支持系统各功能相互协作实现“全时段、全过程、全环节”的交易流程，实现“中长期+现货”市场安全、高效、有序运营，向市场成员提供准确规范的市场交易信息和在线交易业务支持。调控中心负责现货交易与电网运行密切相关的环节，负责安全校核、现货交易组织、辅助服务交易组织等工作。电力现货技术支持系统面向调控中心业务，用于支撑日前、实时等电力现货市场的组织、出清、安全校核等核心业务，并与调控中心内部的调度系统、交易中心的电力交易平台等系统实现对接。交易中心负责与市场交易密切相关的环节，电力交易平台作为国网公司对市场主体服务的窗口，在市场注册、交易申报、交易结算、信息发布等环节为市场主体提供相关服务，并与包括电力现货技术支持系统在内的调度、营销、财务等系统实现对接。电力交易平台分为面向电力交易中心的主站端，以及面向发电侧、用电侧等市场成员的子站端。主站端的主要功能是市场成员注册审批、中长期交易组织、政府授权合约分解、合同管理、结算计算、信息发布、信息管理、信用管理等功能；子站端是发用侧市场成员用于进行市场注册、现货市场申报、中长期市场申报、中长期合约备案、查看发布信息、查看结算账单的系统。分主要交易环节看：（1）市场成员管理：市场成员向电力交易平台提交注册申请和相关信息。电力交易平台将调控中心业务所需要的市场成员信息推送至电力现货技术支持系统。（2）交易申报：中长期电力交易在电力交易平台组织，现货交易在电力现货技术支持系统组织，但参与市场的市场成员均在电力交易平台的外网端进行报价。即现货交易申报通过电力交易平台受理，面向公众的现货交易信息也通过电力交易平台发布。（3）交易出清：中长期电力交易的出清在电力交易平台开展，中长期电力交易、现货交易均由调控中心进行安全校核，现货交易的安全校核和市场出清在电力现货技术支持系统一并进行。（4）交易结算：交易中心根据中长期、现货以及辅助服务交易结果、执行情况，通过电力交易平台出具结算依据。对各类交易品种日清分、月结算、年清算。（5）信息发布：交易中心将市场相关信息在电力交易平台对外发布，调控中心协助开展现货交易部分的信息发布工作。总体而言，电力现货技术支持系统与电力交易平台分别针对使用用户的业务特点和需求而建立，同时具有较强的业务配合衔接和数据交互关系。'},\n",
       "  {'doc_id': 108,\n",
       "   'text': '108.电力现货市场技术支持系统需要与哪些系统进行数据交互及其交互技术？\\n电力现货市场技术支持系统为支撑多周期多品种电力现货交易全过程业务，需要从相关内外部系统接入电网物理模型、运行方式、市场边界等数据，并将市场出清结果发布给相关系统。与之存在数据交互的调度自动化内部系统主要包括EMS（能量管理系统）、OMS（调度运行管理系统）等，相关外部系统主要包括市场交易系统、结算系统、电能量计量系统、营销系统等。电力现货市场技术支持系统从EMS获取电网模型方式、网络约束、设备断面实时及历史量测、计划预测边界等数据，一般包括电网物理模型、状态估计方式断面、AGC（自动发电控制）机组控制信息、SCADA（数据采集与监视控制）机组及断面实时运行和历史量测数据、稳定断面定义及控制信息、关键输电线关口断面稳定限额、新能源预测信息、系统负荷预测、母线负荷预测、联络线计划等，这些数据将用于市场主体与电网物理模型关联关系及计划市场未来态安全校核断面的构建。电力现货市场技术支持系统将日前市场出清结果、日内市场出清结果、实时市场出清结果、辅助服务市场出清结果发布到EMS，EMS将通过AGC、SCADA等应用功能实现各类市场出清结果的物理执行。电力现货市场技术支持系统从OMS获取发输变电设备检修计划、投退役计划等数据，一般包括机组检修单、输变电设备检修单、设备投运、设备退役信息等，用于构建计划市场未来态安全校核断面。电力现货市场技术支持系统从市场交易平台获取市场主体注册信息、报价信息等数据，一般包括发电厂商信息、售电商信息、电力用户信息、机组启停报价、电能报价、机组最早并网时间、机组日最大发电量等信息，并向市场交易平台输出电能量及辅助服务交易结果、电网实际运行数据等信息，一般包括电能和调峰调频等辅助服务市场的出清结果、节点边际电价、实际执行结果、偏差结算信息、机组实际出力、联络线实际功率、系统负荷实测等，这些数据由市场交易平台开放给市场主体和监管机构，用于市场运行信息披露。电力现货市场技术支持系统将日前市场出清结果、日内市场出清结果、实时市场出清结果、辅助服务市场出清结果发布发送到电力市场交易结算系统，用于市场交易结算。电力现货市场技术支持系统从电能量计量系统获取机组实际发生电量数据，用于市场行为分析和结算分析。电力现货市场技术支持系统将重要且及时性要求较高的市场发布信息发送给营销系统各市场成员，用于市场信息披露。电力现货市场技术支持系统与上述系统的数据交互内容、交互机制各不相同，其数据交互技术需要同时满足安全、质量、效率等要求，一般包括数据交换方式、数据质量校验、数据质量分析等方面。数据交换方式方面，电力现货市场技术支持系统一般采用同步服务调用、异步可信文件传输等方式进行数据交换。同步服务调用是指由数据提供方按照服务总线访问规范对外提供服务调用接口，数据获取方通过调用数据服务访问接口来获取数据。服务调用提供了透明的数据同步访问机制，数据获取方无需了解数据提供方的数据来源、存放位置、存储结构等信息。异步可信文件传输主要是指数据按照双方事先制定统一的数据文件规范进行交互。数据发送方生成数据文件并发送到数据接收方系统指定目录下，数据接收方读取数据文件、解析入库，数据接收方完成数据接收后，向数据发送端发送数据已经接收的确认消息，数据发送方等待获取到接收方的反馈确认消息后完成整个文件传输流程，如果在规定的时间内没有收到接收方的确认消息，则发送端进行相关告警，保存发送时间、地址、文件内容等信息，并可根据设定的重发机制定时再次发送之前发送失败的文件。对报价数据文件、出清结果等保密数据采用高强度的加密算法进行文件加密，并采用专用数据发送和接收目录，同时，对目录采用加密、隐藏等方式确保加密文件内容不被非法获取。数据质量校验方面，电力现货市场技术支持系统通过分析各类外部接入数据的特点，建立可扩展的数据校验规则库并基于该规则库实现数据校验功能。为每类从外部接入的数据配置相应的数据校验规则，判断数据是否满足质量要求，由数据校验功能根据设置的数据校验规则对数据进行校验，确保只有通过数据校验的数据才能进入到现货市场系统数据库中。数据接入质量分析方面，电力现货市场技术支持系统在离线状态下利用数据挖掘技术从数据校验详细日志中发现隐藏的数据相互之间的影响关系，得到不同质量水平的数据出现的系统、时间、次数、类型的分布信息，并通过图表方式展示出各个系统数据传输质量情况，便于外部系统在后续的数据发送过程中调整数据源及策略。数据质量分析是整个数据交换系统最后一个环节，实现了数据交换的闭环流程。数据质量分析采用了异常分析、分类分析等数据挖掘手段对生成的数据校验日志进行多角度挖掘，从时间段、系统、数据类型等多种维度下分析数据质量趋势。数据校验日志及数据质量信息通过基于服务调用的数据结果服务对外提供调用接口，数据上报端系统通过部署在本地系统中的数据质量查询客户端调用数据结果服务获取数据发送结果信息。'},\n",
       "  {'doc_id': 99,\n",
       "   'text': '99.什么是电力现货市场技术支持系统？\\n电力现货市场技术支持系统是支撑电力现货市场运营的计算机、网络与通信设备和各功能应用软件的统称，是电力现货市场安全、稳定运行的重要技术支撑，依据电力现货市场运营规则，实现市场注册、竞价、出清、结算、分析等现货市场运营全业务功能，为市场主体提供了一个公开、透明、高效、便捷的交易平台。调度机构通过系统开展市场组织、管理及监管分析，市场中交易主体通过系统开展交易报价、交易结果查询。在功能架构设计上，电力现货市场技术支持系统一般采用分层架构设计，下层应用为上层应用提供服务支撑，上层单向调用下层服务接口，不允许上下两层双向调用，以此保证各层之间的松耦合。电力现货市场技术支持系统从下往上分为基础设施层、基础平台层、应用服务层、应用功能层。基础设施层为电力现货市场提供基础的软硬件，主要包括应用服务器、存储设施、数据库软件、操作系统等；基础平台层为电力现货市场应用开发与系统运行提供了基础支撑组件和服务，主要包括数据访问服务、消息总线、通信总线、图形画面、告警管理、日志管理、系统管理、权限管理、报表工具、安全防护等；应用服务层是为应用层功能实现提供公共计算服务支撑，主要是把现货市场核心算法和公共组件进行了服务化封装，供不同应用场景进行调用，应用服务包括核心出清算法服务、安全校核计算服务、数据管理服务等。应用功能层是现货市场系统面向用户所提供的各自业务功能集合，支撑用户完成现货市场各项业务操作，主要包括市场申报发布数据管理、市场数据及模型管理、日前市场、日内市场、实时市场、辅助服务市场、市场风险管控、市场模拟推演、市场分析、市场监管支持等。在部署架构上，电力现货市场技术支持系统在电力生产控制大区Ⅱ区和信息管理大区Ⅲ区分别部署，申报发布管理、市场模型与数据管理、日前市场、日内市场、实时市场、辅助服务市场、市场风险管控等核心数据管理与出清计算功能部署在安全Ⅱ区，市场模拟推演、市场监管支持、市场分析等离线功能部署在Ⅲ区，Ⅱ区数据通过数据同步软件实时同步到Ⅲ区。同时，为了实现交易中心申报发布数据安全可靠传输至现货市场系统，构建了隔离缓冲区，部署数据传输服务。在硬件配置上，电力现货市场系统技术支持系统硬件部署在安全Ⅱ区、Ⅲ区和隔离缓冲区。其中，Ⅱ区包括日前市场服务器、日内市场服务器、实时市场服务器、辅助服务市场服务器、潮流安全分析服务器、市场风险管控服务器、存储阵列、接入交换机、加密机及工作站。Ⅲ区包括市场分析服务器、市场模拟推演服务器、市场监管支持服务器、接入交换机及工作站若干。隔离缓冲区包括正反隔离装置、网络安全监测装置及恶意代码流量监测设备。电力现货市场技术支持系统配备高度智能化运行监视和告警功能，对系统各类软硬件异常状态及时通过动图、声音等方式告警提示，方便系统运维人员全面掌控系统运行情况，及时发现问题，快速介入处理。为了满足系统运行可靠性要求，系统所采用的服务器、网络设备、存储设备等都采用冗余配置，在单个设备出现故障时，能够及时进行设备切除和应用切换，实现在硬件和软件故障下无感知迁移。为应对严重自然灾害导致的系统级别瘫痪，在异地建立备用系统或并列双活运行B系统，实现两地系统互为主备和并列运行，现货AB系统通过AB系统数据同步服务实现数据双向同步，同步的内容包括电网模型、平台及应用的配置信息、人工操作及业务中间结果信息等。同时AB系统也分别通过独立数据传输通道各自与国调（分中心）AB系统及外部系统AB系统进行双向交叉的数据交互，保证双活运行的可靠性及可用性。电力现货市场技术支持系统遵循“安全分区、网络专用、横向隔离、纵向认证”安全防护基本原则，构建隔离缓冲区与交易中心进行数据安全交互，对申报数据等关键业务数据采取加密签名、安全存储与访问控制措施，强化关键业务数据的安全监管、审计监测和抗抵赖性。针对现货市场运行特点，用到的新技术包括：基于恶意代码流量监测与网络安全监测技术实现安全接入监控，基于数据不落地的安全传输技术实现跨区传输服务，基于密码管控技术实现对业务数据的数字证书签名与非对称密码加密传输。电力现货市场技术支持系统与能量管理系统、电力交易系统等内外部系统存在大量数据交互。电力现货市场技术支持系统在市场出清环节中需要考虑电网及机组物理运行特性，因此，需要从能量管理系统中获取电网物理模型、电网实时运行数据以及系统负荷预测、母线负荷预测、联络线计划、检修计划等数据，同时，现货市场出清结果需要用于物理执行，相关出清结果也会发送给能量管理系统中进行实际调度运行，事后，从能量管理系统中接入电网及机组实际运行数据开展市场运行分析等业务。电力现货市场技术支持系统在整个电力现货市场事前、事中、事后等全过程中都与能量管理系统存在密不可分的联系。电力交易系统在我国主要由电力交易中心负责建设和维护，它主要为开展年度、月度等中长期电力市场提供技术支撑，及负责市场申报发布和市场注册，电力现货市场技术支持系统需要从电力交易系统中获取市场注册信息、中长期交易合同相关信息，用于市场边界条件设定，按照市场信息披露原则向电力交易系统发送市场披露信息，由电力交易系统向市场主体发布，从电力交易系统获取市场主体报价信息。为了保证数据及时、准确的传输至现货市场系统，在现货市场系统中建立多种高效的数据传输机制以实现与不同系统间的数据交互，数据传输方式包括数据库同步、文件交互、数据访问服务等，支撑数据传输格式、传输周期的灵活配合，建立数据传输全过程监视技术，对从数据发送端到数据接收端各个环节进行监视。外部数据质量好坏直接影响了市场出清结果的准确性，针对现货市场各类外部数据特征，建立了可配置的数据校验规则，对所有输入数据进行校验，只有通过数据校验的数据才能进入到市场出清环节。随着云计算、大数据、人工智能、区块链等新技术发展，电力现货市场技术支持系统与新技术融合进一步推动了系统从体系架构、功能实现、系统运行等方面发生转变。利用云计算平台提供虚拟化资源，实现了传统物理机向可弹性伸缩的虚拟机转变，采用微服务、容器化等技术大大增强了系统扩展性和灵活性。利用大数据存储与处理能力，可以有效支撑大区域市场、大规模用户所产生的海量市场数据的处理与分析，实现千万级发用侧市场主体灵活接入市场。在市场分析、市场力检测、市场预测等领域应用人工智能算法，通过海量数据和人工智能算法相结合，挖掘现货市场复杂运行表象下更本质的运行规律，有效把握市场运行脉络，为开展各类市场分析提供智能化工具，同时，在市场模拟推演中应用人工智能技术模拟市场报价与博弈，为市场规则推演提供更加真实的环境。区块链技术是一种为多方协作构建互信环境的新型技术，利用块链式数据结构来验证与存储数据，利用分布式节点共识算法来生成和更新数据，利用密码学的方式保证数据传输和访问的安全，利用由自动化脚本代码组成的智能合约，来编程和操作数据的一种全新的分布式基础架构与计算方式。区块链分布式存储、防抵赖、可溯源等技术特点与电力现货市场应用需求高度契合，在电力现货市场技术支持系统中申报发布、市场监管、市场结算等领域具有广阔的应用前景，把市场申报发布数据和市场操作日志等关键业务数据进行上链存储，实现数据不可篡改和事后追溯，利用区块链智能合约实现市场自动结算与考核，为调度机构、市场主体、市场监管机构间建立公开、透明、互信、共享的市场环境提供技术支撑。'}]}"
      ]
     },
     "execution_count": 15,
     "metadata": {},
     "output_type": "execute_result"
    }
   ],
   "source": [
    "for index,query in enumerate(questions):\n",
    "    results[index][\"response\"] = qa_chain.invoke(query)\n",
    "\n",
    "    print(f\"第{index+1}个问题已回复..........\")\n",
    "\n",
    "results[124]"
   ]
  },
  {
   "cell_type": "code",
   "execution_count": 16,
   "metadata": {},
   "outputs": [],
   "source": [
    "import json\n",
    "\n",
    "check_inputs[\"results\"] = results\n",
    "# 导出JSON文件\n",
    "with open(\"电力现货市场QA.json\", \"w\") as file:\n",
    "    json.dump(check_inputs, file,indent=4, ensure_ascii=False)"
   ]
  },
  {
   "cell_type": "markdown",
   "metadata": {},
   "source": [
    "### Step5 提问，运行QA链，得到RAG结果"
   ]
  },
  {
   "cell_type": "code",
   "execution_count": null,
   "metadata": {},
   "outputs": [],
   "source": [
    "# question = \"电力市场与普通商品市场的差异？\"\n",
    "# question = \"什么是狭义的电力市场？\"\n",
    "# question = \"电力市场有哪些特征？\"\n",
    "question = \"输配电价对现货市场有什么影响？\"\n",
    "result = qa_chain({\"query\": question})\n",
    "# result[\"result\"]\n",
    "print(\"========= chain result ==========\")\n",
    "print(result['result'])"
   ]
  },
  {
   "cell_type": "code",
   "execution_count": null,
   "metadata": {},
   "outputs": [],
   "source": [
    "relevant_docs = result['source_documents']\n",
    "print(f'There are {len(relevant_docs)} documents retrieved which are relevant to the query.')\n",
    "print(\"*\" * 100)\n",
    "for i, doc in enumerate(relevant_docs):\n",
    "    # print(f\"Relevant Document #{i+1}:\\nSource file: {doc.metadata['source']}, Page: {doc.metadata['page']}\\nContent: {doc.page_content}\")\n",
    "    print(f\"Relevant Document #{i+1}:\\nSource file: {doc.metadata['source']}\\nContent: {doc.page_content}\")\n",
    "    print(\"-\"*100)\n",
    "    print(f'There are {len(relevant_docs)} documents retrieved which are relevant to the query.')"
   ]
  },
  {
   "cell_type": "markdown",
   "metadata": {},
   "source": [
    "### Step6 开始评估"
   ]
  },
  {
   "cell_type": "code",
   "execution_count": null,
   "metadata": {},
   "outputs": [],
   "source": [
    "from ragchecker import RAGResults, RAGChecker\n",
    "from ragchecker.metrics import all_metrics\n",
    "\n",
    "\n",
    "# 从json/dict初始化ragresults\n",
    "with open(\"examples/checking_inputs.json\") as fp:\n",
    "    rag_results = RAGResults.from_json(fp.read())\n",
    "\n",
    "# 设置评估器\n",
    "evaluator = RAGChecker(\n",
    "    extractor_name=\"bedrock/meta.llama3-1-70b-instruct-v1:0\",\n",
    "    checker_name=\"bedrock/meta.llama3-1-70b-instruct-v1:0\",\n",
    "    batch_size_extractor=32,\n",
    "    batch_size_checker=32\n",
    ")\n",
    "\n",
    "# 使用选定的指标（如retriever_metrics、generator_metrics、all_metrics）评估结果\n",
    "evaluator.evaluate(rag_results, all_metrics)\n",
    "print(rag_results)"
   ]
  }
 ],
 "metadata": {
  "kernelspec": {
   "display_name": "transformers",
   "language": "python",
   "name": "python3"
  },
  "language_info": {
   "codemirror_mode": {
    "name": "ipython",
    "version": 3
   },
   "file_extension": ".py",
   "mimetype": "text/x-python",
   "name": "python",
   "nbconvert_exporter": "python",
   "pygments_lexer": "ipython3",
   "version": "3.9.20"
  }
 },
 "nbformat": 4,
 "nbformat_minor": 2
}
