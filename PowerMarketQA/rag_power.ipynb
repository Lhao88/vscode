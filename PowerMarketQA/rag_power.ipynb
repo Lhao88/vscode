{
 "cells": [
  {
   "cell_type": "markdown",
   "metadata": {},
   "source": [
    "### Step1 导入相关包"
   ]
  },
  {
   "cell_type": "code",
   "metadata": {
    "ExecuteTime": {
     "end_time": "2024-11-26T08:12:09.274168Z",
     "start_time": "2024-11-26T08:12:09.268188Z"
    }
   },
   "source": [
    "import sentence_transformers\n",
    "from langchain_community.llms import BaichuanLLM\n",
    "from langchain_community.vectorstores import FAISS\n",
    "from langchain_community.embeddings import HuggingFaceBgeEmbeddings\n",
    "from langchain.chains import RetrievalQA\n",
    "from langchain.prompts import PromptTemplate\n",
    "from langchain_core.output_parsers import StrOutputParser\n",
    "from langchain_core.runnables import RunnablePassthrough\n",
    "from langchain_core.documents import Document\n",
    "from langchain_core.retrievers import BaseRetriever\n",
    "from langchain_core.callbacks import CallbackManagerForRetrieverRun\n",
    "from typing import List\n",
    "from PowerMarketQA.CustomLLM import CustomLLM"
   ],
   "outputs": [],
   "execution_count": 11
  },
  {
   "cell_type": "code",
   "metadata": {
    "ExecuteTime": {
     "end_time": "2024-11-26T08:12:11.467630Z",
     "start_time": "2024-11-26T08:12:11.448605Z"
    }
   },
   "source": "llm = CustomLLM(n=10)",
   "outputs": [],
   "execution_count": 12
  },
  {
   "cell_type": "code",
   "metadata": {
    "ExecuteTime": {
     "end_time": "2024-11-26T08:12:14.383604Z",
     "start_time": "2024-11-26T08:12:13.077923Z"
    }
   },
   "source": "llm(\"你好\")",
   "outputs": [
    {
     "name": "stderr",
     "output_type": "stream",
     "text": [
      "Explicitly passing a `revision` is encouraged when loading a model with custom code to ensure no malicious code has been contributed in a newer revision.\n",
      "Explicitly passing a `revision` is encouraged when loading a configuration with custom code to ensure no malicious code has been contributed in a newer revision.\n",
      "Explicitly passing a `revision` is encouraged when loading a model with custom code to ensure no malicious code has been contributed in a newer revision.\n"
     ]
    },
    {
     "ename": "RuntimeError",
     "evalue": "Failed to import transformers.integrations.peft because of the following error (look up to see its traceback):\ncannot import name 'check_peft_version' from 'transformers.utils' (D:\\Download\\miniconda3\\envs\\py3.10\\lib\\site-packages\\transformers\\utils\\__init__.py)",
     "output_type": "error",
     "traceback": [
      "\u001B[1;31m---------------------------------------------------------------------------\u001B[0m",
      "\u001B[1;31mImportError\u001B[0m                               Traceback (most recent call last)",
      "File \u001B[1;32mD:\\Download\\miniconda3\\envs\\py3.10\\lib\\site-packages\\transformers\\utils\\import_utils.py:1126\u001B[0m, in \u001B[0;36m_get_module\u001B[1;34m(self, module_name)\u001B[0m\n\u001B[0;32m   1125\u001B[0m \u001B[38;5;28;01mdef\u001B[39;00m \u001B[38;5;21mis_training_run_on_sagemaker\u001B[39m():\n\u001B[1;32m-> 1126\u001B[0m     \u001B[38;5;28;01mreturn\u001B[39;00m \u001B[38;5;124m\"\u001B[39m\u001B[38;5;124mSAGEMAKER_JOB_NAME\u001B[39m\u001B[38;5;124m\"\u001B[39m \u001B[38;5;129;01min\u001B[39;00m os\u001B[38;5;241m.\u001B[39menviron\n",
      "File \u001B[1;32mD:\\Download\\miniconda3\\envs\\py3.10\\lib\\importlib\\__init__.py:126\u001B[0m, in \u001B[0;36mimport_module\u001B[1;34m(name, package)\u001B[0m\n\u001B[0;32m    125\u001B[0m         level \u001B[38;5;241m+\u001B[39m\u001B[38;5;241m=\u001B[39m \u001B[38;5;241m1\u001B[39m\n\u001B[1;32m--> 126\u001B[0m \u001B[38;5;28;01mreturn\u001B[39;00m \u001B[43m_bootstrap\u001B[49m\u001B[38;5;241;43m.\u001B[39;49m\u001B[43m_gcd_import\u001B[49m\u001B[43m(\u001B[49m\u001B[43mname\u001B[49m\u001B[43m[\u001B[49m\u001B[43mlevel\u001B[49m\u001B[43m:\u001B[49m\u001B[43m]\u001B[49m\u001B[43m,\u001B[49m\u001B[43m \u001B[49m\u001B[43mpackage\u001B[49m\u001B[43m,\u001B[49m\u001B[43m \u001B[49m\u001B[43mlevel\u001B[49m\u001B[43m)\u001B[49m\n",
      "File \u001B[1;32m<frozen importlib._bootstrap>:1050\u001B[0m, in \u001B[0;36m_gcd_import\u001B[1;34m(name, package, level)\u001B[0m\n",
      "File \u001B[1;32m<frozen importlib._bootstrap>:1027\u001B[0m, in \u001B[0;36m_find_and_load\u001B[1;34m(name, import_)\u001B[0m\n",
      "File \u001B[1;32m<frozen importlib._bootstrap>:1006\u001B[0m, in \u001B[0;36m_find_and_load_unlocked\u001B[1;34m(name, import_)\u001B[0m\n",
      "File \u001B[1;32m<frozen importlib._bootstrap>:688\u001B[0m, in \u001B[0;36m_load_unlocked\u001B[1;34m(spec)\u001B[0m\n",
      "File \u001B[1;32m<frozen importlib._bootstrap_external>:883\u001B[0m, in \u001B[0;36mexec_module\u001B[1;34m(self, module)\u001B[0m\n",
      "File \u001B[1;32m<frozen importlib._bootstrap>:241\u001B[0m, in \u001B[0;36m_call_with_frames_removed\u001B[1;34m(f, *args, **kwds)\u001B[0m\n",
      "File \u001B[1;32mD:\\Download\\miniconda3\\envs\\py3.10\\lib\\site-packages\\transformers\\integrations\\peft.py:21\u001B[0m\n\u001B[0;32m     19\u001B[0m \u001B[38;5;28;01mfrom\u001B[39;00m \u001B[38;5;21;01mpackaging\u001B[39;00m \u001B[38;5;28;01mimport\u001B[39;00m version\n\u001B[1;32m---> 21\u001B[0m \u001B[38;5;28;01mfrom\u001B[39;00m \u001B[38;5;21;01m.\u001B[39;00m\u001B[38;5;21;01m.\u001B[39;00m\u001B[38;5;21;01mutils\u001B[39;00m \u001B[38;5;28;01mimport\u001B[39;00m (\n\u001B[0;32m     22\u001B[0m     check_peft_version,\n\u001B[0;32m     23\u001B[0m     find_adapter_config_file,\n\u001B[0;32m     24\u001B[0m     is_accelerate_available,\n\u001B[0;32m     25\u001B[0m     is_peft_available,\n\u001B[0;32m     26\u001B[0m     is_torch_available,\n\u001B[0;32m     27\u001B[0m     logging,\n\u001B[0;32m     28\u001B[0m )\n\u001B[0;32m     31\u001B[0m \u001B[38;5;28;01mif\u001B[39;00m is_torch_available():\n",
      "\u001B[1;31mImportError\u001B[0m: cannot import name 'check_peft_version' from 'transformers.utils' (D:\\Download\\miniconda3\\envs\\py3.10\\lib\\site-packages\\transformers\\utils\\__init__.py)",
      "\nThe above exception was the direct cause of the following exception:\n",
      "\u001B[1;31mRuntimeError\u001B[0m                              Traceback (most recent call last)",
      "Cell \u001B[1;32mIn[13], line 1\u001B[0m\n\u001B[1;32m----> 1\u001B[0m \u001B[43mllm\u001B[49m\u001B[43m(\u001B[49m\u001B[38;5;124;43m\"\u001B[39;49m\u001B[38;5;124;43m你好\u001B[39;49m\u001B[38;5;124;43m\"\u001B[39;49m\u001B[43m)\u001B[49m\n",
      "File \u001B[1;32mD:\\Download\\miniconda3\\envs\\py3.10\\lib\\site-packages\\langchain_core\\_api\\deprecation.py:182\u001B[0m, in \u001B[0;36mdeprecated.<locals>.deprecate.<locals>.warning_emitting_wrapper\u001B[1;34m(*args, **kwargs)\u001B[0m\n\u001B[0;32m    180\u001B[0m     warned \u001B[38;5;241m=\u001B[39m \u001B[38;5;28;01mTrue\u001B[39;00m\n\u001B[0;32m    181\u001B[0m     emit_warning()\n\u001B[1;32m--> 182\u001B[0m \u001B[38;5;28;01mreturn\u001B[39;00m wrapped(\u001B[38;5;241m*\u001B[39margs, \u001B[38;5;241m*\u001B[39m\u001B[38;5;241m*\u001B[39mkwargs)\n",
      "File \u001B[1;32mD:\\Download\\miniconda3\\envs\\py3.10\\lib\\site-packages\\langchain_core\\language_models\\llms.py:1277\u001B[0m, in \u001B[0;36mBaseLLM.__call__\u001B[1;34m(self, prompt, stop, callbacks, tags, metadata, **kwargs)\u001B[0m\n\u001B[0;32m   1270\u001B[0m     msg \u001B[38;5;241m=\u001B[39m (\n\u001B[0;32m   1271\u001B[0m         \u001B[38;5;124m\"\u001B[39m\u001B[38;5;124mArgument `prompt` is expected to be a string. Instead found \u001B[39m\u001B[38;5;124m\"\u001B[39m\n\u001B[0;32m   1272\u001B[0m         \u001B[38;5;124mf\u001B[39m\u001B[38;5;124m\"\u001B[39m\u001B[38;5;132;01m{\u001B[39;00m\u001B[38;5;28mtype\u001B[39m(prompt)\u001B[38;5;132;01m}\u001B[39;00m\u001B[38;5;124m. If you want to run the LLM on multiple prompts, use \u001B[39m\u001B[38;5;124m\"\u001B[39m\n\u001B[0;32m   1273\u001B[0m         \u001B[38;5;124m\"\u001B[39m\u001B[38;5;124m`generate` instead.\u001B[39m\u001B[38;5;124m\"\u001B[39m\n\u001B[0;32m   1274\u001B[0m     )\n\u001B[0;32m   1275\u001B[0m     \u001B[38;5;28;01mraise\u001B[39;00m \u001B[38;5;167;01mValueError\u001B[39;00m(msg)\n\u001B[0;32m   1276\u001B[0m \u001B[38;5;28;01mreturn\u001B[39;00m (\n\u001B[1;32m-> 1277\u001B[0m     \u001B[38;5;28mself\u001B[39m\u001B[38;5;241m.\u001B[39mgenerate(\n\u001B[0;32m   1278\u001B[0m         [prompt],\n\u001B[0;32m   1279\u001B[0m         stop\u001B[38;5;241m=\u001B[39mstop,\n\u001B[0;32m   1280\u001B[0m         callbacks\u001B[38;5;241m=\u001B[39mcallbacks,\n\u001B[0;32m   1281\u001B[0m         tags\u001B[38;5;241m=\u001B[39mtags,\n\u001B[0;32m   1282\u001B[0m         metadata\u001B[38;5;241m=\u001B[39mmetadata,\n\u001B[0;32m   1283\u001B[0m         \u001B[38;5;241m*\u001B[39m\u001B[38;5;241m*\u001B[39mkwargs,\n\u001B[0;32m   1284\u001B[0m     )\n\u001B[0;32m   1285\u001B[0m     \u001B[38;5;241m.\u001B[39mgenerations[\u001B[38;5;241m0\u001B[39m][\u001B[38;5;241m0\u001B[39m]\n\u001B[0;32m   1286\u001B[0m     \u001B[38;5;241m.\u001B[39mtext\n\u001B[0;32m   1287\u001B[0m )\n",
      "File \u001B[1;32mD:\\Download\\miniconda3\\envs\\py3.10\\lib\\site-packages\\langchain_core\\language_models\\llms.py:950\u001B[0m, in \u001B[0;36mBaseLLM.generate\u001B[1;34m(self, prompts, stop, callbacks, tags, metadata, run_name, run_id, **kwargs)\u001B[0m\n\u001B[0;32m    935\u001B[0m \u001B[38;5;28;01mif\u001B[39;00m (\u001B[38;5;28mself\u001B[39m\u001B[38;5;241m.\u001B[39mcache \u001B[38;5;129;01mis\u001B[39;00m \u001B[38;5;28;01mNone\u001B[39;00m \u001B[38;5;129;01mand\u001B[39;00m get_llm_cache() \u001B[38;5;129;01mis\u001B[39;00m \u001B[38;5;28;01mNone\u001B[39;00m) \u001B[38;5;129;01mor\u001B[39;00m \u001B[38;5;28mself\u001B[39m\u001B[38;5;241m.\u001B[39mcache \u001B[38;5;129;01mis\u001B[39;00m \u001B[38;5;28;01mFalse\u001B[39;00m:\n\u001B[0;32m    936\u001B[0m     run_managers \u001B[38;5;241m=\u001B[39m [\n\u001B[0;32m    937\u001B[0m         callback_manager\u001B[38;5;241m.\u001B[39mon_llm_start(\n\u001B[0;32m    938\u001B[0m             \u001B[38;5;28mself\u001B[39m\u001B[38;5;241m.\u001B[39m_serialized,\n\u001B[1;32m   (...)\u001B[0m\n\u001B[0;32m    948\u001B[0m         )\n\u001B[0;32m    949\u001B[0m     ]\n\u001B[1;32m--> 950\u001B[0m     output \u001B[38;5;241m=\u001B[39m \u001B[38;5;28mself\u001B[39m\u001B[38;5;241m.\u001B[39m_generate_helper(\n\u001B[0;32m    951\u001B[0m         prompts, stop, run_managers, \u001B[38;5;28mbool\u001B[39m(new_arg_supported), \u001B[38;5;241m*\u001B[39m\u001B[38;5;241m*\u001B[39mkwargs\n\u001B[0;32m    952\u001B[0m     )\n\u001B[0;32m    953\u001B[0m     \u001B[38;5;28;01mreturn\u001B[39;00m output\n\u001B[0;32m    954\u001B[0m \u001B[38;5;28;01mif\u001B[39;00m \u001B[38;5;28mlen\u001B[39m(missing_prompts) \u001B[38;5;241m>\u001B[39m \u001B[38;5;241m0\u001B[39m:\n",
      "File \u001B[1;32mD:\\Download\\miniconda3\\envs\\py3.10\\lib\\site-packages\\langchain_core\\language_models\\llms.py:792\u001B[0m, in \u001B[0;36mBaseLLM._generate_helper\u001B[1;34m(self, prompts, stop, run_managers, new_arg_supported, **kwargs)\u001B[0m\n\u001B[0;32m    790\u001B[0m     \u001B[38;5;28;01mfor\u001B[39;00m run_manager \u001B[38;5;129;01min\u001B[39;00m run_managers:\n\u001B[0;32m    791\u001B[0m         run_manager\u001B[38;5;241m.\u001B[39mon_llm_error(e, response\u001B[38;5;241m=\u001B[39mLLMResult(generations\u001B[38;5;241m=\u001B[39m[]))\n\u001B[1;32m--> 792\u001B[0m     \u001B[38;5;28;01mraise\u001B[39;00m e\n\u001B[0;32m    793\u001B[0m flattened_outputs \u001B[38;5;241m=\u001B[39m output\u001B[38;5;241m.\u001B[39mflatten()\n\u001B[0;32m    794\u001B[0m \u001B[38;5;28;01mfor\u001B[39;00m manager, flattened_output \u001B[38;5;129;01min\u001B[39;00m \u001B[38;5;28mzip\u001B[39m(run_managers, flattened_outputs):\n",
      "File \u001B[1;32mD:\\Download\\miniconda3\\envs\\py3.10\\lib\\site-packages\\langchain_core\\language_models\\llms.py:779\u001B[0m, in \u001B[0;36mBaseLLM._generate_helper\u001B[1;34m(self, prompts, stop, run_managers, new_arg_supported, **kwargs)\u001B[0m\n\u001B[0;32m    769\u001B[0m \u001B[38;5;28;01mdef\u001B[39;00m \u001B[38;5;21m_generate_helper\u001B[39m(\n\u001B[0;32m    770\u001B[0m     \u001B[38;5;28mself\u001B[39m,\n\u001B[0;32m    771\u001B[0m     prompts: \u001B[38;5;28mlist\u001B[39m[\u001B[38;5;28mstr\u001B[39m],\n\u001B[1;32m   (...)\u001B[0m\n\u001B[0;32m    775\u001B[0m     \u001B[38;5;241m*\u001B[39m\u001B[38;5;241m*\u001B[39mkwargs: Any,\n\u001B[0;32m    776\u001B[0m ) \u001B[38;5;241m-\u001B[39m\u001B[38;5;241m>\u001B[39m LLMResult:\n\u001B[0;32m    777\u001B[0m     \u001B[38;5;28;01mtry\u001B[39;00m:\n\u001B[0;32m    778\u001B[0m         output \u001B[38;5;241m=\u001B[39m (\n\u001B[1;32m--> 779\u001B[0m             \u001B[38;5;28mself\u001B[39m\u001B[38;5;241m.\u001B[39m_generate(\n\u001B[0;32m    780\u001B[0m                 prompts,\n\u001B[0;32m    781\u001B[0m                 stop\u001B[38;5;241m=\u001B[39mstop,\n\u001B[0;32m    782\u001B[0m                 \u001B[38;5;66;03m# TODO: support multiple run managers\u001B[39;00m\n\u001B[0;32m    783\u001B[0m                 run_manager\u001B[38;5;241m=\u001B[39mrun_managers[\u001B[38;5;241m0\u001B[39m] \u001B[38;5;28;01mif\u001B[39;00m run_managers \u001B[38;5;28;01melse\u001B[39;00m \u001B[38;5;28;01mNone\u001B[39;00m,\n\u001B[0;32m    784\u001B[0m                 \u001B[38;5;241m*\u001B[39m\u001B[38;5;241m*\u001B[39mkwargs,\n\u001B[0;32m    785\u001B[0m             )\n\u001B[0;32m    786\u001B[0m             \u001B[38;5;28;01mif\u001B[39;00m new_arg_supported\n\u001B[0;32m    787\u001B[0m             \u001B[38;5;28;01melse\u001B[39;00m \u001B[38;5;28mself\u001B[39m\u001B[38;5;241m.\u001B[39m_generate(prompts, stop\u001B[38;5;241m=\u001B[39mstop)\n\u001B[0;32m    788\u001B[0m         )\n\u001B[0;32m    789\u001B[0m     \u001B[38;5;28;01mexcept\u001B[39;00m \u001B[38;5;167;01mBaseException\u001B[39;00m \u001B[38;5;28;01mas\u001B[39;00m e:\n\u001B[0;32m    790\u001B[0m         \u001B[38;5;28;01mfor\u001B[39;00m run_manager \u001B[38;5;129;01min\u001B[39;00m run_managers:\n",
      "File \u001B[1;32mD:\\Download\\miniconda3\\envs\\py3.10\\lib\\site-packages\\langchain_core\\language_models\\llms.py:1502\u001B[0m, in \u001B[0;36mLLM._generate\u001B[1;34m(self, prompts, stop, run_manager, **kwargs)\u001B[0m\n\u001B[0;32m   1499\u001B[0m new_arg_supported \u001B[38;5;241m=\u001B[39m inspect\u001B[38;5;241m.\u001B[39msignature(\u001B[38;5;28mself\u001B[39m\u001B[38;5;241m.\u001B[39m_call)\u001B[38;5;241m.\u001B[39mparameters\u001B[38;5;241m.\u001B[39mget(\u001B[38;5;124m\"\u001B[39m\u001B[38;5;124mrun_manager\u001B[39m\u001B[38;5;124m\"\u001B[39m)\n\u001B[0;32m   1500\u001B[0m \u001B[38;5;28;01mfor\u001B[39;00m prompt \u001B[38;5;129;01min\u001B[39;00m prompts:\n\u001B[0;32m   1501\u001B[0m     text \u001B[38;5;241m=\u001B[39m (\n\u001B[1;32m-> 1502\u001B[0m         \u001B[38;5;28mself\u001B[39m\u001B[38;5;241m.\u001B[39m_call(prompt, stop\u001B[38;5;241m=\u001B[39mstop, run_manager\u001B[38;5;241m=\u001B[39mrun_manager, \u001B[38;5;241m*\u001B[39m\u001B[38;5;241m*\u001B[39mkwargs)\n\u001B[0;32m   1503\u001B[0m         \u001B[38;5;28;01mif\u001B[39;00m new_arg_supported\n\u001B[0;32m   1504\u001B[0m         \u001B[38;5;28;01melse\u001B[39;00m \u001B[38;5;28mself\u001B[39m\u001B[38;5;241m.\u001B[39m_call(prompt, stop\u001B[38;5;241m=\u001B[39mstop, \u001B[38;5;241m*\u001B[39m\u001B[38;5;241m*\u001B[39mkwargs)\n\u001B[0;32m   1505\u001B[0m     )\n\u001B[0;32m   1506\u001B[0m     generations\u001B[38;5;241m.\u001B[39mappend([Generation(text\u001B[38;5;241m=\u001B[39mtext)])\n\u001B[0;32m   1507\u001B[0m \u001B[38;5;28;01mreturn\u001B[39;00m LLMResult(generations\u001B[38;5;241m=\u001B[39mgenerations)\n",
      "File \u001B[1;32mE:\\vscode\\PowerMarketQA\\CustomLLM.py:28\u001B[0m, in \u001B[0;36mCustomLLM._call\u001B[1;34m(self, prompt, stop, run_manager, **kwargs)\u001B[0m\n\u001B[0;32m     23\u001B[0m     \u001B[38;5;28;01mraise\u001B[39;00m \u001B[38;5;167;01mValueError\u001B[39;00m(\u001B[38;5;124m\"\u001B[39m\u001B[38;5;124mstop kwargs are not permitted.\u001B[39m\u001B[38;5;124m\"\u001B[39m)\n\u001B[0;32m     25\u001B[0m tokenizer \u001B[38;5;241m=\u001B[39m AutoTokenizer\u001B[38;5;241m.\u001B[39mfrom_pretrained(\n\u001B[0;32m     26\u001B[0m     \u001B[38;5;124m\"\u001B[39m\u001B[38;5;124mE:\u001B[39m\u001B[38;5;124m\\\u001B[39m\u001B[38;5;124mhuggingface\u001B[39m\u001B[38;5;124m\\\u001B[39m\u001B[38;5;124mhub\u001B[39m\u001B[38;5;124m\\\u001B[39m\u001B[38;5;124mmodels--THUDM--chatglm-6b-int4\u001B[39m\u001B[38;5;124m\\\u001B[39m\u001B[38;5;124msnapshots\u001B[39m\u001B[38;5;124m\\\u001B[39m\u001B[38;5;124m826ca34b74d484f40448238e57a0b45b66ad30fb\u001B[39m\u001B[38;5;124m\"\u001B[39m,\n\u001B[0;32m     27\u001B[0m     trust_remote_code\u001B[38;5;241m=\u001B[39m\u001B[38;5;28;01mTrue\u001B[39;00m)\n\u001B[1;32m---> 28\u001B[0m model \u001B[38;5;241m=\u001B[39m \u001B[43mAutoModel\u001B[49m\u001B[38;5;241;43m.\u001B[39;49m\u001B[43mfrom_pretrained\u001B[49m\u001B[43m(\u001B[49m\n\u001B[0;32m     29\u001B[0m \u001B[43m    \u001B[49m\u001B[38;5;124;43m\"\u001B[39;49m\u001B[38;5;124;43mE:\u001B[39;49m\u001B[38;5;124;43m\\\u001B[39;49m\u001B[38;5;124;43mhuggingface\u001B[39;49m\u001B[38;5;124;43m\\\u001B[39;49m\u001B[38;5;124;43mhub\u001B[39;49m\u001B[38;5;124;43m\\\u001B[39;49m\u001B[38;5;124;43mmodels--THUDM--chatglm-6b-int4\u001B[39;49m\u001B[38;5;124;43m\\\u001B[39;49m\u001B[38;5;124;43msnapshots\u001B[39;49m\u001B[38;5;124;43m\\\u001B[39;49m\u001B[38;5;124;43m826ca34b74d484f40448238e57a0b45b66ad30fb\u001B[39;49m\u001B[38;5;124;43m\"\u001B[39;49m\u001B[43m,\u001B[49m\n\u001B[0;32m     30\u001B[0m \u001B[43m    \u001B[49m\u001B[43mtrust_remote_code\u001B[49m\u001B[38;5;241;43m=\u001B[39;49m\u001B[38;5;28;43;01mTrue\u001B[39;49;00m\u001B[43m)\u001B[49m\u001B[38;5;241m.\u001B[39mhalf()\u001B[38;5;241m.\u001B[39mcuda()\n\u001B[0;32m     31\u001B[0m response, history \u001B[38;5;241m=\u001B[39m model\u001B[38;5;241m.\u001B[39mchat(tokenizer, prompt, history\u001B[38;5;241m=\u001B[39m[])\n\u001B[0;32m     33\u001B[0m \u001B[38;5;28;01mreturn\u001B[39;00m response\n",
      "File \u001B[1;32mD:\\Download\\miniconda3\\envs\\py3.10\\lib\\site-packages\\transformers\\models\\auto\\auto_factory.py:462\u001B[0m, in \u001B[0;36mfrom_pretrained\u001B[1;34m(cls, pretrained_model_name_or_path, *model_args, **kwargs)\u001B[0m\n\u001B[0;32m    458\u001B[0m use_auth_token \u001B[38;5;241m=\u001B[39m hub_kwargs\u001B[38;5;241m.\u001B[39mpop(\u001B[38;5;124m\"\u001B[39m\u001B[38;5;124muse_auth_token\u001B[39m\u001B[38;5;124m\"\u001B[39m, \u001B[38;5;28;01mNone\u001B[39;00m)\n\u001B[0;32m    459\u001B[0m \u001B[38;5;28;01mif\u001B[39;00m use_auth_token \u001B[38;5;129;01mis\u001B[39;00m \u001B[38;5;129;01mnot\u001B[39;00m \u001B[38;5;28;01mNone\u001B[39;00m:\n\u001B[0;32m    460\u001B[0m     warnings\u001B[38;5;241m.\u001B[39mwarn(\n\u001B[0;32m    461\u001B[0m         \u001B[38;5;124m\"\u001B[39m\u001B[38;5;124mThe `use_auth_token` argument is deprecated and will be removed in v5 of Transformers.\u001B[39m\u001B[38;5;124m\"\u001B[39m, \u001B[38;5;167;01mFutureWarning\u001B[39;00m\n\u001B[1;32m--> 462\u001B[0m     )\n\u001B[0;32m    463\u001B[0m     \u001B[38;5;28;01mif\u001B[39;00m token \u001B[38;5;129;01mis\u001B[39;00m \u001B[38;5;129;01mnot\u001B[39;00m \u001B[38;5;28;01mNone\u001B[39;00m:\n\u001B[0;32m    464\u001B[0m         \u001B[38;5;28;01mraise\u001B[39;00m \u001B[38;5;167;01mValueError\u001B[39;00m(\n\u001B[0;32m    465\u001B[0m             \u001B[38;5;124m\"\u001B[39m\u001B[38;5;124m`token` and `use_auth_token` are both specified. Please set only the argument `token`.\u001B[39m\u001B[38;5;124m\"\u001B[39m\n\u001B[0;32m    466\u001B[0m         )\n",
      "File \u001B[1;32mD:\\Download\\miniconda3\\envs\\py3.10\\lib\\site-packages\\transformers\\dynamic_module_utils.py:399\u001B[0m, in \u001B[0;36mget_class_from_dynamic_module\u001B[1;34m(pretrained_model_name_or_path, module_file, class_name, cache_dir, force_download, resume_download, proxies, use_auth_token, revision, local_files_only, **kwargs)\u001B[0m\n\u001B[0;32m    378\u001B[0m \u001B[38;5;28;01mdef\u001B[39;00m \u001B[38;5;21mget_class_from_dynamic_module\u001B[39m(\n\u001B[0;32m    379\u001B[0m     class_reference: \u001B[38;5;28mstr\u001B[39m,\n\u001B[0;32m    380\u001B[0m     pretrained_model_name_or_path: Union[\u001B[38;5;28mstr\u001B[39m, os\u001B[38;5;241m.\u001B[39mPathLike],\n\u001B[1;32m   (...)\u001B[0m\n\u001B[0;32m    390\u001B[0m     \u001B[38;5;241m*\u001B[39m\u001B[38;5;241m*\u001B[39mkwargs,\n\u001B[0;32m    391\u001B[0m ) \u001B[38;5;241m-\u001B[39m\u001B[38;5;241m>\u001B[39m typing\u001B[38;5;241m.\u001B[39mType:\n\u001B[0;32m    392\u001B[0m \u001B[38;5;250m    \u001B[39m\u001B[38;5;124;03m\"\"\"\u001B[39;00m\n\u001B[0;32m    393\u001B[0m \u001B[38;5;124;03m    Extracts a class from a module file, present in the local folder or repository of a model.\u001B[39;00m\n\u001B[0;32m    394\u001B[0m \n\u001B[0;32m    395\u001B[0m \u001B[38;5;124;03m    <Tip warning={true}>\u001B[39;00m\n\u001B[0;32m    396\u001B[0m \n\u001B[0;32m    397\u001B[0m \u001B[38;5;124;03m    Calling this function will execute the code in the module file found locally or downloaded from the Hub. It should\u001B[39;00m\n\u001B[0;32m    398\u001B[0m \u001B[38;5;124;03m    therefore only be called on trusted repos.\u001B[39;00m\n\u001B[1;32m--> 399\u001B[0m \n\u001B[0;32m    400\u001B[0m \u001B[38;5;124;03m    </Tip>\u001B[39;00m\n\u001B[0;32m    401\u001B[0m \n\u001B[0;32m    402\u001B[0m \u001B[38;5;124;03m    Args:\u001B[39;00m\n\u001B[0;32m    403\u001B[0m \u001B[38;5;124;03m        class_reference (`str`):\u001B[39;00m\n\u001B[0;32m    404\u001B[0m \u001B[38;5;124;03m            The full name of the class to load, including its module and optionally its repo.\u001B[39;00m\n\u001B[0;32m    405\u001B[0m \u001B[38;5;124;03m        pretrained_model_name_or_path (`str` or `os.PathLike`):\u001B[39;00m\n\u001B[0;32m    406\u001B[0m \u001B[38;5;124;03m            This can be either:\u001B[39;00m\n\u001B[0;32m    407\u001B[0m \n\u001B[0;32m    408\u001B[0m \u001B[38;5;124;03m            - a string, the *model id* of a pretrained model configuration hosted inside a model repo on\u001B[39;00m\n\u001B[0;32m    409\u001B[0m \u001B[38;5;124;03m              huggingface.co. Valid model ids can be located at the root-level, like `bert-base-uncased`, or namespaced\u001B[39;00m\n\u001B[0;32m    410\u001B[0m \u001B[38;5;124;03m              under a user or organization name, like `dbmdz/bert-base-german-cased`.\u001B[39;00m\n\u001B[0;32m    411\u001B[0m \u001B[38;5;124;03m            - a path to a *directory* containing a configuration file saved using the\u001B[39;00m\n\u001B[0;32m    412\u001B[0m \u001B[38;5;124;03m              [`~PreTrainedTokenizer.save_pretrained`] method, e.g., `./my_model_directory/`.\u001B[39;00m\n\u001B[0;32m    413\u001B[0m \n\u001B[0;32m    414\u001B[0m \u001B[38;5;124;03m            This is used when `class_reference` does not specify another repo.\u001B[39;00m\n\u001B[0;32m    415\u001B[0m \u001B[38;5;124;03m        module_file (`str`):\u001B[39;00m\n\u001B[0;32m    416\u001B[0m \u001B[38;5;124;03m            The name of the module file containing the class to look for.\u001B[39;00m\n\u001B[0;32m    417\u001B[0m \u001B[38;5;124;03m        class_name (`str`):\u001B[39;00m\n\u001B[0;32m    418\u001B[0m \u001B[38;5;124;03m            The name of the class to import in the module.\u001B[39;00m\n\u001B[0;32m    419\u001B[0m \u001B[38;5;124;03m        cache_dir (`str` or `os.PathLike`, *optional*):\u001B[39;00m\n\u001B[0;32m    420\u001B[0m \u001B[38;5;124;03m            Path to a directory in which a downloaded pretrained model configuration should be cached if the standard\u001B[39;00m\n\u001B[0;32m    421\u001B[0m \u001B[38;5;124;03m            cache should not be used.\u001B[39;00m\n\u001B[0;32m    422\u001B[0m \u001B[38;5;124;03m        force_download (`bool`, *optional*, defaults to `False`):\u001B[39;00m\n\u001B[0;32m    423\u001B[0m \u001B[38;5;124;03m            Whether or not to force to (re-)download the configuration files and override the cached versions if they\u001B[39;00m\n\u001B[0;32m    424\u001B[0m \u001B[38;5;124;03m            exist.\u001B[39;00m\n\u001B[0;32m    425\u001B[0m \u001B[38;5;124;03m        resume_download (`bool`, *optional*, defaults to `False`):\u001B[39;00m\n\u001B[0;32m    426\u001B[0m \u001B[38;5;124;03m            Whether or not to delete incompletely received file. Attempts to resume the download if such a file exists.\u001B[39;00m\n\u001B[0;32m    427\u001B[0m \u001B[38;5;124;03m        proxies (`Dict[str, str]`, *optional*):\u001B[39;00m\n\u001B[0;32m    428\u001B[0m \u001B[38;5;124;03m            A dictionary of proxy servers to use by protocol or endpoint, e.g., `{'http': 'foo.bar:3128',\u001B[39;00m\n\u001B[0;32m    429\u001B[0m \u001B[38;5;124;03m            'http://hostname': 'foo.bar:4012'}.` The proxies are used on each request.\u001B[39;00m\n\u001B[0;32m    430\u001B[0m \u001B[38;5;124;03m        token (`str` or `bool`, *optional*):\u001B[39;00m\n\u001B[0;32m    431\u001B[0m \u001B[38;5;124;03m            The token to use as HTTP bearer authorization for remote files. If `True`, will use the token generated\u001B[39;00m\n\u001B[0;32m    432\u001B[0m \u001B[38;5;124;03m            when running `huggingface-cli login` (stored in `~/.huggingface`).\u001B[39;00m\n\u001B[0;32m    433\u001B[0m \u001B[38;5;124;03m        revision (`str`, *optional*, defaults to `\"main\"`):\u001B[39;00m\n\u001B[0;32m    434\u001B[0m \u001B[38;5;124;03m            The specific model version to use. It can be a branch name, a tag name, or a commit id, since we use a\u001B[39;00m\n\u001B[0;32m    435\u001B[0m \u001B[38;5;124;03m            git-based system for storing models and other artifacts on huggingface.co, so `revision` can be any\u001B[39;00m\n\u001B[0;32m    436\u001B[0m \u001B[38;5;124;03m            identifier allowed by git.\u001B[39;00m\n\u001B[0;32m    437\u001B[0m \u001B[38;5;124;03m        local_files_only (`bool`, *optional*, defaults to `False`):\u001B[39;00m\n\u001B[0;32m    438\u001B[0m \u001B[38;5;124;03m            If `True`, will only try to load the tokenizer configuration from local files.\u001B[39;00m\n\u001B[0;32m    439\u001B[0m \u001B[38;5;124;03m        repo_type (`str`, *optional*):\u001B[39;00m\n\u001B[0;32m    440\u001B[0m \u001B[38;5;124;03m            Specify the repo type (useful when downloading from a space for instance).\u001B[39;00m\n\u001B[0;32m    441\u001B[0m \u001B[38;5;124;03m        code_revision (`str`, *optional*, defaults to `\"main\"`):\u001B[39;00m\n\u001B[0;32m    442\u001B[0m \u001B[38;5;124;03m            The specific revision to use for the code on the Hub, if the code leaves in a different repository than the\u001B[39;00m\n\u001B[0;32m    443\u001B[0m \u001B[38;5;124;03m            rest of the model. It can be a branch name, a tag name, or a commit id, since we use a git-based system for\u001B[39;00m\n\u001B[0;32m    444\u001B[0m \u001B[38;5;124;03m            storing models and other artifacts on huggingface.co, so `revision` can be any identifier allowed by git.\u001B[39;00m\n\u001B[0;32m    445\u001B[0m \n\u001B[0;32m    446\u001B[0m \u001B[38;5;124;03m    <Tip>\u001B[39;00m\n\u001B[0;32m    447\u001B[0m \n\u001B[0;32m    448\u001B[0m \u001B[38;5;124;03m    Passing `token=True` is required when you want to use a private model.\u001B[39;00m\n\u001B[0;32m    449\u001B[0m \n\u001B[0;32m    450\u001B[0m \u001B[38;5;124;03m    </Tip>\u001B[39;00m\n\u001B[0;32m    451\u001B[0m \n\u001B[0;32m    452\u001B[0m \u001B[38;5;124;03m    Returns:\u001B[39;00m\n\u001B[0;32m    453\u001B[0m \u001B[38;5;124;03m        `typing.Type`: The class, dynamically imported from the module.\u001B[39;00m\n\u001B[0;32m    454\u001B[0m \n\u001B[0;32m    455\u001B[0m \u001B[38;5;124;03m    Examples:\u001B[39;00m\n\u001B[0;32m    456\u001B[0m \n\u001B[0;32m    457\u001B[0m \u001B[38;5;124;03m    ```python\u001B[39;00m\n\u001B[0;32m    458\u001B[0m \u001B[38;5;124;03m    # Download module `modeling.py` from huggingface.co and cache then extract the class `MyBertModel` from this\u001B[39;00m\n\u001B[0;32m    459\u001B[0m \u001B[38;5;124;03m    # module.\u001B[39;00m\n\u001B[0;32m    460\u001B[0m \u001B[38;5;124;03m    cls = get_class_from_dynamic_module(\"modeling.MyBertModel\", \"sgugger/my-bert-model\")\u001B[39;00m\n\u001B[0;32m    461\u001B[0m \n\u001B[0;32m    462\u001B[0m \u001B[38;5;124;03m    # Download module `modeling.py` from a given repo and cache then extract the class `MyBertModel` from this\u001B[39;00m\n\u001B[0;32m    463\u001B[0m \u001B[38;5;124;03m    # module.\u001B[39;00m\n\u001B[0;32m    464\u001B[0m \u001B[38;5;124;03m    cls = get_class_from_dynamic_module(\"sgugger/my-bert-model--modeling.MyBertModel\", \"sgugger/another-bert-model\")\u001B[39;00m\n\u001B[0;32m    465\u001B[0m \u001B[38;5;124;03m    ```\"\"\"\u001B[39;00m\n\u001B[0;32m    466\u001B[0m     use_auth_token \u001B[38;5;241m=\u001B[39m kwargs\u001B[38;5;241m.\u001B[39mpop(\u001B[38;5;124m\"\u001B[39m\u001B[38;5;124muse_auth_token\u001B[39m\u001B[38;5;124m\"\u001B[39m, \u001B[38;5;28;01mNone\u001B[39;00m)\n\u001B[0;32m    467\u001B[0m     \u001B[38;5;28;01mif\u001B[39;00m use_auth_token \u001B[38;5;129;01mis\u001B[39;00m \u001B[38;5;129;01mnot\u001B[39;00m \u001B[38;5;28;01mNone\u001B[39;00m:\n",
      "File \u001B[1;32mD:\\Download\\miniconda3\\envs\\py3.10\\lib\\site-packages\\transformers\\dynamic_module_utils.py:177\u001B[0m, in \u001B[0;36mget_class_in_module\u001B[1;34m(class_name, module_path)\u001B[0m\n\u001B[0;32m      0\u001B[0m <Error retrieving source code with stack_data see ipython/ipython#13598>\n",
      "File \u001B[1;32mD:\\Download\\miniconda3\\envs\\py3.10\\lib\\importlib\\__init__.py:126\u001B[0m, in \u001B[0;36mimport_module\u001B[1;34m(name, package)\u001B[0m\n\u001B[0;32m    124\u001B[0m             \u001B[38;5;28;01mbreak\u001B[39;00m\n\u001B[0;32m    125\u001B[0m         level \u001B[38;5;241m+\u001B[39m\u001B[38;5;241m=\u001B[39m \u001B[38;5;241m1\u001B[39m\n\u001B[1;32m--> 126\u001B[0m \u001B[38;5;28;01mreturn\u001B[39;00m \u001B[43m_bootstrap\u001B[49m\u001B[38;5;241;43m.\u001B[39;49m\u001B[43m_gcd_import\u001B[49m\u001B[43m(\u001B[49m\u001B[43mname\u001B[49m\u001B[43m[\u001B[49m\u001B[43mlevel\u001B[49m\u001B[43m:\u001B[49m\u001B[43m]\u001B[49m\u001B[43m,\u001B[49m\u001B[43m \u001B[49m\u001B[43mpackage\u001B[49m\u001B[43m,\u001B[49m\u001B[43m \u001B[49m\u001B[43mlevel\u001B[49m\u001B[43m)\u001B[49m\n",
      "File \u001B[1;32m<frozen importlib._bootstrap>:1050\u001B[0m, in \u001B[0;36m_gcd_import\u001B[1;34m(name, package, level)\u001B[0m\n",
      "File \u001B[1;32m<frozen importlib._bootstrap>:1027\u001B[0m, in \u001B[0;36m_find_and_load\u001B[1;34m(name, import_)\u001B[0m\n",
      "File \u001B[1;32m<frozen importlib._bootstrap>:1006\u001B[0m, in \u001B[0;36m_find_and_load_unlocked\u001B[1;34m(name, import_)\u001B[0m\n",
      "File \u001B[1;32m<frozen importlib._bootstrap>:688\u001B[0m, in \u001B[0;36m_load_unlocked\u001B[1;34m(spec)\u001B[0m\n",
      "File \u001B[1;32m<frozen importlib._bootstrap_external>:883\u001B[0m, in \u001B[0;36mexec_module\u001B[1;34m(self, module)\u001B[0m\n",
      "File \u001B[1;32m<frozen importlib._bootstrap>:241\u001B[0m, in \u001B[0;36m_call_with_frames_removed\u001B[1;34m(f, *args, **kwds)\u001B[0m\n",
      "File \u001B[1;32m~/.cache\\huggingface\\modules\\transformers_modules\\826ca34b74d484f40448238e57a0b45b66ad30fb\\modeling_chatglm.py:28\u001B[0m\n\u001B[0;32m     18\u001B[0m \u001B[38;5;28;01mfrom\u001B[39;00m \u001B[38;5;21;01mtransformers\u001B[39;00m\u001B[38;5;21;01m.\u001B[39;00m\u001B[38;5;21;01mutils\u001B[39;00m \u001B[38;5;28;01mimport\u001B[39;00m (\n\u001B[0;32m     19\u001B[0m     add_code_sample_docstrings,\n\u001B[0;32m     20\u001B[0m     add_start_docstrings,\n\u001B[0;32m     21\u001B[0m     add_start_docstrings_to_model_forward,\n\u001B[0;32m     22\u001B[0m )\n\u001B[0;32m     23\u001B[0m \u001B[38;5;28;01mfrom\u001B[39;00m \u001B[38;5;21;01mtransformers\u001B[39;00m\u001B[38;5;21;01m.\u001B[39;00m\u001B[38;5;21;01mmodeling_outputs\u001B[39;00m \u001B[38;5;28;01mimport\u001B[39;00m (\n\u001B[0;32m     24\u001B[0m     BaseModelOutputWithPast,\n\u001B[0;32m     25\u001B[0m     CausalLMOutputWithPast,\n\u001B[0;32m     26\u001B[0m     BaseModelOutputWithPastAndCrossAttentions,\n\u001B[0;32m     27\u001B[0m )\n\u001B[1;32m---> 28\u001B[0m \u001B[38;5;28;01mfrom\u001B[39;00m \u001B[38;5;21;01mtransformers\u001B[39;00m\u001B[38;5;21;01m.\u001B[39;00m\u001B[38;5;21;01mmodeling_utils\u001B[39;00m \u001B[38;5;28;01mimport\u001B[39;00m PreTrainedModel\n\u001B[0;32m     29\u001B[0m \u001B[38;5;28;01mfrom\u001B[39;00m \u001B[38;5;21;01mtransformers\u001B[39;00m\u001B[38;5;21;01m.\u001B[39;00m\u001B[38;5;21;01mutils\u001B[39;00m \u001B[38;5;28;01mimport\u001B[39;00m logging\n\u001B[0;32m     30\u001B[0m \u001B[38;5;28;01mfrom\u001B[39;00m \u001B[38;5;21;01mtransformers\u001B[39;00m\u001B[38;5;21;01m.\u001B[39;00m\u001B[38;5;21;01mgeneration\u001B[39;00m\u001B[38;5;21;01m.\u001B[39;00m\u001B[38;5;21;01mlogits_process\u001B[39;00m \u001B[38;5;28;01mimport\u001B[39;00m LogitsProcessor\n",
      "File \u001B[1;32mD:\\Download\\miniconda3\\envs\\py3.10\\lib\\site-packages\\transformers\\modeling_utils.py:47\u001B[0m\n\u001B[0;32m     45\u001B[0m \u001B[38;5;28;01mfrom\u001B[39;00m \u001B[38;5;21;01m.\u001B[39;00m\u001B[38;5;21;01mdynamic_module_utils\u001B[39;00m \u001B[38;5;28;01mimport\u001B[39;00m custom_object_save\n\u001B[0;32m     46\u001B[0m \u001B[38;5;28;01mfrom\u001B[39;00m \u001B[38;5;21;01m.\u001B[39;00m\u001B[38;5;21;01mgeneration\u001B[39;00m \u001B[38;5;28;01mimport\u001B[39;00m GenerationConfig, GenerationMixin\n\u001B[1;32m---> 47\u001B[0m \u001B[38;5;28;01mfrom\u001B[39;00m \u001B[38;5;21;01m.\u001B[39;00m\u001B[38;5;21;01mintegrations\u001B[39;00m \u001B[38;5;28;01mimport\u001B[39;00m PeftAdapterMixin, deepspeed_config, is_deepspeed_zero3_enabled\n\u001B[0;32m     48\u001B[0m \u001B[38;5;28;01mfrom\u001B[39;00m \u001B[38;5;21;01m.\u001B[39;00m\u001B[38;5;21;01mloss\u001B[39;00m\u001B[38;5;21;01m.\u001B[39;00m\u001B[38;5;21;01mloss_utils\u001B[39;00m \u001B[38;5;28;01mimport\u001B[39;00m LOSS_MAPPING\n\u001B[0;32m     49\u001B[0m \u001B[38;5;28;01mfrom\u001B[39;00m \u001B[38;5;21;01m.\u001B[39;00m\u001B[38;5;21;01mpytorch_utils\u001B[39;00m \u001B[38;5;28;01mimport\u001B[39;00m (  \u001B[38;5;66;03m# noqa: F401\u001B[39;00m\n\u001B[0;32m     50\u001B[0m     Conv1D,\n\u001B[0;32m     51\u001B[0m     apply_chunking_to_forward,\n\u001B[1;32m   (...)\u001B[0m\n\u001B[0;32m     57\u001B[0m     prune_linear_layer,\n\u001B[0;32m     58\u001B[0m )\n",
      "File \u001B[1;32m<frozen importlib._bootstrap>:1075\u001B[0m, in \u001B[0;36m_handle_fromlist\u001B[1;34m(module, fromlist, import_, recursive)\u001B[0m\n",
      "File \u001B[1;32mD:\\Download\\miniconda3\\envs\\py3.10\\lib\\site-packages\\transformers\\utils\\import_utils.py:1116\u001B[0m, in \u001B[0;36m__getattr__\u001B[1;34m(self, name)\u001B[0m\n\u001B[0;32m   1113\u001B[0m mpi_options \u001B[38;5;241m=\u001B[39m os\u001B[38;5;241m.\u001B[39mgetenv(\u001B[38;5;124m\"\u001B[39m\u001B[38;5;124mSM_FRAMEWORK_PARAMS\u001B[39m\u001B[38;5;124m\"\u001B[39m, \u001B[38;5;124m\"\u001B[39m\u001B[38;5;132;01m{}\u001B[39;00m\u001B[38;5;124m\"\u001B[39m)\n\u001B[0;32m   1114\u001B[0m \u001B[38;5;28;01mtry\u001B[39;00m:\n\u001B[0;32m   1115\u001B[0m     \u001B[38;5;66;03m# Parse it and check the field \"sagemaker_distributed_dataparallel_enabled\".\u001B[39;00m\n\u001B[1;32m-> 1116\u001B[0m     mpi_options \u001B[38;5;241m=\u001B[39m json\u001B[38;5;241m.\u001B[39mloads(mpi_options)\n\u001B[0;32m   1117\u001B[0m     \u001B[38;5;28;01mif\u001B[39;00m \u001B[38;5;129;01mnot\u001B[39;00m mpi_options\u001B[38;5;241m.\u001B[39mget(\u001B[38;5;124m\"\u001B[39m\u001B[38;5;124msagemaker_mpi_enabled\u001B[39m\u001B[38;5;124m\"\u001B[39m, \u001B[38;5;28;01mFalse\u001B[39;00m):\n\u001B[0;32m   1118\u001B[0m         \u001B[38;5;28;01mreturn\u001B[39;00m \u001B[38;5;28;01mFalse\u001B[39;00m\n",
      "File \u001B[1;32mD:\\Download\\miniconda3\\envs\\py3.10\\lib\\site-packages\\transformers\\utils\\import_utils.py:1128\u001B[0m, in \u001B[0;36m_get_module\u001B[1;34m(self, module_name)\u001B[0m\n\u001B[0;32m      0\u001B[0m <Error retrieving source code with stack_data see ipython/ipython#13598>\n",
      "\u001B[1;31mRuntimeError\u001B[0m: Failed to import transformers.integrations.peft because of the following error (look up to see its traceback):\ncannot import name 'check_peft_version' from 'transformers.utils' (D:\\Download\\miniconda3\\envs\\py3.10\\lib\\site-packages\\transformers\\utils\\__init__.py)"
     ]
    }
   ],
   "execution_count": 13
  },
  {
   "cell_type": "markdown",
   "metadata": {},
   "source": [
    "### Step2 加载数据"
   ]
  },
  {
   "cell_type": "code",
   "metadata": {
    "ExecuteTime": {
     "end_time": "2024-11-26T08:05:17.709Z",
     "start_time": "2024-11-26T08:05:17.694763Z"
    }
   },
   "source": [
    "import pandas as pd"
   ],
   "outputs": [],
   "execution_count": 2
  },
  {
   "cell_type": "code",
   "metadata": {
    "ExecuteTime": {
     "end_time": "2024-11-26T08:05:19.656554Z",
     "start_time": "2024-11-26T08:05:19.411304Z"
    }
   },
   "source": [
    "data = pd.read_excel('./电力现货市场QA.xlsx',header=None)\n",
    "questions = data.loc[1:,0]\n",
    "answers = data.loc[1:,1]"
   ],
   "outputs": [],
   "execution_count": 3
  },
  {
   "cell_type": "code",
   "metadata": {
    "ExecuteTime": {
     "end_time": "2024-11-26T08:05:21.473871Z",
     "start_time": "2024-11-26T08:05:21.466895Z"
    }
   },
   "source": [
    "check_inputs = {}\n",
    "results = []"
   ],
   "outputs": [],
   "execution_count": 4
  },
  {
   "cell_type": "code",
   "metadata": {
    "ExecuteTime": {
     "end_time": "2024-11-26T08:05:23.408504Z",
     "start_time": "2024-11-26T08:05:23.387450Z"
    }
   },
   "source": [
    "QA_list = []\n",
    "for index , (q , a)in enumerate(zip(questions,answers)):\n",
    "    qa = q + '\\n' + a\n",
    "    results.append({\"query_id\":index+1,\n",
    "                    \"query\":q,\n",
    "                    \"gt_answer\":a\n",
    "                    })\n",
    "    QA_list.append(qa)\n"
   ],
   "outputs": [],
   "execution_count": 5
  },
  {
   "cell_type": "code",
   "metadata": {
    "ExecuteTime": {
     "end_time": "2024-11-26T07:34:17.083371Z",
     "start_time": "2024-11-26T07:34:17.073406Z"
    }
   },
   "source": [
    "print(results[0])"
   ],
   "outputs": [
    {
     "name": "stdout",
     "output_type": "stream",
     "text": [
      "{'query_id': 1, 'query': '1.什么是电力市场？', 'gt_answer': '电力市场的概念。我国关于电力市场的权威解释始见于《中国电力百科全书电力系统卷（第二版）》。电力市场的定义为：基于市场经济原则，电力市场的定义为基于市场经济原则，为实现电力商品交换的电力工业组织结构、经营管理和运行规则的总和。电力市场又是一个具体的执行系统，包括交易场所、交易管理系统、计量和结算系统、信息和通信系统等。上面从组织和实操两个维度对电力市场进行了描绘。通常电力市场包括广义和狭义两种含义。比照商品市场的一般定义，广义的电力市场泛指电力流通交换的领域。按照该含义，自电力作为商品实现交换之日起，电力市场就已经存在。当今在涉及市场规模和范围的语境下，运用的便是广义电力市场的概念。广义的电力市场有着明确的地域和容量指向，电力市场的地理边界可能差异很大，例如单一州（省）域内的电力市场，或者整个国家的电力市场，乃至跨国的电力市场。而这种地理边界受限于电网的覆盖范围，由于电网是电力传输的唯一通道，故多大范围的电网才可能有多大范围的电力市场；电力市场容量也同样存在很大的差异。狭义的电力市场是指现代竞争性的电力市场，《中国电力百科全书》定义的电力市场即为狭义的电力市场，建立电力市场旨在通过开放、竞争等市场手段实现电力能源资源的优化配置。所谓基于市场经济原则主要是指电能生产者和使用者本着公平竞争、自愿互利的原则，通过协商、竞价等方式，就电能及其相关产品进行交易，通过市场竞争确定价格和数量的市场原则。目前广泛讨论的电力市场，除特殊语境下，通常都是指狭义的电力市场。之所以称之为狭义的电力市场，主要原因有二。1）专指现代电力市场，狭义的电力市场兴起于20世纪80年代，是在电力作为商品出现的百年之后，而这百年间，广义电力市场的形态发生了曲折的变迁。电力工业初创期的电力领域是以残酷的市场竞争形态出现的，既有生产方式的竞争（交流与直流之争），也有垂直一体化模式下的电力企业之间抢占市场范围和争夺同一服务地域内的用户之争。这种竞争，一方面有力推动了电力工业的技术进步；另一方面，却也限制了规模经济效益的发挥，并因重复建设等过度竞争而造成资源浪费。因此，20世纪初，电力业态很快从无序竞争状态演变为政府管制或企业自律下的垄断市场形态，尤其是在二次世界大战之后，鉴于恢复经济的需要，大多数国家都采取国家垄断的模式。直至20世纪末，随着电网的发展和技术的进步，电力规模经济的低垂之果几乎已消耗殆尽，加之市场垄断造成的效率低下日渐凸显，且诸多国家政府电力财政补贴的负担日趋沉重，电力处于前所未有的困境，而这一时期，同为垄断行业的航空、石油、天然气、电信等产业的改革取得了令人瞩目的成就，催生了电力工业以建立电力市场为取向的市场化改革，而建立电力市场仅限于在可竞争环节引入竞争，因此也赋予了电力市场现代的含义。2）专指电力商品流通交换的场所、空间及其机制，尽管狭义的电力市场内含电力商品交换所在地、购买方针对性、持续时间、交易流程、政府监管、价格机制、交易合规性、投机强度、市场规模、产业集中度、交易不对称性、波动性等诸多方面并可能有所延伸，涉及电力工业的结构重组和规则重构等内容，但均没有超越电能生产者和使用者之间的交易活动及为满足该交易活动所需的其他活动的范围。鉴于实现电力能源资源的优化配置局限于交换环节，国内有专家学者提出了“泛电力市场”的概念，即在狭义电力市场的基础上，将电力市场化改革领域拓展到规划、投融资、碳交易、环境约束等环节，以实现电力生产、交换相关上下游环节的全链条市场化。电力市场作为电力工业市场化改革的目标模式，因其改革的动因和目标取向不同，以及市场外部环境的差异，呈现出显著的多样性，也使其结构显得格外复杂。世界各地的电力市场，既没有统一的标准供引用，也没有通用的模板可复制，需要结合各自的国情、民情和网情建设和运营。总体上，电力市场有批发市场（wholesalemarket）与零售市场（retailmarket）之分。在电力批发市场中，我国《关于进一步深化电力体制改革的若干意见》（中发〔2015〕9号）（简称中发9号文）配套文件将其分为中长期市场和现货市场，并综合考虑时间维度和交易标的，明确指出：“电力中长期市场主要开展多年、年、季、月、周等日以上电能量交易和可中断负荷、调压等辅助服务交易。电力现货市场主要开展日前、日内、实时电能量交易和备用、调频等辅助服务交易。条件成熟时，探索开展容量市场、电力期货和衍生品等交易。”一般而言，电力批发市场可以按市场性质、交易品种、交易时间、竞争模式等维度进一步细分，各分类市场的知识将在后续问题讨论中详述。'}\n"
     ]
    }
   ],
   "execution_count": 17
  },
  {
   "cell_type": "code",
   "metadata": {
    "ExecuteTime": {
     "end_time": "2024-11-26T08:05:28.075033Z",
     "start_time": "2024-11-26T08:05:28.048142Z"
    }
   },
   "source": [
    "# 将分割后的文本块封装成Document类\n",
    "docs_after_split = []\n",
    "for i in range(0,len(QA_list)):\n",
    "    qa_doc = Document(page_content=QA_list[i], metadata={\"source\": \"PowerMarketQA\\电力现货市场101问.xlsx\",\"order\":i+1})\n",
    "    docs_after_split.append(qa_doc)\n",
    "\n",
    "docs_after_split[0]"
   ],
   "outputs": [
    {
     "data": {
      "text/plain": [
       "Document(metadata={'source': 'PowerMarketQA\\\\电力现货市场101问.xlsx', 'order': 1}, page_content='1.什么是电力市场？\\n电力市场的概念。我国关于电力市场的权威解释始见于《中国电力百科全书电力系统卷（第二版）》。电力市场的定义为：基于市场经济原则，电力市场的定义为基于市场经济原则，为实现电力商品交换的电力工业组织结构、经营管理和运行规则的总和。电力市场又是一个具体的执行系统，包括交易场所、交易管理系统、计量和结算系统、信息和通信系统等。上面从组织和实操两个维度对电力市场进行了描绘。通常电力市场包括广义和狭义两种含义。比照商品市场的一般定义，广义的电力市场泛指电力流通交换的领域。按照该含义，自电力作为商品实现交换之日起，电力市场就已经存在。当今在涉及市场规模和范围的语境下，运用的便是广义电力市场的概念。广义的电力市场有着明确的地域和容量指向，电力市场的地理边界可能差异很大，例如单一州（省）域内的电力市场，或者整个国家的电力市场，乃至跨国的电力市场。而这种地理边界受限于电网的覆盖范围，由于电网是电力传输的唯一通道，故多大范围的电网才可能有多大范围的电力市场；电力市场容量也同样存在很大的差异。狭义的电力市场是指现代竞争性的电力市场，《中国电力百科全书》定义的电力市场即为狭义的电力市场，建立电力市场旨在通过开放、竞争等市场手段实现电力能源资源的优化配置。所谓基于市场经济原则主要是指电能生产者和使用者本着公平竞争、自愿互利的原则，通过协商、竞价等方式，就电能及其相关产品进行交易，通过市场竞争确定价格和数量的市场原则。目前广泛讨论的电力市场，除特殊语境下，通常都是指狭义的电力市场。之所以称之为狭义的电力市场，主要原因有二。1）专指现代电力市场，狭义的电力市场兴起于20世纪80年代，是在电力作为商品出现的百年之后，而这百年间，广义电力市场的形态发生了曲折的变迁。电力工业初创期的电力领域是以残酷的市场竞争形态出现的，既有生产方式的竞争（交流与直流之争），也有垂直一体化模式下的电力企业之间抢占市场范围和争夺同一服务地域内的用户之争。这种竞争，一方面有力推动了电力工业的技术进步；另一方面，却也限制了规模经济效益的发挥，并因重复建设等过度竞争而造成资源浪费。因此，20世纪初，电力业态很快从无序竞争状态演变为政府管制或企业自律下的垄断市场形态，尤其是在二次世界大战之后，鉴于恢复经济的需要，大多数国家都采取国家垄断的模式。直至20世纪末，随着电网的发展和技术的进步，电力规模经济的低垂之果几乎已消耗殆尽，加之市场垄断造成的效率低下日渐凸显，且诸多国家政府电力财政补贴的负担日趋沉重，电力处于前所未有的困境，而这一时期，同为垄断行业的航空、石油、天然气、电信等产业的改革取得了令人瞩目的成就，催生了电力工业以建立电力市场为取向的市场化改革，而建立电力市场仅限于在可竞争环节引入竞争，因此也赋予了电力市场现代的含义。2）专指电力商品流通交换的场所、空间及其机制，尽管狭义的电力市场内含电力商品交换所在地、购买方针对性、持续时间、交易流程、政府监管、价格机制、交易合规性、投机强度、市场规模、产业集中度、交易不对称性、波动性等诸多方面并可能有所延伸，涉及电力工业的结构重组和规则重构等内容，但均没有超越电能生产者和使用者之间的交易活动及为满足该交易活动所需的其他活动的范围。鉴于实现电力能源资源的优化配置局限于交换环节，国内有专家学者提出了“泛电力市场”的概念，即在狭义电力市场的基础上，将电力市场化改革领域拓展到规划、投融资、碳交易、环境约束等环节，以实现电力生产、交换相关上下游环节的全链条市场化。电力市场作为电力工业市场化改革的目标模式，因其改革的动因和目标取向不同，以及市场外部环境的差异，呈现出显著的多样性，也使其结构显得格外复杂。世界各地的电力市场，既没有统一的标准供引用，也没有通用的模板可复制，需要结合各自的国情、民情和网情建设和运营。总体上，电力市场有批发市场（wholesalemarket）与零售市场（retailmarket）之分。在电力批发市场中，我国《关于进一步深化电力体制改革的若干意见》（中发〔2015〕9号）（简称中发9号文）配套文件将其分为中长期市场和现货市场，并综合考虑时间维度和交易标的，明确指出：“电力中长期市场主要开展多年、年、季、月、周等日以上电能量交易和可中断负荷、调压等辅助服务交易。电力现货市场主要开展日前、日内、实时电能量交易和备用、调频等辅助服务交易。条件成熟时，探索开展容量市场、电力期货和衍生品等交易。”一般而言，电力批发市场可以按市场性质、交易品种、交易时间、竞争模式等维度进一步细分，各分类市场的知识将在后续问题讨论中详述。')"
      ]
     },
     "execution_count": 6,
     "metadata": {},
     "output_type": "execute_result"
    }
   ],
   "execution_count": 6
  },
  {
   "cell_type": "markdown",
   "metadata": {},
   "source": [
    "### Step3 创建向量数据库"
   ]
  },
  {
   "cell_type": "code",
   "metadata": {
    "ExecuteTime": {
     "end_time": "2024-11-26T08:05:32.989305Z",
     "start_time": "2024-11-26T08:05:31.569910Z"
    }
   },
   "source": [
    "# 从过往工作经验看，embedding对于rag效果影响比较大，一般首选还是openai embedding做这一部分，开源的效果很一般\n",
    "huggingface_embeddings = HuggingFaceBgeEmbeddings(\n",
    "    model_name=\"moka-ai/m3e-base\",  # 使用m3e模型做embeddding\n",
    "    model_kwargs={'device':0},\n",
    "    encode_kwargs={'normalize_embeddings': True}\n",
    ")"
   ],
   "outputs": [
    {
     "name": "stderr",
     "output_type": "stream",
     "text": [
      "No sentence-transformers model found with name C:\\Users\\Administrator/.cache\\torch\\sentence_transformers\\moka-ai_m3e-base. Creating a new one with MEAN pooling.\n"
     ]
    },
    {
     "ename": "OSError",
     "evalue": "C:\\Users\\Administrator/.cache\\torch\\sentence_transformers\\moka-ai_m3e-base does not appear to have a file named config.json. Checkout 'https://huggingface.co/C:\\Users\\Administrator/.cache\\torch\\sentence_transformers\\moka-ai_m3e-base/None' for available files.",
     "output_type": "error",
     "traceback": [
      "\u001B[1;31m---------------------------------------------------------------------------\u001B[0m",
      "\u001B[1;31mOSError\u001B[0m                                   Traceback (most recent call last)",
      "Cell \u001B[1;32mIn[7], line 2\u001B[0m\n\u001B[0;32m      1\u001B[0m \u001B[38;5;66;03m# 从过往工作经验看，embedding对于rag效果影响比较大，一般首选还是openai embedding做这一部分，开源的效果很一般\u001B[39;00m\n\u001B[1;32m----> 2\u001B[0m huggingface_embeddings \u001B[38;5;241m=\u001B[39m \u001B[43mHuggingFaceBgeEmbeddings\u001B[49m\u001B[43m(\u001B[49m\n\u001B[0;32m      3\u001B[0m \u001B[43m    \u001B[49m\u001B[43mmodel_name\u001B[49m\u001B[38;5;241;43m=\u001B[39;49m\u001B[38;5;124;43m\"\u001B[39;49m\u001B[38;5;124;43mmoka-ai/m3e-base\u001B[39;49m\u001B[38;5;124;43m\"\u001B[39;49m\u001B[43m,\u001B[49m\u001B[43m  \u001B[49m\u001B[38;5;66;43;03m# 使用m3e模型做embeddding\u001B[39;49;00m\n\u001B[0;32m      4\u001B[0m \u001B[43m    \u001B[49m\u001B[43mmodel_kwargs\u001B[49m\u001B[38;5;241;43m=\u001B[39;49m\u001B[43m{\u001B[49m\u001B[38;5;124;43m'\u001B[39;49m\u001B[38;5;124;43mdevice\u001B[39;49m\u001B[38;5;124;43m'\u001B[39;49m\u001B[43m:\u001B[49m\u001B[38;5;241;43m0\u001B[39;49m\u001B[43m}\u001B[49m\u001B[43m,\u001B[49m\n\u001B[0;32m      5\u001B[0m \u001B[43m    \u001B[49m\u001B[43mencode_kwargs\u001B[49m\u001B[38;5;241;43m=\u001B[39;49m\u001B[43m{\u001B[49m\u001B[38;5;124;43m'\u001B[39;49m\u001B[38;5;124;43mnormalize_embeddings\u001B[39;49m\u001B[38;5;124;43m'\u001B[39;49m\u001B[43m:\u001B[49m\u001B[43m \u001B[49m\u001B[38;5;28;43;01mTrue\u001B[39;49;00m\u001B[43m}\u001B[49m\n\u001B[0;32m      6\u001B[0m \u001B[43m)\u001B[49m\n",
      "File \u001B[1;32mD:\\Download\\miniconda3\\envs\\py3.10\\lib\\site-packages\\langchain_community\\embeddings\\huggingface.py:328\u001B[0m, in \u001B[0;36mHuggingFaceBgeEmbeddings.__init__\u001B[1;34m(self, **kwargs)\u001B[0m\n\u001B[0;32m    322\u001B[0m \u001B[38;5;28;01mexcept\u001B[39;00m \u001B[38;5;167;01mImportError\u001B[39;00m \u001B[38;5;28;01mas\u001B[39;00m exc:\n\u001B[0;32m    323\u001B[0m     \u001B[38;5;28;01mraise\u001B[39;00m \u001B[38;5;167;01mImportError\u001B[39;00m(\n\u001B[0;32m    324\u001B[0m         \u001B[38;5;124m\"\u001B[39m\u001B[38;5;124mCould not import sentence_transformers python package. \u001B[39m\u001B[38;5;124m\"\u001B[39m\n\u001B[0;32m    325\u001B[0m         \u001B[38;5;124m\"\u001B[39m\u001B[38;5;124mPlease install it with `pip install sentence_transformers`.\u001B[39m\u001B[38;5;124m\"\u001B[39m\n\u001B[0;32m    326\u001B[0m     ) \u001B[38;5;28;01mfrom\u001B[39;00m \u001B[38;5;21;01mexc\u001B[39;00m\n\u001B[1;32m--> 328\u001B[0m \u001B[38;5;28mself\u001B[39m\u001B[38;5;241m.\u001B[39mclient \u001B[38;5;241m=\u001B[39m sentence_transformers\u001B[38;5;241m.\u001B[39mSentenceTransformer(\n\u001B[0;32m    329\u001B[0m     \u001B[38;5;28mself\u001B[39m\u001B[38;5;241m.\u001B[39mmodel_name, cache_folder\u001B[38;5;241m=\u001B[39m\u001B[38;5;28mself\u001B[39m\u001B[38;5;241m.\u001B[39mcache_folder, \u001B[38;5;241m*\u001B[39m\u001B[38;5;241m*\u001B[39m\u001B[38;5;28mself\u001B[39m\u001B[38;5;241m.\u001B[39mmodel_kwargs\n\u001B[0;32m    330\u001B[0m )\n\u001B[0;32m    332\u001B[0m \u001B[38;5;28;01mif\u001B[39;00m \u001B[38;5;124m\"\u001B[39m\u001B[38;5;124m-zh\u001B[39m\u001B[38;5;124m\"\u001B[39m \u001B[38;5;129;01min\u001B[39;00m \u001B[38;5;28mself\u001B[39m\u001B[38;5;241m.\u001B[39mmodel_name:\n\u001B[0;32m    333\u001B[0m     \u001B[38;5;28mself\u001B[39m\u001B[38;5;241m.\u001B[39mquery_instruction \u001B[38;5;241m=\u001B[39m DEFAULT_QUERY_BGE_INSTRUCTION_ZH\n",
      "File \u001B[1;32mD:\\Download\\miniconda3\\envs\\py3.10\\lib\\site-packages\\sentence_transformers\\SentenceTransformer.py:97\u001B[0m, in \u001B[0;36mSentenceTransformer.__init__\u001B[1;34m(self, model_name_or_path, modules, device, cache_folder, use_auth_token)\u001B[0m\n\u001B[0;32m     95\u001B[0m         modules \u001B[38;5;241m=\u001B[39m \u001B[38;5;28mself\u001B[39m\u001B[38;5;241m.\u001B[39m_load_sbert_model(model_path)\n\u001B[0;32m     96\u001B[0m     \u001B[38;5;28;01melse\u001B[39;00m:   \u001B[38;5;66;03m#Load with AutoModel\u001B[39;00m\n\u001B[1;32m---> 97\u001B[0m         modules \u001B[38;5;241m=\u001B[39m \u001B[38;5;28;43mself\u001B[39;49m\u001B[38;5;241;43m.\u001B[39;49m\u001B[43m_load_auto_model\u001B[49m\u001B[43m(\u001B[49m\u001B[43mmodel_path\u001B[49m\u001B[43m)\u001B[49m\n\u001B[0;32m     99\u001B[0m \u001B[38;5;28;01mif\u001B[39;00m modules \u001B[38;5;129;01mis\u001B[39;00m \u001B[38;5;129;01mnot\u001B[39;00m \u001B[38;5;28;01mNone\u001B[39;00m \u001B[38;5;129;01mand\u001B[39;00m \u001B[38;5;129;01mnot\u001B[39;00m \u001B[38;5;28misinstance\u001B[39m(modules, OrderedDict):\n\u001B[0;32m    100\u001B[0m     modules \u001B[38;5;241m=\u001B[39m OrderedDict([(\u001B[38;5;28mstr\u001B[39m(idx), module) \u001B[38;5;28;01mfor\u001B[39;00m idx, module \u001B[38;5;129;01min\u001B[39;00m \u001B[38;5;28menumerate\u001B[39m(modules)])\n",
      "File \u001B[1;32mD:\\Download\\miniconda3\\envs\\py3.10\\lib\\site-packages\\sentence_transformers\\SentenceTransformer.py:806\u001B[0m, in \u001B[0;36mSentenceTransformer._load_auto_model\u001B[1;34m(self, model_name_or_path)\u001B[0m\n\u001B[0;32m    802\u001B[0m \u001B[38;5;250m\u001B[39m\u001B[38;5;124;03m\"\"\"\u001B[39;00m\n\u001B[0;32m    803\u001B[0m \u001B[38;5;124;03mCreates a simple Transformer + Mean Pooling model and returns the modules\u001B[39;00m\n\u001B[0;32m    804\u001B[0m \u001B[38;5;124;03m\"\"\"\u001B[39;00m\n\u001B[0;32m    805\u001B[0m logger\u001B[38;5;241m.\u001B[39mwarning(\u001B[38;5;124m\"\u001B[39m\u001B[38;5;124mNo sentence-transformers model found with name \u001B[39m\u001B[38;5;132;01m{}\u001B[39;00m\u001B[38;5;124m. Creating a new one with MEAN pooling.\u001B[39m\u001B[38;5;124m\"\u001B[39m\u001B[38;5;241m.\u001B[39mformat(model_name_or_path))\n\u001B[1;32m--> 806\u001B[0m transformer_model \u001B[38;5;241m=\u001B[39m \u001B[43mTransformer\u001B[49m\u001B[43m(\u001B[49m\u001B[43mmodel_name_or_path\u001B[49m\u001B[43m)\u001B[49m\n\u001B[0;32m    807\u001B[0m pooling_model \u001B[38;5;241m=\u001B[39m Pooling(transformer_model\u001B[38;5;241m.\u001B[39mget_word_embedding_dimension(), \u001B[38;5;124m'\u001B[39m\u001B[38;5;124mmean\u001B[39m\u001B[38;5;124m'\u001B[39m)\n\u001B[0;32m    808\u001B[0m \u001B[38;5;28;01mreturn\u001B[39;00m [transformer_model, pooling_model]\n",
      "File \u001B[1;32mD:\\Download\\miniconda3\\envs\\py3.10\\lib\\site-packages\\sentence_transformers\\models\\Transformer.py:28\u001B[0m, in \u001B[0;36mTransformer.__init__\u001B[1;34m(self, model_name_or_path, max_seq_length, model_args, cache_dir, tokenizer_args, do_lower_case, tokenizer_name_or_path)\u001B[0m\n\u001B[0;32m     25\u001B[0m \u001B[38;5;28mself\u001B[39m\u001B[38;5;241m.\u001B[39mconfig_keys \u001B[38;5;241m=\u001B[39m [\u001B[38;5;124m'\u001B[39m\u001B[38;5;124mmax_seq_length\u001B[39m\u001B[38;5;124m'\u001B[39m, \u001B[38;5;124m'\u001B[39m\u001B[38;5;124mdo_lower_case\u001B[39m\u001B[38;5;124m'\u001B[39m]\n\u001B[0;32m     26\u001B[0m \u001B[38;5;28mself\u001B[39m\u001B[38;5;241m.\u001B[39mdo_lower_case \u001B[38;5;241m=\u001B[39m do_lower_case\n\u001B[1;32m---> 28\u001B[0m config \u001B[38;5;241m=\u001B[39m AutoConfig\u001B[38;5;241m.\u001B[39mfrom_pretrained(model_name_or_path, \u001B[38;5;241m*\u001B[39m\u001B[38;5;241m*\u001B[39mmodel_args, cache_dir\u001B[38;5;241m=\u001B[39mcache_dir)\n\u001B[0;32m     29\u001B[0m \u001B[38;5;28mself\u001B[39m\u001B[38;5;241m.\u001B[39m_load_model(model_name_or_path, config, cache_dir)\n\u001B[0;32m     31\u001B[0m \u001B[38;5;28mself\u001B[39m\u001B[38;5;241m.\u001B[39mtokenizer \u001B[38;5;241m=\u001B[39m AutoTokenizer\u001B[38;5;241m.\u001B[39mfrom_pretrained(tokenizer_name_or_path \u001B[38;5;28;01mif\u001B[39;00m tokenizer_name_or_path \u001B[38;5;129;01mis\u001B[39;00m \u001B[38;5;129;01mnot\u001B[39;00m \u001B[38;5;28;01mNone\u001B[39;00m \u001B[38;5;28;01melse\u001B[39;00m model_name_or_path, cache_dir\u001B[38;5;241m=\u001B[39mcache_dir, \u001B[38;5;241m*\u001B[39m\u001B[38;5;241m*\u001B[39mtokenizer_args)\n",
      "File \u001B[1;32mD:\\Download\\miniconda3\\envs\\py3.10\\lib\\site-packages\\transformers\\models\\auto\\configuration_auto.py:896\u001B[0m, in \u001B[0;36mAutoConfig.from_pretrained\u001B[1;34m(cls, pretrained_model_name_or_path, **kwargs)\u001B[0m\n\u001B[0;32m    894\u001B[0m kwargs[\u001B[38;5;124m\"\u001B[39m\u001B[38;5;124mname_or_path\u001B[39m\u001B[38;5;124m\"\u001B[39m] \u001B[38;5;241m=\u001B[39m pretrained_model_name_or_path\n\u001B[0;32m    895\u001B[0m trust_remote_code \u001B[38;5;241m=\u001B[39m kwargs\u001B[38;5;241m.\u001B[39mpop(\u001B[38;5;124m\"\u001B[39m\u001B[38;5;124mtrust_remote_code\u001B[39m\u001B[38;5;124m\"\u001B[39m, \u001B[38;5;28;01mFalse\u001B[39;00m)\n\u001B[1;32m--> 896\u001B[0m config_dict, unused_kwargs \u001B[38;5;241m=\u001B[39m PretrainedConfig\u001B[38;5;241m.\u001B[39mget_config_dict(pretrained_model_name_or_path, \u001B[38;5;241m*\u001B[39m\u001B[38;5;241m*\u001B[39mkwargs)\n\u001B[0;32m    897\u001B[0m \u001B[38;5;28;01mif\u001B[39;00m \u001B[38;5;124m\"\u001B[39m\u001B[38;5;124mauto_map\u001B[39m\u001B[38;5;124m\"\u001B[39m \u001B[38;5;129;01min\u001B[39;00m config_dict \u001B[38;5;129;01mand\u001B[39;00m \u001B[38;5;124m\"\u001B[39m\u001B[38;5;124mAutoConfig\u001B[39m\u001B[38;5;124m\"\u001B[39m \u001B[38;5;129;01min\u001B[39;00m config_dict[\u001B[38;5;124m\"\u001B[39m\u001B[38;5;124mauto_map\u001B[39m\u001B[38;5;124m\"\u001B[39m]:\n\u001B[0;32m    898\u001B[0m     \u001B[38;5;28;01mif\u001B[39;00m \u001B[38;5;129;01mnot\u001B[39;00m trust_remote_code:\n",
      "File \u001B[1;32mD:\\Download\\miniconda3\\envs\\py3.10\\lib\\site-packages\\transformers\\configuration_utils.py:573\u001B[0m, in \u001B[0;36mPretrainedConfig.get_config_dict\u001B[1;34m(cls, pretrained_model_name_or_path, **kwargs)\u001B[0m\n\u001B[0;32m    571\u001B[0m original_kwargs \u001B[38;5;241m=\u001B[39m copy\u001B[38;5;241m.\u001B[39mdeepcopy(kwargs)\n\u001B[0;32m    572\u001B[0m \u001B[38;5;66;03m# Get config dict associated with the base config file\u001B[39;00m\n\u001B[1;32m--> 573\u001B[0m config_dict, kwargs \u001B[38;5;241m=\u001B[39m \u001B[38;5;28mcls\u001B[39m\u001B[38;5;241m.\u001B[39m_get_config_dict(pretrained_model_name_or_path, \u001B[38;5;241m*\u001B[39m\u001B[38;5;241m*\u001B[39mkwargs)\n\u001B[0;32m    574\u001B[0m \u001B[38;5;28;01mif\u001B[39;00m \u001B[38;5;124m\"\u001B[39m\u001B[38;5;124m_commit_hash\u001B[39m\u001B[38;5;124m\"\u001B[39m \u001B[38;5;129;01min\u001B[39;00m config_dict:\n\u001B[0;32m    575\u001B[0m     original_kwargs[\u001B[38;5;124m\"\u001B[39m\u001B[38;5;124m_commit_hash\u001B[39m\u001B[38;5;124m\"\u001B[39m] \u001B[38;5;241m=\u001B[39m config_dict[\u001B[38;5;124m\"\u001B[39m\u001B[38;5;124m_commit_hash\u001B[39m\u001B[38;5;124m\"\u001B[39m]\n",
      "File \u001B[1;32mD:\\Download\\miniconda3\\envs\\py3.10\\lib\\site-packages\\transformers\\configuration_utils.py:628\u001B[0m, in \u001B[0;36mPretrainedConfig._get_config_dict\u001B[1;34m(cls, pretrained_model_name_or_path, **kwargs)\u001B[0m\n\u001B[0;32m    624\u001B[0m configuration_file \u001B[38;5;241m=\u001B[39m kwargs\u001B[38;5;241m.\u001B[39mpop(\u001B[38;5;124m\"\u001B[39m\u001B[38;5;124m_configuration_file\u001B[39m\u001B[38;5;124m\"\u001B[39m, CONFIG_NAME)\n\u001B[0;32m    626\u001B[0m \u001B[38;5;28;01mtry\u001B[39;00m:\n\u001B[0;32m    627\u001B[0m     \u001B[38;5;66;03m# Load from local folder or from cache or download from model Hub and cache\u001B[39;00m\n\u001B[1;32m--> 628\u001B[0m     resolved_config_file \u001B[38;5;241m=\u001B[39m \u001B[43mcached_file\u001B[49m\u001B[43m(\u001B[49m\n\u001B[0;32m    629\u001B[0m \u001B[43m        \u001B[49m\u001B[43mpretrained_model_name_or_path\u001B[49m\u001B[43m,\u001B[49m\n\u001B[0;32m    630\u001B[0m \u001B[43m        \u001B[49m\u001B[43mconfiguration_file\u001B[49m\u001B[43m,\u001B[49m\n\u001B[0;32m    631\u001B[0m \u001B[43m        \u001B[49m\u001B[43mcache_dir\u001B[49m\u001B[38;5;241;43m=\u001B[39;49m\u001B[43mcache_dir\u001B[49m\u001B[43m,\u001B[49m\n\u001B[0;32m    632\u001B[0m \u001B[43m        \u001B[49m\u001B[43mforce_download\u001B[49m\u001B[38;5;241;43m=\u001B[39;49m\u001B[43mforce_download\u001B[49m\u001B[43m,\u001B[49m\n\u001B[0;32m    633\u001B[0m \u001B[43m        \u001B[49m\u001B[43mproxies\u001B[49m\u001B[38;5;241;43m=\u001B[39;49m\u001B[43mproxies\u001B[49m\u001B[43m,\u001B[49m\n\u001B[0;32m    634\u001B[0m \u001B[43m        \u001B[49m\u001B[43mresume_download\u001B[49m\u001B[38;5;241;43m=\u001B[39;49m\u001B[43mresume_download\u001B[49m\u001B[43m,\u001B[49m\n\u001B[0;32m    635\u001B[0m \u001B[43m        \u001B[49m\u001B[43mlocal_files_only\u001B[49m\u001B[38;5;241;43m=\u001B[39;49m\u001B[43mlocal_files_only\u001B[49m\u001B[43m,\u001B[49m\n\u001B[0;32m    636\u001B[0m \u001B[43m        \u001B[49m\u001B[43muse_auth_token\u001B[49m\u001B[38;5;241;43m=\u001B[39;49m\u001B[43muse_auth_token\u001B[49m\u001B[43m,\u001B[49m\n\u001B[0;32m    637\u001B[0m \u001B[43m        \u001B[49m\u001B[43muser_agent\u001B[49m\u001B[38;5;241;43m=\u001B[39;49m\u001B[43muser_agent\u001B[49m\u001B[43m,\u001B[49m\n\u001B[0;32m    638\u001B[0m \u001B[43m        \u001B[49m\u001B[43mrevision\u001B[49m\u001B[38;5;241;43m=\u001B[39;49m\u001B[43mrevision\u001B[49m\u001B[43m,\u001B[49m\n\u001B[0;32m    639\u001B[0m \u001B[43m        \u001B[49m\u001B[43msubfolder\u001B[49m\u001B[38;5;241;43m=\u001B[39;49m\u001B[43msubfolder\u001B[49m\u001B[43m,\u001B[49m\n\u001B[0;32m    640\u001B[0m \u001B[43m        \u001B[49m\u001B[43m_commit_hash\u001B[49m\u001B[38;5;241;43m=\u001B[39;49m\u001B[43mcommit_hash\u001B[49m\u001B[43m,\u001B[49m\n\u001B[0;32m    641\u001B[0m \u001B[43m    \u001B[49m\u001B[43m)\u001B[49m\n\u001B[0;32m    642\u001B[0m     commit_hash \u001B[38;5;241m=\u001B[39m extract_commit_hash(resolved_config_file, commit_hash)\n\u001B[0;32m    643\u001B[0m \u001B[38;5;28;01mexcept\u001B[39;00m \u001B[38;5;167;01mEnvironmentError\u001B[39;00m:\n\u001B[0;32m    644\u001B[0m     \u001B[38;5;66;03m# Raise any environment error raise by `cached_file`. It will have a helpful error message adapted to\u001B[39;00m\n\u001B[0;32m    645\u001B[0m     \u001B[38;5;66;03m# the original exception.\u001B[39;00m\n",
      "File \u001B[1;32mD:\\Download\\miniconda3\\envs\\py3.10\\lib\\site-packages\\transformers\\utils\\hub.py:380\u001B[0m, in \u001B[0;36mcached_file\u001B[1;34m(path_or_repo_id, filename, cache_dir, force_download, resume_download, proxies, use_auth_token, revision, local_files_only, subfolder, user_agent, _raise_exceptions_for_missing_entries, _raise_exceptions_for_connection_errors, _commit_hash)\u001B[0m\n\u001B[0;32m    378\u001B[0m \u001B[38;5;28;01mif\u001B[39;00m \u001B[38;5;129;01mnot\u001B[39;00m os\u001B[38;5;241m.\u001B[39mpath\u001B[38;5;241m.\u001B[39misfile(resolved_file):\n\u001B[0;32m    379\u001B[0m     \u001B[38;5;28;01mif\u001B[39;00m _raise_exceptions_for_missing_entries:\n\u001B[1;32m--> 380\u001B[0m         \u001B[38;5;28;01mraise\u001B[39;00m \u001B[38;5;167;01mEnvironmentError\u001B[39;00m(\n\u001B[0;32m    381\u001B[0m             \u001B[38;5;124mf\u001B[39m\u001B[38;5;124m\"\u001B[39m\u001B[38;5;132;01m{\u001B[39;00mpath_or_repo_id\u001B[38;5;132;01m}\u001B[39;00m\u001B[38;5;124m does not appear to have a file named \u001B[39m\u001B[38;5;132;01m{\u001B[39;00mfull_filename\u001B[38;5;132;01m}\u001B[39;00m\u001B[38;5;124m. Checkout \u001B[39m\u001B[38;5;124m\"\u001B[39m\n\u001B[0;32m    382\u001B[0m             \u001B[38;5;124mf\u001B[39m\u001B[38;5;124m\"\u001B[39m\u001B[38;5;124m'\u001B[39m\u001B[38;5;124mhttps://huggingface.co/\u001B[39m\u001B[38;5;132;01m{\u001B[39;00mpath_or_repo_id\u001B[38;5;132;01m}\u001B[39;00m\u001B[38;5;124m/\u001B[39m\u001B[38;5;132;01m{\u001B[39;00mrevision\u001B[38;5;132;01m}\u001B[39;00m\u001B[38;5;124m'\u001B[39m\u001B[38;5;124m for available files.\u001B[39m\u001B[38;5;124m\"\u001B[39m\n\u001B[0;32m    383\u001B[0m         )\n\u001B[0;32m    384\u001B[0m     \u001B[38;5;28;01melse\u001B[39;00m:\n\u001B[0;32m    385\u001B[0m         \u001B[38;5;28;01mreturn\u001B[39;00m \u001B[38;5;28;01mNone\u001B[39;00m\n",
      "\u001B[1;31mOSError\u001B[0m: C:\\Users\\Administrator/.cache\\torch\\sentence_transformers\\moka-ai_m3e-base does not appear to have a file named config.json. Checkout 'https://huggingface.co/C:\\Users\\Administrator/.cache\\torch\\sentence_transformers\\moka-ai_m3e-base/None' for available files."
     ]
    }
   ],
   "execution_count": 7
  },
  {
   "cell_type": "code",
   "execution_count": 9,
   "metadata": {},
   "outputs": [],
   "source": [
    "vectorstore = FAISS.from_documents(docs_after_split, huggingface_embeddings)"
   ]
  },
  {
   "cell_type": "markdown",
   "metadata": {},
   "source": [
    "### Step4 创建QA链"
   ]
  },
  {
   "cell_type": "code",
   "execution_count": 10,
   "metadata": {},
   "outputs": [
    {
     "name": "stdout",
     "output_type": "stream",
     "text": [
      "检索到的第1个内容: \n",
      " 34.输配电价对现货市场有什么影响？\n",
      "输配电价机制对电力现货市场的影响。输配电价机制是电力市场机制的重要部分，同样也是影响电力现货市场的重要因素。一般来说，电力现货市场的设计目标是理顺电力价格的形成机制，提高能源利用效率，降低电力成本，促进节能环保。电力现货市场设计应能够通过发现完整的电力价格信号，引导市场主体开展电力交易，为资源优化配置、规划投资提供可量化的参考依据，实现电力市场交易与电力系统实际运行的高效匹配。其核心是发现完整的电力价格信号。输配电价机制会影响电力现货市场设计，影响参与现货市场的市场主体的收益，进而会影响电力现货市场运行，主要表现在以下方面。1）输配电价机制影响电力现货市场设计。电价形成是电力市场的核心，涉及发电厂商、电网企业以及电力用户的利益。输配电价是电力产业价格链的中间环节，合理的输配电价机制是电力现货市场的基础和关键，它需要反映电力生产的真实成本和市场供需关系，从而为各市场成员提供明确的价格信号，正确引导市场消费和电力投资，优化社会资源的配置。2）输配电价机制影响参与现货市场的市场主体的收益。电价体系分为上网电价、输配电价和销售电价，在市场化的电力体制中，上网电价和销售电价由竞争产生，而输配电价往往由监管机构进行独立核定。但输配电价形成和分摊会影响市场主体参与现货市场的竞争方式，进而影响现货市场的市场主体的收益。3）输配电价机制会影响电力现货市场运行。合理的输配电价是电力市场有效运作的必要条件，输配电价空间会受到上网电价和销售电价的制约，如果电网合理成本的回收、合理收益的获取得不到根本保证，会严重地影响电网建设资本金的筹集。合理的输配电费用定价和分摊有利于向电力交易主体提供有效的经济信号，促进电力资源优化配置，并促进电网企业更有效地管理、规划输配电资源。\n",
      "-----------------------------------------------------\n",
      "检索到的第2个内容: \n",
      " 28.什么是现货市场中的再调度法？\n",
      "再调度法（re-dispatch）是一种实时消除阻塞的方法，这种阻塞管理方法不直接改变日前市场中标的发电量和价格，而是一个独立、自愿参与的市场，发电机组可以在其日前发电计划的基础上，对向上或向下调整的发电量进行报价，即机组的上调、下调报价，并在实际调用后获得收益。（1）再调度法原理。系统运营商作为再调度市场的唯一买方，根据机组报价、出力约束、线路潮流分布因子等约束条件，以系统再次调节成本最低为目标，安排发电机组调整计划。具体来说，当系统发生阻塞时，在阻塞线路受端，需要对未调度发电机组按报价由低到高的顺序安排机组发电，这部分机组称为限上（constrained-on）机组，对于限上机组的多发电量按机组上调报价进行结算；在阻塞线路送端，对已经安排调度计划的发电机组按报价由高到低的顺序安排机组停发或少发电，这部分机组称为限下（constrained-off）机组，限下机组的少发电量按系统边际电价和下调报价之差进行补偿。再调度产生的阻塞成本由两部分组成：①限上机组参与再调度的上调报价和日前市场出清边际电价的差值；②限下机组回购发电量的报价与日前市场中出清边际电价的价差。阻塞成本由系统运营商直接承担，并最终通过输电费用向用户进行分摊。\n",
      "-----------------------------------------------------\n",
      "检索到的第3个内容: \n",
      " 112.负荷预测在现货市场中的作用？\n",
      "电力现货市场指日前及更短时间内的电能量交易市场，主要利用短期、超短期负荷预测，用于支撑日前市场与实时市场的出清计算。系统负荷预测和母线负荷预测结果是现货市场的基础数据。日前市场基于短期负荷预测，同时考虑电网运行可靠性与运行备用需求，在此基础上确定次日机组开机组合及出力计划；实时市场则基于超短期负荷预测，确定机组实时计算周期的出力结果。系统负荷预测决定了市场的总发电容量需求，也是系统边际价格的关键依据。系统负荷预测的结果及其准确度直接影响市场供需情况，若系统负荷预测结果偏差较大，会使市场出清结果偏离电网实际运行情况，从而使得计算失去意义。母线负荷预测直接影响了安全校核的准确性，也是节点边际电价的计算依据。节点边际电价作为市场价格信号，能够反映电能在不同时间、不同节点的价值，母线负荷预测的结果及其准确度直接影响电网阻塞情况。节点边际电价是依据母线负荷而非系统负荷计算得出，若母线负荷预测结果偏差较大，会使节点电价结果失真，影响现货市场的有效性。准确的负荷预测对电力系统控制、运行和现货市场非常重要。\n",
      "-----------------------------------------------------\n"
     ]
    }
   ],
   "source": [
    "query = \"\"\"输配电价对现货市场有什么影响？\"\"\"\n",
    "         # Sample question, change to other questions you are interested in.\n",
    "relevant_documents = vectorstore.similarity_search(query,k=3)\n",
    "for i, doc in enumerate(relevant_documents):\n",
    "    print(f\"检索到的第{i+1}个内容: \\n {doc.page_content}\", end=\"\\n-----------------------------------------------------\\n\")\n",
    "\n",
    "\n",
    "# 从这一步看，已经很清晰rag的原理了，即从大量文件索引找到top k相关的text块，供下一步LLM查找、总结答案"
   ]
  },
  {
   "cell_type": "code",
   "execution_count": 11,
   "metadata": {},
   "outputs": [],
   "source": [
    "# 创建检索器\n",
    "retriever = vectorstore.as_retriever(search_type=\"similarity\", search_kwargs={\"k\": 3})"
   ]
  },
  {
   "cell_type": "code",
   "execution_count": 12,
   "metadata": {},
   "outputs": [],
   "source": [
    "from langchain.prompts import ChatPromptTemplate\n",
    "template = \"\"\"请使用以下检索到的背景信息来回答问题。如果你不知道答案，直接说你不知道。\n",
    "问题：{question} \n",
    "\n",
    "背景：{context} \n",
    "\n",
    "答案：\n",
    "\"\"\"\n",
    "\n",
    "prompt = ChatPromptTemplate.from_template(template)\n",
    "\n",
    "#llm = chat_models.ChatOpenAI(model=\"gpt-3.5-turbo\", temperature=0)\n",
    "# llm = Ollama(model=\"qwen2:1.5b\", temperature=0)\n",
    "\n",
    "llm = BaichuanLLM(model='Baichuan3-Turbo-128k')\n",
    "\n",
    "# Post-processing\n",
    "def format_docs(docs):\n",
    "    return \"\\n\\n\".join(doc.page_content for doc in docs)\n",
    "\n",
    "# Chain\n",
    "qa_chain = (\n",
    "    {\"context\": retriever | format_docs, \"question\": RunnablePassthrough()}\n",
    "    | prompt\n",
    "    | llm\n",
    "    | StrOutputParser()\n",
    ")\n"
   ]
  },
  {
   "cell_type": "code",
   "execution_count": 14,
   "metadata": {},
   "outputs": [
    {
     "name": "stdout",
     "output_type": "stream",
     "text": [
      "输配电价对现货市场的影响主要体现在以下几个方面：\n",
      "\n",
      "1. 影响电力现货市场设计：输配电价是电力产业价格链的中间环节，合理的输配电价机制是电力现货市场的基础和关键。它需要反映电力生产的真实成本和市场供需关系，为各市场成员提供明确的价格信号，正确引导市场消费和电力投资，优化社会资源的配置。\n",
      "\n",
      "2. 影响参与现货市场的市场主体的收益：电价体系分为上网电价、输配电价和销售电价。在市场化的电力体制中，上网电价和销售电价由竞争产生，而输配电价往往由监管机构进行独立核定。输配电价形成和分摊会影响市场主体参与现货市场的竞争方式，进而影响现货市场的市场主体的收益。\n",
      "\n",
      "3. 影响电力现货市场运行：合理的输配电价是电力市场有效运作的必要条件。输配电价空间会受到上网电价和销售电价的制约。如果电网合理成本的回收、合理收益的获取得不到根本保证，会严重地影响电网建设资本金的筹集。合理的输配电费用定价和分摊有利于向电力交易主体提供有效的经济信号，促进电力资源优化配置，并促进电网企业更有效地管理、规划输配电资源。\n"
     ]
    }
   ],
   "source": [
    "print(qa_chain.invoke(\"输配电价对现货市场有什么影响？\"))"
   ]
  },
  {
   "cell_type": "markdown",
   "metadata": {},
   "source": []
  },
  {
   "cell_type": "code",
   "execution_count": 15,
   "metadata": {},
   "outputs": [
    {
     "name": "stderr",
     "output_type": "stream",
     "text": [
      "C:\\Users\\Administrator\\AppData\\Local\\Temp\\ipykernel_20288\\806108324.py:2: LangChainDeprecationWarning: The method `Chain.__call__` was deprecated in langchain 0.1.0 and will be removed in 1.0. Use :meth:`~invoke` instead.\n",
      "  response = qa_chain({\"query\": query})\n"
     ]
    },
    {
     "name": "stdout",
     "output_type": "stream",
     "text": [
      "第1个问题已回复..........\n",
      "第2个问题已回复..........\n",
      "第3个问题已回复..........\n",
      "第4个问题已回复..........\n",
      "第5个问题已回复..........\n",
      "第6个问题已回复..........\n",
      "第7个问题已回复..........\n",
      "第8个问题已回复..........\n",
      "第9个问题已回复..........\n",
      "第10个问题已回复..........\n",
      "第11个问题已回复..........\n",
      "第12个问题已回复..........\n",
      "第13个问题已回复..........\n",
      "第14个问题已回复..........\n",
      "第15个问题已回复..........\n",
      "第16个问题已回复..........\n",
      "第17个问题已回复..........\n",
      "第18个问题已回复..........\n",
      "第19个问题已回复..........\n",
      "第20个问题已回复..........\n",
      "第21个问题已回复..........\n",
      "第22个问题已回复..........\n",
      "第23个问题已回复..........\n",
      "第24个问题已回复..........\n",
      "第25个问题已回复..........\n",
      "第26个问题已回复..........\n",
      "第27个问题已回复..........\n",
      "第28个问题已回复..........\n",
      "第29个问题已回复..........\n",
      "第30个问题已回复..........\n",
      "第31个问题已回复..........\n",
      "第32个问题已回复..........\n",
      "第33个问题已回复..........\n",
      "第34个问题已回复..........\n",
      "第35个问题已回复..........\n",
      "第36个问题已回复..........\n",
      "第37个问题已回复..........\n",
      "第38个问题已回复..........\n",
      "第39个问题已回复..........\n",
      "第40个问题已回复..........\n",
      "第41个问题已回复..........\n",
      "第42个问题已回复..........\n",
      "第43个问题已回复..........\n",
      "第44个问题已回复..........\n",
      "第45个问题已回复..........\n",
      "第46个问题已回复..........\n",
      "第47个问题已回复..........\n",
      "第48个问题已回复..........\n",
      "第49个问题已回复..........\n",
      "第50个问题已回复..........\n",
      "第51个问题已回复..........\n",
      "第52个问题已回复..........\n",
      "第53个问题已回复..........\n",
      "第54个问题已回复..........\n",
      "第55个问题已回复..........\n",
      "第56个问题已回复..........\n",
      "第57个问题已回复..........\n",
      "第58个问题已回复..........\n",
      "第59个问题已回复..........\n",
      "第60个问题已回复..........\n",
      "第61个问题已回复..........\n",
      "第62个问题已回复..........\n",
      "第63个问题已回复..........\n",
      "第64个问题已回复..........\n",
      "第65个问题已回复..........\n",
      "第66个问题已回复..........\n",
      "第67个问题已回复..........\n",
      "第68个问题已回复..........\n",
      "第69个问题已回复..........\n",
      "第70个问题已回复..........\n",
      "第71个问题已回复..........\n",
      "第72个问题已回复..........\n",
      "第73个问题已回复..........\n",
      "第74个问题已回复..........\n",
      "第75个问题已回复..........\n",
      "第76个问题已回复..........\n",
      "第77个问题已回复..........\n",
      "第78个问题已回复..........\n",
      "第79个问题已回复..........\n",
      "第80个问题已回复..........\n",
      "第81个问题已回复..........\n",
      "第82个问题已回复..........\n",
      "第83个问题已回复..........\n",
      "第84个问题已回复..........\n",
      "第85个问题已回复..........\n",
      "第86个问题已回复..........\n",
      "第87个问题已回复..........\n",
      "第88个问题已回复..........\n",
      "第89个问题已回复..........\n",
      "第90个问题已回复..........\n",
      "第91个问题已回复..........\n",
      "第92个问题已回复..........\n",
      "第93个问题已回复..........\n",
      "第94个问题已回复..........\n",
      "第95个问题已回复..........\n",
      "第96个问题已回复..........\n",
      "第97个问题已回复..........\n",
      "第98个问题已回复..........\n",
      "第99个问题已回复..........\n",
      "第100个问题已回复..........\n",
      "第101个问题已回复..........\n",
      "第102个问题已回复..........\n",
      "第103个问题已回复..........\n",
      "第104个问题已回复..........\n",
      "第105个问题已回复..........\n",
      "第106个问题已回复..........\n",
      "第107个问题已回复..........\n",
      "第108个问题已回复..........\n",
      "第109个问题已回复..........\n",
      "第110个问题已回复..........\n",
      "第111个问题已回复..........\n",
      "第112个问题已回复..........\n",
      "第113个问题已回复..........\n",
      "第114个问题已回复..........\n",
      "第115个问题已回复..........\n",
      "第116个问题已回复..........\n",
      "第117个问题已回复..........\n",
      "第118个问题已回复..........\n",
      "第119个问题已回复..........\n",
      "第120个问题已回复..........\n",
      "第121个问题已回复..........\n",
      "第122个问题已回复..........\n",
      "第123个问题已回复..........\n",
      "第124个问题已回复..........\n",
      "第125个问题已回复..........\n"
     ]
    },
    {
     "data": {
      "text/plain": [
       "{'query_id': 125,\n",
       " 'query': '125.电力现货技术支持系统与电力交易平台定位与关系是什么？',\n",
       " 'gt_answer': '随着中发9号文的发布，我国电力市场改革不断深化，电力交易品种日益丰富，以中长期交易规避风险，以现货市场发现价格的“中长期+现货”联合运营模式逐渐形成。中发9号文配套文件《关于推进电力市场建设的实施意见》指出，电力市场主要由中长期市场和现货市场构成，中长期市场主要开展多年、年、季、月、周等日以上电能量交易和可中断负荷、调压等辅助服务交易。现货市场主要开展日前、日内、实施电能量交易和备用、调频等辅助服务交易。条件成熟时，探索开展容量市场、电力期货和衍生品等交易。2018年，国家电网公司《全国统一电力市场深化设计方案》在综合考虑体制架构和电网安全运行需要的基础上，提出了由交易中心负责市场注册、交易申报、交易结算、信息发布等与市场交易密切相关环节，由调控中心负责现货和辅助服务交易组织、安全校核等与电网运行密切相关环节的统一市场联合运营模式。此模式也成为了电力市场技术支撑平台在交易中心和调控中心之间功能建设的实际划分标准，交易中心的电力交易平台、调控中心的电力现货技术支持系统各功能相互协作实现“全时段、全过程、全环节”的交易流程，实现“中长期+现货”市场安全、高效、有序运营，向市场成员提供准确规范的市场交易信息和在线交易业务支持。调控中心负责现货交易与电网运行密切相关的环节，负责安全校核、现货交易组织、辅助服务交易组织等工作。电力现货技术支持系统面向调控中心业务，用于支撑日前、实时等电力现货市场的组织、出清、安全校核等核心业务，并与调控中心内部的调度系统、交易中心的电力交易平台等系统实现对接。交易中心负责与市场交易密切相关的环节，电力交易平台作为国网公司对市场主体服务的窗口，在市场注册、交易申报、交易结算、信息发布等环节为市场主体提供相关服务，并与包括电力现货技术支持系统在内的调度、营销、财务等系统实现对接。电力交易平台分为面向电力交易中心的主站端，以及面向发电侧、用电侧等市场成员的子站端。主站端的主要功能是市场成员注册审批、中长期交易组织、政府授权合约分解、合同管理、结算计算、信息发布、信息管理、信用管理等功能；子站端是发用侧市场成员用于进行市场注册、现货市场申报、中长期市场申报、中长期合约备案、查看发布信息、查看结算账单的系统。分主要交易环节看：（1）市场成员管理：市场成员向电力交易平台提交注册申请和相关信息。电力交易平台将调控中心业务所需要的市场成员信息推送至电力现货技术支持系统。（2）交易申报：中长期电力交易在电力交易平台组织，现货交易在电力现货技术支持系统组织，但参与市场的市场成员均在电力交易平台的外网端进行报价。即现货交易申报通过电力交易平台受理，面向公众的现货交易信息也通过电力交易平台发布。（3）交易出清：中长期电力交易的出清在电力交易平台开展，中长期电力交易、现货交易均由调控中心进行安全校核，现货交易的安全校核和市场出清在电力现货技术支持系统一并进行。（4）交易结算：交易中心根据中长期、现货以及辅助服务交易结果、执行情况，通过电力交易平台出具结算依据。对各类交易品种日清分、月结算、年清算。（5）信息发布：交易中心将市场相关信息在电力交易平台对外发布，调控中心协助开展现货交易部分的信息发布工作。总体而言，电力现货技术支持系统与电力交易平台分别针对使用用户的业务特点和需求而建立，同时具有较强的业务配合衔接和数据交互关系。',\n",
       " 'response': '电力现货技术支持系统与电力交易平台的定位与关系如下：\\n\\n1. 定位：\\n   - 电力现货技术支持系统面向调控中心业务，用于支撑日前、实时等电力现货市场的组织、出清、安全校核等核心业务。\\n   - 电力交易平台作为国网公司对市场主体服务的窗口，在市场注册、交易申报、交易结算、信息发布等环节为市场主体提供相关服务。\\n\\n2. 关系：\\n   - 两者在功能上相互协作，实现“全时段、全过程、全环节”的交易流程，共同实现“中长期+现货”市场安全、高效、有序运营。\\n   - 调控中心负责现货交易与电网运行密切相关的环节，如安全校核、现货交易组织、辅助服务交易组织等。\\n   - 交易中心负责与市场交易密切相关的环节，包括市场成员管理、交易申报、交易出清、交易结算、信息发布等。\\n   - 电力现货技术支持系统与调控中心内部的调度系统、交易中心的电力交易平台等系统实现对接，确保数据和信息的流畅传递。\\n\\n总结来说，电力现货技术支持系统专注于现货市场的核心业务处理，而电力交易平台则侧重于为市场主体提供市场交易的相关服务和支持。两者在电力市场运营中扮演着互补的角色，通过紧密的协作确保电力市场的高效运作。',\n",
       " 'retrieved_context': [{'doc_id': 125,\n",
       "   'text': '125.电力现货技术支持系统与电力交易平台定位与关系是什么？\\n随着中发9号文的发布，我国电力市场改革不断深化，电力交易品种日益丰富，以中长期交易规避风险，以现货市场发现价格的“中长期+现货”联合运营模式逐渐形成。中发9号文配套文件《关于推进电力市场建设的实施意见》指出，电力市场主要由中长期市场和现货市场构成，中长期市场主要开展多年、年、季、月、周等日以上电能量交易和可中断负荷、调压等辅助服务交易。现货市场主要开展日前、日内、实施电能量交易和备用、调频等辅助服务交易。条件成熟时，探索开展容量市场、电力期货和衍生品等交易。2018年，国家电网公司《全国统一电力市场深化设计方案》在综合考虑体制架构和电网安全运行需要的基础上，提出了由交易中心负责市场注册、交易申报、交易结算、信息发布等与市场交易密切相关环节，由调控中心负责现货和辅助服务交易组织、安全校核等与电网运行密切相关环节的统一市场联合运营模式。此模式也成为了电力市场技术支撑平台在交易中心和调控中心之间功能建设的实际划分标准，交易中心的电力交易平台、调控中心的电力现货技术支持系统各功能相互协作实现“全时段、全过程、全环节”的交易流程，实现“中长期+现货”市场安全、高效、有序运营，向市场成员提供准确规范的市场交易信息和在线交易业务支持。调控中心负责现货交易与电网运行密切相关的环节，负责安全校核、现货交易组织、辅助服务交易组织等工作。电力现货技术支持系统面向调控中心业务，用于支撑日前、实时等电力现货市场的组织、出清、安全校核等核心业务，并与调控中心内部的调度系统、交易中心的电力交易平台等系统实现对接。交易中心负责与市场交易密切相关的环节，电力交易平台作为国网公司对市场主体服务的窗口，在市场注册、交易申报、交易结算、信息发布等环节为市场主体提供相关服务，并与包括电力现货技术支持系统在内的调度、营销、财务等系统实现对接。电力交易平台分为面向电力交易中心的主站端，以及面向发电侧、用电侧等市场成员的子站端。主站端的主要功能是市场成员注册审批、中长期交易组织、政府授权合约分解、合同管理、结算计算、信息发布、信息管理、信用管理等功能；子站端是发用侧市场成员用于进行市场注册、现货市场申报、中长期市场申报、中长期合约备案、查看发布信息、查看结算账单的系统。分主要交易环节看：（1）市场成员管理：市场成员向电力交易平台提交注册申请和相关信息。电力交易平台将调控中心业务所需要的市场成员信息推送至电力现货技术支持系统。（2）交易申报：中长期电力交易在电力交易平台组织，现货交易在电力现货技术支持系统组织，但参与市场的市场成员均在电力交易平台的外网端进行报价。即现货交易申报通过电力交易平台受理，面向公众的现货交易信息也通过电力交易平台发布。（3）交易出清：中长期电力交易的出清在电力交易平台开展，中长期电力交易、现货交易均由调控中心进行安全校核，现货交易的安全校核和市场出清在电力现货技术支持系统一并进行。（4）交易结算：交易中心根据中长期、现货以及辅助服务交易结果、执行情况，通过电力交易平台出具结算依据。对各类交易品种日清分、月结算、年清算。（5）信息发布：交易中心将市场相关信息在电力交易平台对外发布，调控中心协助开展现货交易部分的信息发布工作。总体而言，电力现货技术支持系统与电力交易平台分别针对使用用户的业务特点和需求而建立，同时具有较强的业务配合衔接和数据交互关系。'},\n",
       "  {'doc_id': 108,\n",
       "   'text': '108.电力现货市场技术支持系统需要与哪些系统进行数据交互及其交互技术？\\n电力现货市场技术支持系统为支撑多周期多品种电力现货交易全过程业务，需要从相关内外部系统接入电网物理模型、运行方式、市场边界等数据，并将市场出清结果发布给相关系统。与之存在数据交互的调度自动化内部系统主要包括EMS（能量管理系统）、OMS（调度运行管理系统）等，相关外部系统主要包括市场交易系统、结算系统、电能量计量系统、营销系统等。电力现货市场技术支持系统从EMS获取电网模型方式、网络约束、设备断面实时及历史量测、计划预测边界等数据，一般包括电网物理模型、状态估计方式断面、AGC（自动发电控制）机组控制信息、SCADA（数据采集与监视控制）机组及断面实时运行和历史量测数据、稳定断面定义及控制信息、关键输电线关口断面稳定限额、新能源预测信息、系统负荷预测、母线负荷预测、联络线计划等，这些数据将用于市场主体与电网物理模型关联关系及计划市场未来态安全校核断面的构建。电力现货市场技术支持系统将日前市场出清结果、日内市场出清结果、实时市场出清结果、辅助服务市场出清结果发布到EMS，EMS将通过AGC、SCADA等应用功能实现各类市场出清结果的物理执行。电力现货市场技术支持系统从OMS获取发输变电设备检修计划、投退役计划等数据，一般包括机组检修单、输变电设备检修单、设备投运、设备退役信息等，用于构建计划市场未来态安全校核断面。电力现货市场技术支持系统从市场交易平台获取市场主体注册信息、报价信息等数据，一般包括发电厂商信息、售电商信息、电力用户信息、机组启停报价、电能报价、机组最早并网时间、机组日最大发电量等信息，并向市场交易平台输出电能量及辅助服务交易结果、电网实际运行数据等信息，一般包括电能和调峰调频等辅助服务市场的出清结果、节点边际电价、实际执行结果、偏差结算信息、机组实际出力、联络线实际功率、系统负荷实测等，这些数据由市场交易平台开放给市场主体和监管机构，用于市场运行信息披露。电力现货市场技术支持系统将日前市场出清结果、日内市场出清结果、实时市场出清结果、辅助服务市场出清结果发布发送到电力市场交易结算系统，用于市场交易结算。电力现货市场技术支持系统从电能量计量系统获取机组实际发生电量数据，用于市场行为分析和结算分析。电力现货市场技术支持系统将重要且及时性要求较高的市场发布信息发送给营销系统各市场成员，用于市场信息披露。电力现货市场技术支持系统与上述系统的数据交互内容、交互机制各不相同，其数据交互技术需要同时满足安全、质量、效率等要求，一般包括数据交换方式、数据质量校验、数据质量分析等方面。数据交换方式方面，电力现货市场技术支持系统一般采用同步服务调用、异步可信文件传输等方式进行数据交换。同步服务调用是指由数据提供方按照服务总线访问规范对外提供服务调用接口，数据获取方通过调用数据服务访问接口来获取数据。服务调用提供了透明的数据同步访问机制，数据获取方无需了解数据提供方的数据来源、存放位置、存储结构等信息。异步可信文件传输主要是指数据按照双方事先制定统一的数据文件规范进行交互。数据发送方生成数据文件并发送到数据接收方系统指定目录下，数据接收方读取数据文件、解析入库，数据接收方完成数据接收后，向数据发送端发送数据已经接收的确认消息，数据发送方等待获取到接收方的反馈确认消息后完成整个文件传输流程，如果在规定的时间内没有收到接收方的确认消息，则发送端进行相关告警，保存发送时间、地址、文件内容等信息，并可根据设定的重发机制定时再次发送之前发送失败的文件。对报价数据文件、出清结果等保密数据采用高强度的加密算法进行文件加密，并采用专用数据发送和接收目录，同时，对目录采用加密、隐藏等方式确保加密文件内容不被非法获取。数据质量校验方面，电力现货市场技术支持系统通过分析各类外部接入数据的特点，建立可扩展的数据校验规则库并基于该规则库实现数据校验功能。为每类从外部接入的数据配置相应的数据校验规则，判断数据是否满足质量要求，由数据校验功能根据设置的数据校验规则对数据进行校验，确保只有通过数据校验的数据才能进入到现货市场系统数据库中。数据接入质量分析方面，电力现货市场技术支持系统在离线状态下利用数据挖掘技术从数据校验详细日志中发现隐藏的数据相互之间的影响关系，得到不同质量水平的数据出现的系统、时间、次数、类型的分布信息，并通过图表方式展示出各个系统数据传输质量情况，便于外部系统在后续的数据发送过程中调整数据源及策略。数据质量分析是整个数据交换系统最后一个环节，实现了数据交换的闭环流程。数据质量分析采用了异常分析、分类分析等数据挖掘手段对生成的数据校验日志进行多角度挖掘，从时间段、系统、数据类型等多种维度下分析数据质量趋势。数据校验日志及数据质量信息通过基于服务调用的数据结果服务对外提供调用接口，数据上报端系统通过部署在本地系统中的数据质量查询客户端调用数据结果服务获取数据发送结果信息。'},\n",
       "  {'doc_id': 99,\n",
       "   'text': '99.什么是电力现货市场技术支持系统？\\n电力现货市场技术支持系统是支撑电力现货市场运营的计算机、网络与通信设备和各功能应用软件的统称，是电力现货市场安全、稳定运行的重要技术支撑，依据电力现货市场运营规则，实现市场注册、竞价、出清、结算、分析等现货市场运营全业务功能，为市场主体提供了一个公开、透明、高效、便捷的交易平台。调度机构通过系统开展市场组织、管理及监管分析，市场中交易主体通过系统开展交易报价、交易结果查询。在功能架构设计上，电力现货市场技术支持系统一般采用分层架构设计，下层应用为上层应用提供服务支撑，上层单向调用下层服务接口，不允许上下两层双向调用，以此保证各层之间的松耦合。电力现货市场技术支持系统从下往上分为基础设施层、基础平台层、应用服务层、应用功能层。基础设施层为电力现货市场提供基础的软硬件，主要包括应用服务器、存储设施、数据库软件、操作系统等；基础平台层为电力现货市场应用开发与系统运行提供了基础支撑组件和服务，主要包括数据访问服务、消息总线、通信总线、图形画面、告警管理、日志管理、系统管理、权限管理、报表工具、安全防护等；应用服务层是为应用层功能实现提供公共计算服务支撑，主要是把现货市场核心算法和公共组件进行了服务化封装，供不同应用场景进行调用，应用服务包括核心出清算法服务、安全校核计算服务、数据管理服务等。应用功能层是现货市场系统面向用户所提供的各自业务功能集合，支撑用户完成现货市场各项业务操作，主要包括市场申报发布数据管理、市场数据及模型管理、日前市场、日内市场、实时市场、辅助服务市场、市场风险管控、市场模拟推演、市场分析、市场监管支持等。在部署架构上，电力现货市场技术支持系统在电力生产控制大区Ⅱ区和信息管理大区Ⅲ区分别部署，申报发布管理、市场模型与数据管理、日前市场、日内市场、实时市场、辅助服务市场、市场风险管控等核心数据管理与出清计算功能部署在安全Ⅱ区，市场模拟推演、市场监管支持、市场分析等离线功能部署在Ⅲ区，Ⅱ区数据通过数据同步软件实时同步到Ⅲ区。同时，为了实现交易中心申报发布数据安全可靠传输至现货市场系统，构建了隔离缓冲区，部署数据传输服务。在硬件配置上，电力现货市场系统技术支持系统硬件部署在安全Ⅱ区、Ⅲ区和隔离缓冲区。其中，Ⅱ区包括日前市场服务器、日内市场服务器、实时市场服务器、辅助服务市场服务器、潮流安全分析服务器、市场风险管控服务器、存储阵列、接入交换机、加密机及工作站。Ⅲ区包括市场分析服务器、市场模拟推演服务器、市场监管支持服务器、接入交换机及工作站若干。隔离缓冲区包括正反隔离装置、网络安全监测装置及恶意代码流量监测设备。电力现货市场技术支持系统配备高度智能化运行监视和告警功能，对系统各类软硬件异常状态及时通过动图、声音等方式告警提示，方便系统运维人员全面掌控系统运行情况，及时发现问题，快速介入处理。为了满足系统运行可靠性要求，系统所采用的服务器、网络设备、存储设备等都采用冗余配置，在单个设备出现故障时，能够及时进行设备切除和应用切换，实现在硬件和软件故障下无感知迁移。为应对严重自然灾害导致的系统级别瘫痪，在异地建立备用系统或并列双活运行B系统，实现两地系统互为主备和并列运行，现货AB系统通过AB系统数据同步服务实现数据双向同步，同步的内容包括电网模型、平台及应用的配置信息、人工操作及业务中间结果信息等。同时AB系统也分别通过独立数据传输通道各自与国调（分中心）AB系统及外部系统AB系统进行双向交叉的数据交互，保证双活运行的可靠性及可用性。电力现货市场技术支持系统遵循“安全分区、网络专用、横向隔离、纵向认证”安全防护基本原则，构建隔离缓冲区与交易中心进行数据安全交互，对申报数据等关键业务数据采取加密签名、安全存储与访问控制措施，强化关键业务数据的安全监管、审计监测和抗抵赖性。针对现货市场运行特点，用到的新技术包括：基于恶意代码流量监测与网络安全监测技术实现安全接入监控，基于数据不落地的安全传输技术实现跨区传输服务，基于密码管控技术实现对业务数据的数字证书签名与非对称密码加密传输。电力现货市场技术支持系统与能量管理系统、电力交易系统等内外部系统存在大量数据交互。电力现货市场技术支持系统在市场出清环节中需要考虑电网及机组物理运行特性，因此，需要从能量管理系统中获取电网物理模型、电网实时运行数据以及系统负荷预测、母线负荷预测、联络线计划、检修计划等数据，同时，现货市场出清结果需要用于物理执行，相关出清结果也会发送给能量管理系统中进行实际调度运行，事后，从能量管理系统中接入电网及机组实际运行数据开展市场运行分析等业务。电力现货市场技术支持系统在整个电力现货市场事前、事中、事后等全过程中都与能量管理系统存在密不可分的联系。电力交易系统在我国主要由电力交易中心负责建设和维护，它主要为开展年度、月度等中长期电力市场提供技术支撑，及负责市场申报发布和市场注册，电力现货市场技术支持系统需要从电力交易系统中获取市场注册信息、中长期交易合同相关信息，用于市场边界条件设定，按照市场信息披露原则向电力交易系统发送市场披露信息，由电力交易系统向市场主体发布，从电力交易系统获取市场主体报价信息。为了保证数据及时、准确的传输至现货市场系统，在现货市场系统中建立多种高效的数据传输机制以实现与不同系统间的数据交互，数据传输方式包括数据库同步、文件交互、数据访问服务等，支撑数据传输格式、传输周期的灵活配合，建立数据传输全过程监视技术，对从数据发送端到数据接收端各个环节进行监视。外部数据质量好坏直接影响了市场出清结果的准确性，针对现货市场各类外部数据特征，建立了可配置的数据校验规则，对所有输入数据进行校验，只有通过数据校验的数据才能进入到市场出清环节。随着云计算、大数据、人工智能、区块链等新技术发展，电力现货市场技术支持系统与新技术融合进一步推动了系统从体系架构、功能实现、系统运行等方面发生转变。利用云计算平台提供虚拟化资源，实现了传统物理机向可弹性伸缩的虚拟机转变，采用微服务、容器化等技术大大增强了系统扩展性和灵活性。利用大数据存储与处理能力，可以有效支撑大区域市场、大规模用户所产生的海量市场数据的处理与分析，实现千万级发用侧市场主体灵活接入市场。在市场分析、市场力检测、市场预测等领域应用人工智能算法，通过海量数据和人工智能算法相结合，挖掘现货市场复杂运行表象下更本质的运行规律，有效把握市场运行脉络，为开展各类市场分析提供智能化工具，同时，在市场模拟推演中应用人工智能技术模拟市场报价与博弈，为市场规则推演提供更加真实的环境。区块链技术是一种为多方协作构建互信环境的新型技术，利用块链式数据结构来验证与存储数据，利用分布式节点共识算法来生成和更新数据，利用密码学的方式保证数据传输和访问的安全，利用由自动化脚本代码组成的智能合约，来编程和操作数据的一种全新的分布式基础架构与计算方式。区块链分布式存储、防抵赖、可溯源等技术特点与电力现货市场应用需求高度契合，在电力现货市场技术支持系统中申报发布、市场监管、市场结算等领域具有广阔的应用前景，把市场申报发布数据和市场操作日志等关键业务数据进行上链存储，实现数据不可篡改和事后追溯，利用区块链智能合约实现市场自动结算与考核，为调度机构、市场主体、市场监管机构间建立公开、透明、互信、共享的市场环境提供技术支撑。'}]}"
      ]
     },
     "execution_count": 15,
     "metadata": {},
     "output_type": "execute_result"
    }
   ],
   "source": [
    "for index,query in enumerate(questions):\n",
    "    results[index][\"response\"] = qa_chain.invoke(query)\n",
    "\n",
    "    print(f\"第{index+1}个问题已回复..........\")\n",
    "\n",
    "results[124]"
   ]
  },
  {
   "cell_type": "code",
   "execution_count": 16,
   "metadata": {},
   "outputs": [],
   "source": [
    "import json\n",
    "\n",
    "check_inputs[\"results\"] = results\n",
    "# 导出JSON文件\n",
    "with open(\"电力现货市场QA.json\", \"w\") as file:\n",
    "    json.dump(check_inputs, file,indent=4, ensure_ascii=False)"
   ]
  },
  {
   "cell_type": "markdown",
   "metadata": {},
   "source": [
    "### Step5 提问，运行QA链，得到RAG结果"
   ]
  },
  {
   "cell_type": "code",
   "execution_count": null,
   "metadata": {},
   "outputs": [],
   "source": [
    "# question = \"电力市场与普通商品市场的差异？\"\n",
    "# question = \"什么是狭义的电力市场？\"\n",
    "# question = \"电力市场有哪些特征？\"\n",
    "question = \"输配电价对现货市场有什么影响？\"\n",
    "result = qa_chain({\"query\": question})\n",
    "# result[\"result\"]\n",
    "print(\"========= chain result ==========\")\n",
    "print(result['result'])"
   ]
  },
  {
   "cell_type": "code",
   "execution_count": null,
   "metadata": {},
   "outputs": [],
   "source": [
    "relevant_docs = result['source_documents']\n",
    "print(f'There are {len(relevant_docs)} documents retrieved which are relevant to the query.')\n",
    "print(\"*\" * 100)\n",
    "for i, doc in enumerate(relevant_docs):\n",
    "    # print(f\"Relevant Document #{i+1}:\\nSource file: {doc.metadata['source']}, Page: {doc.metadata['page']}\\nContent: {doc.page_content}\")\n",
    "    print(f\"Relevant Document #{i+1}:\\nSource file: {doc.metadata['source']}\\nContent: {doc.page_content}\")\n",
    "    print(\"-\"*100)\n",
    "    print(f'There are {len(relevant_docs)} documents retrieved which are relevant to the query.')"
   ]
  },
  {
   "cell_type": "markdown",
   "metadata": {},
   "source": [
    "### Step6 开始评估"
   ]
  },
  {
   "cell_type": "code",
   "execution_count": null,
   "metadata": {},
   "outputs": [],
   "source": [
    "from ragchecker import RAGResults, RAGChecker\n",
    "from ragchecker.metrics import all_metrics\n",
    "\n",
    "\n",
    "# 从json/dict初始化ragresults\n",
    "with open(\"examples/checking_inputs.json\") as fp:\n",
    "    rag_results = RAGResults.from_json(fp.read())\n",
    "\n",
    "# 设置评估器\n",
    "evaluator = RAGChecker(\n",
    "    extractor_name=\"bedrock/meta.llama3-1-70b-instruct-v1:0\",\n",
    "    checker_name=\"bedrock/meta.llama3-1-70b-instruct-v1:0\",\n",
    "    batch_size_extractor=32,\n",
    "    batch_size_checker=32\n",
    ")\n",
    "\n",
    "# 使用选定的指标（如retriever_metrics、generator_metrics、all_metrics）评估结果\n",
    "evaluator.evaluate(rag_results, all_metrics)\n",
    "print(rag_results)"
   ]
  }
 ],
 "metadata": {
  "kernelspec": {
   "display_name": "transformers",
   "language": "python",
   "name": "python3"
  },
  "language_info": {
   "codemirror_mode": {
    "name": "ipython",
    "version": 3
   },
   "file_extension": ".py",
   "mimetype": "text/x-python",
   "name": "python",
   "nbconvert_exporter": "python",
   "pygments_lexer": "ipython3",
   "version": "3.10.15"
  }
 },
 "nbformat": 4,
 "nbformat_minor": 2
}
