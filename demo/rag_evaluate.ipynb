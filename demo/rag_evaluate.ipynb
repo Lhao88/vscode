{
 "cells": [
  {
   "cell_type": "markdown",
   "metadata": {},
   "source": [
    "### Step1 导入相关包"
   ]
  },
  {
   "cell_type": "code",
   "execution_count": 1,
   "metadata": {},
   "outputs": [
    {
     "name": "stderr",
     "output_type": "stream",
     "text": [
      "d:\\miniconda3\\envs\\transformers\\lib\\site-packages\\tqdm\\auto.py:21: TqdmWarning: IProgress not found. Please update jupyter and ipywidgets. See https://ipywidgets.readthedocs.io/en/stable/user_install.html\n",
      "  from .autonotebook import tqdm as notebook_tqdm\n"
     ]
    },
    {
     "name": "stdout",
     "output_type": "stream",
     "text": [
      "🦑 Tru initialized with db url sqlite:///default.sqlite .\n",
      "🛑 Secret keys may be written to the database. See the `database_redact_keys` option of `Tru` to prevent this.\n"
     ]
    },
    {
     "name": "stderr",
     "output_type": "stream",
     "text": [
      "WARNI [langchain_community.utils.user_agent] USER_AGENT environment variable not set, consider setting it to identify your requests.\n"
     ]
    }
   ],
   "source": [
    "import os\n",
    "# Imports main tools:\n",
    "from trulens_eval import TruChain, Tru\n",
    "tru = Tru()\n",
    "tru.reset_database()\n",
    "\n",
    "# Imports from LangChain to build app\n",
    "import bs4\n",
    "from langchain import hub\n",
    "from langchain_community.llms import BaichuanLLM\n",
    "# from langchain.chat_models import ChatOpenAI\n",
    "from langchain.document_loaders import WebBaseLoader\n",
    "from langchain.schema import StrOutputParser\n",
    "from langchain_core.runnables import RunnablePassthrough\n",
    "from langchain_community.vectorstores import FAISS\n",
    "from langchain_text_splitters import RecursiveCharacterTextSplitter\n",
    "from langchain_community.embeddings import HuggingFaceBgeEmbeddings\n",
    "from langchain_community.document_loaders import PyPDFDirectoryLoader\n",
    "from langchain.chains import RetrievalQA\n",
    "from langchain.prompts import PromptTemplate"
   ]
  },
  {
   "cell_type": "markdown",
   "metadata": {},
   "source": [
    "### Step2 加载数据"
   ]
  },
  {
   "cell_type": "code",
   "execution_count": 2,
   "metadata": {},
   "outputs": [],
   "source": [
    "data = \"../demo/\"\n",
    "# 这里为了做演示，随便找了一个pdf"
   ]
  },
  {
   "cell_type": "code",
   "execution_count": 3,
   "metadata": {},
   "outputs": [
    {
     "data": {
      "text/plain": [
       "Document(page_content='第一章 电力现货市场基础   \\n             \\n1   \\n第一章 \\n \\n \\n电力现货市场基础  \\n \\n \\n \\n  \\n 1. 什么是电力市场？电力市场与 普通商品市场有哪 些差异？电力市场有\\n哪些特征？ \\n（1）电力市场的概念。  \\n我国关于电力市场的权威解释始见于《中国电力百科全书  电力系统卷（第二版） 》。\\n电力市场的定义为：基于市场经济原则，电力市场的定义为基于市场经济原则，为实现', metadata={'source': '..\\\\demo\\\\电力现货市场101问.pdf', 'page': 8})"
      ]
     },
     "execution_count": 3,
     "metadata": {},
     "output_type": "execute_result"
    }
   ],
   "source": [
    "\n",
    "loader = PyPDFDirectoryLoader(data)\n",
    "\n",
    "docs_before_split = loader.load()\n",
    "# 过滤目录和附录\n",
    "docs_before_split = [doc for doc in docs_before_split if doc.metadata['page'] > 7 and doc.metadata['page'] <275] \n",
    "# 这里可以理解为对自己的文档切分成块，chuck size是每一块的大小，可以根据需求调整\n",
    "text_splitter = RecursiveCharacterTextSplitter(\n",
    "    chunk_size = 256,\n",
    "    chunk_overlap  = 30,\n",
    ")\n",
    "docs_after_split = text_splitter.split_documents(docs_before_split)\n",
    "\n",
    "docs_after_split[0]"
   ]
  },
  {
   "cell_type": "markdown",
   "metadata": {},
   "source": [
    "### Step3 创建向量数据库"
   ]
  },
  {
   "cell_type": "code",
   "execution_count": 4,
   "metadata": {},
   "outputs": [
    {
     "name": "stderr",
     "output_type": "stream",
     "text": [
      "d:\\miniconda3\\envs\\transformers\\lib\\site-packages\\_distutils_hack\\__init__.py:11: UserWarning: Distutils was imported before Setuptools, but importing Setuptools also replaces the `distutils` module in `sys.modules`. This may lead to undesirable behaviors or errors. To avoid these issues, avoid using distutils directly, ensure that setuptools is installed in the traditional way (e.g. not an editable install), and/or make sure that setuptools is always imported before distutils.\n",
      "  warnings.warn(\n",
      "d:\\miniconda3\\envs\\transformers\\lib\\site-packages\\_distutils_hack\\__init__.py:26: UserWarning: Setuptools is replacing distutils.\n",
      "  warnings.warn(\"Setuptools is replacing distutils.\")\n"
     ]
    },
    {
     "ename": "RuntimeError",
     "evalue": "Failed to import transformers.trainer because of the following error (look up to see its traceback):\nd:\\miniconda3\\envs\\transformers\\lib\\distutils\\core.py",
     "output_type": "error",
     "traceback": [
      "\u001b[1;31m---------------------------------------------------------------------------\u001b[0m",
      "\u001b[1;31mAssertionError\u001b[0m                            Traceback (most recent call last)",
      "File \u001b[1;32md:\\miniconda3\\envs\\transformers\\lib\\site-packages\\transformers\\utils\\import_utils.py:1535\u001b[0m, in \u001b[0;36m_LazyModule._get_module\u001b[1;34m(self, module_name)\u001b[0m\n\u001b[0;32m   1534\u001b[0m \u001b[38;5;28;01mtry\u001b[39;00m:\n\u001b[1;32m-> 1535\u001b[0m     \u001b[38;5;28;01mreturn\u001b[39;00m \u001b[43mimportlib\u001b[49m\u001b[38;5;241;43m.\u001b[39;49m\u001b[43mimport_module\u001b[49m\u001b[43m(\u001b[49m\u001b[38;5;124;43m\"\u001b[39;49m\u001b[38;5;124;43m.\u001b[39;49m\u001b[38;5;124;43m\"\u001b[39;49m\u001b[43m \u001b[49m\u001b[38;5;241;43m+\u001b[39;49m\u001b[43m \u001b[49m\u001b[43mmodule_name\u001b[49m\u001b[43m,\u001b[49m\u001b[43m \u001b[49m\u001b[38;5;28;43mself\u001b[39;49m\u001b[38;5;241;43m.\u001b[39;49m\u001b[38;5;18;43m__name__\u001b[39;49m\u001b[43m)\u001b[49m\n\u001b[0;32m   1536\u001b[0m \u001b[38;5;28;01mexcept\u001b[39;00m \u001b[38;5;167;01mException\u001b[39;00m \u001b[38;5;28;01mas\u001b[39;00m e:\n",
      "File \u001b[1;32md:\\miniconda3\\envs\\transformers\\lib\\importlib\\__init__.py:127\u001b[0m, in \u001b[0;36mimport_module\u001b[1;34m(name, package)\u001b[0m\n\u001b[0;32m    126\u001b[0m         level \u001b[38;5;241m+\u001b[39m\u001b[38;5;241m=\u001b[39m \u001b[38;5;241m1\u001b[39m\n\u001b[1;32m--> 127\u001b[0m \u001b[38;5;28;01mreturn\u001b[39;00m \u001b[43m_bootstrap\u001b[49m\u001b[38;5;241;43m.\u001b[39;49m\u001b[43m_gcd_import\u001b[49m\u001b[43m(\u001b[49m\u001b[43mname\u001b[49m\u001b[43m[\u001b[49m\u001b[43mlevel\u001b[49m\u001b[43m:\u001b[49m\u001b[43m]\u001b[49m\u001b[43m,\u001b[49m\u001b[43m \u001b[49m\u001b[43mpackage\u001b[49m\u001b[43m,\u001b[49m\u001b[43m \u001b[49m\u001b[43mlevel\u001b[49m\u001b[43m)\u001b[49m\n",
      "File \u001b[1;32m<frozen importlib._bootstrap>:1030\u001b[0m, in \u001b[0;36m_gcd_import\u001b[1;34m(name, package, level)\u001b[0m\n",
      "File \u001b[1;32m<frozen importlib._bootstrap>:1007\u001b[0m, in \u001b[0;36m_find_and_load\u001b[1;34m(name, import_)\u001b[0m\n",
      "File \u001b[1;32m<frozen importlib._bootstrap>:986\u001b[0m, in \u001b[0;36m_find_and_load_unlocked\u001b[1;34m(name, import_)\u001b[0m\n",
      "File \u001b[1;32m<frozen importlib._bootstrap>:680\u001b[0m, in \u001b[0;36m_load_unlocked\u001b[1;34m(spec)\u001b[0m\n",
      "File \u001b[1;32m<frozen importlib._bootstrap_external>:850\u001b[0m, in \u001b[0;36mexec_module\u001b[1;34m(self, module)\u001b[0m\n",
      "File \u001b[1;32m<frozen importlib._bootstrap>:228\u001b[0m, in \u001b[0;36m_call_with_frames_removed\u001b[1;34m(f, *args, **kwds)\u001b[0m\n",
      "File \u001b[1;32md:\\miniconda3\\envs\\transformers\\lib\\site-packages\\transformers\\trainer.py:213\u001b[0m\n\u001b[0;32m    212\u001b[0m \u001b[38;5;28;01mif\u001b[39;00m is_peft_available():\n\u001b[1;32m--> 213\u001b[0m     \u001b[38;5;28;01mfrom\u001b[39;00m \u001b[38;5;21;01mpeft\u001b[39;00m \u001b[38;5;28;01mimport\u001b[39;00m PeftModel\n\u001b[0;32m    216\u001b[0m \u001b[38;5;28;01mif\u001b[39;00m is_accelerate_available():\n",
      "File \u001b[1;32md:\\miniconda3\\envs\\transformers\\lib\\site-packages\\peft\\__init__.py:22\u001b[0m\n\u001b[0;32m     20\u001b[0m __version__ \u001b[38;5;241m=\u001b[39m \u001b[38;5;124m\"\u001b[39m\u001b[38;5;124m0.11.1\u001b[39m\u001b[38;5;124m\"\u001b[39m\n\u001b[1;32m---> 22\u001b[0m \u001b[38;5;28;01mfrom\u001b[39;00m \u001b[38;5;21;01m.\u001b[39;00m\u001b[38;5;21;01mauto\u001b[39;00m \u001b[38;5;28;01mimport\u001b[39;00m (\n\u001b[0;32m     23\u001b[0m     AutoPeftModel,\n\u001b[0;32m     24\u001b[0m     AutoPeftModelForCausalLM,\n\u001b[0;32m     25\u001b[0m     AutoPeftModelForSequenceClassification,\n\u001b[0;32m     26\u001b[0m     AutoPeftModelForSeq2SeqLM,\n\u001b[0;32m     27\u001b[0m     AutoPeftModelForTokenClassification,\n\u001b[0;32m     28\u001b[0m     AutoPeftModelForQuestionAnswering,\n\u001b[0;32m     29\u001b[0m     AutoPeftModelForFeatureExtraction,\n\u001b[0;32m     30\u001b[0m )\n\u001b[0;32m     31\u001b[0m \u001b[38;5;28;01mfrom\u001b[39;00m \u001b[38;5;21;01m.\u001b[39;00m\u001b[38;5;21;01mmapping\u001b[39;00m \u001b[38;5;28;01mimport\u001b[39;00m (\n\u001b[0;32m     32\u001b[0m     MODEL_TYPE_TO_PEFT_MODEL_MAPPING,\n\u001b[0;32m     33\u001b[0m     PEFT_TYPE_TO_CONFIG_MAPPING,\n\u001b[1;32m   (...)\u001b[0m\n\u001b[0;32m     36\u001b[0m     inject_adapter_in_model,\n\u001b[0;32m     37\u001b[0m )\n",
      "File \u001b[1;32md:\\miniconda3\\envs\\transformers\\lib\\site-packages\\peft\\auto.py:32\u001b[0m\n\u001b[0;32m     31\u001b[0m \u001b[38;5;28;01mfrom\u001b[39;00m \u001b[38;5;21;01m.\u001b[39;00m\u001b[38;5;21;01mconfig\u001b[39;00m \u001b[38;5;28;01mimport\u001b[39;00m PeftConfig\n\u001b[1;32m---> 32\u001b[0m \u001b[38;5;28;01mfrom\u001b[39;00m \u001b[38;5;21;01m.\u001b[39;00m\u001b[38;5;21;01mmapping\u001b[39;00m \u001b[38;5;28;01mimport\u001b[39;00m MODEL_TYPE_TO_PEFT_MODEL_MAPPING\n\u001b[0;32m     33\u001b[0m \u001b[38;5;28;01mfrom\u001b[39;00m \u001b[38;5;21;01m.\u001b[39;00m\u001b[38;5;21;01mpeft_model\u001b[39;00m \u001b[38;5;28;01mimport\u001b[39;00m (\n\u001b[0;32m     34\u001b[0m     PeftModel,\n\u001b[0;32m     35\u001b[0m     PeftModelForCausalLM,\n\u001b[1;32m   (...)\u001b[0m\n\u001b[0;32m     40\u001b[0m     PeftModelForTokenClassification,\n\u001b[0;32m     41\u001b[0m )\n",
      "File \u001b[1;32md:\\miniconda3\\envs\\transformers\\lib\\site-packages\\peft\\mapping.py:22\u001b[0m\n\u001b[0;32m     21\u001b[0m \u001b[38;5;28;01mfrom\u001b[39;00m \u001b[38;5;21;01m.\u001b[39;00m\u001b[38;5;21;01mconfig\u001b[39;00m \u001b[38;5;28;01mimport\u001b[39;00m PeftConfig\n\u001b[1;32m---> 22\u001b[0m \u001b[38;5;28;01mfrom\u001b[39;00m \u001b[38;5;21;01m.\u001b[39;00m\u001b[38;5;21;01mmixed_model\u001b[39;00m \u001b[38;5;28;01mimport\u001b[39;00m PeftMixedModel\n\u001b[0;32m     23\u001b[0m \u001b[38;5;28;01mfrom\u001b[39;00m \u001b[38;5;21;01m.\u001b[39;00m\u001b[38;5;21;01mpeft_model\u001b[39;00m \u001b[38;5;28;01mimport\u001b[39;00m (\n\u001b[0;32m     24\u001b[0m     PeftModel,\n\u001b[0;32m     25\u001b[0m     PeftModelForCausalLM,\n\u001b[1;32m   (...)\u001b[0m\n\u001b[0;32m     30\u001b[0m     PeftModelForTokenClassification,\n\u001b[0;32m     31\u001b[0m )\n",
      "File \u001b[1;32md:\\miniconda3\\envs\\transformers\\lib\\site-packages\\peft\\mixed_model.py:26\u001b[0m\n\u001b[0;32m     24\u001b[0m \u001b[38;5;28;01mfrom\u001b[39;00m \u001b[38;5;21;01mtransformers\u001b[39;00m\u001b[38;5;21;01m.\u001b[39;00m\u001b[38;5;21;01mutils\u001b[39;00m \u001b[38;5;28;01mimport\u001b[39;00m PushToHubMixin\n\u001b[1;32m---> 26\u001b[0m \u001b[38;5;28;01mfrom\u001b[39;00m \u001b[38;5;21;01mpeft\u001b[39;00m\u001b[38;5;21;01m.\u001b[39;00m\u001b[38;5;21;01mtuners\u001b[39;00m\u001b[38;5;21;01m.\u001b[39;00m\u001b[38;5;21;01mmixed\u001b[39;00m \u001b[38;5;28;01mimport\u001b[39;00m COMPATIBLE_TUNER_TYPES\n\u001b[0;32m     28\u001b[0m \u001b[38;5;28;01mfrom\u001b[39;00m \u001b[38;5;21;01m.\u001b[39;00m\u001b[38;5;21;01mconfig\u001b[39;00m \u001b[38;5;28;01mimport\u001b[39;00m PeftConfig\n",
      "File \u001b[1;32md:\\miniconda3\\envs\\transformers\\lib\\site-packages\\peft\\tuners\\__init__.py:26\u001b[0m\n\u001b[0;32m     25\u001b[0m \u001b[38;5;28;01mfrom\u001b[39;00m \u001b[38;5;21;01m.\u001b[39;00m\u001b[38;5;21;01madalora\u001b[39;00m \u001b[38;5;28;01mimport\u001b[39;00m AdaLoraConfig, AdaLoraModel\n\u001b[1;32m---> 26\u001b[0m \u001b[38;5;28;01mfrom\u001b[39;00m \u001b[38;5;21;01m.\u001b[39;00m\u001b[38;5;21;01mboft\u001b[39;00m \u001b[38;5;28;01mimport\u001b[39;00m BOFTConfig, BOFTModel\n\u001b[0;32m     27\u001b[0m \u001b[38;5;28;01mfrom\u001b[39;00m \u001b[38;5;21;01m.\u001b[39;00m\u001b[38;5;21;01mp_tuning\u001b[39;00m \u001b[38;5;28;01mimport\u001b[39;00m PromptEncoder, PromptEncoderConfig, PromptEncoderReparameterizationType\n",
      "File \u001b[1;32md:\\miniconda3\\envs\\transformers\\lib\\site-packages\\peft\\tuners\\boft\\__init__.py:16\u001b[0m\n\u001b[0;32m     15\u001b[0m \u001b[38;5;28;01mfrom\u001b[39;00m \u001b[38;5;21;01m.\u001b[39;00m\u001b[38;5;21;01mconfig\u001b[39;00m \u001b[38;5;28;01mimport\u001b[39;00m BOFTConfig\n\u001b[1;32m---> 16\u001b[0m \u001b[38;5;28;01mfrom\u001b[39;00m \u001b[38;5;21;01m.\u001b[39;00m\u001b[38;5;21;01mlayer\u001b[39;00m \u001b[38;5;28;01mimport\u001b[39;00m BOFTLayer\n\u001b[0;32m     17\u001b[0m \u001b[38;5;28;01mfrom\u001b[39;00m \u001b[38;5;21;01m.\u001b[39;00m\u001b[38;5;21;01mmodel\u001b[39;00m \u001b[38;5;28;01mimport\u001b[39;00m BOFTModel\n",
      "File \u001b[1;32md:\\miniconda3\\envs\\transformers\\lib\\site-packages\\peft\\tuners\\boft\\layer.py:30\u001b[0m\n\u001b[0;32m     29\u001b[0m \u001b[38;5;28;01mfrom\u001b[39;00m \u001b[38;5;21;01mtorch\u001b[39;00m\u001b[38;5;21;01m.\u001b[39;00m\u001b[38;5;21;01mautograd\u001b[39;00m \u001b[38;5;28;01mimport\u001b[39;00m Function\n\u001b[1;32m---> 30\u001b[0m \u001b[38;5;28;01mfrom\u001b[39;00m \u001b[38;5;21;01mtorch\u001b[39;00m\u001b[38;5;21;01m.\u001b[39;00m\u001b[38;5;21;01mutils\u001b[39;00m\u001b[38;5;21;01m.\u001b[39;00m\u001b[38;5;21;01mcpp_extension\u001b[39;00m \u001b[38;5;28;01mimport\u001b[39;00m load\n\u001b[0;32m     32\u001b[0m \u001b[38;5;28;01mfrom\u001b[39;00m \u001b[38;5;21;01mpeft\u001b[39;00m\u001b[38;5;21;01m.\u001b[39;00m\u001b[38;5;21;01mtuners\u001b[39;00m\u001b[38;5;21;01m.\u001b[39;00m\u001b[38;5;21;01mtuners_utils\u001b[39;00m \u001b[38;5;28;01mimport\u001b[39;00m BaseTunerLayer, check_adapters_to_merge\n",
      "File \u001b[1;32md:\\miniconda3\\envs\\transformers\\lib\\site-packages\\torch\\utils\\cpp_extension.py:8\u001b[0m\n\u001b[0;32m      7\u001b[0m \u001b[38;5;28;01mimport\u001b[39;00m \u001b[38;5;21;01mshlex\u001b[39;00m\n\u001b[1;32m----> 8\u001b[0m \u001b[38;5;28;01mimport\u001b[39;00m \u001b[38;5;21;01msetuptools\u001b[39;00m\n\u001b[0;32m      9\u001b[0m \u001b[38;5;28;01mimport\u001b[39;00m \u001b[38;5;21;01msubprocess\u001b[39;00m\n",
      "File \u001b[1;32md:\\miniconda3\\envs\\transformers\\lib\\site-packages\\setuptools\\__init__.py:8\u001b[0m\n\u001b[0;32m      6\u001b[0m \u001b[38;5;28;01mfrom\u001b[39;00m \u001b[38;5;21;01mtyping\u001b[39;00m \u001b[38;5;28;01mimport\u001b[39;00m TYPE_CHECKING\n\u001b[1;32m----> 8\u001b[0m \u001b[38;5;28;01mimport\u001b[39;00m \u001b[38;5;21;01m_distutils_hack\u001b[39;00m\u001b[38;5;21;01m.\u001b[39;00m\u001b[38;5;21;01moverride\u001b[39;00m  \u001b[38;5;66;03m# noqa: F401\u001b[39;00m\n\u001b[0;32m      9\u001b[0m \u001b[38;5;28;01mimport\u001b[39;00m \u001b[38;5;21;01mdistutils\u001b[39;00m\u001b[38;5;21;01m.\u001b[39;00m\u001b[38;5;21;01mcore\u001b[39;00m\n",
      "File \u001b[1;32md:\\miniconda3\\envs\\transformers\\lib\\site-packages\\_distutils_hack\\override.py:1\u001b[0m\n\u001b[1;32m----> 1\u001b[0m \u001b[38;5;28;43m__import__\u001b[39;49m\u001b[43m(\u001b[49m\u001b[38;5;124;43m'\u001b[39;49m\u001b[38;5;124;43m_distutils_hack\u001b[39;49m\u001b[38;5;124;43m'\u001b[39;49m\u001b[43m)\u001b[49m\u001b[38;5;241;43m.\u001b[39;49m\u001b[43mdo_override\u001b[49m\u001b[43m(\u001b[49m\u001b[43m)\u001b[49m\n",
      "File \u001b[1;32md:\\miniconda3\\envs\\transformers\\lib\\site-packages\\_distutils_hack\\__init__.py:70\u001b[0m, in \u001b[0;36mdo_override\u001b[1;34m()\u001b[0m\n\u001b[0;32m     69\u001b[0m warn_distutils_present()\n\u001b[1;32m---> 70\u001b[0m \u001b[43mensure_local_distutils\u001b[49m\u001b[43m(\u001b[49m\u001b[43m)\u001b[49m\n",
      "File \u001b[1;32md:\\miniconda3\\envs\\transformers\\lib\\site-packages\\_distutils_hack\\__init__.py:57\u001b[0m, in \u001b[0;36mensure_local_distutils\u001b[1;34m()\u001b[0m\n\u001b[0;32m     56\u001b[0m core \u001b[38;5;241m=\u001b[39m importlib\u001b[38;5;241m.\u001b[39mimport_module(\u001b[38;5;124m'\u001b[39m\u001b[38;5;124mdistutils.core\u001b[39m\u001b[38;5;124m'\u001b[39m)\n\u001b[1;32m---> 57\u001b[0m \u001b[38;5;28;01massert\u001b[39;00m \u001b[38;5;124m'\u001b[39m\u001b[38;5;124m_distutils\u001b[39m\u001b[38;5;124m'\u001b[39m \u001b[38;5;129;01min\u001b[39;00m core\u001b[38;5;241m.\u001b[39m\u001b[38;5;18m__file__\u001b[39m, core\u001b[38;5;241m.\u001b[39m\u001b[38;5;18m__file__\u001b[39m\n\u001b[0;32m     58\u001b[0m \u001b[38;5;28;01massert\u001b[39;00m \u001b[38;5;124m'\u001b[39m\u001b[38;5;124msetuptools._distutils.log\u001b[39m\u001b[38;5;124m'\u001b[39m \u001b[38;5;129;01mnot\u001b[39;00m \u001b[38;5;129;01min\u001b[39;00m sys\u001b[38;5;241m.\u001b[39mmodules\n",
      "\u001b[1;31mAssertionError\u001b[0m: d:\\miniconda3\\envs\\transformers\\lib\\distutils\\core.py",
      "\nThe above exception was the direct cause of the following exception:\n",
      "\u001b[1;31mRuntimeError\u001b[0m                              Traceback (most recent call last)",
      "Cell \u001b[1;32mIn[4], line 2\u001b[0m\n\u001b[0;32m      1\u001b[0m \u001b[38;5;66;03m# 从过往工作经验看，embedding对于rag效果影响比较大，一般首选还是openai embedding做这一部分，开源的效果很一般\u001b[39;00m\n\u001b[1;32m----> 2\u001b[0m huggingface_embeddings \u001b[38;5;241m=\u001b[39m \u001b[43mHuggingFaceBgeEmbeddings\u001b[49m\u001b[43m(\u001b[49m\n\u001b[0;32m      3\u001b[0m \u001b[43m    \u001b[49m\u001b[43mmodel_name\u001b[49m\u001b[38;5;241;43m=\u001b[39;49m\u001b[38;5;124;43m\"\u001b[39;49m\u001b[38;5;124;43mmoka-ai/m3e-base\u001b[39;49m\u001b[38;5;124;43m\"\u001b[39;49m\u001b[43m,\u001b[49m\u001b[43m  \u001b[49m\u001b[38;5;66;43;03m# 使用m3e模型做embeddding\u001b[39;49;00m\n\u001b[0;32m      4\u001b[0m \u001b[43m    \u001b[49m\u001b[43mmodel_kwargs\u001b[49m\u001b[38;5;241;43m=\u001b[39;49m\u001b[43m{\u001b[49m\u001b[38;5;124;43m'\u001b[39;49m\u001b[38;5;124;43mdevice\u001b[39;49m\u001b[38;5;124;43m'\u001b[39;49m\u001b[43m:\u001b[49m\u001b[38;5;124;43m'\u001b[39;49m\u001b[38;5;124;43mcpu\u001b[39;49m\u001b[38;5;124;43m'\u001b[39;49m\u001b[43m}\u001b[49m\u001b[43m,\u001b[49m\n\u001b[0;32m      5\u001b[0m \u001b[43m    \u001b[49m\u001b[43mencode_kwargs\u001b[49m\u001b[38;5;241;43m=\u001b[39;49m\u001b[43m{\u001b[49m\u001b[38;5;124;43m'\u001b[39;49m\u001b[38;5;124;43mnormalize_embeddings\u001b[39;49m\u001b[38;5;124;43m'\u001b[39;49m\u001b[43m:\u001b[49m\u001b[43m \u001b[49m\u001b[38;5;28;43;01mTrue\u001b[39;49;00m\u001b[43m}\u001b[49m\n\u001b[0;32m      6\u001b[0m \u001b[43m)\u001b[49m\n",
      "File \u001b[1;32md:\\miniconda3\\envs\\transformers\\lib\\site-packages\\langchain_community\\embeddings\\huggingface.py:287\u001b[0m, in \u001b[0;36mHuggingFaceBgeEmbeddings.__init__\u001b[1;34m(self, **kwargs)\u001b[0m\n\u001b[0;32m    285\u001b[0m \u001b[38;5;28msuper\u001b[39m()\u001b[38;5;241m.\u001b[39m\u001b[38;5;21m__init__\u001b[39m(\u001b[38;5;241m*\u001b[39m\u001b[38;5;241m*\u001b[39mkwargs)\n\u001b[0;32m    286\u001b[0m \u001b[38;5;28;01mtry\u001b[39;00m:\n\u001b[1;32m--> 287\u001b[0m     \u001b[38;5;28;01mimport\u001b[39;00m \u001b[38;5;21;01msentence_transformers\u001b[39;00m\n\u001b[0;32m    289\u001b[0m \u001b[38;5;28;01mexcept\u001b[39;00m \u001b[38;5;167;01mImportError\u001b[39;00m \u001b[38;5;28;01mas\u001b[39;00m exc:\n\u001b[0;32m    290\u001b[0m     \u001b[38;5;28;01mraise\u001b[39;00m \u001b[38;5;167;01mImportError\u001b[39;00m(\n\u001b[0;32m    291\u001b[0m         \u001b[38;5;124m\"\u001b[39m\u001b[38;5;124mCould not import sentence_transformers python package. \u001b[39m\u001b[38;5;124m\"\u001b[39m\n\u001b[0;32m    292\u001b[0m         \u001b[38;5;124m\"\u001b[39m\u001b[38;5;124mPlease install it with `pip install sentence_transformers`.\u001b[39m\u001b[38;5;124m\"\u001b[39m\n\u001b[0;32m    293\u001b[0m     ) \u001b[38;5;28;01mfrom\u001b[39;00m \u001b[38;5;21;01mexc\u001b[39;00m\n",
      "File \u001b[1;32md:\\miniconda3\\envs\\transformers\\lib\\site-packages\\sentence_transformers\\__init__.py:15\u001b[0m\n\u001b[0;32m     13\u001b[0m \u001b[38;5;28;01mfrom\u001b[39;00m \u001b[38;5;21;01msentence_transformers\u001b[39;00m\u001b[38;5;21;01m.\u001b[39;00m\u001b[38;5;21;01mSentenceTransformer\u001b[39;00m \u001b[38;5;28;01mimport\u001b[39;00m SentenceTransformer\n\u001b[0;32m     14\u001b[0m \u001b[38;5;28;01mfrom\u001b[39;00m \u001b[38;5;21;01msentence_transformers\u001b[39;00m\u001b[38;5;21;01m.\u001b[39;00m\u001b[38;5;21;01msimilarity_functions\u001b[39;00m \u001b[38;5;28;01mimport\u001b[39;00m SimilarityFunction\n\u001b[1;32m---> 15\u001b[0m \u001b[38;5;28;01mfrom\u001b[39;00m \u001b[38;5;21;01msentence_transformers\u001b[39;00m\u001b[38;5;21;01m.\u001b[39;00m\u001b[38;5;21;01mtrainer\u001b[39;00m \u001b[38;5;28;01mimport\u001b[39;00m SentenceTransformerTrainer\n\u001b[0;32m     16\u001b[0m \u001b[38;5;28;01mfrom\u001b[39;00m \u001b[38;5;21;01msentence_transformers\u001b[39;00m\u001b[38;5;21;01m.\u001b[39;00m\u001b[38;5;21;01mtraining_args\u001b[39;00m \u001b[38;5;28;01mimport\u001b[39;00m SentenceTransformerTrainingArguments\n\u001b[0;32m     18\u001b[0m \u001b[38;5;66;03m# If codecarbon is installed and the log level is not defined,\u001b[39;00m\n\u001b[0;32m     19\u001b[0m \u001b[38;5;66;03m# automatically overwrite the default to \"error\"\u001b[39;00m\n",
      "File \u001b[1;32md:\\miniconda3\\envs\\transformers\\lib\\site-packages\\sentence_transformers\\trainer.py:10\u001b[0m\n\u001b[0;32m      8\u001b[0m \u001b[38;5;28;01mfrom\u001b[39;00m \u001b[38;5;21;01mtorch\u001b[39;00m \u001b[38;5;28;01mimport\u001b[39;00m nn\n\u001b[0;32m      9\u001b[0m \u001b[38;5;28;01mfrom\u001b[39;00m \u001b[38;5;21;01mtorch\u001b[39;00m\u001b[38;5;21;01m.\u001b[39;00m\u001b[38;5;21;01mutils\u001b[39;00m\u001b[38;5;21;01m.\u001b[39;00m\u001b[38;5;21;01mdata\u001b[39;00m \u001b[38;5;28;01mimport\u001b[39;00m BatchSampler, ConcatDataset, DataLoader, SubsetRandomSampler\n\u001b[1;32m---> 10\u001b[0m \u001b[38;5;28;01mfrom\u001b[39;00m \u001b[38;5;21;01mtransformers\u001b[39;00m \u001b[38;5;28;01mimport\u001b[39;00m EvalPrediction, PreTrainedTokenizerBase, Trainer, TrainerCallback\n\u001b[0;32m     11\u001b[0m \u001b[38;5;28;01mfrom\u001b[39;00m \u001b[38;5;21;01mtransformers\u001b[39;00m\u001b[38;5;21;01m.\u001b[39;00m\u001b[38;5;21;01mdata\u001b[39;00m\u001b[38;5;21;01m.\u001b[39;00m\u001b[38;5;21;01mdata_collator\u001b[39;00m \u001b[38;5;28;01mimport\u001b[39;00m DataCollator\n\u001b[0;32m     12\u001b[0m \u001b[38;5;28;01mfrom\u001b[39;00m \u001b[38;5;21;01mtransformers\u001b[39;00m\u001b[38;5;21;01m.\u001b[39;00m\u001b[38;5;21;01mintegrations\u001b[39;00m \u001b[38;5;28;01mimport\u001b[39;00m WandbCallback\n",
      "File \u001b[1;32m<frozen importlib._bootstrap>:1055\u001b[0m, in \u001b[0;36m_handle_fromlist\u001b[1;34m(module, fromlist, import_, recursive)\u001b[0m\n",
      "File \u001b[1;32md:\\miniconda3\\envs\\transformers\\lib\\site-packages\\transformers\\utils\\import_utils.py:1525\u001b[0m, in \u001b[0;36m_LazyModule.__getattr__\u001b[1;34m(self, name)\u001b[0m\n\u001b[0;32m   1523\u001b[0m     value \u001b[38;5;241m=\u001b[39m \u001b[38;5;28mself\u001b[39m\u001b[38;5;241m.\u001b[39m_get_module(name)\n\u001b[0;32m   1524\u001b[0m \u001b[38;5;28;01melif\u001b[39;00m name \u001b[38;5;129;01min\u001b[39;00m \u001b[38;5;28mself\u001b[39m\u001b[38;5;241m.\u001b[39m_class_to_module\u001b[38;5;241m.\u001b[39mkeys():\n\u001b[1;32m-> 1525\u001b[0m     module \u001b[38;5;241m=\u001b[39m \u001b[38;5;28;43mself\u001b[39;49m\u001b[38;5;241;43m.\u001b[39;49m\u001b[43m_get_module\u001b[49m\u001b[43m(\u001b[49m\u001b[38;5;28;43mself\u001b[39;49m\u001b[38;5;241;43m.\u001b[39;49m\u001b[43m_class_to_module\u001b[49m\u001b[43m[\u001b[49m\u001b[43mname\u001b[49m\u001b[43m]\u001b[49m\u001b[43m)\u001b[49m\n\u001b[0;32m   1526\u001b[0m     value \u001b[38;5;241m=\u001b[39m \u001b[38;5;28mgetattr\u001b[39m(module, name)\n\u001b[0;32m   1527\u001b[0m \u001b[38;5;28;01melse\u001b[39;00m:\n",
      "File \u001b[1;32md:\\miniconda3\\envs\\transformers\\lib\\site-packages\\transformers\\utils\\import_utils.py:1537\u001b[0m, in \u001b[0;36m_LazyModule._get_module\u001b[1;34m(self, module_name)\u001b[0m\n\u001b[0;32m   1535\u001b[0m     \u001b[38;5;28;01mreturn\u001b[39;00m importlib\u001b[38;5;241m.\u001b[39mimport_module(\u001b[38;5;124m\"\u001b[39m\u001b[38;5;124m.\u001b[39m\u001b[38;5;124m\"\u001b[39m \u001b[38;5;241m+\u001b[39m module_name, \u001b[38;5;28mself\u001b[39m\u001b[38;5;241m.\u001b[39m\u001b[38;5;18m__name__\u001b[39m)\n\u001b[0;32m   1536\u001b[0m \u001b[38;5;28;01mexcept\u001b[39;00m \u001b[38;5;167;01mException\u001b[39;00m \u001b[38;5;28;01mas\u001b[39;00m e:\n\u001b[1;32m-> 1537\u001b[0m     \u001b[38;5;28;01mraise\u001b[39;00m \u001b[38;5;167;01mRuntimeError\u001b[39;00m(\n\u001b[0;32m   1538\u001b[0m         \u001b[38;5;124mf\u001b[39m\u001b[38;5;124m\"\u001b[39m\u001b[38;5;124mFailed to import \u001b[39m\u001b[38;5;132;01m{\u001b[39;00m\u001b[38;5;28mself\u001b[39m\u001b[38;5;241m.\u001b[39m\u001b[38;5;18m__name__\u001b[39m\u001b[38;5;132;01m}\u001b[39;00m\u001b[38;5;124m.\u001b[39m\u001b[38;5;132;01m{\u001b[39;00mmodule_name\u001b[38;5;132;01m}\u001b[39;00m\u001b[38;5;124m because of the following error (look up to see its\u001b[39m\u001b[38;5;124m\"\u001b[39m\n\u001b[0;32m   1539\u001b[0m         \u001b[38;5;124mf\u001b[39m\u001b[38;5;124m\"\u001b[39m\u001b[38;5;124m traceback):\u001b[39m\u001b[38;5;130;01m\\n\u001b[39;00m\u001b[38;5;132;01m{\u001b[39;00me\u001b[38;5;132;01m}\u001b[39;00m\u001b[38;5;124m\"\u001b[39m\n\u001b[0;32m   1540\u001b[0m     ) \u001b[38;5;28;01mfrom\u001b[39;00m \u001b[38;5;21;01me\u001b[39;00m\n",
      "\u001b[1;31mRuntimeError\u001b[0m: Failed to import transformers.trainer because of the following error (look up to see its traceback):\nd:\\miniconda3\\envs\\transformers\\lib\\distutils\\core.py"
     ]
    }
   ],
   "source": [
    "# 从过往工作经验看，embedding对于rag效果影响比较大，一般首选还是openai embedding做这一部分，开源的效果很一般\n",
    "huggingface_embeddings = HuggingFaceBgeEmbeddings(\n",
    "    model_name=\"moka-ai/m3e-base\",  # 使用m3e模型做embeddding\n",
    "    model_kwargs={'device':'cpu'},\n",
    "    encode_kwargs={'normalize_embeddings': True}\n",
    ")"
   ]
  },
  {
   "cell_type": "code",
   "execution_count": null,
   "metadata": {},
   "outputs": [],
   "source": [
    "vectorstore = FAISS.from_documents(docs_after_split, huggingface_embeddings)"
   ]
  },
  {
   "cell_type": "markdown",
   "metadata": {},
   "source": [
    "### Step4 创建RAG"
   ]
  },
  {
   "cell_type": "code",
   "execution_count": null,
   "metadata": {},
   "outputs": [],
   "source": [
    "# 创建检索器\n",
    "retriever = vectorstore.as_retriever(search_type=\"similarity\", search_kwargs={\"k\": 3})"
   ]
  },
  {
   "cell_type": "code",
   "execution_count": null,
   "metadata": {},
   "outputs": [],
   "source": [
    "# 创建prompt\n",
    "prompt_template = \"\"\"\n",
    "请用下面相关文本回答问题，如果不知道答案，就回复不知道，\n",
    "\n",
    "{context}\n",
    "\n",
    "Question: {question}\n",
    "\n",
    "Helpful Answer:\n",
    "\"\"\"\n",
    "\n",
    "prompt = PromptTemplate(\n",
    " template=prompt_template, input_variables=[\"context\", \"question\"]\n",
    ")\n"
   ]
  },
  {
   "cell_type": "code",
   "execution_count": null,
   "metadata": {},
   "outputs": [],
   "source": [
    "# 创建百川的LLM\n",
    "llm = BaichuanLLM()"
   ]
  },
  {
   "cell_type": "code",
   "execution_count": null,
   "metadata": {},
   "outputs": [],
   "source": [
    "def format_docs(docs):\n",
    "    return \"\\n\\n\".join(doc.page_content for doc in docs)\n",
    "\n",
    "rag_chain = (\n",
    "    {\"context\": retriever | format_docs, \"question\": RunnablePassthrough()}\n",
    "    | prompt\n",
    "    | llm\n",
    "    | StrOutputParser()\n",
    ")"
   ]
  },
  {
   "cell_type": "code",
   "execution_count": null,
   "metadata": {},
   "outputs": [
    {
     "name": "stdout",
     "output_type": "stream",
     "text": [
      "电力市场与普通商品市场的差异主要体现在以下几个方面：\n",
      "\n",
      "1. 无仓储性：电力商品的生产、交割和消费几乎是同时完成的，其交割速度远快于一般商品，因此也不存在一般商品一手交钱一手交货的交易方式。\n",
      "\n",
      "2. 同质性：电能不带有任何生产者的标识，电能生产者将生产的电能输入电网，消费者从电网中获取电能，无法区分电能的来源。\n",
      "\n",
      "3. 网络产业特性：电力市场具有网络产业特性，无仓储性的市场供需关系以及整个销售的网络性特征使得电力市场与普通商品市场在交易模式、价格形成机制等方面存在显著差异。\n"
     ]
    }
   ],
   "source": [
    "res = rag_chain.invoke(\"电力市场与普通商品市场的差异?\")\n",
    "print(res)"
   ]
  },
  {
   "cell_type": "markdown",
   "metadata": {},
   "source": [
    "### Step5 初始化反馈函数"
   ]
  },
  {
   "cell_type": "code",
   "execution_count": null,
   "metadata": {},
   "outputs": [
    {
     "name": "stdout",
     "output_type": "stream",
     "text": [
      "✅ In Groundedness, input source will be set to __record__.app.first.steps__.context.first.invoke.rets[:].page_content.collect() .\n",
      "✅ In Groundedness, input statement will be set to __record__.main_output or `Select.RecordOutput` .\n",
      "✅ In Answer Relevance, input prompt will be set to __record__.main_input or `Select.RecordInput` .\n",
      "✅ In Answer Relevance, input response will be set to __record__.main_output or `Select.RecordOutput` .\n",
      "✅ In Context Relevance, input question will be set to __record__.main_input or `Select.RecordInput` .\n",
      "✅ In Context Relevance, input context will be set to __record__.app.first.steps__.context.first.invoke.rets[:].page_content .\n"
     ]
    }
   ],
   "source": [
    "from trulens_eval.feedback.provider import OpenAI\n",
    "from trulens_eval import Feedback\n",
    "import numpy as np\n",
    "\n",
    "# Initialize provider class\n",
    "provider = OpenAI()\n",
    "\n",
    "# select context to be used in feedback. the location of context is app specific.\n",
    "from trulens_eval.app import App\n",
    "context = App.select_context(rag_chain)\n",
    "\n",
    "# Define a groundedness feedback function\n",
    "f_groundedness = (\n",
    "    Feedback(provider.groundedness_measure_with_cot_reasons, name = \"Groundedness\")\n",
    "    .on(context.collect()) # collect context chunks into a list\n",
    "    .on_output()\n",
    ")\n",
    "\n",
    "# Question/answer relevance between overall question and answer.\n",
    "f_answer_relevance = (\n",
    "    Feedback(provider.relevance_with_cot_reasons, name = \"Answer Relevance\")\n",
    "    .on_input_output()\n",
    ")\n",
    "# Context relevance between question and each context chunk.\n",
    "f_context_relevance = (\n",
    "    Feedback(provider.context_relevance_with_cot_reasons, name = \"Context Relevance\")\n",
    "    .on_input()\n",
    "    .on(context)\n",
    "    .aggregate(np.mean)\n",
    ")"
   ]
  },
  {
   "cell_type": "code",
   "execution_count": null,
   "metadata": {},
   "outputs": [],
   "source": [
    "tru_recorder = TruChain(rag_chain,\n",
    "    app_id='initial_rag',\n",
    "    feedbacks=[f_answer_relevance, f_context_relevance, f_groundedness])\n"
   ]
  },
  {
   "cell_type": "code",
   "execution_count": null,
   "metadata": {},
   "outputs": [
    {
     "data": {
      "text/plain": [
       "'电力市场与普通商品市场的差异主要体现在电力商品的自然属性和社会属性上。电力商品具有无仓储性，即电能的生产、交割和消费几乎是同时完成的，其交割速度远快于一般商品，因此不存在一般商品一手交钱一手交货的交易方式。此外，电力商品具有同质性，电能不带有任何生产者的标识，交易规则对电力也适用，不需要任何特殊的交易规则和协议。然而，电力商品具有难以储存的特殊性，这一特点导致供需双方提前达成的交易结果与需求方实时消费的电能量在数量上必然存在偏差，为弥补这种偏差，需要维持实时平衡的特殊的市场规则。'"
      ]
     },
     "metadata": {},
     "output_type": "display_data"
    }
   ],
   "source": [
    "with tru_recorder as recording:\n",
    "    llm_response = rag_chain.invoke(\"电力市场与普通商品市场的差异？\")\n",
    "\n",
    "display(llm_response)"
   ]
  },
  {
   "cell_type": "code",
   "execution_count": null,
   "metadata": {},
   "outputs": [
    {
     "data": {
      "text/html": [
       "<div>\n",
       "<style scoped>\n",
       "    .dataframe tbody tr th:only-of-type {\n",
       "        vertical-align: middle;\n",
       "    }\n",
       "\n",
       "    .dataframe tbody tr th {\n",
       "        vertical-align: top;\n",
       "    }\n",
       "\n",
       "    .dataframe thead th {\n",
       "        text-align: right;\n",
       "    }\n",
       "</style>\n",
       "<table border=\"1\" class=\"dataframe\">\n",
       "  <thead>\n",
       "    <tr style=\"text-align: right;\">\n",
       "      <th></th>\n",
       "      <th>latency</th>\n",
       "      <th>total_cost</th>\n",
       "    </tr>\n",
       "    <tr>\n",
       "      <th>app_id</th>\n",
       "      <th></th>\n",
       "      <th></th>\n",
       "    </tr>\n",
       "  </thead>\n",
       "  <tbody>\n",
       "    <tr>\n",
       "      <th>Chain1_ChatApplication</th>\n",
       "      <td>8.800000</td>\n",
       "      <td>0.0</td>\n",
       "    </tr>\n",
       "    <tr>\n",
       "      <th>initial_rag</th>\n",
       "      <td>8.666667</td>\n",
       "      <td>0.0</td>\n",
       "    </tr>\n",
       "  </tbody>\n",
       "</table>\n",
       "</div>"
      ],
      "text/plain": [
       "                         latency  total_cost\n",
       "app_id                                      \n",
       "Chain1_ChatApplication  8.800000         0.0\n",
       "initial_rag             8.666667         0.0"
      ]
     },
     "execution_count": 79,
     "metadata": {},
     "output_type": "execute_result"
    }
   ],
   "source": [
    "tru.get_leaderboard()"
   ]
  },
  {
   "cell_type": "code",
   "execution_count": null,
   "metadata": {},
   "outputs": [
    {
     "data": {
      "text/plain": [
       "Record(record_id='record_hash_a886e6f9860688478dd2de62dccafff4', app_id='initial_rag', cost=Cost(n_requests=0, n_successful_requests=0, n_classes=0, n_tokens=0, n_stream_chunks=0, n_prompt_tokens=0, n_completion_tokens=0, cost=0.0), perf=Perf(start_time=datetime.datetime(2024, 7, 22, 11, 10, 4, 357161), end_time=datetime.datetime(2024, 7, 22, 11, 10, 24, 482862)), ts=datetime.datetime(2024, 7, 22, 11, 10, 24, 482862), tags='-', meta=None, main_input='电力市场与普通商品市场的差异？', main_output='电力市场与普通商品市场的差异主要体现在电力商品的自然属性和社会属性上。电力商品具有无仓储性，即电能的生产、交割和消费几乎是同时完成的，其交割速度远快于一般商品，因此不存在一般商品一手交钱一手交货的交易方式。此外，电力商品具有同质性，电能不带有任何生产者的标识，交易规则对电力也适用，不需要任何特殊的交易规则和协议。然而，电力商品具有难以储存的特殊性，这一特点导致供需双方提前达成的交易结果与需求方实时消费的电能量在数量上必然存在偏差，为弥补这种偏差，需要维持实时平衡的特殊的市场规则。', main_error=None, calls=[RecordAppCall(call_id='2555e38b-894b-405a-89be-565c3c36f62a', stack=[RecordAppCallMethod(path=Lens().app, method=Method(obj=Obj(cls=langchain_core.runnables.base.RunnableSequence, id=2001493412544, init_bindings=None), name='invoke')), RecordAppCallMethod(path=Lens().app.first, method=Method(obj=Obj(cls=langchain_core.runnables.base.RunnableParallel, id=2001493314688, init_bindings=None), name='invoke')), RecordAppCallMethod(path=Lens().app.first.steps__.question, method=Method(obj=Obj(cls=langchain_core.runnables.passthrough.RunnablePassthrough, id=2001493411968, init_bindings=None), name='invoke'))], args={'input': '电力市场与普通商品市场的差异？', 'config': {'tags': [], 'metadata': {}, 'callbacks': {'__tru_non_serialized_object': {'cls': {'name': 'CallbackManager', 'module': {'package_name': 'langchain_core.callbacks', 'module_name': 'langchain_core.callbacks.manager'}, 'bases': None}, 'id': 2001492792224, 'init_bindings': None}}, 'recursion_limit': 25, 'configurable': {}}}, rets='电力市场与普通商品市场的差异？', error=None, perf=Perf(start_time=datetime.datetime(2024, 7, 22, 11, 10, 5, 910293), end_time=datetime.datetime(2024, 7, 22, 11, 10, 6, 569279)), pid=25568, tid=15796), RecordAppCall(call_id='13683581-d5cc-42b3-b2ca-719660cf6416', stack=[RecordAppCallMethod(path=Lens().app, method=Method(obj=Obj(cls=langchain_core.runnables.base.RunnableSequence, id=2001493412544, init_bindings=None), name='invoke')), RecordAppCallMethod(path=Lens().app.first, method=Method(obj=Obj(cls=langchain_core.runnables.base.RunnableParallel, id=2001493314688, init_bindings=None), name='invoke')), RecordAppCallMethod(path=Lens().app.first.steps__.context, method=Method(obj=Obj(cls=langchain_core.runnables.base.RunnableSequence, id=2001493412544, init_bindings=None), name='invoke')), RecordAppCallMethod(path=Lens().app.first.steps__.context.first, method=Method(obj=Obj(cls=langchain_core.vectorstores.VectorStoreRetriever, id=2001492829568, init_bindings=None), name='invoke')), RecordAppCallMethod(path=Lens().app.first.steps__.context.first, method=Method(obj=Obj(cls=langchain_core.vectorstores.VectorStoreRetriever, id=2001492829568, init_bindings=None), name='_get_relevant_documents'))], args={'query': '电力市场与普通商品市场的差异？', 'run_manager': {'__tru_non_serialized_object': {'cls': {'name': 'CallbackManagerForRetrieverRun', 'module': {'package_name': 'langchain_core.callbacks', 'module_name': 'langchain_core.callbacks.manager'}, 'bases': None}, 'id': 2001511954848, 'init_bindings': None}}}, rets=[{'page_content': '品种、交易时间、竞争模式等维度进一步细分，各分类市场的知识将在后续问题讨论中详述。  \\n（2）电力市场和普通商品市场的差异。  \\n电力市场相较于普通商品市场具有显著的特殊性， 归根到底就在于电力商品与其他一\\n般商品的差异性。电力商品本质即电能，与其他商品最本质的差异在于其自然属性和社\\n会属性。  \\n电力商品具有无仓储性。电能的生产、交割和消费几乎是同时完成的，其交割速度远\\n快于一般商品，因此也不存在一般商品一手交钱一手交货的交易方式。', 'metadata': {'source': '..\\\\demo\\\\电力现货市场101问.pdf', 'page': 9}, 'type': 'Document'}, {'page_content': '电力商品具有同质性。电能不带有任何生产者的标识，电能生产者将生产的电能输入', 'metadata': {'source': '..\\\\demo\\\\电力现货市场101问.pdf', 'page': 9}, 'type': 'Document'}, {'page_content': '交易规则对电力也适用，不需要任何特殊的交易规则和协议。其实不然，电力商品较之普通商品有其无可争议的特殊性。问题 1从商品属性回答了电力市场与普通商品市场的\\n差异，要深入了解电力现货市场的特殊性，则必须深刻理解电力的自然属性，自然属性\\n的电力特殊性是与电力现货市场交易规则的特殊性高度一致的。  \\n1）电力具有难以储存的特殊性。这一特点导致供需双方提前达成的交易结果与需求\\n方实时消费的电能量在数量上必然存在偏差，为弥补这种偏差，势必需要维持实时平衡\\n的特殊的市场规则。', 'metadata': {'source': '..\\\\demo\\\\电力现货市场101问.pdf', 'page': 20}, 'type': 'Document'}], error=None, perf=Perf(start_time=datetime.datetime(2024, 7, 22, 11, 10, 7, 76921), end_time=datetime.datetime(2024, 7, 22, 11, 10, 17, 435512)), pid=25568, tid=16440), RecordAppCall(call_id='f5f4b14a-37a4-47dc-8800-675187dcf263', stack=[RecordAppCallMethod(path=Lens().app, method=Method(obj=Obj(cls=langchain_core.runnables.base.RunnableSequence, id=2001493412544, init_bindings=None), name='invoke')), RecordAppCallMethod(path=Lens().app.first, method=Method(obj=Obj(cls=langchain_core.runnables.base.RunnableParallel, id=2001493314688, init_bindings=None), name='invoke')), RecordAppCallMethod(path=Lens().app.first.steps__.context, method=Method(obj=Obj(cls=langchain_core.runnables.base.RunnableSequence, id=2001493412544, init_bindings=None), name='invoke')), RecordAppCallMethod(path=Lens().app.first.steps__.context.first, method=Method(obj=Obj(cls=langchain_core.vectorstores.VectorStoreRetriever, id=2001492829568, init_bindings=None), name='invoke'))], args={'input': '电力市场与普通商品市场的差异？', 'config': {'tags': [], 'metadata': {}, 'callbacks': {'__tru_non_serialized_object': {'cls': {'name': 'CallbackManager', 'module': {'package_name': 'langchain_core.callbacks', 'module_name': 'langchain_core.callbacks.manager'}, 'bases': None}, 'id': 2001511960048, 'init_bindings': None}}, 'recursion_limit': 25, 'configurable': {}}}, rets=[{'page_content': '品种、交易时间、竞争模式等维度进一步细分，各分类市场的知识将在后续问题讨论中详述。  \\n（2）电力市场和普通商品市场的差异。  \\n电力市场相较于普通商品市场具有显著的特殊性， 归根到底就在于电力商品与其他一\\n般商品的差异性。电力商品本质即电能，与其他商品最本质的差异在于其自然属性和社\\n会属性。  \\n电力商品具有无仓储性。电能的生产、交割和消费几乎是同时完成的，其交割速度远\\n快于一般商品，因此也不存在一般商品一手交钱一手交货的交易方式。', 'metadata': {'source': '..\\\\demo\\\\电力现货市场101问.pdf', 'page': 9}, 'type': 'Document'}, {'page_content': '电力商品具有同质性。电能不带有任何生产者的标识，电能生产者将生产的电能输入', 'metadata': {'source': '..\\\\demo\\\\电力现货市场101问.pdf', 'page': 9}, 'type': 'Document'}, {'page_content': '交易规则对电力也适用，不需要任何特殊的交易规则和协议。其实不然，电力商品较之普通商品有其无可争议的特殊性。问题 1从商品属性回答了电力市场与普通商品市场的\\n差异，要深入了解电力现货市场的特殊性，则必须深刻理解电力的自然属性，自然属性\\n的电力特殊性是与电力现货市场交易规则的特殊性高度一致的。  \\n1）电力具有难以储存的特殊性。这一特点导致供需双方提前达成的交易结果与需求\\n方实时消费的电能量在数量上必然存在偏差，为弥补这种偏差，势必需要维持实时平衡\\n的特殊的市场规则。', 'metadata': {'source': '..\\\\demo\\\\电力现货市场101问.pdf', 'page': 20}, 'type': 'Document'}], error=None, perf=Perf(start_time=datetime.datetime(2024, 7, 22, 11, 10, 6, 561300), end_time=datetime.datetime(2024, 7, 22, 11, 10, 17, 436510)), pid=25568, tid=16440), RecordAppCall(call_id='6abe5bbc-6519-4c3d-a24e-92d22b44bc86', stack=[RecordAppCallMethod(path=Lens().app, method=Method(obj=Obj(cls=langchain_core.runnables.base.RunnableSequence, id=2001493412544, init_bindings=None), name='invoke')), RecordAppCallMethod(path=Lens().app.first, method=Method(obj=Obj(cls=langchain_core.runnables.base.RunnableParallel, id=2001493314688, init_bindings=None), name='invoke')), RecordAppCallMethod(path=Lens().app.first.steps__.context, method=Method(obj=Obj(cls=langchain_core.runnables.base.RunnableSequence, id=2001493412544, init_bindings=None), name='invoke'))], args={'input': '电力市场与普通商品市场的差异？', 'config': {'tags': [], 'metadata': {}, 'callbacks': {'__tru_non_serialized_object': {'cls': {'name': 'CallbackManager', 'module': {'package_name': 'langchain_core.callbacks', 'module_name': 'langchain_core.callbacks.manager'}, 'bases': None}, 'id': 2001510714336, 'init_bindings': None}}, 'recursion_limit': 25, 'configurable': {}}}, rets='品种、交易时间、竞争模式等维度进一步细分，各分类市场的知识将在后续问题讨论中详述。  \\n（2）电力市场和普通商品市场的差异。  \\n电力市场相较于普通商品市场具有显著的特殊性， 归根到底就在于电力商品与其他一\\n般商品的差异性。电力商品本质即电能，与其他商品最本质的差异在于其自然属性和社\\n会属性。  \\n电力商品具有无仓储性。电能的生产、交割和消费几乎是同时完成的，其交割速度远\\n快于一般商品，因此也不存在一般商品一手交钱一手交货的交易方式。\\n\\n电力商品具有同质性。电能不带有任何生产者的标识，电能生产者将生产的电能输入\\n\\n交易规则对电力也适用，不需要任何特殊的交易规则和协议。其实不然，电力商品较之普通商品有其无可争议的特殊性。问题 1从商品属性回答了电力市场与普通商品市场的\\n差异，要深入了解电力现货市场的特殊性，则必须深刻理解电力的自然属性，自然属性\\n的电力特殊性是与电力现货市场交易规则的特殊性高度一致的。  \\n1）电力具有难以储存的特殊性。这一特点导致供需双方提前达成的交易结果与需求\\n方实时消费的电能量在数量上必然存在偏差，为弥补这种偏差，势必需要维持实时平衡\\n的特殊的市场规则。', error=None, perf=Perf(start_time=datetime.datetime(2024, 7, 22, 11, 10, 5, 866415), end_time=datetime.datetime(2024, 7, 22, 11, 10, 17, 439502)), pid=25568, tid=16440), RecordAppCall(call_id='1358d1ce-8c8b-4705-9d70-2f8f7bfd9171', stack=[RecordAppCallMethod(path=Lens().app, method=Method(obj=Obj(cls=langchain_core.runnables.base.RunnableSequence, id=2001493412544, init_bindings=None), name='invoke')), RecordAppCallMethod(path=Lens().app.first, method=Method(obj=Obj(cls=langchain_core.runnables.base.RunnableParallel, id=2001493314688, init_bindings=None), name='invoke'))], args={'input': '电力市场与普通商品市场的差异？', 'config': {'tags': [], 'metadata': {}, 'callbacks': {'__tru_non_serialized_object': {'cls': {'name': 'CallbackManager', 'module': {'package_name': 'langchain_core.callbacks', 'module_name': 'langchain_core.callbacks.manager'}, 'bases': None}, 'id': 2001493863296, 'init_bindings': None}}, 'recursion_limit': 25, 'configurable': {}}}, rets={'context': '品种、交易时间、竞争模式等维度进一步细分，各分类市场的知识将在后续问题讨论中详述。  \\n（2）电力市场和普通商品市场的差异。  \\n电力市场相较于普通商品市场具有显著的特殊性， 归根到底就在于电力商品与其他一\\n般商品的差异性。电力商品本质即电能，与其他商品最本质的差异在于其自然属性和社\\n会属性。  \\n电力商品具有无仓储性。电能的生产、交割和消费几乎是同时完成的，其交割速度远\\n快于一般商品，因此也不存在一般商品一手交钱一手交货的交易方式。\\n\\n电力商品具有同质性。电能不带有任何生产者的标识，电能生产者将生产的电能输入\\n\\n交易规则对电力也适用，不需要任何特殊的交易规则和协议。其实不然，电力商品较之普通商品有其无可争议的特殊性。问题 1从商品属性回答了电力市场与普通商品市场的\\n差异，要深入了解电力现货市场的特殊性，则必须深刻理解电力的自然属性，自然属性\\n的电力特殊性是与电力现货市场交易规则的特殊性高度一致的。  \\n1）电力具有难以储存的特殊性。这一特点导致供需双方提前达成的交易结果与需求\\n方实时消费的电能量在数量上必然存在偏差，为弥补这种偏差，势必需要维持实时平衡\\n的特殊的市场规则。', 'question': '电力市场与普通商品市场的差异？'}, error=None, perf=Perf(start_time=datetime.datetime(2024, 7, 22, 11, 10, 5, 145581), end_time=datetime.datetime(2024, 7, 22, 11, 10, 17, 440499)), pid=25568, tid=22352), RecordAppCall(call_id='6a5b0f79-39cf-4197-b011-989599119820', stack=[RecordAppCallMethod(path=Lens().app, method=Method(obj=Obj(cls=langchain_core.runnables.base.RunnableSequence, id=2001493412544, init_bindings=None), name='invoke')), RecordAppCallMethod(path=Lens().app.middle[0], method=Method(obj=Obj(cls=langchain_core.prompts.prompt.PromptTemplate, id=2001493424384, init_bindings=None), name='invoke'))], args={'input': {'context': '品种、交易时间、竞争模式等维度进一步细分，各分类市场的知识将在后续问题讨论中详述。  \\n（2）电力市场和普通商品市场的差异。  \\n电力市场相较于普通商品市场具有显著的特殊性， 归根到底就在于电力商品与其他一\\n般商品的差异性。电力商品本质即电能，与其他商品最本质的差异在于其自然属性和社\\n会属性。  \\n电力商品具有无仓储性。电能的生产、交割和消费几乎是同时完成的，其交割速度远\\n快于一般商品，因此也不存在一般商品一手交钱一手交货的交易方式。\\n\\n电力商品具有同质性。电能不带有任何生产者的标识，电能生产者将生产的电能输入\\n\\n交易规则对电力也适用，不需要任何特殊的交易规则和协议。其实不然，电力商品较之普通商品有其无可争议的特殊性。问题 1从商品属性回答了电力市场与普通商品市场的\\n差异，要深入了解电力现货市场的特殊性，则必须深刻理解电力的自然属性，自然属性\\n的电力特殊性是与电力现货市场交易规则的特殊性高度一致的。  \\n1）电力具有难以储存的特殊性。这一特点导致供需双方提前达成的交易结果与需求\\n方实时消费的电能量在数量上必然存在偏差，为弥补这种偏差，势必需要维持实时平衡\\n的特殊的市场规则。', 'question': '电力市场与普通商品市场的差异？'}, 'config': {'tags': [], 'metadata': {}, 'callbacks': {'__tru_non_serialized_object': {'cls': {'name': 'CallbackManager', 'module': {'package_name': 'langchain_core.callbacks', 'module_name': 'langchain_core.callbacks.manager'}, 'bases': None}, 'id': 2001510715152, 'init_bindings': None}}, 'recursion_limit': 25, 'configurable': {}}}, rets={'text': '\\n请用下面相关文本回答问题，如果不知道答案，就回复不知道，\\n\\n品种、交易时间、竞争模式等维度进一步细分，各分类市场的知识将在后续问题讨论中详述。  \\n（2）电力市场和普通商品市场的差异。  \\n电力市场相较于普通商品市场具有显著的特殊性， 归根到底就在于电力商品与其他一\\n般商品的差异性。电力商品本质即电能，与其他商品最本质的差异在于其自然属性和社\\n会属性。  \\n电力商品具有无仓储性。电能的生产、交割和消费几乎是同时完成的，其交割速度远\\n快于一般商品，因此也不存在一般商品一手交钱一手交货的交易方式。\\n\\n电力商品具有同质性。电能不带有任何生产者的标识，电能生产者将生产的电能输入\\n\\n交易规则对电力也适用，不需要任何特殊的交易规则和协议。其实不然，电力商品较之普通商品有其无可争议的特殊性。问题 1从商品属性回答了电力市场与普通商品市场的\\n差异，要深入了解电力现货市场的特殊性，则必须深刻理解电力的自然属性，自然属性\\n的电力特殊性是与电力现货市场交易规则的特殊性高度一致的。  \\n1）电力具有难以储存的特殊性。这一特点导致供需双方提前达成的交易结果与需求\\n方实时消费的电能量在数量上必然存在偏差，为弥补这种偏差，势必需要维持实时平衡\\n的特殊的市场规则。\\n\\nQuestion: 电力市场与普通商品市场的差异？\\n\\nHelpful Answer:\\n', 'type': 'StringPromptValue'}, error=None, perf=Perf(start_time=datetime.datetime(2024, 7, 22, 11, 10, 17, 567772), end_time=datetime.datetime(2024, 7, 22, 11, 10, 18, 147192)), pid=25568, tid=22352), RecordAppCall(call_id='d5926736-b719-4ae5-b172-14f52afb4960', stack=[RecordAppCallMethod(path=Lens().app, method=Method(obj=Obj(cls=langchain_core.runnables.base.RunnableSequence, id=2001493412544, init_bindings=None), name='invoke')), RecordAppCallMethod(path=Lens().app.middle[1], method=Method(obj=Obj(cls=langchain_community.llms.baichuan.BaichuanLLM, id=2001492829888, init_bindings=None), name='invoke'))], args={'input': {'text': '\\n请用下面相关文本回答问题，如果不知道答案，就回复不知道，\\n\\n品种、交易时间、竞争模式等维度进一步细分，各分类市场的知识将在后续问题讨论中详述。  \\n（2）电力市场和普通商品市场的差异。  \\n电力市场相较于普通商品市场具有显著的特殊性， 归根到底就在于电力商品与其他一\\n般商品的差异性。电力商品本质即电能，与其他商品最本质的差异在于其自然属性和社\\n会属性。  \\n电力商品具有无仓储性。电能的生产、交割和消费几乎是同时完成的，其交割速度远\\n快于一般商品，因此也不存在一般商品一手交钱一手交货的交易方式。\\n\\n电力商品具有同质性。电能不带有任何生产者的标识，电能生产者将生产的电能输入\\n\\n交易规则对电力也适用，不需要任何特殊的交易规则和协议。其实不然，电力商品较之普通商品有其无可争议的特殊性。问题 1从商品属性回答了电力市场与普通商品市场的\\n差异，要深入了解电力现货市场的特殊性，则必须深刻理解电力的自然属性，自然属性\\n的电力特殊性是与电力现货市场交易规则的特殊性高度一致的。  \\n1）电力具有难以储存的特殊性。这一特点导致供需双方提前达成的交易结果与需求\\n方实时消费的电能量在数量上必然存在偏差，为弥补这种偏差，势必需要维持实时平衡\\n的特殊的市场规则。\\n\\nQuestion: 电力市场与普通商品市场的差异？\\n\\nHelpful Answer:\\n', 'type': 'StringPromptValue'}, 'config': {'tags': [], 'metadata': {}, 'callbacks': {'__tru_non_serialized_object': {'cls': {'name': 'CallbackManager', 'module': {'package_name': 'langchain_core.callbacks', 'module_name': 'langchain_core.callbacks.manager'}, 'bases': None}, 'id': 2001512015184, 'init_bindings': None}}, 'recursion_limit': 25, 'configurable': {}}}, rets='电力市场与普通商品市场的差异主要体现在电力商品的自然属性和社会属性上。电力商品具有无仓储性，即电能的生产、交割和消费几乎是同时完成的，其交割速度远快于一般商品，因此不存在一般商品一手交钱一手交货的交易方式。此外，电力商品具有同质性，电能不带有任何生产者的标识，交易规则对电力也适用，不需要任何特殊的交易规则和协议。然而，电力商品具有难以储存的特殊性，这一特点导致供需双方提前达成的交易结果与需求方实时消费的电能量在数量上必然存在偏差，为弥补这种偏差，需要维持实时平衡的特殊的市场规则。', error=None, perf=Perf(start_time=datetime.datetime(2024, 7, 22, 11, 10, 18, 258893), end_time=datetime.datetime(2024, 7, 22, 11, 10, 23, 759528)), pid=25568, tid=22352), RecordAppCall(call_id='7f936480-d3bc-4c88-bbb3-62abf35856af', stack=[RecordAppCallMethod(path=Lens().app, method=Method(obj=Obj(cls=langchain_core.runnables.base.RunnableSequence, id=2001493412544, init_bindings=None), name='invoke')), RecordAppCallMethod(path=Lens().app.last, method=Method(obj=Obj(cls=langchain_core.output_parsers.string.StrOutputParser, id=2001493015360, init_bindings=None), name='invoke'))], args={'input': '电力市场与普通商品市场的差异主要体现在电力商品的自然属性和社会属性上。电力商品具有无仓储性，即电能的生产、交割和消费几乎是同时完成的，其交割速度远快于一般商品，因此不存在一般商品一手交钱一手交货的交易方式。此外，电力商品具有同质性，电能不带有任何生产者的标识，交易规则对电力也适用，不需要任何特殊的交易规则和协议。然而，电力商品具有难以储存的特殊性，这一特点导致供需双方提前达成的交易结果与需求方实时消费的电能量在数量上必然存在偏差，为弥补这种偏差，需要维持实时平衡的特殊的市场规则。', 'config': {'tags': [], 'metadata': {}, 'callbacks': {'__tru_non_serialized_object': {'cls': {'name': 'CallbackManager', 'module': {'package_name': 'langchain_core.callbacks', 'module_name': 'langchain_core.callbacks.manager'}, 'bases': None}, 'id': 2001512016288, 'init_bindings': None}}, 'recursion_limit': 25, 'configurable': {}}}, rets='电力市场与普通商品市场的差异主要体现在电力商品的自然属性和社会属性上。电力商品具有无仓储性，即电能的生产、交割和消费几乎是同时完成的，其交割速度远快于一般商品，因此不存在一般商品一手交钱一手交货的交易方式。此外，电力商品具有同质性，电能不带有任何生产者的标识，交易规则对电力也适用，不需要任何特殊的交易规则和协议。然而，电力商品具有难以储存的特殊性，这一特点导致供需双方提前达成的交易结果与需求方实时消费的电能量在数量上必然存在偏差，为弥补这种偏差，需要维持实时平衡的特殊的市场规则。', error=None, perf=Perf(start_time=datetime.datetime(2024, 7, 22, 11, 10, 23, 872495), end_time=datetime.datetime(2024, 7, 22, 11, 10, 24, 482862)), pid=25568, tid=22352), RecordAppCall(call_id='2d5f8c48-c6dd-413e-9318-c925b5f0b493', stack=[RecordAppCallMethod(path=Lens().app, method=Method(obj=Obj(cls=langchain_core.runnables.base.RunnableSequence, id=2001493412544, init_bindings=None), name='invoke'))], args={'input': '电力市场与普通商品市场的差异？'}, rets='电力市场与普通商品市场的差异主要体现在电力商品的自然属性和社会属性上。电力商品具有无仓储性，即电能的生产、交割和消费几乎是同时完成的，其交割速度远快于一般商品，因此不存在一般商品一手交钱一手交货的交易方式。此外，电力商品具有同质性，电能不带有任何生产者的标识，交易规则对电力也适用，不需要任何特殊的交易规则和协议。然而，电力商品具有难以储存的特殊性，这一特点导致供需双方提前达成的交易结果与需求方实时消费的电能量在数量上必然存在偏差，为弥补这种偏差，需要维持实时平衡的特殊的市场规则。', error=None, perf=Perf(start_time=datetime.datetime(2024, 7, 22, 11, 10, 4, 357161), end_time=datetime.datetime(2024, 7, 22, 11, 10, 24, 482862)), pid=25568, tid=22352)], feedback_and_future_results=[(FeedbackDefinition(Answer Relevance,\n",
       "\tselectors={'prompt': Lens().__record__.main_input, 'response': Lens().__record__.main_output},\n",
       "\tif_exists=None\n",
       "), <Future at 0x1d20368cf70 state=running>), (FeedbackDefinition(Context Relevance,\n",
       "\tselectors={'question': Lens().__record__.main_input, 'context': Lens().__record__.app.first.steps__.context.first.invoke.rets[:].page_content},\n",
       "\tif_exists=None\n",
       "), <Future at 0x1d20368cdc0 state=running>), (FeedbackDefinition(Groundedness,\n",
       "\tselectors={'source': Lens().__record__.app.first.steps__.context.first.invoke.rets[:].page_content.collect(), 'statement': Lens().__record__.main_output},\n",
       "\tif_exists=None\n",
       "), <Future at 0x1d2036a4460 state=running>)], feedback_results=[<Future at 0x1d20368cf70 state=running>, <Future at 0x1d20368cdc0 state=running>, <Future at 0x1d2036a4460 state=running>])"
      ]
     },
     "metadata": {},
     "output_type": "display_data"
    }
   ],
   "source": [
    "rec = recording.get()\n",
    "display(rec)"
   ]
  },
  {
   "cell_type": "code",
   "execution_count": 81,
   "metadata": {},
   "outputs": [
    {
     "name": "stdout",
     "output_type": "stream",
     "text": [
      "Answer Relevance None\n",
      "Context Relevance None\n",
      "Groundedness None\n"
     ]
    }
   ],
   "source": [
    "for feedback, feedback_result in rec.wait_for_feedback_results().items():\n",
    "    print(feedback.name, feedback_result.result)"
   ]
  }
 ],
 "metadata": {
  "kernelspec": {
   "display_name": "transformers",
   "language": "python",
   "name": "python3"
  },
  "language_info": {
   "codemirror_mode": {
    "name": "ipython",
    "version": 3
   },
   "file_extension": ".py",
   "mimetype": "text/x-python",
   "name": "python",
   "nbconvert_exporter": "python",
   "pygments_lexer": "ipython3",
   "version": "3.9.19"
  }
 },
 "nbformat": 4,
 "nbformat_minor": 2
}
